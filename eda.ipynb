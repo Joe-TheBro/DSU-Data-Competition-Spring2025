{
 "cells": [
  {
   "cell_type": "code",
   "execution_count": 296,
   "metadata": {},
   "outputs": [],
   "source": [
    "import polars as pl\n",
    "import altair as alt\n",
    "from pathlib import Path\n",
    "import matplotlib.pyplot as plt"
   ]
  },
  {
   "cell_type": "code",
   "execution_count": 297,
   "metadata": {},
   "outputs": [],
   "source": [
    "data_dir = Path(\"data\")\n",
    "df = pl.read_parquet(data_dir / \"DSU-Dataset.parquet\") "
   ]
  },
  {
   "cell_type": "code",
   "execution_count": 298,
   "metadata": {},
   "outputs": [
    {
     "data": {
      "text/html": [
       "<div><style>\n",
       ".dataframe > thead > tr,\n",
       ".dataframe > tbody > tr {\n",
       "  text-align: right;\n",
       "  white-space: pre-wrap;\n",
       "}\n",
       "</style>\n",
       "<small>shape: (5, 31)</small><table border=\"1\" class=\"dataframe\"><thead><tr><th>Claim ID</th><th>Service Date</th><th>Recieved Date</th><th>Paid Date</th><th>Patient ID</th><th>Member Age</th><th>Gender</th><th>Marital Status</th><th>Ethnicity</th><th>LOB</th><th>Network Status</th><th>Claim Category</th><th>Claim Subcategory</th><th>Claim Line</th><th>Place of Service</th><th>Provider Type</th><th>Provider Specialty</th><th>ICD10 Code 1</th><th>ICD10 Code 2</th><th>ICD10 Code 3</th><th>ICD10 Code 4</th><th>ICD10 Code 5</th><th>ICD10 Code 6</th><th>ICD10 Code 7</th><th>ICD10 Code 8</th><th>ICD10 Code 9</th><th>ICD10 Code 10</th><th>Service Type</th><th>Service Code</th><th>Modifiers</th><th>High Cost Claim</th></tr><tr><td>str</td><td>date</td><td>date</td><td>date</td><td>str</td><td>str</td><td>str</td><td>str</td><td>str</td><td>str</td><td>str</td><td>str</td><td>str</td><td>str</td><td>str</td><td>str</td><td>str</td><td>i64</td><td>i64</td><td>i64</td><td>i64</td><td>i64</td><td>i64</td><td>i64</td><td>i64</td><td>i64</td><td>i64</td><td>str</td><td>str</td><td>str</td><td>i64</td></tr></thead><tbody><tr><td>&quot;8110afaab1020212f58193e233369c…</td><td>2022-01-15</td><td>2022-01-17</td><td>2022-01-25</td><td>&quot;99f69b741b2784601452afbe7f9083…</td><td>&quot;10-19 Yrs Old&quot;</td><td>&quot;F&quot;</td><td>&quot;Single&quot;</td><td>&quot;Caucasian/White&quot;</td><td>&quot;SGH&quot;</td><td>&quot;IN NETWORK&quot;</td><td>&quot;PROFESSIONAL&quot;</td><td>&quot;OFFICE VISIT&quot;</td><td>&quot;MEDICAL&quot;</td><td>&quot;OFFICE&quot;</td><td>&quot;Physician&quot;</td><td>&quot;OCCUPATIONAL MEDICINE (PREVENT…</td><td>0</td><td>null</td><td>null</td><td>null</td><td>null</td><td>null</td><td>null</td><td>null</td><td>null</td><td>null</td><td>&quot;PROC&quot;</td><td>&quot;U0005&quot;</td><td>null</td><td>null</td></tr><tr><td>&quot;8110afaab1020212f58193e233369c…</td><td>2022-01-15</td><td>2022-01-17</td><td>2022-01-25</td><td>&quot;99f69b741b2784601452afbe7f9083…</td><td>&quot;10-19 Yrs Old&quot;</td><td>&quot;F&quot;</td><td>&quot;Single&quot;</td><td>&quot;Caucasian/White&quot;</td><td>&quot;SGH&quot;</td><td>&quot;IN NETWORK&quot;</td><td>&quot;PROFESSIONAL&quot;</td><td>&quot;OFFICE VISIT&quot;</td><td>&quot;MEDICAL&quot;</td><td>&quot;OFFICE&quot;</td><td>&quot;Physician&quot;</td><td>&quot;OCCUPATIONAL MEDICINE (PREVENT…</td><td>0</td><td>null</td><td>null</td><td>null</td><td>null</td><td>null</td><td>null</td><td>null</td><td>null</td><td>null</td><td>&quot;PROC&quot;</td><td>&quot;U0003&quot;</td><td>null</td><td>null</td></tr><tr><td>&quot;190430199dfa0b3ed46212060301b3…</td><td>2022-01-05</td><td>2022-01-06</td><td>2022-01-10</td><td>&quot;79c25d5d6a0cec975ddcd349f1c431…</td><td>&quot;10-19 Yrs Old&quot;</td><td>&quot;M&quot;</td><td>&quot;Single&quot;</td><td>&quot;Caucasian/White&quot;</td><td>&quot;NPS&quot;</td><td>&quot;ND PERS PPO&quot;</td><td>&quot;PROFESSIONAL&quot;</td><td>&quot;OFFICE VISIT&quot;</td><td>&quot;MEDICAL&quot;</td><td>&quot;OFFICE&quot;</td><td>&quot;Physician&quot;</td><td>&quot;DIAGNOSTIC RADIOLOGY (RADIOLOG…</td><td>2</td><td>null</td><td>null</td><td>null</td><td>null</td><td>null</td><td>null</td><td>null</td><td>null</td><td>null</td><td>&quot;PROC&quot;</td><td>&quot;73630&quot;</td><td>&quot;TC,LT&quot;</td><td>0</td></tr><tr><td>&quot;cac4ce65912da45e6350bf9528623f…</td><td>2021-12-28</td><td>2021-12-30</td><td>2022-01-03</td><td>&quot;2fe692eb90cbcb4a2afa053ac41691…</td><td>&quot;50-59 Yrs Old&quot;</td><td>&quot;F&quot;</td><td>&quot;Divorced&quot;</td><td>&quot;Caucasian/White&quot;</td><td>&quot;NPS&quot;</td><td>&quot;ND PERS PPO&quot;</td><td>&quot;PROFESSIONAL&quot;</td><td>&quot;OFFICE VISIT&quot;</td><td>&quot;MEDICAL&quot;</td><td>&quot;OFFICE&quot;</td><td>&quot;Physician&quot;</td><td>&quot;PATHOLOGY&quot;</td><td>3</td><td>null</td><td>null</td><td>null</td><td>null</td><td>null</td><td>null</td><td>null</td><td>null</td><td>null</td><td>&quot;PROC&quot;</td><td>&quot;87426&quot;</td><td>null</td><td>0</td></tr><tr><td>&quot;e01f80a521e095d6fe969a0342a74c…</td><td>2022-01-05</td><td>2022-01-06</td><td>2022-01-13</td><td>&quot;64c05a5a40591a5f00d0868167a22d…</td><td>&quot;1-9 Yrs Old&quot;</td><td>&quot;F&quot;</td><td>&quot;Single&quot;</td><td>&quot;Caucasian/White&quot;</td><td>&quot;SGH&quot;</td><td>&quot;IN NETWORK&quot;</td><td>&quot;PROFESSIONAL&quot;</td><td>&quot;OFFICE VISIT&quot;</td><td>&quot;MEDICAL&quot;</td><td>&quot;OFFICE&quot;</td><td>&quot;Physician&quot;</td><td>&quot;PEDIATRICS&quot;</td><td>4</td><td>5</td><td>null</td><td>null</td><td>null</td><td>null</td><td>null</td><td>null</td><td>null</td><td>null</td><td>&quot;PROC&quot;</td><td>&quot;90670&quot;</td><td>null</td><td>0</td></tr></tbody></table></div>"
      ],
      "text/plain": [
       "shape: (5, 31)\n",
       "┌────────────┬────────────┬────────────┬───────────┬───┬───────────┬───────────┬───────────┬───────┐\n",
       "│ Claim ID   ┆ Service    ┆ Recieved   ┆ Paid Date ┆ … ┆ Service   ┆ Service   ┆ Modifiers ┆ High  │\n",
       "│ ---        ┆ Date       ┆ Date       ┆ ---       ┆   ┆ Type      ┆ Code      ┆ ---       ┆ Cost  │\n",
       "│ str        ┆ ---        ┆ ---        ┆ date      ┆   ┆ ---       ┆ ---       ┆ str       ┆ Claim │\n",
       "│            ┆ date       ┆ date       ┆           ┆   ┆ str       ┆ str       ┆           ┆ ---   │\n",
       "│            ┆            ┆            ┆           ┆   ┆           ┆           ┆           ┆ i64   │\n",
       "╞════════════╪════════════╪════════════╪═══════════╪═══╪═══════════╪═══════════╪═══════════╪═══════╡\n",
       "│ 8110afaab1 ┆ 2022-01-15 ┆ 2022-01-17 ┆ 2022-01-2 ┆ … ┆ PROC      ┆ U0005     ┆ null      ┆ null  │\n",
       "│ 020212f581 ┆            ┆            ┆ 5         ┆   ┆           ┆           ┆           ┆       │\n",
       "│ 93e233369c ┆            ┆            ┆           ┆   ┆           ┆           ┆           ┆       │\n",
       "│ …          ┆            ┆            ┆           ┆   ┆           ┆           ┆           ┆       │\n",
       "│ 8110afaab1 ┆ 2022-01-15 ┆ 2022-01-17 ┆ 2022-01-2 ┆ … ┆ PROC      ┆ U0003     ┆ null      ┆ null  │\n",
       "│ 020212f581 ┆            ┆            ┆ 5         ┆   ┆           ┆           ┆           ┆       │\n",
       "│ 93e233369c ┆            ┆            ┆           ┆   ┆           ┆           ┆           ┆       │\n",
       "│ …          ┆            ┆            ┆           ┆   ┆           ┆           ┆           ┆       │\n",
       "│ 190430199d ┆ 2022-01-05 ┆ 2022-01-06 ┆ 2022-01-1 ┆ … ┆ PROC      ┆ 73630     ┆ TC,LT     ┆ 0     │\n",
       "│ fa0b3ed462 ┆            ┆            ┆ 0         ┆   ┆           ┆           ┆           ┆       │\n",
       "│ 12060301b3 ┆            ┆            ┆           ┆   ┆           ┆           ┆           ┆       │\n",
       "│ …          ┆            ┆            ┆           ┆   ┆           ┆           ┆           ┆       │\n",
       "│ cac4ce6591 ┆ 2021-12-28 ┆ 2021-12-30 ┆ 2022-01-0 ┆ … ┆ PROC      ┆ 87426     ┆ null      ┆ 0     │\n",
       "│ 2da45e6350 ┆            ┆            ┆ 3         ┆   ┆           ┆           ┆           ┆       │\n",
       "│ bf9528623f ┆            ┆            ┆           ┆   ┆           ┆           ┆           ┆       │\n",
       "│ …          ┆            ┆            ┆           ┆   ┆           ┆           ┆           ┆       │\n",
       "│ e01f80a521 ┆ 2022-01-05 ┆ 2022-01-06 ┆ 2022-01-1 ┆ … ┆ PROC      ┆ 90670     ┆ null      ┆ 0     │\n",
       "│ e095d6fe96 ┆            ┆            ┆ 3         ┆   ┆           ┆           ┆           ┆       │\n",
       "│ 9a0342a74c ┆            ┆            ┆           ┆   ┆           ┆           ┆           ┆       │\n",
       "│ …          ┆            ┆            ┆           ┆   ┆           ┆           ┆           ┆       │\n",
       "└────────────┴────────────┴────────────┴───────────┴───┴───────────┴───────────┴───────────┴───────┘"
      ]
     },
     "execution_count": 298,
     "metadata": {},
     "output_type": "execute_result"
    }
   ],
   "source": [
    "df.head()"
   ]
  },
  {
   "cell_type": "code",
   "execution_count": 299,
   "metadata": {},
   "outputs": [
    {
     "data": {
      "text/html": [
       "<div><style>\n",
       ".dataframe > thead > tr,\n",
       ".dataframe > tbody > tr {\n",
       "  text-align: right;\n",
       "  white-space: pre-wrap;\n",
       "}\n",
       "</style>\n",
       "<small>shape: (1_130, 2)</small><table border=\"1\" class=\"dataframe\"><thead><tr><th>Service Date</th><th>count</th></tr><tr><td>date</td><td>u32</td></tr></thead><tbody><tr><td>2023-01-23</td><td>262</td></tr><tr><td>2022-09-08</td><td>301</td></tr><tr><td>2022-12-25</td><td>218</td></tr><tr><td>2022-03-17</td><td>206</td></tr><tr><td>2022-04-01</td><td>223</td></tr><tr><td>2023-02-11</td><td>242</td></tr><tr><td>2023-10-04</td><td>242</td></tr><tr><td>2022-03-20</td><td>220</td></tr><tr><td>&hellip;</td><td>&hellip;</td></tr><tr><td>2024-02-20</td><td>179</td></tr><tr><td>2023-08-23</td><td>200</td></tr><tr><td>2024-10-26</td><td>293</td></tr><tr><td>2024-06-22</td><td>240</td></tr><tr><td>2024-10-27</td><td>239</td></tr><tr><td>2024-01-04</td><td>241</td></tr><tr><td>2024-05-07</td><td>242</td></tr></tbody></table></div>"
      ],
      "text/plain": [
       "shape: (1_130, 2)\n",
       "┌──────────────┬───────┐\n",
       "│ Service Date ┆ count │\n",
       "│ ---          ┆ ---   │\n",
       "│ date         ┆ u32   │\n",
       "╞══════════════╪═══════╡\n",
       "│ 2023-01-23   ┆ 262   │\n",
       "│ 2022-09-08   ┆ 301   │\n",
       "│ 2022-12-25   ┆ 218   │\n",
       "│ 2022-03-17   ┆ 206   │\n",
       "│ 2022-04-01   ┆ 223   │\n",
       "│ 2023-02-11   ┆ 242   │\n",
       "│ 2023-10-04   ┆ 242   │\n",
       "│ 2022-03-20   ┆ 220   │\n",
       "│ …            ┆ …     │\n",
       "│ 2024-02-20   ┆ 179   │\n",
       "│ 2023-08-23   ┆ 200   │\n",
       "│ 2024-10-26   ┆ 293   │\n",
       "│ 2024-06-22   ┆ 240   │\n",
       "│ 2024-10-27   ┆ 239   │\n",
       "│ 2024-01-04   ┆ 241   │\n",
       "│ 2024-05-07   ┆ 242   │\n",
       "└──────────────┴───────┘"
      ]
     },
     "execution_count": 299,
     "metadata": {},
     "output_type": "execute_result"
    }
   ],
   "source": [
    "df['Service Date'].value_counts()"
   ]
  },
  {
   "cell_type": "code",
   "execution_count": 300,
   "metadata": {},
   "outputs": [],
   "source": [
    "service_date_counts = df['Service Date'].value_counts()"
   ]
  },
  {
   "cell_type": "code",
   "execution_count": 301,
   "metadata": {},
   "outputs": [
    {
     "data": {
      "text/html": [
       "<div><style>\n",
       ".dataframe > thead > tr,\n",
       ".dataframe > tbody > tr {\n",
       "  text-align: right;\n",
       "  white-space: pre-wrap;\n",
       "}\n",
       "</style>\n",
       "<small>shape: (1_130, 2)</small><table border=\"1\" class=\"dataframe\"><thead><tr><th>Service Date</th><th>count</th></tr><tr><td>date</td><td>u32</td></tr></thead><tbody><tr><td>2023-06-23</td><td>201</td></tr><tr><td>2022-01-02</td><td>86</td></tr><tr><td>2022-04-04</td><td>179</td></tr><tr><td>2022-08-07</td><td>235</td></tr><tr><td>2024-08-23</td><td>224</td></tr><tr><td>2023-10-19</td><td>221</td></tr><tr><td>2023-03-19</td><td>203</td></tr><tr><td>2024-02-12</td><td>165</td></tr><tr><td>&hellip;</td><td>&hellip;</td></tr><tr><td>2022-01-18</td><td>167</td></tr><tr><td>2024-06-06</td><td>408</td></tr><tr><td>2023-09-03</td><td>153</td></tr><tr><td>2022-05-11</td><td>227</td></tr><tr><td>2023-03-07</td><td>206</td></tr><tr><td>2023-11-23</td><td>284</td></tr><tr><td>2024-01-07</td><td>198</td></tr></tbody></table></div>"
      ],
      "text/plain": [
       "shape: (1_130, 2)\n",
       "┌──────────────┬───────┐\n",
       "│ Service Date ┆ count │\n",
       "│ ---          ┆ ---   │\n",
       "│ date         ┆ u32   │\n",
       "╞══════════════╪═══════╡\n",
       "│ 2023-06-23   ┆ 201   │\n",
       "│ 2022-01-02   ┆ 86    │\n",
       "│ 2022-04-04   ┆ 179   │\n",
       "│ 2022-08-07   ┆ 235   │\n",
       "│ 2024-08-23   ┆ 224   │\n",
       "│ 2023-10-19   ┆ 221   │\n",
       "│ 2023-03-19   ┆ 203   │\n",
       "│ 2024-02-12   ┆ 165   │\n",
       "│ …            ┆ …     │\n",
       "│ 2022-01-18   ┆ 167   │\n",
       "│ 2024-06-06   ┆ 408   │\n",
       "│ 2023-09-03   ┆ 153   │\n",
       "│ 2022-05-11   ┆ 227   │\n",
       "│ 2023-03-07   ┆ 206   │\n",
       "│ 2023-11-23   ┆ 284   │\n",
       "│ 2024-01-07   ┆ 198   │\n",
       "└──────────────┴───────┘"
      ]
     },
     "execution_count": 301,
     "metadata": {},
     "output_type": "execute_result"
    }
   ],
   "source": [
    "service_date_counts"
   ]
  },
  {
   "cell_type": "code",
   "execution_count": 302,
   "metadata": {},
   "outputs": [
    {
     "data": {
      "text/html": [
       "\n",
       "<style>\n",
       "  #altair-viz-f715298391a24e3fa10b097368c38049.vega-embed {\n",
       "    width: 100%;\n",
       "    display: flex;\n",
       "  }\n",
       "\n",
       "  #altair-viz-f715298391a24e3fa10b097368c38049.vega-embed details,\n",
       "  #altair-viz-f715298391a24e3fa10b097368c38049.vega-embed details summary {\n",
       "    position: relative;\n",
       "  }\n",
       "</style>\n",
       "<div id=\"altair-viz-f715298391a24e3fa10b097368c38049\"></div>\n",
       "<script type=\"text/javascript\">\n",
       "  var VEGA_DEBUG = (typeof VEGA_DEBUG == \"undefined\") ? {} : VEGA_DEBUG;\n",
       "  (function(spec, embedOpt){\n",
       "    let outputDiv = document.currentScript.previousElementSibling;\n",
       "    if (outputDiv.id !== \"altair-viz-f715298391a24e3fa10b097368c38049\") {\n",
       "      outputDiv = document.getElementById(\"altair-viz-f715298391a24e3fa10b097368c38049\");\n",
       "    }\n",
       "\n",
       "    const paths = {\n",
       "      \"vega\": \"https://cdn.jsdelivr.net/npm/vega@5?noext\",\n",
       "      \"vega-lib\": \"https://cdn.jsdelivr.net/npm/vega-lib?noext\",\n",
       "      \"vega-lite\": \"https://cdn.jsdelivr.net/npm/vega-lite@5.20.1?noext\",\n",
       "      \"vega-embed\": \"https://cdn.jsdelivr.net/npm/vega-embed@6?noext\",\n",
       "    };\n",
       "\n",
       "    function maybeLoadScript(lib, version) {\n",
       "      var key = `${lib.replace(\"-\", \"\")}_version`;\n",
       "      return (VEGA_DEBUG[key] == version) ?\n",
       "        Promise.resolve(paths[lib]) :\n",
       "        new Promise(function(resolve, reject) {\n",
       "          var s = document.createElement('script');\n",
       "          document.getElementsByTagName(\"head\")[0].appendChild(s);\n",
       "          s.async = true;\n",
       "          s.onload = () => {\n",
       "            VEGA_DEBUG[key] = version;\n",
       "            return resolve(paths[lib]);\n",
       "          };\n",
       "          s.onerror = () => reject(`Error loading script: ${paths[lib]}`);\n",
       "          s.src = paths[lib];\n",
       "        });\n",
       "    }\n",
       "\n",
       "    function showError(err) {\n",
       "      outputDiv.innerHTML = `<div class=\"error\" style=\"color:red;\">${err}</div>`;\n",
       "      throw err;\n",
       "    }\n",
       "\n",
       "    function displayChart(vegaEmbed) {\n",
       "      vegaEmbed(outputDiv, spec, embedOpt)\n",
       "        .catch(err => showError(`Javascript Error: ${err.message}<br>This usually means there's a typo in your chart specification. See the javascript console for the full traceback.`));\n",
       "    }\n",
       "\n",
       "    if(typeof define === \"function\" && define.amd) {\n",
       "      requirejs.config({paths});\n",
       "      let deps = [\"vega-embed\"];\n",
       "      require(deps, displayChart, err => showError(`Error loading script: ${err.message}`));\n",
       "    } else {\n",
       "      maybeLoadScript(\"vega\", \"5\")\n",
       "        .then(() => maybeLoadScript(\"vega-lite\", \"5.20.1\"))\n",
       "        .then(() => maybeLoadScript(\"vega-embed\", \"6\"))\n",
       "        .catch(showError)\n",
       "        .then(() => displayChart(vegaEmbed));\n",
       "    }\n",
       "  })({\"config\": {\"view\": {\"continuousWidth\": 300, \"continuousHeight\": 300}}, \"data\": {\"name\": \"data-a902b58e55120a3e28341de56676af31\"}, \"mark\": {\"type\": \"bar\"}, \"encoding\": {\"x\": {\"field\": \"Service Date\", \"type\": \"temporal\"}, \"y\": {\"field\": \"count\", \"type\": \"quantitative\"}}, \"height\": 600, \"width\": 800, \"$schema\": \"https://vega.github.io/schema/vega-lite/v5.20.1.json\", \"datasets\": {\"data-a902b58e55120a3e28341de56676af31\": [{\"Service Date\": \"2023-06-23T00:00:00\", \"count\": 201}, {\"Service Date\": \"2022-01-02T00:00:00\", \"count\": 86}, {\"Service Date\": \"2022-04-04T00:00:00\", \"count\": 179}, {\"Service Date\": \"2022-08-07T00:00:00\", \"count\": 235}, {\"Service Date\": \"2024-08-23T00:00:00\", \"count\": 224}, {\"Service Date\": \"2023-10-19T00:00:00\", \"count\": 221}, {\"Service Date\": \"2023-03-19T00:00:00\", \"count\": 203}, {\"Service Date\": \"2024-02-12T00:00:00\", \"count\": 165}, {\"Service Date\": \"2022-04-02T00:00:00\", \"count\": 261}, {\"Service Date\": \"2022-06-17T00:00:00\", \"count\": 187}, {\"Service Date\": \"2022-02-17T00:00:00\", \"count\": 196}, {\"Service Date\": \"2023-06-07T00:00:00\", \"count\": 174}, {\"Service Date\": \"2024-04-23T00:00:00\", \"count\": 199}, {\"Service Date\": \"2024-08-22T00:00:00\", \"count\": 300}, {\"Service Date\": \"2022-07-20T00:00:00\", \"count\": 253}, {\"Service Date\": \"2023-04-26T00:00:00\", \"count\": 204}, {\"Service Date\": \"2024-02-18T00:00:00\", \"count\": 219}, {\"Service Date\": \"2023-09-01T00:00:00\", \"count\": 272}, {\"Service Date\": \"2022-11-14T00:00:00\", \"count\": 252}, {\"Service Date\": \"2023-08-15T00:00:00\", \"count\": 171}, {\"Service Date\": \"2023-10-16T00:00:00\", \"count\": 322}, {\"Service Date\": \"2024-01-26T00:00:00\", \"count\": 230}, {\"Service Date\": \"2021-12-19T00:00:00\", \"count\": 47}, {\"Service Date\": \"2022-04-01T00:00:00\", \"count\": 223}, {\"Service Date\": \"2024-05-20T00:00:00\", \"count\": 233}, {\"Service Date\": \"2022-12-17T00:00:00\", \"count\": 301}, {\"Service Date\": \"2023-09-04T00:00:00\", \"count\": 207}, {\"Service Date\": \"2024-05-03T00:00:00\", \"count\": 184}, {\"Service Date\": \"2024-12-02T00:00:00\", \"count\": 76}, {\"Service Date\": \"2022-07-15T00:00:00\", \"count\": 167}, {\"Service Date\": \"2023-02-17T00:00:00\", \"count\": 208}, {\"Service Date\": \"2024-06-16T00:00:00\", \"count\": 314}, {\"Service Date\": \"2022-04-05T00:00:00\", \"count\": 206}, {\"Service Date\": \"2022-10-13T00:00:00\", \"count\": 199}, {\"Service Date\": \"2023-02-08T00:00:00\", \"count\": 284}, {\"Service Date\": \"2024-01-22T00:00:00\", \"count\": 173}, {\"Service Date\": \"2022-04-23T00:00:00\", \"count\": 200}, {\"Service Date\": \"2023-11-11T00:00:00\", \"count\": 291}, {\"Service Date\": \"2024-08-08T00:00:00\", \"count\": 298}, {\"Service Date\": \"2024-08-28T00:00:00\", \"count\": 432}, {\"Service Date\": \"2023-11-25T00:00:00\", \"count\": 212}, {\"Service Date\": \"2024-02-09T00:00:00\", \"count\": 199}, {\"Service Date\": \"2024-08-14T00:00:00\", \"count\": 280}, {\"Service Date\": \"2022-09-26T00:00:00\", \"count\": 290}, {\"Service Date\": \"2022-09-20T00:00:00\", \"count\": 335}, {\"Service Date\": \"2022-09-10T00:00:00\", \"count\": 262}, {\"Service Date\": \"2023-01-30T00:00:00\", \"count\": 178}, {\"Service Date\": \"2022-03-24T00:00:00\", \"count\": 233}, {\"Service Date\": \"2023-02-14T00:00:00\", \"count\": 251}, {\"Service Date\": \"2022-08-16T00:00:00\", \"count\": 182}, {\"Service Date\": \"2023-12-02T00:00:00\", \"count\": 161}, {\"Service Date\": \"2023-08-04T00:00:00\", \"count\": 239}, {\"Service Date\": \"2022-08-15T00:00:00\", \"count\": 213}, {\"Service Date\": \"2023-03-15T00:00:00\", \"count\": 245}, {\"Service Date\": \"2023-10-22T00:00:00\", \"count\": 220}, {\"Service Date\": \"2023-12-24T00:00:00\", \"count\": 205}, {\"Service Date\": \"2024-03-10T00:00:00\", \"count\": 147}, {\"Service Date\": \"2024-03-16T00:00:00\", \"count\": 277}, {\"Service Date\": \"2022-07-09T00:00:00\", \"count\": 247}, {\"Service Date\": \"2023-07-08T00:00:00\", \"count\": 288}, {\"Service Date\": \"2022-02-25T00:00:00\", \"count\": 270}, {\"Service Date\": \"2023-10-04T00:00:00\", \"count\": 242}, {\"Service Date\": \"2023-01-27T00:00:00\", \"count\": 246}, {\"Service Date\": \"2022-11-15T00:00:00\", \"count\": 195}, {\"Service Date\": \"2022-08-10T00:00:00\", \"count\": 268}, {\"Service Date\": \"2023-08-08T00:00:00\", \"count\": 207}, {\"Service Date\": \"2023-09-20T00:00:00\", \"count\": 259}, {\"Service Date\": \"2023-06-16T00:00:00\", \"count\": 256}, {\"Service Date\": \"2024-05-06T00:00:00\", \"count\": 229}, {\"Service Date\": \"2022-02-24T00:00:00\", \"count\": 198}, {\"Service Date\": \"2022-03-04T00:00:00\", \"count\": 215}, {\"Service Date\": \"2023-11-07T00:00:00\", \"count\": 249}, {\"Service Date\": \"2022-10-03T00:00:00\", \"count\": 296}, {\"Service Date\": \"2022-05-29T00:00:00\", \"count\": 228}, {\"Service Date\": \"2023-01-05T00:00:00\", \"count\": 305}, {\"Service Date\": \"2024-06-24T00:00:00\", \"count\": 350}, {\"Service Date\": \"2022-01-19T00:00:00\", \"count\": 238}, {\"Service Date\": \"2022-06-14T00:00:00\", \"count\": 147}, {\"Service Date\": \"2023-11-03T00:00:00\", \"count\": 209}, {\"Service Date\": \"2022-06-02T00:00:00\", \"count\": 249}, {\"Service Date\": \"2023-10-30T00:00:00\", \"count\": 200}, {\"Service Date\": \"2024-01-16T00:00:00\", \"count\": 164}, {\"Service Date\": \"2024-07-10T00:00:00\", \"count\": 290}, {\"Service Date\": \"2022-04-27T00:00:00\", \"count\": 219}, {\"Service Date\": \"2024-07-08T00:00:00\", \"count\": 228}, {\"Service Date\": \"2022-09-24T00:00:00\", \"count\": 242}, {\"Service Date\": \"2022-11-18T00:00:00\", \"count\": 237}, {\"Service Date\": \"2023-05-30T00:00:00\", \"count\": 203}, {\"Service Date\": \"2023-06-13T00:00:00\", \"count\": 266}, {\"Service Date\": \"2022-05-16T00:00:00\", \"count\": 199}, {\"Service Date\": \"2023-10-09T00:00:00\", \"count\": 246}, {\"Service Date\": \"2024-01-28T00:00:00\", \"count\": 203}, {\"Service Date\": \"2024-09-12T00:00:00\", \"count\": 338}, {\"Service Date\": \"2023-06-10T00:00:00\", \"count\": 245}, {\"Service Date\": \"2024-08-29T00:00:00\", \"count\": 433}, {\"Service Date\": \"2022-05-24T00:00:00\", \"count\": 199}, {\"Service Date\": \"2023-08-17T00:00:00\", \"count\": 244}, {\"Service Date\": \"2024-01-27T00:00:00\", \"count\": 267}, {\"Service Date\": \"2023-09-23T00:00:00\", \"count\": 215}, {\"Service Date\": \"2024-12-01T00:00:00\", \"count\": 134}, {\"Service Date\": \"2023-12-29T00:00:00\", \"count\": 219}, {\"Service Date\": \"2023-12-08T00:00:00\", \"count\": 239}, {\"Service Date\": \"2022-04-25T00:00:00\", \"count\": 187}, {\"Service Date\": \"2022-12-07T00:00:00\", \"count\": 163}, {\"Service Date\": \"2023-11-02T00:00:00\", \"count\": 314}, {\"Service Date\": \"2024-09-02T00:00:00\", \"count\": 380}, {\"Service Date\": \"2025-01-01T00:00:00\", \"count\": 10}, {\"Service Date\": \"2024-11-17T00:00:00\", \"count\": 227}, {\"Service Date\": \"2022-12-15T00:00:00\", \"count\": 189}, {\"Service Date\": \"2023-05-31T00:00:00\", \"count\": 216}, {\"Service Date\": \"2024-12-07T00:00:00\", \"count\": 83}, {\"Service Date\": \"2022-05-21T00:00:00\", \"count\": 169}, {\"Service Date\": \"2023-05-05T00:00:00\", \"count\": 245}, {\"Service Date\": \"2024-05-05T00:00:00\", \"count\": 335}, {\"Service Date\": \"2024-06-03T00:00:00\", \"count\": 247}, {\"Service Date\": \"2022-01-30T00:00:00\", \"count\": 176}, {\"Service Date\": \"2022-08-12T00:00:00\", \"count\": 263}, {\"Service Date\": \"2022-11-17T00:00:00\", \"count\": 173}, {\"Service Date\": \"2022-10-29T00:00:00\", \"count\": 234}, {\"Service Date\": \"2023-03-25T00:00:00\", \"count\": 280}, {\"Service Date\": \"2023-07-18T00:00:00\", \"count\": 258}, {\"Service Date\": \"2023-04-22T00:00:00\", \"count\": 311}, {\"Service Date\": \"2022-08-11T00:00:00\", \"count\": 180}, {\"Service Date\": \"2023-12-06T00:00:00\", \"count\": 223}, {\"Service Date\": \"2023-04-18T00:00:00\", \"count\": 252}, {\"Service Date\": \"2022-09-06T00:00:00\", \"count\": 218}, {\"Service Date\": \"2023-03-23T00:00:00\", \"count\": 248}, {\"Service Date\": \"2022-06-18T00:00:00\", \"count\": 192}, {\"Service Date\": \"2022-11-11T00:00:00\", \"count\": 255}, {\"Service Date\": \"2023-08-12T00:00:00\", \"count\": 163}, {\"Service Date\": \"2024-09-27T00:00:00\", \"count\": 329}, {\"Service Date\": \"2022-06-25T00:00:00\", \"count\": 266}, {\"Service Date\": \"2023-05-08T00:00:00\", \"count\": 208}, {\"Service Date\": \"2023-07-25T00:00:00\", \"count\": 230}, {\"Service Date\": \"2024-04-28T00:00:00\", \"count\": 237}, {\"Service Date\": \"2024-03-15T00:00:00\", \"count\": 248}, {\"Service Date\": \"2024-11-20T00:00:00\", \"count\": 148}, {\"Service Date\": \"2022-09-18T00:00:00\", \"count\": 295}, {\"Service Date\": \"2021-12-22T00:00:00\", \"count\": 61}, {\"Service Date\": \"2024-02-20T00:00:00\", \"count\": 179}, {\"Service Date\": \"2022-06-30T00:00:00\", \"count\": 184}, {\"Service Date\": \"2022-10-21T00:00:00\", \"count\": 232}, {\"Service Date\": \"2022-04-20T00:00:00\", \"count\": 248}, {\"Service Date\": \"2023-08-30T00:00:00\", \"count\": 235}, {\"Service Date\": \"2024-01-09T00:00:00\", \"count\": 209}, {\"Service Date\": \"2024-02-13T00:00:00\", \"count\": 209}, {\"Service Date\": \"2023-10-08T00:00:00\", \"count\": 215}, {\"Service Date\": \"2023-01-13T00:00:00\", \"count\": 161}, {\"Service Date\": \"2021-12-24T00:00:00\", \"count\": 72}, {\"Service Date\": \"2022-10-17T00:00:00\", \"count\": 206}, {\"Service Date\": \"2024-10-05T00:00:00\", \"count\": 288}, {\"Service Date\": \"2023-09-27T00:00:00\", \"count\": 235}, {\"Service Date\": \"2024-01-02T00:00:00\", \"count\": 212}, {\"Service Date\": \"2024-04-03T00:00:00\", \"count\": 246}, {\"Service Date\": \"2024-09-06T00:00:00\", \"count\": 350}, {\"Service Date\": \"2023-03-20T00:00:00\", \"count\": 184}, {\"Service Date\": \"2022-10-10T00:00:00\", \"count\": 220}, {\"Service Date\": \"2022-09-13T00:00:00\", \"count\": 221}, {\"Service Date\": \"2022-09-14T00:00:00\", \"count\": 267}, {\"Service Date\": \"2024-01-23T00:00:00\", \"count\": 203}, {\"Service Date\": \"2024-11-26T00:00:00\", \"count\": 178}, {\"Service Date\": \"2024-12-29T00:00:00\", \"count\": 24}, {\"Service Date\": \"2023-04-15T00:00:00\", \"count\": 268}, {\"Service Date\": \"2022-03-01T00:00:00\", \"count\": 232}, {\"Service Date\": \"2024-11-05T00:00:00\", \"count\": 286}, {\"Service Date\": \"2023-10-31T00:00:00\", \"count\": 282}, {\"Service Date\": \"2024-05-29T00:00:00\", \"count\": 275}, {\"Service Date\": \"2024-02-08T00:00:00\", \"count\": 282}, {\"Service Date\": \"2024-04-01T00:00:00\", \"count\": 210}, {\"Service Date\": \"2024-10-23T00:00:00\", \"count\": 240}, {\"Service Date\": \"2022-06-01T00:00:00\", \"count\": 173}, {\"Service Date\": \"2024-08-05T00:00:00\", \"count\": 338}, {\"Service Date\": \"2024-03-19T00:00:00\", \"count\": 288}, {\"Service Date\": \"2024-04-02T00:00:00\", \"count\": 268}, {\"Service Date\": \"2024-05-28T00:00:00\", \"count\": 349}, {\"Service Date\": \"2021-12-29T00:00:00\", \"count\": 71}, {\"Service Date\": \"2024-08-26T00:00:00\", \"count\": 260}, {\"Service Date\": \"2022-06-16T00:00:00\", \"count\": 193}, {\"Service Date\": \"2022-11-16T00:00:00\", \"count\": 218}, {\"Service Date\": \"2022-05-22T00:00:00\", \"count\": 152}, {\"Service Date\": \"2023-07-05T00:00:00\", \"count\": 176}, {\"Service Date\": \"2023-12-20T00:00:00\", \"count\": 228}, {\"Service Date\": \"2023-03-29T00:00:00\", \"count\": 213}, {\"Service Date\": \"2024-02-25T00:00:00\", \"count\": 207}, {\"Service Date\": \"2024-02-24T00:00:00\", \"count\": 333}, {\"Service Date\": \"2024-07-26T00:00:00\", \"count\": 331}, {\"Service Date\": \"2022-01-28T00:00:00\", \"count\": 227}, {\"Service Date\": \"2024-09-17T00:00:00\", \"count\": 264}, {\"Service Date\": \"2021-12-18T00:00:00\", \"count\": 59}, {\"Service Date\": \"2022-01-12T00:00:00\", \"count\": 129}, {\"Service Date\": \"2023-07-20T00:00:00\", \"count\": 152}, {\"Service Date\": \"2023-11-22T00:00:00\", \"count\": 270}, {\"Service Date\": \"2022-10-27T00:00:00\", \"count\": 256}, {\"Service Date\": \"2023-01-19T00:00:00\", \"count\": 226}, {\"Service Date\": \"2023-09-24T00:00:00\", \"count\": 193}, {\"Service Date\": \"2024-06-17T00:00:00\", \"count\": 244}, {\"Service Date\": \"2022-12-04T00:00:00\", \"count\": 231}, {\"Service Date\": \"2024-03-30T00:00:00\", \"count\": 190}, {\"Service Date\": \"2024-03-26T00:00:00\", \"count\": 206}, {\"Service Date\": \"2022-07-21T00:00:00\", \"count\": 255}, {\"Service Date\": \"2024-10-10T00:00:00\", \"count\": 301}, {\"Service Date\": \"2022-01-04T00:00:00\", \"count\": 99}, {\"Service Date\": \"2023-10-21T00:00:00\", \"count\": 233}, {\"Service Date\": \"2023-01-01T00:00:00\", \"count\": 215}, {\"Service Date\": \"2023-03-18T00:00:00\", \"count\": 251}, {\"Service Date\": \"2022-11-12T00:00:00\", \"count\": 295}, {\"Service Date\": \"2023-07-01T00:00:00\", \"count\": 239}, {\"Service Date\": \"2023-04-27T00:00:00\", \"count\": 152}, {\"Service Date\": \"2024-07-04T00:00:00\", \"count\": 284}, {\"Service Date\": \"2023-08-18T00:00:00\", \"count\": 153}, {\"Service Date\": \"2023-02-21T00:00:00\", \"count\": 250}, {\"Service Date\": \"2022-02-23T00:00:00\", \"count\": 232}, {\"Service Date\": \"2022-10-28T00:00:00\", \"count\": 345}, {\"Service Date\": \"2023-08-31T00:00:00\", \"count\": 222}, {\"Service Date\": \"2024-06-22T00:00:00\", \"count\": 240}, {\"Service Date\": \"2023-03-30T00:00:00\", \"count\": 211}, {\"Service Date\": \"2022-02-13T00:00:00\", \"count\": 156}, {\"Service Date\": \"2024-02-19T00:00:00\", \"count\": 166}, {\"Service Date\": \"2022-04-26T00:00:00\", \"count\": 239}, {\"Service Date\": \"2023-12-22T00:00:00\", \"count\": 293}, {\"Service Date\": \"2023-07-27T00:00:00\", \"count\": 236}, {\"Service Date\": \"2022-07-11T00:00:00\", \"count\": 210}, {\"Service Date\": \"2023-03-02T00:00:00\", \"count\": 234}, {\"Service Date\": \"2024-04-27T00:00:00\", \"count\": 187}, {\"Service Date\": \"2022-02-04T00:00:00\", \"count\": 218}, {\"Service Date\": \"2023-05-09T00:00:00\", \"count\": 192}, {\"Service Date\": \"2023-04-24T00:00:00\", \"count\": 246}, {\"Service Date\": \"2023-05-27T00:00:00\", \"count\": 237}, {\"Service Date\": \"2022-06-06T00:00:00\", \"count\": 207}, {\"Service Date\": \"2023-12-01T00:00:00\", \"count\": 242}, {\"Service Date\": \"2024-04-22T00:00:00\", \"count\": 365}, {\"Service Date\": \"2023-03-04T00:00:00\", \"count\": 226}, {\"Service Date\": \"2024-06-18T00:00:00\", \"count\": 355}, {\"Service Date\": \"2024-03-09T00:00:00\", \"count\": 256}, {\"Service Date\": \"2024-04-13T00:00:00\", \"count\": 224}, {\"Service Date\": \"2024-02-16T00:00:00\", \"count\": 238}, {\"Service Date\": \"2023-07-13T00:00:00\", \"count\": 227}, {\"Service Date\": \"2022-01-25T00:00:00\", \"count\": 156}, {\"Service Date\": \"2022-06-03T00:00:00\", \"count\": 245}, {\"Service Date\": \"2024-06-19T00:00:00\", \"count\": 260}, {\"Service Date\": \"2024-10-16T00:00:00\", \"count\": 314}, {\"Service Date\": \"2022-12-26T00:00:00\", \"count\": 231}, {\"Service Date\": \"2022-02-16T00:00:00\", \"count\": 242}, {\"Service Date\": \"2022-06-05T00:00:00\", \"count\": 205}, {\"Service Date\": \"2022-09-27T00:00:00\", \"count\": 252}, {\"Service Date\": \"2023-03-10T00:00:00\", \"count\": 214}, {\"Service Date\": \"2023-05-02T00:00:00\", \"count\": 245}, {\"Service Date\": \"2023-05-29T00:00:00\", \"count\": 191}, {\"Service Date\": \"2023-11-24T00:00:00\", \"count\": 310}, {\"Service Date\": \"2022-08-18T00:00:00\", \"count\": 258}, {\"Service Date\": \"2022-07-02T00:00:00\", \"count\": 194}, {\"Service Date\": \"2023-08-27T00:00:00\", \"count\": 163}, {\"Service Date\": \"2023-12-27T00:00:00\", \"count\": 195}, {\"Service Date\": \"2023-10-23T00:00:00\", \"count\": 338}, {\"Service Date\": \"2024-06-15T00:00:00\", \"count\": 156}, {\"Service Date\": \"2024-07-21T00:00:00\", \"count\": 245}, {\"Service Date\": \"2022-12-20T00:00:00\", \"count\": 221}, {\"Service Date\": \"2023-04-10T00:00:00\", \"count\": 210}, {\"Service Date\": \"2024-06-27T00:00:00\", \"count\": 304}, {\"Service Date\": \"2023-12-26T00:00:00\", \"count\": 190}, {\"Service Date\": \"2024-12-04T00:00:00\", \"count\": 115}, {\"Service Date\": \"2023-07-02T00:00:00\", \"count\": 308}, {\"Service Date\": \"2024-07-19T00:00:00\", \"count\": 261}, {\"Service Date\": \"2023-09-15T00:00:00\", \"count\": 190}, {\"Service Date\": \"2023-06-26T00:00:00\", \"count\": 221}, {\"Service Date\": \"2024-10-13T00:00:00\", \"count\": 418}, {\"Service Date\": \"2023-03-09T00:00:00\", \"count\": 208}, {\"Service Date\": \"2023-11-28T00:00:00\", \"count\": 221}, {\"Service Date\": \"2024-01-20T00:00:00\", \"count\": 183}, {\"Service Date\": \"2023-01-16T00:00:00\", \"count\": 250}, {\"Service Date\": \"2023-05-04T00:00:00\", \"count\": 184}, {\"Service Date\": \"2023-08-21T00:00:00\", \"count\": 210}, {\"Service Date\": \"2023-09-29T00:00:00\", \"count\": 262}, {\"Service Date\": \"2021-12-20T00:00:00\", \"count\": 46}, {\"Service Date\": \"2022-02-08T00:00:00\", \"count\": 195}, {\"Service Date\": \"2022-05-27T00:00:00\", \"count\": 219}, {\"Service Date\": \"2023-06-21T00:00:00\", \"count\": 269}, {\"Service Date\": \"2023-10-17T00:00:00\", \"count\": 189}, {\"Service Date\": \"2023-02-05T00:00:00\", \"count\": 205}, {\"Service Date\": \"2021-12-17T00:00:00\", \"count\": 60}, {\"Service Date\": \"2022-08-08T00:00:00\", \"count\": 210}, {\"Service Date\": \"2023-03-05T00:00:00\", \"count\": 177}, {\"Service Date\": \"2024-09-19T00:00:00\", \"count\": 252}, {\"Service Date\": \"2023-10-25T00:00:00\", \"count\": 226}, {\"Service Date\": \"2022-08-28T00:00:00\", \"count\": 277}, {\"Service Date\": \"2022-07-28T00:00:00\", \"count\": 261}, {\"Service Date\": \"2024-05-19T00:00:00\", \"count\": 273}, {\"Service Date\": \"2023-01-12T00:00:00\", \"count\": 194}, {\"Service Date\": \"2022-08-02T00:00:00\", \"count\": 222}, {\"Service Date\": \"2024-10-06T00:00:00\", \"count\": 292}, {\"Service Date\": \"2024-12-18T00:00:00\", \"count\": 27}, {\"Service Date\": \"2022-01-17T00:00:00\", \"count\": 186}, {\"Service Date\": \"2023-08-16T00:00:00\", \"count\": 174}, {\"Service Date\": \"2022-12-01T00:00:00\", \"count\": 298}, {\"Service Date\": \"2024-05-12T00:00:00\", \"count\": 278}, {\"Service Date\": \"2022-01-10T00:00:00\", \"count\": 194}, {\"Service Date\": \"2023-05-12T00:00:00\", \"count\": 187}, {\"Service Date\": \"2024-11-08T00:00:00\", \"count\": 218}, {\"Service Date\": \"2023-09-16T00:00:00\", \"count\": 271}, {\"Service Date\": \"2022-08-24T00:00:00\", \"count\": 276}, {\"Service Date\": \"2023-05-25T00:00:00\", \"count\": 196}, {\"Service Date\": \"2022-11-19T00:00:00\", \"count\": 246}, {\"Service Date\": \"2024-11-10T00:00:00\", \"count\": 217}, {\"Service Date\": \"2023-10-28T00:00:00\", \"count\": 296}, {\"Service Date\": \"2023-04-13T00:00:00\", \"count\": 182}, {\"Service Date\": \"2024-10-25T00:00:00\", \"count\": 262}, {\"Service Date\": \"2024-12-30T00:00:00\", \"count\": 15}, {\"Service Date\": \"2024-11-22T00:00:00\", \"count\": 171}, {\"Service Date\": \"2022-09-17T00:00:00\", \"count\": 232}, {\"Service Date\": \"2023-06-27T00:00:00\", \"count\": 227}, {\"Service Date\": \"2024-08-13T00:00:00\", \"count\": 214}, {\"Service Date\": \"2023-09-12T00:00:00\", \"count\": 255}, {\"Service Date\": \"2023-12-18T00:00:00\", \"count\": 266}, {\"Service Date\": \"2022-09-22T00:00:00\", \"count\": 178}, {\"Service Date\": \"2022-04-21T00:00:00\", \"count\": 234}, {\"Service Date\": \"2024-09-23T00:00:00\", \"count\": 310}, {\"Service Date\": \"2024-03-01T00:00:00\", \"count\": 275}, {\"Service Date\": \"2022-02-03T00:00:00\", \"count\": 239}, {\"Service Date\": \"2023-11-17T00:00:00\", \"count\": 233}, {\"Service Date\": \"2024-05-02T00:00:00\", \"count\": 231}, {\"Service Date\": \"2024-02-03T00:00:00\", \"count\": 330}, {\"Service Date\": \"2022-02-01T00:00:00\", \"count\": 211}, {\"Service Date\": \"2022-04-18T00:00:00\", \"count\": 122}, {\"Service Date\": \"2022-07-31T00:00:00\", \"count\": 203}, {\"Service Date\": \"2023-06-22T00:00:00\", \"count\": 194}, {\"Service Date\": \"2024-02-14T00:00:00\", \"count\": 335}, {\"Service Date\": \"2024-04-20T00:00:00\", \"count\": 238}, {\"Service Date\": \"2024-06-28T00:00:00\", \"count\": 201}, {\"Service Date\": \"2022-12-02T00:00:00\", \"count\": 220}, {\"Service Date\": \"2024-08-18T00:00:00\", \"count\": 277}, {\"Service Date\": \"2024-09-13T00:00:00\", \"count\": 171}, {\"Service Date\": \"2022-09-12T00:00:00\", \"count\": 229}, {\"Service Date\": \"2024-12-03T00:00:00\", \"count\": 134}, {\"Service Date\": \"2022-10-22T00:00:00\", \"count\": 159}, {\"Service Date\": \"2021-12-30T00:00:00\", \"count\": 77}, {\"Service Date\": \"2022-12-08T00:00:00\", \"count\": 203}, {\"Service Date\": \"2023-04-07T00:00:00\", \"count\": 176}, {\"Service Date\": \"2022-06-08T00:00:00\", \"count\": 241}, {\"Service Date\": \"2024-03-17T00:00:00\", \"count\": 283}, {\"Service Date\": \"2022-08-19T00:00:00\", \"count\": 218}, {\"Service Date\": \"2022-05-03T00:00:00\", \"count\": 209}, {\"Service Date\": \"2024-10-31T00:00:00\", \"count\": 296}, {\"Service Date\": \"2023-01-23T00:00:00\", \"count\": 262}, {\"Service Date\": \"2023-09-09T00:00:00\", \"count\": 199}, {\"Service Date\": \"2022-05-02T00:00:00\", \"count\": 299}, {\"Service Date\": \"2022-08-14T00:00:00\", \"count\": 232}, {\"Service Date\": \"2023-06-14T00:00:00\", \"count\": 167}, {\"Service Date\": \"2022-08-25T00:00:00\", \"count\": 206}, {\"Service Date\": \"2022-09-11T00:00:00\", \"count\": 206}, {\"Service Date\": \"2023-02-27T00:00:00\", \"count\": 205}, {\"Service Date\": \"2022-10-15T00:00:00\", \"count\": 283}, {\"Service Date\": \"2025-01-04T00:00:00\", \"count\": 2}, {\"Service Date\": \"2023-02-13T00:00:00\", \"count\": 260}, {\"Service Date\": \"2024-04-25T00:00:00\", \"count\": 368}, {\"Service Date\": \"2022-05-30T00:00:00\", \"count\": 178}, {\"Service Date\": \"2022-06-27T00:00:00\", \"count\": 178}, {\"Service Date\": \"2024-12-09T00:00:00\", \"count\": 46}, {\"Service Date\": \"2022-05-31T00:00:00\", \"count\": 198}, {\"Service Date\": \"2022-02-18T00:00:00\", \"count\": 282}, {\"Service Date\": \"2023-06-19T00:00:00\", \"count\": 192}, {\"Service Date\": \"2023-07-17T00:00:00\", \"count\": 159}, {\"Service Date\": \"2023-05-21T00:00:00\", \"count\": 266}, {\"Service Date\": \"2023-12-03T00:00:00\", \"count\": 205}, {\"Service Date\": \"2024-08-21T00:00:00\", \"count\": 281}, {\"Service Date\": \"2024-10-15T00:00:00\", \"count\": 295}, {\"Service Date\": \"2024-12-14T00:00:00\", \"count\": 25}, {\"Service Date\": \"2023-10-11T00:00:00\", \"count\": 241}, {\"Service Date\": \"2024-05-10T00:00:00\", \"count\": 190}, {\"Service Date\": \"2024-12-21T00:00:00\", \"count\": 52}, {\"Service Date\": \"2023-02-16T00:00:00\", \"count\": 223}, {\"Service Date\": \"2023-07-14T00:00:00\", \"count\": 258}, {\"Service Date\": \"2022-03-02T00:00:00\", \"count\": 221}, {\"Service Date\": \"2023-05-20T00:00:00\", \"count\": 220}, {\"Service Date\": \"2023-08-06T00:00:00\", \"count\": 192}, {\"Service Date\": \"2022-09-16T00:00:00\", \"count\": 257}, {\"Service Date\": \"2022-11-05T00:00:00\", \"count\": 254}, {\"Service Date\": \"2022-12-24T00:00:00\", \"count\": 217}, {\"Service Date\": \"2024-11-27T00:00:00\", \"count\": 188}, {\"Service Date\": \"2024-08-07T00:00:00\", \"count\": 333}, {\"Service Date\": \"2024-06-01T00:00:00\", \"count\": 236}, {\"Service Date\": \"2022-09-02T00:00:00\", \"count\": 204}, {\"Service Date\": \"2024-10-02T00:00:00\", \"count\": 351}, {\"Service Date\": \"2024-08-04T00:00:00\", \"count\": 324}, {\"Service Date\": \"2023-08-14T00:00:00\", \"count\": 171}, {\"Service Date\": \"2022-02-22T00:00:00\", \"count\": 203}, {\"Service Date\": \"2022-06-22T00:00:00\", \"count\": 218}, {\"Service Date\": \"2023-07-28T00:00:00\", \"count\": 167}, {\"Service Date\": \"2022-05-15T00:00:00\", \"count\": 198}, {\"Service Date\": \"2022-12-28T00:00:00\", \"count\": 200}, {\"Service Date\": \"2023-12-16T00:00:00\", \"count\": 227}, {\"Service Date\": \"2022-08-03T00:00:00\", \"count\": 218}, {\"Service Date\": \"2023-06-03T00:00:00\", \"count\": 225}, {\"Service Date\": \"2024-10-24T00:00:00\", \"count\": 268}, {\"Service Date\": \"2022-03-03T00:00:00\", \"count\": 253}, {\"Service Date\": \"2023-11-26T00:00:00\", \"count\": 199}, {\"Service Date\": \"2023-08-07T00:00:00\", \"count\": 221}, {\"Service Date\": \"2025-01-03T00:00:00\", \"count\": 2}, {\"Service Date\": \"2022-07-24T00:00:00\", \"count\": 248}, {\"Service Date\": \"2024-03-14T00:00:00\", \"count\": 183}, {\"Service Date\": \"2024-09-25T00:00:00\", \"count\": 335}, {\"Service Date\": \"2024-04-14T00:00:00\", \"count\": 184}, {\"Service Date\": \"2022-08-17T00:00:00\", \"count\": 281}, {\"Service Date\": \"2024-03-03T00:00:00\", \"count\": 177}, {\"Service Date\": \"2024-02-26T00:00:00\", \"count\": 190}, {\"Service Date\": \"2022-09-01T00:00:00\", \"count\": 218}, {\"Service Date\": \"2022-06-26T00:00:00\", \"count\": 196}, {\"Service Date\": \"2023-01-08T00:00:00\", \"count\": 162}, {\"Service Date\": \"2023-06-17T00:00:00\", \"count\": 202}, {\"Service Date\": \"2024-07-15T00:00:00\", \"count\": 357}, {\"Service Date\": \"2023-07-26T00:00:00\", \"count\": 267}, {\"Service Date\": \"2024-10-20T00:00:00\", \"count\": 250}, {\"Service Date\": \"2022-02-26T00:00:00\", \"count\": 265}, {\"Service Date\": \"2024-11-25T00:00:00\", \"count\": 170}, {\"Service Date\": \"2022-11-20T00:00:00\", \"count\": 246}, {\"Service Date\": \"2024-12-23T00:00:00\", \"count\": 10}, {\"Service Date\": \"2024-12-31T00:00:00\", \"count\": 5}, {\"Service Date\": \"2023-10-06T00:00:00\", \"count\": 212}, {\"Service Date\": \"2024-09-26T00:00:00\", \"count\": 253}, {\"Service Date\": \"2021-12-15T00:00:00\", \"count\": 47}, {\"Service Date\": \"2022-10-16T00:00:00\", \"count\": 235}, {\"Service Date\": \"2023-10-27T00:00:00\", \"count\": 262}, {\"Service Date\": \"2024-12-05T00:00:00\", \"count\": 60}, {\"Service Date\": \"2024-04-16T00:00:00\", \"count\": 369}, {\"Service Date\": \"2024-07-24T00:00:00\", \"count\": 223}, {\"Service Date\": \"2023-08-11T00:00:00\", \"count\": 198}, {\"Service Date\": \"2022-12-30T00:00:00\", \"count\": 201}, {\"Service Date\": \"2024-01-24T00:00:00\", \"count\": 214}, {\"Service Date\": \"2024-12-22T00:00:00\", \"count\": 41}, {\"Service Date\": \"2024-07-22T00:00:00\", \"count\": 233}, {\"Service Date\": \"2023-11-19T00:00:00\", \"count\": 227}, {\"Service Date\": \"2023-05-23T00:00:00\", \"count\": 265}, {\"Service Date\": \"2023-07-11T00:00:00\", \"count\": 190}, {\"Service Date\": \"2022-04-19T00:00:00\", \"count\": 245}, {\"Service Date\": \"2022-05-08T00:00:00\", \"count\": 179}, {\"Service Date\": \"2024-05-22T00:00:00\", \"count\": 354}, {\"Service Date\": \"2021-12-08T00:00:00\", \"count\": 23}, {\"Service Date\": \"2024-09-20T00:00:00\", \"count\": 251}, {\"Service Date\": \"2024-12-26T00:00:00\", \"count\": 10}, {\"Service Date\": \"2023-01-20T00:00:00\", \"count\": 162}, {\"Service Date\": \"2023-07-07T00:00:00\", \"count\": 197}, {\"Service Date\": \"2022-07-22T00:00:00\", \"count\": 221}, {\"Service Date\": \"2021-12-12T00:00:00\", \"count\": 43}, {\"Service Date\": \"2022-09-23T00:00:00\", \"count\": 220}, {\"Service Date\": \"2023-09-17T00:00:00\", \"count\": 232}, {\"Service Date\": \"2023-11-10T00:00:00\", \"count\": 222}, {\"Service Date\": \"2024-09-30T00:00:00\", \"count\": 325}, {\"Service Date\": \"2021-12-16T00:00:00\", \"count\": 70}, {\"Service Date\": \"2023-02-11T00:00:00\", \"count\": 242}, {\"Service Date\": \"2024-11-15T00:00:00\", \"count\": 163}, {\"Service Date\": \"2022-10-19T00:00:00\", \"count\": 286}, {\"Service Date\": \"2023-04-16T00:00:00\", \"count\": 230}, {\"Service Date\": \"2024-10-17T00:00:00\", \"count\": 289}, {\"Service Date\": \"2022-02-15T00:00:00\", \"count\": 199}, {\"Service Date\": \"2022-09-21T00:00:00\", \"count\": 275}, {\"Service Date\": \"2022-06-07T00:00:00\", \"count\": 196}, {\"Service Date\": \"2024-03-08T00:00:00\", \"count\": 214}, {\"Service Date\": \"2024-04-11T00:00:00\", \"count\": 308}, {\"Service Date\": \"2024-08-20T00:00:00\", \"count\": 196}, {\"Service Date\": \"2021-12-26T00:00:00\", \"count\": 80}, {\"Service Date\": \"2024-12-28T00:00:00\", \"count\": 9}, {\"Service Date\": \"2024-10-12T00:00:00\", \"count\": 330}, {\"Service Date\": \"2022-07-30T00:00:00\", \"count\": 227}, {\"Service Date\": \"2022-02-09T00:00:00\", \"count\": 240}, {\"Service Date\": \"2022-02-19T00:00:00\", \"count\": 238}, {\"Service Date\": \"2022-09-08T00:00:00\", \"count\": 301}, {\"Service Date\": \"2023-04-04T00:00:00\", \"count\": 252}, {\"Service Date\": \"2023-12-19T00:00:00\", \"count\": 267}, {\"Service Date\": \"2024-05-13T00:00:00\", \"count\": 171}, {\"Service Date\": \"2024-06-10T00:00:00\", \"count\": 320}, {\"Service Date\": \"2024-11-23T00:00:00\", \"count\": 186}, {\"Service Date\": \"2023-04-11T00:00:00\", \"count\": 206}, {\"Service Date\": \"2023-07-30T00:00:00\", \"count\": 225}, {\"Service Date\": \"2023-06-12T00:00:00\", \"count\": 182}, {\"Service Date\": \"2023-06-18T00:00:00\", \"count\": 181}, {\"Service Date\": \"2022-12-11T00:00:00\", \"count\": 231}, {\"Service Date\": \"2022-10-11T00:00:00\", \"count\": 210}, {\"Service Date\": \"2023-05-17T00:00:00\", \"count\": 238}, {\"Service Date\": \"2023-04-02T00:00:00\", \"count\": 377}, {\"Service Date\": \"2024-03-22T00:00:00\", \"count\": 187}, {\"Service Date\": \"2023-06-11T00:00:00\", \"count\": 222}, {\"Service Date\": \"2024-08-03T00:00:00\", \"count\": 337}, {\"Service Date\": \"2023-02-10T00:00:00\", \"count\": 180}, {\"Service Date\": \"2023-08-05T00:00:00\", \"count\": 165}, {\"Service Date\": \"2024-05-21T00:00:00\", \"count\": 298}, {\"Service Date\": \"2022-03-22T00:00:00\", \"count\": 233}, {\"Service Date\": \"2023-12-25T00:00:00\", \"count\": 193}, {\"Service Date\": \"2023-09-13T00:00:00\", \"count\": 213}, {\"Service Date\": \"2023-04-09T00:00:00\", \"count\": 232}, {\"Service Date\": \"2024-01-05T00:00:00\", \"count\": 219}, {\"Service Date\": \"2023-06-09T00:00:00\", \"count\": 149}, {\"Service Date\": \"2024-09-09T00:00:00\", \"count\": 356}, {\"Service Date\": \"2023-10-13T00:00:00\", \"count\": 212}, {\"Service Date\": \"2023-03-28T00:00:00\", \"count\": 181}, {\"Service Date\": \"2022-05-26T00:00:00\", \"count\": 262}, {\"Service Date\": \"2023-04-30T00:00:00\", \"count\": 157}, {\"Service Date\": \"2024-07-11T00:00:00\", \"count\": 315}, {\"Service Date\": \"2023-01-09T00:00:00\", \"count\": 222}, {\"Service Date\": \"2023-02-03T00:00:00\", \"count\": 160}, {\"Service Date\": \"2024-08-17T00:00:00\", \"count\": 205}, {\"Service Date\": \"2023-08-09T00:00:00\", \"count\": 207}, {\"Service Date\": \"2023-11-05T00:00:00\", \"count\": 234}, {\"Service Date\": \"2022-02-12T00:00:00\", \"count\": 218}, {\"Service Date\": \"2024-02-04T00:00:00\", \"count\": 242}, {\"Service Date\": \"2023-01-26T00:00:00\", \"count\": 258}, {\"Service Date\": \"2023-07-04T00:00:00\", \"count\": 178}, {\"Service Date\": \"2023-01-18T00:00:00\", \"count\": 287}, {\"Service Date\": \"2022-12-06T00:00:00\", \"count\": 236}, {\"Service Date\": \"2024-08-10T00:00:00\", \"count\": 210}, {\"Service Date\": \"2023-02-26T00:00:00\", \"count\": 211}, {\"Service Date\": \"2022-02-06T00:00:00\", \"count\": 297}, {\"Service Date\": \"2024-10-11T00:00:00\", \"count\": 347}, {\"Service Date\": \"2024-03-02T00:00:00\", \"count\": 247}, {\"Service Date\": \"2024-03-13T00:00:00\", \"count\": 265}, {\"Service Date\": \"2024-05-09T00:00:00\", \"count\": 221}, {\"Service Date\": \"2022-06-04T00:00:00\", \"count\": 220}, {\"Service Date\": \"2022-10-04T00:00:00\", \"count\": 270}, {\"Service Date\": \"2023-09-22T00:00:00\", \"count\": 325}, {\"Service Date\": \"2023-11-18T00:00:00\", \"count\": 215}, {\"Service Date\": \"2022-01-13T00:00:00\", \"count\": 186}, {\"Service Date\": \"2024-12-24T00:00:00\", \"count\": 19}, {\"Service Date\": \"2021-12-11T00:00:00\", \"count\": 28}, {\"Service Date\": \"2024-01-12T00:00:00\", \"count\": 243}, {\"Service Date\": \"2024-04-19T00:00:00\", \"count\": 208}, {\"Service Date\": \"2024-03-25T00:00:00\", \"count\": 234}, {\"Service Date\": \"2023-07-24T00:00:00\", \"count\": 261}, {\"Service Date\": \"2022-03-20T00:00:00\", \"count\": 220}, {\"Service Date\": \"2022-02-20T00:00:00\", \"count\": 188}, {\"Service Date\": \"2022-08-22T00:00:00\", \"count\": 211}, {\"Service Date\": \"2023-03-16T00:00:00\", \"count\": 224}, {\"Service Date\": \"2023-10-07T00:00:00\", \"count\": 223}, {\"Service Date\": \"2023-10-05T00:00:00\", \"count\": 255}, {\"Service Date\": \"2022-04-12T00:00:00\", \"count\": 203}, {\"Service Date\": \"2021-12-07T00:00:00\", \"count\": 23}, {\"Service Date\": \"2022-09-29T00:00:00\", \"count\": 205}, {\"Service Date\": \"2022-11-25T00:00:00\", \"count\": 210}, {\"Service Date\": \"2023-09-26T00:00:00\", \"count\": 277}, {\"Service Date\": \"2024-02-11T00:00:00\", \"count\": 268}, {\"Service Date\": \"2022-07-27T00:00:00\", \"count\": 213}, {\"Service Date\": \"2024-10-18T00:00:00\", \"count\": 247}, {\"Service Date\": \"2024-12-06T00:00:00\", \"count\": 100}, {\"Service Date\": \"2022-01-03T00:00:00\", \"count\": 113}, {\"Service Date\": \"2024-06-20T00:00:00\", \"count\": 346}, {\"Service Date\": \"2023-02-01T00:00:00\", \"count\": 209}, {\"Service Date\": \"2024-02-15T00:00:00\", \"count\": 315}, {\"Service Date\": \"2021-12-09T00:00:00\", \"count\": 21}, {\"Service Date\": \"2022-03-28T00:00:00\", \"count\": 183}, {\"Service Date\": \"2024-07-20T00:00:00\", \"count\": 310}, {\"Service Date\": \"2024-10-27T00:00:00\", \"count\": 239}, {\"Service Date\": \"2024-05-26T00:00:00\", \"count\": 356}, {\"Service Date\": \"2024-06-29T00:00:00\", \"count\": 222}, {\"Service Date\": \"2024-02-23T00:00:00\", \"count\": 230}, {\"Service Date\": \"2022-02-05T00:00:00\", \"count\": 196}, {\"Service Date\": \"2022-01-09T00:00:00\", \"count\": 174}, {\"Service Date\": \"2024-04-15T00:00:00\", \"count\": 274}, {\"Service Date\": \"2023-04-29T00:00:00\", \"count\": 191}, {\"Service Date\": \"2022-10-06T00:00:00\", \"count\": 311}, {\"Service Date\": \"2023-08-20T00:00:00\", \"count\": 205}, {\"Service Date\": \"2024-10-04T00:00:00\", \"count\": 243}, {\"Service Date\": \"2023-08-02T00:00:00\", \"count\": 278}, {\"Service Date\": \"2022-02-28T00:00:00\", \"count\": 270}, {\"Service Date\": \"2022-01-01T00:00:00\", \"count\": 114}, {\"Service Date\": \"2024-03-21T00:00:00\", \"count\": 413}, {\"Service Date\": \"2022-02-27T00:00:00\", \"count\": 211}, {\"Service Date\": \"2021-12-14T00:00:00\", \"count\": 50}, {\"Service Date\": \"2022-08-06T00:00:00\", \"count\": 171}, {\"Service Date\": \"2023-07-15T00:00:00\", \"count\": 173}, {\"Service Date\": \"2022-07-12T00:00:00\", \"count\": 217}, {\"Service Date\": \"2024-03-06T00:00:00\", \"count\": 253}, {\"Service Date\": \"2024-07-27T00:00:00\", \"count\": 260}, {\"Service Date\": \"2024-01-01T00:00:00\", \"count\": 210}, {\"Service Date\": \"2024-09-21T00:00:00\", \"count\": 296}, {\"Service Date\": \"2024-10-14T00:00:00\", \"count\": 384}, {\"Service Date\": \"2023-05-01T00:00:00\", \"count\": 209}, {\"Service Date\": \"2023-04-06T00:00:00\", \"count\": 211}, {\"Service Date\": \"2022-08-31T00:00:00\", \"count\": 259}, {\"Service Date\": \"2022-04-28T00:00:00\", \"count\": 224}, {\"Service Date\": \"2022-05-01T00:00:00\", \"count\": 231}, {\"Service Date\": \"2022-11-23T00:00:00\", \"count\": 258}, {\"Service Date\": \"2023-01-11T00:00:00\", \"count\": 182}, {\"Service Date\": \"2023-08-03T00:00:00\", \"count\": 168}, {\"Service Date\": \"2024-01-30T00:00:00\", \"count\": 272}, {\"Service Date\": \"2023-02-24T00:00:00\", \"count\": 218}, {\"Service Date\": \"2024-12-10T00:00:00\", \"count\": 112}, {\"Service Date\": \"2023-09-11T00:00:00\", \"count\": 228}, {\"Service Date\": \"2023-12-23T00:00:00\", \"count\": 263}, {\"Service Date\": \"2023-11-21T00:00:00\", \"count\": 317}, {\"Service Date\": \"2022-05-14T00:00:00\", \"count\": 257}, {\"Service Date\": \"2024-03-29T00:00:00\", \"count\": 265}, {\"Service Date\": \"2024-07-12T00:00:00\", \"count\": 342}, {\"Service Date\": \"2023-10-24T00:00:00\", \"count\": 227}, {\"Service Date\": \"2023-02-19T00:00:00\", \"count\": 203}, {\"Service Date\": \"2023-03-17T00:00:00\", \"count\": 218}, {\"Service Date\": \"2023-01-17T00:00:00\", \"count\": 181}, {\"Service Date\": \"2023-01-29T00:00:00\", \"count\": 235}, {\"Service Date\": \"2024-11-07T00:00:00\", \"count\": 190}, {\"Service Date\": \"2022-10-25T00:00:00\", \"count\": 238}, {\"Service Date\": \"2024-09-01T00:00:00\", \"count\": 284}, {\"Service Date\": \"2023-05-15T00:00:00\", \"count\": 188}, {\"Service Date\": \"2024-01-19T00:00:00\", \"count\": 197}, {\"Service Date\": \"2023-12-17T00:00:00\", \"count\": 196}, {\"Service Date\": \"2022-06-13T00:00:00\", \"count\": 192}, {\"Service Date\": \"2023-01-10T00:00:00\", \"count\": 221}, {\"Service Date\": \"2023-09-06T00:00:00\", \"count\": 169}, {\"Service Date\": \"2022-01-23T00:00:00\", \"count\": 137}, {\"Service Date\": \"2024-04-05T00:00:00\", \"count\": 271}, {\"Service Date\": \"2022-03-31T00:00:00\", \"count\": 263}, {\"Service Date\": \"2024-09-11T00:00:00\", \"count\": 330}, {\"Service Date\": \"2022-11-24T00:00:00\", \"count\": 213}, {\"Service Date\": \"2024-11-01T00:00:00\", \"count\": 331}, {\"Service Date\": \"2024-10-09T00:00:00\", \"count\": 285}, {\"Service Date\": \"2022-01-20T00:00:00\", \"count\": 171}, {\"Service Date\": \"2022-04-30T00:00:00\", \"count\": 195}, {\"Service Date\": \"2023-12-28T00:00:00\", \"count\": 257}, {\"Service Date\": \"2024-02-05T00:00:00\", \"count\": 260}, {\"Service Date\": \"2024-06-12T00:00:00\", \"count\": 383}, {\"Service Date\": \"2024-02-17T00:00:00\", \"count\": 300}, {\"Service Date\": \"2023-08-22T00:00:00\", \"count\": 166}, {\"Service Date\": \"2022-02-21T00:00:00\", \"count\": 234}, {\"Service Date\": \"2022-03-09T00:00:00\", \"count\": 219}, {\"Service Date\": \"2022-11-10T00:00:00\", \"count\": 320}, {\"Service Date\": \"2023-06-01T00:00:00\", \"count\": 173}, {\"Service Date\": \"2024-01-21T00:00:00\", \"count\": 167}, {\"Service Date\": \"2022-10-09T00:00:00\", \"count\": 347}, {\"Service Date\": \"2023-09-19T00:00:00\", \"count\": 324}, {\"Service Date\": \"2022-11-27T00:00:00\", \"count\": 196}, {\"Service Date\": \"2024-07-06T00:00:00\", \"count\": 222}, {\"Service Date\": \"2023-07-06T00:00:00\", \"count\": 199}, {\"Service Date\": \"2023-11-27T00:00:00\", \"count\": 158}, {\"Service Date\": \"2022-03-11T00:00:00\", \"count\": 181}, {\"Service Date\": \"2024-05-18T00:00:00\", \"count\": 310}, {\"Service Date\": \"2022-07-26T00:00:00\", \"count\": 312}, {\"Service Date\": \"2024-10-08T00:00:00\", \"count\": 349}, {\"Service Date\": \"2021-12-10T00:00:00\", \"count\": 37}, {\"Service Date\": \"2022-07-05T00:00:00\", \"count\": 156}, {\"Service Date\": \"2021-12-23T00:00:00\", \"count\": 65}, {\"Service Date\": \"2023-09-30T00:00:00\", \"count\": 245}, {\"Service Date\": \"2024-01-06T00:00:00\", \"count\": 211}, {\"Service Date\": \"2024-03-20T00:00:00\", \"count\": 222}, {\"Service Date\": \"2023-11-20T00:00:00\", \"count\": 400}, {\"Service Date\": \"2024-02-21T00:00:00\", \"count\": 219}, {\"Service Date\": \"2024-02-27T00:00:00\", \"count\": 239}, {\"Service Date\": \"2022-04-16T00:00:00\", \"count\": 198}, {\"Service Date\": \"2024-04-10T00:00:00\", \"count\": 301}, {\"Service Date\": \"2024-04-07T00:00:00\", \"count\": 255}, {\"Service Date\": \"2022-05-13T00:00:00\", \"count\": 201}, {\"Service Date\": \"2023-02-12T00:00:00\", \"count\": 307}, {\"Service Date\": \"2023-12-31T00:00:00\", \"count\": 201}, {\"Service Date\": \"2023-12-09T00:00:00\", \"count\": 178}, {\"Service Date\": \"2022-05-18T00:00:00\", \"count\": 218}, {\"Service Date\": \"2022-12-16T00:00:00\", \"count\": 189}, {\"Service Date\": \"2024-01-15T00:00:00\", \"count\": 249}, {\"Service Date\": \"2024-03-24T00:00:00\", \"count\": 229}, {\"Service Date\": \"2024-06-21T00:00:00\", \"count\": 266}, {\"Service Date\": \"2024-12-11T00:00:00\", \"count\": 84}, {\"Service Date\": \"2024-12-13T00:00:00\", \"count\": 39}, {\"Service Date\": \"2024-03-12T00:00:00\", \"count\": 159}, {\"Service Date\": \"2022-05-25T00:00:00\", \"count\": 186}, {\"Service Date\": \"2023-08-24T00:00:00\", \"count\": 207}, {\"Service Date\": \"2024-08-27T00:00:00\", \"count\": 260}, {\"Service Date\": \"2022-09-28T00:00:00\", \"count\": 258}, {\"Service Date\": \"2024-11-30T00:00:00\", \"count\": 133}, {\"Service Date\": \"2021-12-03T00:00:00\", \"count\": 1}, {\"Service Date\": \"2024-09-24T00:00:00\", \"count\": 282}, {\"Service Date\": \"2022-07-10T00:00:00\", \"count\": 160}, {\"Service Date\": \"2022-10-07T00:00:00\", \"count\": 255}, {\"Service Date\": \"2024-07-09T00:00:00\", \"count\": 258}, {\"Service Date\": \"2022-03-25T00:00:00\", \"count\": 194}, {\"Service Date\": \"2024-06-26T00:00:00\", \"count\": 380}, {\"Service Date\": \"2024-11-16T00:00:00\", \"count\": 228}, {\"Service Date\": \"2023-01-03T00:00:00\", \"count\": 209}, {\"Service Date\": \"2022-11-03T00:00:00\", \"count\": 261}, {\"Service Date\": \"2023-01-25T00:00:00\", \"count\": 233}, {\"Service Date\": \"2022-03-21T00:00:00\", \"count\": 185}, {\"Service Date\": \"2024-07-23T00:00:00\", \"count\": 280}, {\"Service Date\": \"2022-04-06T00:00:00\", \"count\": 248}, {\"Service Date\": \"2022-06-28T00:00:00\", \"count\": 231}, {\"Service Date\": \"2022-01-26T00:00:00\", \"count\": 306}, {\"Service Date\": \"2022-01-11T00:00:00\", \"count\": 184}, {\"Service Date\": \"2023-09-28T00:00:00\", \"count\": 179}, {\"Service Date\": \"2023-10-15T00:00:00\", \"count\": 268}, {\"Service Date\": \"2024-08-30T00:00:00\", \"count\": 282}, {\"Service Date\": \"2021-12-21T00:00:00\", \"count\": 87}, {\"Service Date\": \"2024-05-25T00:00:00\", \"count\": 287}, {\"Service Date\": \"2022-08-23T00:00:00\", \"count\": 180}, {\"Service Date\": \"2022-05-04T00:00:00\", \"count\": 214}, {\"Service Date\": \"2023-06-28T00:00:00\", \"count\": 278}, {\"Service Date\": \"2024-03-11T00:00:00\", \"count\": 248}, {\"Service Date\": \"2022-01-21T00:00:00\", \"count\": 135}, {\"Service Date\": \"2022-01-16T00:00:00\", \"count\": 179}, {\"Service Date\": \"2022-07-29T00:00:00\", \"count\": 209}, {\"Service Date\": \"2023-12-04T00:00:00\", \"count\": 166}, {\"Service Date\": \"2022-12-19T00:00:00\", \"count\": 157}, {\"Service Date\": \"2024-04-04T00:00:00\", \"count\": 322}, {\"Service Date\": \"2023-11-30T00:00:00\", \"count\": 217}, {\"Service Date\": \"2022-05-23T00:00:00\", \"count\": 202}, {\"Service Date\": \"2024-05-04T00:00:00\", \"count\": 266}, {\"Service Date\": \"2022-03-29T00:00:00\", \"count\": 191}, {\"Service Date\": \"2022-08-26T00:00:00\", \"count\": 281}, {\"Service Date\": \"2022-04-03T00:00:00\", \"count\": 230}, {\"Service Date\": \"2022-07-01T00:00:00\", \"count\": 190}, {\"Service Date\": \"2022-09-19T00:00:00\", \"count\": 221}, {\"Service Date\": \"2024-06-04T00:00:00\", \"count\": 263}, {\"Service Date\": \"2024-08-31T00:00:00\", \"count\": 386}, {\"Service Date\": \"2024-09-18T00:00:00\", \"count\": 323}, {\"Service Date\": \"2023-03-03T00:00:00\", \"count\": 305}, {\"Service Date\": \"2024-09-14T00:00:00\", \"count\": 317}, {\"Service Date\": \"2023-05-28T00:00:00\", \"count\": 195}, {\"Service Date\": \"2024-04-06T00:00:00\", \"count\": 314}, {\"Service Date\": \"2023-08-26T00:00:00\", \"count\": 230}, {\"Service Date\": \"2022-04-22T00:00:00\", \"count\": 283}, {\"Service Date\": \"2024-04-09T00:00:00\", \"count\": 278}, {\"Service Date\": \"2022-08-27T00:00:00\", \"count\": 216}, {\"Service Date\": \"2022-03-30T00:00:00\", \"count\": 211}, {\"Service Date\": \"2024-04-18T00:00:00\", \"count\": 237}, {\"Service Date\": \"2024-08-06T00:00:00\", \"count\": 257}, {\"Service Date\": \"2023-04-01T00:00:00\", \"count\": 229}, {\"Service Date\": \"2022-03-07T00:00:00\", \"count\": 179}, {\"Service Date\": \"2024-06-09T00:00:00\", \"count\": 245}, {\"Service Date\": \"2024-06-02T00:00:00\", \"count\": 310}, {\"Service Date\": \"2024-03-04T00:00:00\", \"count\": 235}, {\"Service Date\": \"2023-10-20T00:00:00\", \"count\": 325}, {\"Service Date\": \"2023-05-18T00:00:00\", \"count\": 197}, {\"Service Date\": \"2022-12-29T00:00:00\", \"count\": 164}, {\"Service Date\": \"2022-03-27T00:00:00\", \"count\": 235}, {\"Service Date\": \"2023-11-29T00:00:00\", \"count\": 263}, {\"Service Date\": \"2024-03-23T00:00:00\", \"count\": 266}, {\"Service Date\": \"2024-09-05T00:00:00\", \"count\": 353}, {\"Service Date\": \"2023-04-28T00:00:00\", \"count\": 225}, {\"Service Date\": \"2024-10-30T00:00:00\", \"count\": 259}, {\"Service Date\": \"2023-03-31T00:00:00\", \"count\": 185}, {\"Service Date\": \"2023-06-20T00:00:00\", \"count\": 210}, {\"Service Date\": \"2023-08-13T00:00:00\", \"count\": 208}, {\"Service Date\": \"2022-05-12T00:00:00\", \"count\": 362}, {\"Service Date\": \"2023-02-28T00:00:00\", \"count\": 269}, {\"Service Date\": \"2024-03-31T00:00:00\", \"count\": 220}, {\"Service Date\": \"2021-12-31T00:00:00\", \"count\": 127}, {\"Service Date\": \"2023-03-13T00:00:00\", \"count\": 250}, {\"Service Date\": \"2023-11-01T00:00:00\", \"count\": 277}, {\"Service Date\": \"2024-06-11T00:00:00\", \"count\": 257}, {\"Service Date\": \"2024-12-12T00:00:00\", \"count\": 88}, {\"Service Date\": \"2022-02-07T00:00:00\", \"count\": 291}, {\"Service Date\": \"2022-03-26T00:00:00\", \"count\": 202}, {\"Service Date\": \"2022-03-15T00:00:00\", \"count\": 221}, {\"Service Date\": \"2022-06-09T00:00:00\", \"count\": 258}, {\"Service Date\": \"2022-10-23T00:00:00\", \"count\": 209}, {\"Service Date\": \"2022-12-25T00:00:00\", \"count\": 218}, {\"Service Date\": \"2024-06-23T00:00:00\", \"count\": 287}, {\"Service Date\": \"2024-07-29T00:00:00\", \"count\": 227}, {\"Service Date\": \"2024-08-02T00:00:00\", \"count\": 326}, {\"Service Date\": \"2022-02-11T00:00:00\", \"count\": 381}, {\"Service Date\": \"2022-03-12T00:00:00\", \"count\": 188}, {\"Service Date\": \"2022-07-16T00:00:00\", \"count\": 234}, {\"Service Date\": \"2024-05-30T00:00:00\", \"count\": 314}, {\"Service Date\": \"2024-11-03T00:00:00\", \"count\": 181}, {\"Service Date\": \"2023-01-28T00:00:00\", \"count\": 167}, {\"Service Date\": \"2023-11-06T00:00:00\", \"count\": 214}, {\"Service Date\": \"2023-11-08T00:00:00\", \"count\": 269}, {\"Service Date\": \"2024-07-17T00:00:00\", \"count\": 275}, {\"Service Date\": \"2024-11-06T00:00:00\", \"count\": 176}, {\"Service Date\": \"2024-01-18T00:00:00\", \"count\": 216}, {\"Service Date\": \"2023-01-22T00:00:00\", \"count\": 202}, {\"Service Date\": \"2024-07-02T00:00:00\", \"count\": 233}, {\"Service Date\": \"2023-10-03T00:00:00\", \"count\": 323}, {\"Service Date\": \"2023-05-24T00:00:00\", \"count\": 175}, {\"Service Date\": \"2022-12-03T00:00:00\", \"count\": 263}, {\"Service Date\": \"2024-10-07T00:00:00\", \"count\": 168}, {\"Service Date\": \"2024-02-28T00:00:00\", \"count\": 311}, {\"Service Date\": \"2022-06-24T00:00:00\", \"count\": 169}, {\"Service Date\": \"2021-12-04T00:00:00\", \"count\": 4}, {\"Service Date\": \"2022-06-12T00:00:00\", \"count\": 191}, {\"Service Date\": \"2022-11-09T00:00:00\", \"count\": 274}, {\"Service Date\": \"2023-03-14T00:00:00\", \"count\": 164}, {\"Service Date\": \"2024-06-14T00:00:00\", \"count\": 208}, {\"Service Date\": \"2022-10-18T00:00:00\", \"count\": 224}, {\"Service Date\": \"2023-12-05T00:00:00\", \"count\": 259}, {\"Service Date\": \"2024-11-12T00:00:00\", \"count\": 203}, {\"Service Date\": \"2023-02-15T00:00:00\", \"count\": 217}, {\"Service Date\": \"2024-09-10T00:00:00\", \"count\": 221}, {\"Service Date\": \"2023-06-24T00:00:00\", \"count\": 213}, {\"Service Date\": \"2023-02-06T00:00:00\", \"count\": 270}, {\"Service Date\": \"2024-08-09T00:00:00\", \"count\": 240}, {\"Service Date\": \"2022-06-23T00:00:00\", \"count\": 218}, {\"Service Date\": \"2024-01-25T00:00:00\", \"count\": 282}, {\"Service Date\": \"2024-08-24T00:00:00\", \"count\": 247}, {\"Service Date\": \"2024-05-11T00:00:00\", \"count\": 251}, {\"Service Date\": \"2024-05-23T00:00:00\", \"count\": 315}, {\"Service Date\": \"2023-06-30T00:00:00\", \"count\": 252}, {\"Service Date\": \"2024-12-16T00:00:00\", \"count\": 58}, {\"Service Date\": \"2022-08-09T00:00:00\", \"count\": 183}, {\"Service Date\": \"2022-05-05T00:00:00\", \"count\": 212}, {\"Service Date\": \"2024-09-07T00:00:00\", \"count\": 246}, {\"Service Date\": \"2022-11-13T00:00:00\", \"count\": 276}, {\"Service Date\": \"2022-04-14T00:00:00\", \"count\": 188}, {\"Service Date\": \"2024-06-13T00:00:00\", \"count\": 204}, {\"Service Date\": \"2023-07-12T00:00:00\", \"count\": 273}, {\"Service Date\": \"2022-11-02T00:00:00\", \"count\": 279}, {\"Service Date\": \"2024-02-01T00:00:00\", \"count\": 190}, {\"Service Date\": \"2022-11-21T00:00:00\", \"count\": 193}, {\"Service Date\": \"2023-02-20T00:00:00\", \"count\": 260}, {\"Service Date\": \"2022-12-09T00:00:00\", \"count\": 261}, {\"Service Date\": \"2023-06-15T00:00:00\", \"count\": 184}, {\"Service Date\": \"2024-02-06T00:00:00\", \"count\": 336}, {\"Service Date\": \"2023-06-05T00:00:00\", \"count\": 284}, {\"Service Date\": \"2024-04-17T00:00:00\", \"count\": 194}, {\"Service Date\": \"2022-11-01T00:00:00\", \"count\": 230}, {\"Service Date\": \"2022-11-28T00:00:00\", \"count\": 238}, {\"Service Date\": \"2024-05-15T00:00:00\", \"count\": 231}, {\"Service Date\": \"2022-03-23T00:00:00\", \"count\": 328}, {\"Service Date\": \"2024-06-08T00:00:00\", \"count\": 261}, {\"Service Date\": \"2022-10-26T00:00:00\", \"count\": 202}, {\"Service Date\": \"2024-09-15T00:00:00\", \"count\": 311}, {\"Service Date\": \"2024-09-03T00:00:00\", \"count\": 363}, {\"Service Date\": \"2024-11-18T00:00:00\", \"count\": 236}, {\"Service Date\": \"2023-07-31T00:00:00\", \"count\": 169}, {\"Service Date\": \"2024-05-14T00:00:00\", \"count\": 311}, {\"Service Date\": \"2023-04-08T00:00:00\", \"count\": 162}, {\"Service Date\": \"2024-01-13T00:00:00\", \"count\": 209}, {\"Service Date\": \"2024-11-11T00:00:00\", \"count\": 189}, {\"Service Date\": \"2022-02-10T00:00:00\", \"count\": 300}, {\"Service Date\": \"2023-09-05T00:00:00\", \"count\": 197}, {\"Service Date\": \"2023-07-22T00:00:00\", \"count\": 199}, {\"Service Date\": \"2022-12-27T00:00:00\", \"count\": 226}, {\"Service Date\": \"2022-05-10T00:00:00\", \"count\": 201}, {\"Service Date\": \"2023-04-19T00:00:00\", \"count\": 164}, {\"Service Date\": \"2022-01-31T00:00:00\", \"count\": 228}, {\"Service Date\": \"2022-10-02T00:00:00\", \"count\": 250}, {\"Service Date\": \"2023-01-15T00:00:00\", \"count\": 196}, {\"Service Date\": \"2023-03-27T00:00:00\", \"count\": 201}, {\"Service Date\": \"2022-04-09T00:00:00\", \"count\": 196}, {\"Service Date\": \"2023-04-05T00:00:00\", \"count\": 259}, {\"Service Date\": \"2024-03-05T00:00:00\", \"count\": 226}, {\"Service Date\": \"2022-11-30T00:00:00\", \"count\": 239}, {\"Service Date\": \"2023-03-22T00:00:00\", \"count\": 208}, {\"Service Date\": \"2022-01-07T00:00:00\", \"count\": 127}, {\"Service Date\": \"2022-10-05T00:00:00\", \"count\": 293}, {\"Service Date\": \"2024-04-21T00:00:00\", \"count\": 222}, {\"Service Date\": \"2024-04-24T00:00:00\", \"count\": 356}, {\"Service Date\": \"2024-07-30T00:00:00\", \"count\": 266}, {\"Service Date\": \"2024-06-30T00:00:00\", \"count\": 270}, {\"Service Date\": \"2024-08-25T00:00:00\", \"count\": 246}, {\"Service Date\": \"2024-02-02T00:00:00\", \"count\": 165}, {\"Service Date\": \"2024-10-28T00:00:00\", \"count\": 225}, {\"Service Date\": \"2024-11-02T00:00:00\", \"count\": 291}, {\"Service Date\": \"2022-07-14T00:00:00\", \"count\": 263}, {\"Service Date\": \"2023-02-04T00:00:00\", \"count\": 194}, {\"Service Date\": \"2023-06-29T00:00:00\", \"count\": 277}, {\"Service Date\": \"2023-12-10T00:00:00\", \"count\": 148}, {\"Service Date\": \"2022-09-09T00:00:00\", \"count\": 243}, {\"Service Date\": \"2024-11-29T00:00:00\", \"count\": 163}, {\"Service Date\": \"2022-10-08T00:00:00\", \"count\": 240}, {\"Service Date\": \"2023-07-10T00:00:00\", \"count\": 190}, {\"Service Date\": \"2023-03-12T00:00:00\", \"count\": 146}, {\"Service Date\": \"2022-07-07T00:00:00\", \"count\": 183}, {\"Service Date\": \"2023-02-25T00:00:00\", \"count\": 160}, {\"Service Date\": \"2023-03-08T00:00:00\", \"count\": 264}, {\"Service Date\": \"2023-11-13T00:00:00\", \"count\": 207}, {\"Service Date\": \"2023-11-09T00:00:00\", \"count\": 327}, {\"Service Date\": \"2021-12-06T00:00:00\", \"count\": 15}, {\"Service Date\": \"2024-01-04T00:00:00\", \"count\": 241}, {\"Service Date\": \"2021-12-28T00:00:00\", \"count\": 93}, {\"Service Date\": \"2022-08-01T00:00:00\", \"count\": 200}, {\"Service Date\": \"2023-02-09T00:00:00\", \"count\": 195}, {\"Service Date\": \"2023-04-25T00:00:00\", \"count\": 206}, {\"Service Date\": \"2023-08-19T00:00:00\", \"count\": 249}, {\"Service Date\": \"2022-01-22T00:00:00\", \"count\": 226}, {\"Service Date\": \"2024-09-08T00:00:00\", \"count\": 325}, {\"Service Date\": \"2024-04-26T00:00:00\", \"count\": 215}, {\"Service Date\": \"2022-03-14T00:00:00\", \"count\": 219}, {\"Service Date\": \"2022-06-15T00:00:00\", \"count\": 209}, {\"Service Date\": \"2022-03-13T00:00:00\", \"count\": 239}, {\"Service Date\": \"2022-09-15T00:00:00\", \"count\": 258}, {\"Service Date\": \"2024-08-19T00:00:00\", \"count\": 248}, {\"Service Date\": \"2024-12-08T00:00:00\", \"count\": 47}, {\"Service Date\": \"2022-09-07T00:00:00\", \"count\": 234}, {\"Service Date\": \"2022-06-21T00:00:00\", \"count\": 195}, {\"Service Date\": \"2023-01-02T00:00:00\", \"count\": 157}, {\"Service Date\": \"2022-01-06T00:00:00\", \"count\": 121}, {\"Service Date\": \"2023-08-25T00:00:00\", \"count\": 187}, {\"Service Date\": \"2022-01-27T00:00:00\", \"count\": 313}, {\"Service Date\": \"2024-03-27T00:00:00\", \"count\": 204}, {\"Service Date\": \"2021-12-05T00:00:00\", \"count\": 27}, {\"Service Date\": \"2023-05-26T00:00:00\", \"count\": 251}, {\"Service Date\": \"2023-12-14T00:00:00\", \"count\": 191}, {\"Service Date\": \"2022-04-29T00:00:00\", \"count\": 274}, {\"Service Date\": \"2022-01-08T00:00:00\", \"count\": 157}, {\"Service Date\": \"2024-04-08T00:00:00\", \"count\": 223}, {\"Service Date\": \"2022-03-19T00:00:00\", \"count\": 201}, {\"Service Date\": \"2024-08-01T00:00:00\", \"count\": 256}, {\"Service Date\": \"2024-12-20T00:00:00\", \"count\": 51}, {\"Service Date\": \"2024-12-27T00:00:00\", \"count\": 14}, {\"Service Date\": \"2022-01-14T00:00:00\", \"count\": 183}, {\"Service Date\": \"2022-09-04T00:00:00\", \"count\": 249}, {\"Service Date\": \"2023-03-01T00:00:00\", \"count\": 228}, {\"Service Date\": \"2023-07-09T00:00:00\", \"count\": 222}, {\"Service Date\": \"2024-01-31T00:00:00\", \"count\": 295}, {\"Service Date\": \"2024-10-19T00:00:00\", \"count\": 311}, {\"Service Date\": \"2022-07-03T00:00:00\", \"count\": 231}, {\"Service Date\": \"2023-08-23T00:00:00\", \"count\": 200}, {\"Service Date\": \"2023-09-08T00:00:00\", \"count\": 231}, {\"Service Date\": \"2023-12-15T00:00:00\", \"count\": 266}, {\"Service Date\": \"2023-03-26T00:00:00\", \"count\": 270}, {\"Service Date\": \"2022-12-18T00:00:00\", \"count\": 192}, {\"Service Date\": \"2024-10-26T00:00:00\", \"count\": 293}, {\"Service Date\": \"2023-01-24T00:00:00\", \"count\": 238}, {\"Service Date\": \"2023-04-12T00:00:00\", \"count\": 319}, {\"Service Date\": \"2022-10-24T00:00:00\", \"count\": 261}, {\"Service Date\": \"2024-08-12T00:00:00\", \"count\": 279}, {\"Service Date\": \"2023-04-21T00:00:00\", \"count\": 236}, {\"Service Date\": \"2023-09-07T00:00:00\", \"count\": 253}, {\"Service Date\": \"2023-07-16T00:00:00\", \"count\": 219}, {\"Service Date\": \"2023-06-08T00:00:00\", \"count\": 154}, {\"Service Date\": \"2022-12-23T00:00:00\", \"count\": 212}, {\"Service Date\": \"2024-11-19T00:00:00\", \"count\": 139}, {\"Service Date\": \"2024-07-16T00:00:00\", \"count\": 197}, {\"Service Date\": \"2024-09-16T00:00:00\", \"count\": 296}, {\"Service Date\": \"2023-10-01T00:00:00\", \"count\": 378}, {\"Service Date\": \"2022-01-15T00:00:00\", \"count\": 164}, {\"Service Date\": \"2022-11-06T00:00:00\", \"count\": 267}, {\"Service Date\": \"2022-09-30T00:00:00\", \"count\": 353}, {\"Service Date\": \"2023-06-02T00:00:00\", \"count\": 283}, {\"Service Date\": \"2024-05-27T00:00:00\", \"count\": 356}, {\"Service Date\": \"2024-02-07T00:00:00\", \"count\": 235}, {\"Service Date\": \"2022-10-30T00:00:00\", \"count\": 254}, {\"Service Date\": \"2024-03-28T00:00:00\", \"count\": 281}, {\"Service Date\": \"2025-01-02T00:00:00\", \"count\": 2}, {\"Service Date\": \"2022-03-10T00:00:00\", \"count\": 207}, {\"Service Date\": \"2024-12-25T00:00:00\", \"count\": 24}, {\"Service Date\": \"2022-07-17T00:00:00\", \"count\": 168}, {\"Service Date\": \"2023-02-22T00:00:00\", \"count\": 235}, {\"Service Date\": \"2023-08-01T00:00:00\", \"count\": 232}, {\"Service Date\": \"2023-12-13T00:00:00\", \"count\": 237}, {\"Service Date\": \"2022-11-07T00:00:00\", \"count\": 227}, {\"Service Date\": \"2022-11-22T00:00:00\", \"count\": 185}, {\"Service Date\": \"2023-10-14T00:00:00\", \"count\": 187}, {\"Service Date\": \"2024-02-10T00:00:00\", \"count\": 233}, {\"Service Date\": \"2023-01-14T00:00:00\", \"count\": 203}, {\"Service Date\": \"2023-10-29T00:00:00\", \"count\": 273}, {\"Service Date\": \"2024-06-07T00:00:00\", \"count\": 201}, {\"Service Date\": \"2024-07-25T00:00:00\", \"count\": 240}, {\"Service Date\": \"2024-01-08T00:00:00\", \"count\": 272}, {\"Service Date\": \"2024-07-28T00:00:00\", \"count\": 293}, {\"Service Date\": \"2023-08-28T00:00:00\", \"count\": 271}, {\"Service Date\": \"2024-09-04T00:00:00\", \"count\": 312}, {\"Service Date\": \"2022-07-18T00:00:00\", \"count\": 273}, {\"Service Date\": \"2023-04-17T00:00:00\", \"count\": 223}, {\"Service Date\": \"2023-07-03T00:00:00\", \"count\": 201}, {\"Service Date\": \"2023-10-26T00:00:00\", \"count\": 315}, {\"Service Date\": \"2022-09-03T00:00:00\", \"count\": 347}, {\"Service Date\": \"2024-12-17T00:00:00\", \"count\": 73}, {\"Service Date\": \"2022-07-08T00:00:00\", \"count\": 272}, {\"Service Date\": \"2023-02-02T00:00:00\", \"count\": 183}, {\"Service Date\": \"2022-02-14T00:00:00\", \"count\": 187}, {\"Service Date\": \"2022-04-13T00:00:00\", \"count\": 255}, {\"Service Date\": \"2024-08-15T00:00:00\", \"count\": 291}, {\"Service Date\": \"2022-04-11T00:00:00\", \"count\": 201}, {\"Service Date\": \"2023-07-23T00:00:00\", \"count\": 198}, {\"Service Date\": \"2022-06-20T00:00:00\", \"count\": 221}, {\"Service Date\": \"2023-03-11T00:00:00\", \"count\": 194}, {\"Service Date\": \"2024-07-01T00:00:00\", \"count\": 250}, {\"Service Date\": \"2024-07-14T00:00:00\", \"count\": 207}, {\"Service Date\": \"2024-05-17T00:00:00\", \"count\": 297}, {\"Service Date\": \"2024-12-19T00:00:00\", \"count\": 60}, {\"Service Date\": \"2024-06-05T00:00:00\", \"count\": 220}, {\"Service Date\": \"2022-12-12T00:00:00\", \"count\": 230}, {\"Service Date\": \"2023-05-19T00:00:00\", \"count\": 200}, {\"Service Date\": \"2025-01-05T00:00:00\", \"count\": 1}, {\"Service Date\": \"2022-11-26T00:00:00\", \"count\": 234}, {\"Service Date\": \"2022-05-20T00:00:00\", \"count\": 218}, {\"Service Date\": \"2022-07-19T00:00:00\", \"count\": 242}, {\"Service Date\": \"2023-10-12T00:00:00\", \"count\": 383}, {\"Service Date\": \"2023-12-07T00:00:00\", \"count\": 215}, {\"Service Date\": \"2023-02-18T00:00:00\", \"count\": 203}, {\"Service Date\": \"2022-11-04T00:00:00\", \"count\": 218}, {\"Service Date\": \"2023-01-07T00:00:00\", \"count\": 176}, {\"Service Date\": \"2023-07-19T00:00:00\", \"count\": 214}, {\"Service Date\": \"2024-01-03T00:00:00\", \"count\": 234}, {\"Service Date\": \"2024-08-11T00:00:00\", \"count\": 200}, {\"Service Date\": \"2022-04-24T00:00:00\", \"count\": 196}, {\"Service Date\": \"2022-10-20T00:00:00\", \"count\": 228}, {\"Service Date\": \"2024-11-24T00:00:00\", \"count\": 117}, {\"Service Date\": \"2024-10-29T00:00:00\", \"count\": 204}, {\"Service Date\": \"2023-07-29T00:00:00\", \"count\": 196}, {\"Service Date\": \"2023-05-16T00:00:00\", \"count\": 233}, {\"Service Date\": \"2022-02-02T00:00:00\", \"count\": 338}, {\"Service Date\": \"2023-06-06T00:00:00\", \"count\": 183}, {\"Service Date\": \"2023-12-12T00:00:00\", \"count\": 253}, {\"Service Date\": \"2023-09-02T00:00:00\", \"count\": 259}, {\"Service Date\": \"2024-11-21T00:00:00\", \"count\": 233}, {\"Service Date\": \"2023-05-07T00:00:00\", \"count\": 152}, {\"Service Date\": \"2023-01-31T00:00:00\", \"count\": 180}, {\"Service Date\": \"2024-05-16T00:00:00\", \"count\": 331}, {\"Service Date\": \"2024-09-22T00:00:00\", \"count\": 302}, {\"Service Date\": \"2024-09-28T00:00:00\", \"count\": 342}, {\"Service Date\": \"2023-05-06T00:00:00\", \"count\": 179}, {\"Service Date\": \"2024-01-10T00:00:00\", \"count\": 286}, {\"Service Date\": \"2024-02-29T00:00:00\", \"count\": 194}, {\"Service Date\": \"2024-07-31T00:00:00\", \"count\": 290}, {\"Service Date\": \"2023-04-03T00:00:00\", \"count\": 173}, {\"Service Date\": \"2024-09-29T00:00:00\", \"count\": 309}, {\"Service Date\": \"2024-07-05T00:00:00\", \"count\": 278}, {\"Service Date\": \"2022-03-06T00:00:00\", \"count\": 251}, {\"Service Date\": \"2024-05-08T00:00:00\", \"count\": 257}, {\"Service Date\": \"2023-09-14T00:00:00\", \"count\": 177}, {\"Service Date\": \"2022-08-13T00:00:00\", \"count\": 237}, {\"Service Date\": \"2022-04-08T00:00:00\", \"count\": 210}, {\"Service Date\": \"2022-07-06T00:00:00\", \"count\": 248}, {\"Service Date\": \"2021-12-27T00:00:00\", \"count\": 106}, {\"Service Date\": \"2022-03-05T00:00:00\", \"count\": 194}, {\"Service Date\": \"2023-07-21T00:00:00\", \"count\": 215}, {\"Service Date\": \"2022-05-17T00:00:00\", \"count\": 197}, {\"Service Date\": \"2022-07-04T00:00:00\", \"count\": 192}, {\"Service Date\": \"2024-10-03T00:00:00\", \"count\": 264}, {\"Service Date\": \"2022-08-30T00:00:00\", \"count\": 272}, {\"Service Date\": \"2024-05-31T00:00:00\", \"count\": 293}, {\"Service Date\": \"2024-05-24T00:00:00\", \"count\": 203}, {\"Service Date\": \"2024-05-01T00:00:00\", \"count\": 312}, {\"Service Date\": \"2024-07-07T00:00:00\", \"count\": 243}, {\"Service Date\": \"2023-04-14T00:00:00\", \"count\": 283}, {\"Service Date\": \"2024-06-25T00:00:00\", \"count\": 254}, {\"Service Date\": \"2023-01-06T00:00:00\", \"count\": 179}, {\"Service Date\": \"2022-03-16T00:00:00\", \"count\": 225}, {\"Service Date\": \"2023-11-14T00:00:00\", \"count\": 258}, {\"Service Date\": \"2023-12-11T00:00:00\", \"count\": 331}, {\"Service Date\": \"2024-07-03T00:00:00\", \"count\": 321}, {\"Service Date\": \"2022-01-24T00:00:00\", \"count\": 141}, {\"Service Date\": \"2023-10-02T00:00:00\", \"count\": 268}, {\"Service Date\": \"2022-03-18T00:00:00\", \"count\": 193}, {\"Service Date\": \"2022-10-31T00:00:00\", \"count\": 298}, {\"Service Date\": \"2022-08-21T00:00:00\", \"count\": 203}, {\"Service Date\": \"2022-12-31T00:00:00\", \"count\": 155}, {\"Service Date\": \"2023-02-23T00:00:00\", \"count\": 251}, {\"Service Date\": \"2023-12-30T00:00:00\", \"count\": 254}, {\"Service Date\": \"2024-07-18T00:00:00\", \"count\": 180}, {\"Service Date\": \"2022-08-04T00:00:00\", \"count\": 267}, {\"Service Date\": \"2023-09-10T00:00:00\", \"count\": 209}, {\"Service Date\": \"2023-09-18T00:00:00\", \"count\": 172}, {\"Service Date\": \"2023-03-21T00:00:00\", \"count\": 236}, {\"Service Date\": \"2023-11-04T00:00:00\", \"count\": 208}, {\"Service Date\": \"2023-01-21T00:00:00\", \"count\": 141}, {\"Service Date\": \"2022-12-21T00:00:00\", \"count\": 222}, {\"Service Date\": \"2023-09-21T00:00:00\", \"count\": 210}, {\"Service Date\": \"2023-10-10T00:00:00\", \"count\": 184}, {\"Service Date\": \"2024-04-12T00:00:00\", \"count\": 272}, {\"Service Date\": \"2023-01-04T00:00:00\", \"count\": 232}, {\"Service Date\": \"2024-07-13T00:00:00\", \"count\": 231}, {\"Service Date\": \"2024-01-14T00:00:00\", \"count\": 163}, {\"Service Date\": \"2023-04-20T00:00:00\", \"count\": 228}, {\"Service Date\": \"2022-06-19T00:00:00\", \"count\": 178}, {\"Service Date\": \"2022-11-08T00:00:00\", \"count\": 312}, {\"Service Date\": \"2022-10-14T00:00:00\", \"count\": 343}, {\"Service Date\": \"2022-05-28T00:00:00\", \"count\": 202}, {\"Service Date\": \"2022-12-22T00:00:00\", \"count\": 172}, {\"Service Date\": \"2023-06-04T00:00:00\", \"count\": 230}, {\"Service Date\": \"2021-12-25T00:00:00\", \"count\": 84}, {\"Service Date\": \"2023-03-06T00:00:00\", \"count\": 200}, {\"Service Date\": \"2022-08-29T00:00:00\", \"count\": 260}, {\"Service Date\": \"2024-01-29T00:00:00\", \"count\": 229}, {\"Service Date\": \"2024-11-14T00:00:00\", \"count\": 165}, {\"Service Date\": \"2022-04-17T00:00:00\", \"count\": 208}, {\"Service Date\": \"2022-06-11T00:00:00\", \"count\": 153}, {\"Service Date\": \"2023-05-13T00:00:00\", \"count\": 198}, {\"Service Date\": \"2023-05-22T00:00:00\", \"count\": 219}, {\"Service Date\": \"2024-12-15T00:00:00\", \"count\": 34}, {\"Service Date\": \"2023-08-29T00:00:00\", \"count\": 237}, {\"Service Date\": \"2024-11-04T00:00:00\", \"count\": 236}, {\"Service Date\": \"2023-11-12T00:00:00\", \"count\": 268}, {\"Service Date\": \"2024-04-29T00:00:00\", \"count\": 331}, {\"Service Date\": \"2021-12-13T00:00:00\", \"count\": 21}, {\"Service Date\": \"2022-07-25T00:00:00\", \"count\": 177}, {\"Service Date\": \"2023-05-14T00:00:00\", \"count\": 289}, {\"Service Date\": \"2022-01-05T00:00:00\", \"count\": 181}, {\"Service Date\": \"2022-04-15T00:00:00\", \"count\": 227}, {\"Service Date\": \"2023-03-24T00:00:00\", \"count\": 219}, {\"Service Date\": \"2024-03-07T00:00:00\", \"count\": 271}, {\"Service Date\": \"2022-09-25T00:00:00\", \"count\": 243}, {\"Service Date\": \"2023-05-10T00:00:00\", \"count\": 143}, {\"Service Date\": \"2024-01-17T00:00:00\", \"count\": 309}, {\"Service Date\": \"2022-12-14T00:00:00\", \"count\": 232}, {\"Service Date\": \"2024-10-01T00:00:00\", \"count\": 274}, {\"Service Date\": \"2024-10-21T00:00:00\", \"count\": 304}, {\"Service Date\": \"2024-11-13T00:00:00\", \"count\": 235}, {\"Service Date\": \"2022-08-05T00:00:00\", \"count\": 247}, {\"Service Date\": \"2023-05-11T00:00:00\", \"count\": 206}, {\"Service Date\": \"2022-12-05T00:00:00\", \"count\": 206}, {\"Service Date\": \"2022-05-06T00:00:00\", \"count\": 230}, {\"Service Date\": \"2023-12-21T00:00:00\", \"count\": 214}, {\"Service Date\": \"2022-11-29T00:00:00\", \"count\": 252}, {\"Service Date\": \"2024-01-11T00:00:00\", \"count\": 228}, {\"Service Date\": \"2022-04-10T00:00:00\", \"count\": 210}, {\"Service Date\": \"2024-11-09T00:00:00\", \"count\": 230}, {\"Service Date\": \"2024-08-16T00:00:00\", \"count\": 247}, {\"Service Date\": \"2022-06-29T00:00:00\", \"count\": 218}, {\"Service Date\": \"2022-03-17T00:00:00\", \"count\": 206}, {\"Service Date\": \"2024-04-30T00:00:00\", \"count\": 281}, {\"Service Date\": \"2022-07-23T00:00:00\", \"count\": 239}, {\"Service Date\": \"2023-04-23T00:00:00\", \"count\": 210}, {\"Service Date\": \"2022-10-01T00:00:00\", \"count\": 224}, {\"Service Date\": \"2022-09-05T00:00:00\", \"count\": 218}, {\"Service Date\": \"2022-04-07T00:00:00\", \"count\": 205}, {\"Service Date\": \"2024-02-22T00:00:00\", \"count\": 221}, {\"Service Date\": \"2022-06-10T00:00:00\", \"count\": 258}, {\"Service Date\": \"2022-05-07T00:00:00\", \"count\": 270}, {\"Service Date\": \"2022-12-13T00:00:00\", \"count\": 223}, {\"Service Date\": \"2023-09-25T00:00:00\", \"count\": 211}, {\"Service Date\": \"2022-03-08T00:00:00\", \"count\": 191}, {\"Service Date\": \"2024-10-22T00:00:00\", \"count\": 272}, {\"Service Date\": \"2022-01-29T00:00:00\", \"count\": 284}, {\"Service Date\": \"2024-11-28T00:00:00\", \"count\": 132}, {\"Service Date\": \"2023-02-07T00:00:00\", \"count\": 274}, {\"Service Date\": \"2024-03-18T00:00:00\", \"count\": 179}, {\"Service Date\": \"2022-05-19T00:00:00\", \"count\": 171}, {\"Service Date\": \"2023-08-10T00:00:00\", \"count\": 176}, {\"Service Date\": \"2022-08-20T00:00:00\", \"count\": 232}, {\"Service Date\": \"2023-10-18T00:00:00\", \"count\": 340}, {\"Service Date\": \"2022-10-12T00:00:00\", \"count\": 265}, {\"Service Date\": \"2024-05-07T00:00:00\", \"count\": 242}, {\"Service Date\": \"2023-05-03T00:00:00\", \"count\": 207}, {\"Service Date\": \"2022-07-13T00:00:00\", \"count\": 211}, {\"Service Date\": \"2023-06-25T00:00:00\", \"count\": 186}, {\"Service Date\": \"2023-11-15T00:00:00\", \"count\": 285}, {\"Service Date\": \"2022-05-09T00:00:00\", \"count\": 247}, {\"Service Date\": \"2022-12-10T00:00:00\", \"count\": 238}, {\"Service Date\": \"2023-11-16T00:00:00\", \"count\": 173}, {\"Service Date\": \"2022-01-18T00:00:00\", \"count\": 167}, {\"Service Date\": \"2024-06-06T00:00:00\", \"count\": 408}, {\"Service Date\": \"2023-09-03T00:00:00\", \"count\": 153}, {\"Service Date\": \"2022-05-11T00:00:00\", \"count\": 227}, {\"Service Date\": \"2023-03-07T00:00:00\", \"count\": 206}, {\"Service Date\": \"2023-11-23T00:00:00\", \"count\": 284}, {\"Service Date\": \"2024-01-07T00:00:00\", \"count\": 198}]}}, {\"mode\": \"vega-lite\"});\n",
       "</script>"
      ],
      "text/plain": [
       "alt.Chart(...)"
      ]
     },
     "metadata": {},
     "output_type": "display_data"
    }
   ],
   "source": [
    "chart = alt.Chart(service_date_counts.to_pandas()).mark_bar().encode(\n",
    "    x=\"Service Date\",\n",
    "    y=\"count\"\n",
    ").properties(\n",
    "    width=800,  # Set the width of the chart\n",
    "    height=600  # Set the height of the chart\n",
    ")\n",
    "\n",
    "chart.display()\n"
   ]
  },
  {
   "cell_type": "code",
   "execution_count": 303,
   "metadata": {},
   "outputs": [
    {
     "data": {
      "application/vnd.plotly.v1+json": {
       "config": {
        "plotlyServerURL": "https://plot.ly"
       },
       "data": [
        {
         "alignmentgroup": "True",
         "hovertemplate": "Service Date=%{x}<br>count=%{y}<extra></extra>",
         "legendgroup": "",
         "marker": {
          "color": "#000000",
          "pattern": {
           "shape": ""
          }
         },
         "name": "",
         "offsetgroup": "",
         "orientation": "v",
         "showlegend": false,
         "textposition": "auto",
         "type": "bar",
         "x": [
          "2023-06-23T00:00:00",
          "2022-01-02T00:00:00",
          "2022-04-04T00:00:00",
          "2022-08-07T00:00:00",
          "2024-08-23T00:00:00",
          "2023-10-19T00:00:00",
          "2023-03-19T00:00:00",
          "2024-02-12T00:00:00",
          "2022-04-02T00:00:00",
          "2022-06-17T00:00:00",
          "2022-02-17T00:00:00",
          "2023-06-07T00:00:00",
          "2024-04-23T00:00:00",
          "2024-08-22T00:00:00",
          "2022-07-20T00:00:00",
          "2023-04-26T00:00:00",
          "2024-02-18T00:00:00",
          "2023-09-01T00:00:00",
          "2022-11-14T00:00:00",
          "2023-08-15T00:00:00",
          "2023-10-16T00:00:00",
          "2024-01-26T00:00:00",
          "2021-12-19T00:00:00",
          "2022-04-01T00:00:00",
          "2024-05-20T00:00:00",
          "2022-12-17T00:00:00",
          "2023-09-04T00:00:00",
          "2024-05-03T00:00:00",
          "2024-12-02T00:00:00",
          "2022-07-15T00:00:00",
          "2023-02-17T00:00:00",
          "2024-06-16T00:00:00",
          "2022-04-05T00:00:00",
          "2022-10-13T00:00:00",
          "2023-02-08T00:00:00",
          "2024-01-22T00:00:00",
          "2022-04-23T00:00:00",
          "2023-11-11T00:00:00",
          "2024-08-08T00:00:00",
          "2024-08-28T00:00:00",
          "2023-11-25T00:00:00",
          "2024-02-09T00:00:00",
          "2024-08-14T00:00:00",
          "2022-09-26T00:00:00",
          "2022-09-20T00:00:00",
          "2022-09-10T00:00:00",
          "2023-01-30T00:00:00",
          "2022-03-24T00:00:00",
          "2023-02-14T00:00:00",
          "2022-08-16T00:00:00",
          "2023-12-02T00:00:00",
          "2023-08-04T00:00:00",
          "2022-08-15T00:00:00",
          "2023-03-15T00:00:00",
          "2023-10-22T00:00:00",
          "2023-12-24T00:00:00",
          "2024-03-10T00:00:00",
          "2024-03-16T00:00:00",
          "2022-07-09T00:00:00",
          "2023-07-08T00:00:00",
          "2022-02-25T00:00:00",
          "2023-10-04T00:00:00",
          "2023-01-27T00:00:00",
          "2022-11-15T00:00:00",
          "2022-08-10T00:00:00",
          "2023-08-08T00:00:00",
          "2023-09-20T00:00:00",
          "2023-06-16T00:00:00",
          "2024-05-06T00:00:00",
          "2022-02-24T00:00:00",
          "2022-03-04T00:00:00",
          "2023-11-07T00:00:00",
          "2022-10-03T00:00:00",
          "2022-05-29T00:00:00",
          "2023-01-05T00:00:00",
          "2024-06-24T00:00:00",
          "2022-01-19T00:00:00",
          "2022-06-14T00:00:00",
          "2023-11-03T00:00:00",
          "2022-06-02T00:00:00",
          "2023-10-30T00:00:00",
          "2024-01-16T00:00:00",
          "2024-07-10T00:00:00",
          "2022-04-27T00:00:00",
          "2024-07-08T00:00:00",
          "2022-09-24T00:00:00",
          "2022-11-18T00:00:00",
          "2023-05-30T00:00:00",
          "2023-06-13T00:00:00",
          "2022-05-16T00:00:00",
          "2023-10-09T00:00:00",
          "2024-01-28T00:00:00",
          "2024-09-12T00:00:00",
          "2023-06-10T00:00:00",
          "2024-08-29T00:00:00",
          "2022-05-24T00:00:00",
          "2023-08-17T00:00:00",
          "2024-01-27T00:00:00",
          "2023-09-23T00:00:00",
          "2024-12-01T00:00:00",
          "2023-12-29T00:00:00",
          "2023-12-08T00:00:00",
          "2022-04-25T00:00:00",
          "2022-12-07T00:00:00",
          "2023-11-02T00:00:00",
          "2024-09-02T00:00:00",
          "2025-01-01T00:00:00",
          "2024-11-17T00:00:00",
          "2022-12-15T00:00:00",
          "2023-05-31T00:00:00",
          "2024-12-07T00:00:00",
          "2022-05-21T00:00:00",
          "2023-05-05T00:00:00",
          "2024-05-05T00:00:00",
          "2024-06-03T00:00:00",
          "2022-01-30T00:00:00",
          "2022-08-12T00:00:00",
          "2022-11-17T00:00:00",
          "2022-10-29T00:00:00",
          "2023-03-25T00:00:00",
          "2023-07-18T00:00:00",
          "2023-04-22T00:00:00",
          "2022-08-11T00:00:00",
          "2023-12-06T00:00:00",
          "2023-04-18T00:00:00",
          "2022-09-06T00:00:00",
          "2023-03-23T00:00:00",
          "2022-06-18T00:00:00",
          "2022-11-11T00:00:00",
          "2023-08-12T00:00:00",
          "2024-09-27T00:00:00",
          "2022-06-25T00:00:00",
          "2023-05-08T00:00:00",
          "2023-07-25T00:00:00",
          "2024-04-28T00:00:00",
          "2024-03-15T00:00:00",
          "2024-11-20T00:00:00",
          "2022-09-18T00:00:00",
          "2021-12-22T00:00:00",
          "2024-02-20T00:00:00",
          "2022-06-30T00:00:00",
          "2022-10-21T00:00:00",
          "2022-04-20T00:00:00",
          "2023-08-30T00:00:00",
          "2024-01-09T00:00:00",
          "2024-02-13T00:00:00",
          "2023-10-08T00:00:00",
          "2023-01-13T00:00:00",
          "2021-12-24T00:00:00",
          "2022-10-17T00:00:00",
          "2024-10-05T00:00:00",
          "2023-09-27T00:00:00",
          "2024-01-02T00:00:00",
          "2024-04-03T00:00:00",
          "2024-09-06T00:00:00",
          "2023-03-20T00:00:00",
          "2022-10-10T00:00:00",
          "2022-09-13T00:00:00",
          "2022-09-14T00:00:00",
          "2024-01-23T00:00:00",
          "2024-11-26T00:00:00",
          "2024-12-29T00:00:00",
          "2023-04-15T00:00:00",
          "2022-03-01T00:00:00",
          "2024-11-05T00:00:00",
          "2023-10-31T00:00:00",
          "2024-05-29T00:00:00",
          "2024-02-08T00:00:00",
          "2024-04-01T00:00:00",
          "2024-10-23T00:00:00",
          "2022-06-01T00:00:00",
          "2024-08-05T00:00:00",
          "2024-03-19T00:00:00",
          "2024-04-02T00:00:00",
          "2024-05-28T00:00:00",
          "2021-12-29T00:00:00",
          "2024-08-26T00:00:00",
          "2022-06-16T00:00:00",
          "2022-11-16T00:00:00",
          "2022-05-22T00:00:00",
          "2023-07-05T00:00:00",
          "2023-12-20T00:00:00",
          "2023-03-29T00:00:00",
          "2024-02-25T00:00:00",
          "2024-02-24T00:00:00",
          "2024-07-26T00:00:00",
          "2022-01-28T00:00:00",
          "2024-09-17T00:00:00",
          "2021-12-18T00:00:00",
          "2022-01-12T00:00:00",
          "2023-07-20T00:00:00",
          "2023-11-22T00:00:00",
          "2022-10-27T00:00:00",
          "2023-01-19T00:00:00",
          "2023-09-24T00:00:00",
          "2024-06-17T00:00:00",
          "2022-12-04T00:00:00",
          "2024-03-30T00:00:00",
          "2024-03-26T00:00:00",
          "2022-07-21T00:00:00",
          "2024-10-10T00:00:00",
          "2022-01-04T00:00:00",
          "2023-10-21T00:00:00",
          "2023-01-01T00:00:00",
          "2023-03-18T00:00:00",
          "2022-11-12T00:00:00",
          "2023-07-01T00:00:00",
          "2023-04-27T00:00:00",
          "2024-07-04T00:00:00",
          "2023-08-18T00:00:00",
          "2023-02-21T00:00:00",
          "2022-02-23T00:00:00",
          "2022-10-28T00:00:00",
          "2023-08-31T00:00:00",
          "2024-06-22T00:00:00",
          "2023-03-30T00:00:00",
          "2022-02-13T00:00:00",
          "2024-02-19T00:00:00",
          "2022-04-26T00:00:00",
          "2023-12-22T00:00:00",
          "2023-07-27T00:00:00",
          "2022-07-11T00:00:00",
          "2023-03-02T00:00:00",
          "2024-04-27T00:00:00",
          "2022-02-04T00:00:00",
          "2023-05-09T00:00:00",
          "2023-04-24T00:00:00",
          "2023-05-27T00:00:00",
          "2022-06-06T00:00:00",
          "2023-12-01T00:00:00",
          "2024-04-22T00:00:00",
          "2023-03-04T00:00:00",
          "2024-06-18T00:00:00",
          "2024-03-09T00:00:00",
          "2024-04-13T00:00:00",
          "2024-02-16T00:00:00",
          "2023-07-13T00:00:00",
          "2022-01-25T00:00:00",
          "2022-06-03T00:00:00",
          "2024-06-19T00:00:00",
          "2024-10-16T00:00:00",
          "2022-12-26T00:00:00",
          "2022-02-16T00:00:00",
          "2022-06-05T00:00:00",
          "2022-09-27T00:00:00",
          "2023-03-10T00:00:00",
          "2023-05-02T00:00:00",
          "2023-05-29T00:00:00",
          "2023-11-24T00:00:00",
          "2022-08-18T00:00:00",
          "2022-07-02T00:00:00",
          "2023-08-27T00:00:00",
          "2023-12-27T00:00:00",
          "2023-10-23T00:00:00",
          "2024-06-15T00:00:00",
          "2024-07-21T00:00:00",
          "2022-12-20T00:00:00",
          "2023-04-10T00:00:00",
          "2024-06-27T00:00:00",
          "2023-12-26T00:00:00",
          "2024-12-04T00:00:00",
          "2023-07-02T00:00:00",
          "2024-07-19T00:00:00",
          "2023-09-15T00:00:00",
          "2023-06-26T00:00:00",
          "2024-10-13T00:00:00",
          "2023-03-09T00:00:00",
          "2023-11-28T00:00:00",
          "2024-01-20T00:00:00",
          "2023-01-16T00:00:00",
          "2023-05-04T00:00:00",
          "2023-08-21T00:00:00",
          "2023-09-29T00:00:00",
          "2021-12-20T00:00:00",
          "2022-02-08T00:00:00",
          "2022-05-27T00:00:00",
          "2023-06-21T00:00:00",
          "2023-10-17T00:00:00",
          "2023-02-05T00:00:00",
          "2021-12-17T00:00:00",
          "2022-08-08T00:00:00",
          "2023-03-05T00:00:00",
          "2024-09-19T00:00:00",
          "2023-10-25T00:00:00",
          "2022-08-28T00:00:00",
          "2022-07-28T00:00:00",
          "2024-05-19T00:00:00",
          "2023-01-12T00:00:00",
          "2022-08-02T00:00:00",
          "2024-10-06T00:00:00",
          "2024-12-18T00:00:00",
          "2022-01-17T00:00:00",
          "2023-08-16T00:00:00",
          "2022-12-01T00:00:00",
          "2024-05-12T00:00:00",
          "2022-01-10T00:00:00",
          "2023-05-12T00:00:00",
          "2024-11-08T00:00:00",
          "2023-09-16T00:00:00",
          "2022-08-24T00:00:00",
          "2023-05-25T00:00:00",
          "2022-11-19T00:00:00",
          "2024-11-10T00:00:00",
          "2023-10-28T00:00:00",
          "2023-04-13T00:00:00",
          "2024-10-25T00:00:00",
          "2024-12-30T00:00:00",
          "2024-11-22T00:00:00",
          "2022-09-17T00:00:00",
          "2023-06-27T00:00:00",
          "2024-08-13T00:00:00",
          "2023-09-12T00:00:00",
          "2023-12-18T00:00:00",
          "2022-09-22T00:00:00",
          "2022-04-21T00:00:00",
          "2024-09-23T00:00:00",
          "2024-03-01T00:00:00",
          "2022-02-03T00:00:00",
          "2023-11-17T00:00:00",
          "2024-05-02T00:00:00",
          "2024-02-03T00:00:00",
          "2022-02-01T00:00:00",
          "2022-04-18T00:00:00",
          "2022-07-31T00:00:00",
          "2023-06-22T00:00:00",
          "2024-02-14T00:00:00",
          "2024-04-20T00:00:00",
          "2024-06-28T00:00:00",
          "2022-12-02T00:00:00",
          "2024-08-18T00:00:00",
          "2024-09-13T00:00:00",
          "2022-09-12T00:00:00",
          "2024-12-03T00:00:00",
          "2022-10-22T00:00:00",
          "2021-12-30T00:00:00",
          "2022-12-08T00:00:00",
          "2023-04-07T00:00:00",
          "2022-06-08T00:00:00",
          "2024-03-17T00:00:00",
          "2022-08-19T00:00:00",
          "2022-05-03T00:00:00",
          "2024-10-31T00:00:00",
          "2023-01-23T00:00:00",
          "2023-09-09T00:00:00",
          "2022-05-02T00:00:00",
          "2022-08-14T00:00:00",
          "2023-06-14T00:00:00",
          "2022-08-25T00:00:00",
          "2022-09-11T00:00:00",
          "2023-02-27T00:00:00",
          "2022-10-15T00:00:00",
          "2025-01-04T00:00:00",
          "2023-02-13T00:00:00",
          "2024-04-25T00:00:00",
          "2022-05-30T00:00:00",
          "2022-06-27T00:00:00",
          "2024-12-09T00:00:00",
          "2022-05-31T00:00:00",
          "2022-02-18T00:00:00",
          "2023-06-19T00:00:00",
          "2023-07-17T00:00:00",
          "2023-05-21T00:00:00",
          "2023-12-03T00:00:00",
          "2024-08-21T00:00:00",
          "2024-10-15T00:00:00",
          "2024-12-14T00:00:00",
          "2023-10-11T00:00:00",
          "2024-05-10T00:00:00",
          "2024-12-21T00:00:00",
          "2023-02-16T00:00:00",
          "2023-07-14T00:00:00",
          "2022-03-02T00:00:00",
          "2023-05-20T00:00:00",
          "2023-08-06T00:00:00",
          "2022-09-16T00:00:00",
          "2022-11-05T00:00:00",
          "2022-12-24T00:00:00",
          "2024-11-27T00:00:00",
          "2024-08-07T00:00:00",
          "2024-06-01T00:00:00",
          "2022-09-02T00:00:00",
          "2024-10-02T00:00:00",
          "2024-08-04T00:00:00",
          "2023-08-14T00:00:00",
          "2022-02-22T00:00:00",
          "2022-06-22T00:00:00",
          "2023-07-28T00:00:00",
          "2022-05-15T00:00:00",
          "2022-12-28T00:00:00",
          "2023-12-16T00:00:00",
          "2022-08-03T00:00:00",
          "2023-06-03T00:00:00",
          "2024-10-24T00:00:00",
          "2022-03-03T00:00:00",
          "2023-11-26T00:00:00",
          "2023-08-07T00:00:00",
          "2025-01-03T00:00:00",
          "2022-07-24T00:00:00",
          "2024-03-14T00:00:00",
          "2024-09-25T00:00:00",
          "2024-04-14T00:00:00",
          "2022-08-17T00:00:00",
          "2024-03-03T00:00:00",
          "2024-02-26T00:00:00",
          "2022-09-01T00:00:00",
          "2022-06-26T00:00:00",
          "2023-01-08T00:00:00",
          "2023-06-17T00:00:00",
          "2024-07-15T00:00:00",
          "2023-07-26T00:00:00",
          "2024-10-20T00:00:00",
          "2022-02-26T00:00:00",
          "2024-11-25T00:00:00",
          "2022-11-20T00:00:00",
          "2024-12-23T00:00:00",
          "2024-12-31T00:00:00",
          "2023-10-06T00:00:00",
          "2024-09-26T00:00:00",
          "2021-12-15T00:00:00",
          "2022-10-16T00:00:00",
          "2023-10-27T00:00:00",
          "2024-12-05T00:00:00",
          "2024-04-16T00:00:00",
          "2024-07-24T00:00:00",
          "2023-08-11T00:00:00",
          "2022-12-30T00:00:00",
          "2024-01-24T00:00:00",
          "2024-12-22T00:00:00",
          "2024-07-22T00:00:00",
          "2023-11-19T00:00:00",
          "2023-05-23T00:00:00",
          "2023-07-11T00:00:00",
          "2022-04-19T00:00:00",
          "2022-05-08T00:00:00",
          "2024-05-22T00:00:00",
          "2021-12-08T00:00:00",
          "2024-09-20T00:00:00",
          "2024-12-26T00:00:00",
          "2023-01-20T00:00:00",
          "2023-07-07T00:00:00",
          "2022-07-22T00:00:00",
          "2021-12-12T00:00:00",
          "2022-09-23T00:00:00",
          "2023-09-17T00:00:00",
          "2023-11-10T00:00:00",
          "2024-09-30T00:00:00",
          "2021-12-16T00:00:00",
          "2023-02-11T00:00:00",
          "2024-11-15T00:00:00",
          "2022-10-19T00:00:00",
          "2023-04-16T00:00:00",
          "2024-10-17T00:00:00",
          "2022-02-15T00:00:00",
          "2022-09-21T00:00:00",
          "2022-06-07T00:00:00",
          "2024-03-08T00:00:00",
          "2024-04-11T00:00:00",
          "2024-08-20T00:00:00",
          "2021-12-26T00:00:00",
          "2024-12-28T00:00:00",
          "2024-10-12T00:00:00",
          "2022-07-30T00:00:00",
          "2022-02-09T00:00:00",
          "2022-02-19T00:00:00",
          "2022-09-08T00:00:00",
          "2023-04-04T00:00:00",
          "2023-12-19T00:00:00",
          "2024-05-13T00:00:00",
          "2024-06-10T00:00:00",
          "2024-11-23T00:00:00",
          "2023-04-11T00:00:00",
          "2023-07-30T00:00:00",
          "2023-06-12T00:00:00",
          "2023-06-18T00:00:00",
          "2022-12-11T00:00:00",
          "2022-10-11T00:00:00",
          "2023-05-17T00:00:00",
          "2023-04-02T00:00:00",
          "2024-03-22T00:00:00",
          "2023-06-11T00:00:00",
          "2024-08-03T00:00:00",
          "2023-02-10T00:00:00",
          "2023-08-05T00:00:00",
          "2024-05-21T00:00:00",
          "2022-03-22T00:00:00",
          "2023-12-25T00:00:00",
          "2023-09-13T00:00:00",
          "2023-04-09T00:00:00",
          "2024-01-05T00:00:00",
          "2023-06-09T00:00:00",
          "2024-09-09T00:00:00",
          "2023-10-13T00:00:00",
          "2023-03-28T00:00:00",
          "2022-05-26T00:00:00",
          "2023-04-30T00:00:00",
          "2024-07-11T00:00:00",
          "2023-01-09T00:00:00",
          "2023-02-03T00:00:00",
          "2024-08-17T00:00:00",
          "2023-08-09T00:00:00",
          "2023-11-05T00:00:00",
          "2022-02-12T00:00:00",
          "2024-02-04T00:00:00",
          "2023-01-26T00:00:00",
          "2023-07-04T00:00:00",
          "2023-01-18T00:00:00",
          "2022-12-06T00:00:00",
          "2024-08-10T00:00:00",
          "2023-02-26T00:00:00",
          "2022-02-06T00:00:00",
          "2024-10-11T00:00:00",
          "2024-03-02T00:00:00",
          "2024-03-13T00:00:00",
          "2024-05-09T00:00:00",
          "2022-06-04T00:00:00",
          "2022-10-04T00:00:00",
          "2023-09-22T00:00:00",
          "2023-11-18T00:00:00",
          "2022-01-13T00:00:00",
          "2024-12-24T00:00:00",
          "2021-12-11T00:00:00",
          "2024-01-12T00:00:00",
          "2024-04-19T00:00:00",
          "2024-03-25T00:00:00",
          "2023-07-24T00:00:00",
          "2022-03-20T00:00:00",
          "2022-02-20T00:00:00",
          "2022-08-22T00:00:00",
          "2023-03-16T00:00:00",
          "2023-10-07T00:00:00",
          "2023-10-05T00:00:00",
          "2022-04-12T00:00:00",
          "2021-12-07T00:00:00",
          "2022-09-29T00:00:00",
          "2022-11-25T00:00:00",
          "2023-09-26T00:00:00",
          "2024-02-11T00:00:00",
          "2022-07-27T00:00:00",
          "2024-10-18T00:00:00",
          "2024-12-06T00:00:00",
          "2022-01-03T00:00:00",
          "2024-06-20T00:00:00",
          "2023-02-01T00:00:00",
          "2024-02-15T00:00:00",
          "2021-12-09T00:00:00",
          "2022-03-28T00:00:00",
          "2024-07-20T00:00:00",
          "2024-10-27T00:00:00",
          "2024-05-26T00:00:00",
          "2024-06-29T00:00:00",
          "2024-02-23T00:00:00",
          "2022-02-05T00:00:00",
          "2022-01-09T00:00:00",
          "2024-04-15T00:00:00",
          "2023-04-29T00:00:00",
          "2022-10-06T00:00:00",
          "2023-08-20T00:00:00",
          "2024-10-04T00:00:00",
          "2023-08-02T00:00:00",
          "2022-02-28T00:00:00",
          "2022-01-01T00:00:00",
          "2024-03-21T00:00:00",
          "2022-02-27T00:00:00",
          "2021-12-14T00:00:00",
          "2022-08-06T00:00:00",
          "2023-07-15T00:00:00",
          "2022-07-12T00:00:00",
          "2024-03-06T00:00:00",
          "2024-07-27T00:00:00",
          "2024-01-01T00:00:00",
          "2024-09-21T00:00:00",
          "2024-10-14T00:00:00",
          "2023-05-01T00:00:00",
          "2023-04-06T00:00:00",
          "2022-08-31T00:00:00",
          "2022-04-28T00:00:00",
          "2022-05-01T00:00:00",
          "2022-11-23T00:00:00",
          "2023-01-11T00:00:00",
          "2023-08-03T00:00:00",
          "2024-01-30T00:00:00",
          "2023-02-24T00:00:00",
          "2024-12-10T00:00:00",
          "2023-09-11T00:00:00",
          "2023-12-23T00:00:00",
          "2023-11-21T00:00:00",
          "2022-05-14T00:00:00",
          "2024-03-29T00:00:00",
          "2024-07-12T00:00:00",
          "2023-10-24T00:00:00",
          "2023-02-19T00:00:00",
          "2023-03-17T00:00:00",
          "2023-01-17T00:00:00",
          "2023-01-29T00:00:00",
          "2024-11-07T00:00:00",
          "2022-10-25T00:00:00",
          "2024-09-01T00:00:00",
          "2023-05-15T00:00:00",
          "2024-01-19T00:00:00",
          "2023-12-17T00:00:00",
          "2022-06-13T00:00:00",
          "2023-01-10T00:00:00",
          "2023-09-06T00:00:00",
          "2022-01-23T00:00:00",
          "2024-04-05T00:00:00",
          "2022-03-31T00:00:00",
          "2024-09-11T00:00:00",
          "2022-11-24T00:00:00",
          "2024-11-01T00:00:00",
          "2024-10-09T00:00:00",
          "2022-01-20T00:00:00",
          "2022-04-30T00:00:00",
          "2023-12-28T00:00:00",
          "2024-02-05T00:00:00",
          "2024-06-12T00:00:00",
          "2024-02-17T00:00:00",
          "2023-08-22T00:00:00",
          "2022-02-21T00:00:00",
          "2022-03-09T00:00:00",
          "2022-11-10T00:00:00",
          "2023-06-01T00:00:00",
          "2024-01-21T00:00:00",
          "2022-10-09T00:00:00",
          "2023-09-19T00:00:00",
          "2022-11-27T00:00:00",
          "2024-07-06T00:00:00",
          "2023-07-06T00:00:00",
          "2023-11-27T00:00:00",
          "2022-03-11T00:00:00",
          "2024-05-18T00:00:00",
          "2022-07-26T00:00:00",
          "2024-10-08T00:00:00",
          "2021-12-10T00:00:00",
          "2022-07-05T00:00:00",
          "2021-12-23T00:00:00",
          "2023-09-30T00:00:00",
          "2024-01-06T00:00:00",
          "2024-03-20T00:00:00",
          "2023-11-20T00:00:00",
          "2024-02-21T00:00:00",
          "2024-02-27T00:00:00",
          "2022-04-16T00:00:00",
          "2024-04-10T00:00:00",
          "2024-04-07T00:00:00",
          "2022-05-13T00:00:00",
          "2023-02-12T00:00:00",
          "2023-12-31T00:00:00",
          "2023-12-09T00:00:00",
          "2022-05-18T00:00:00",
          "2022-12-16T00:00:00",
          "2024-01-15T00:00:00",
          "2024-03-24T00:00:00",
          "2024-06-21T00:00:00",
          "2024-12-11T00:00:00",
          "2024-12-13T00:00:00",
          "2024-03-12T00:00:00",
          "2022-05-25T00:00:00",
          "2023-08-24T00:00:00",
          "2024-08-27T00:00:00",
          "2022-09-28T00:00:00",
          "2024-11-30T00:00:00",
          "2021-12-03T00:00:00",
          "2024-09-24T00:00:00",
          "2022-07-10T00:00:00",
          "2022-10-07T00:00:00",
          "2024-07-09T00:00:00",
          "2022-03-25T00:00:00",
          "2024-06-26T00:00:00",
          "2024-11-16T00:00:00",
          "2023-01-03T00:00:00",
          "2022-11-03T00:00:00",
          "2023-01-25T00:00:00",
          "2022-03-21T00:00:00",
          "2024-07-23T00:00:00",
          "2022-04-06T00:00:00",
          "2022-06-28T00:00:00",
          "2022-01-26T00:00:00",
          "2022-01-11T00:00:00",
          "2023-09-28T00:00:00",
          "2023-10-15T00:00:00",
          "2024-08-30T00:00:00",
          "2021-12-21T00:00:00",
          "2024-05-25T00:00:00",
          "2022-08-23T00:00:00",
          "2022-05-04T00:00:00",
          "2023-06-28T00:00:00",
          "2024-03-11T00:00:00",
          "2022-01-21T00:00:00",
          "2022-01-16T00:00:00",
          "2022-07-29T00:00:00",
          "2023-12-04T00:00:00",
          "2022-12-19T00:00:00",
          "2024-04-04T00:00:00",
          "2023-11-30T00:00:00",
          "2022-05-23T00:00:00",
          "2024-05-04T00:00:00",
          "2022-03-29T00:00:00",
          "2022-08-26T00:00:00",
          "2022-04-03T00:00:00",
          "2022-07-01T00:00:00",
          "2022-09-19T00:00:00",
          "2024-06-04T00:00:00",
          "2024-08-31T00:00:00",
          "2024-09-18T00:00:00",
          "2023-03-03T00:00:00",
          "2024-09-14T00:00:00",
          "2023-05-28T00:00:00",
          "2024-04-06T00:00:00",
          "2023-08-26T00:00:00",
          "2022-04-22T00:00:00",
          "2024-04-09T00:00:00",
          "2022-08-27T00:00:00",
          "2022-03-30T00:00:00",
          "2024-04-18T00:00:00",
          "2024-08-06T00:00:00",
          "2023-04-01T00:00:00",
          "2022-03-07T00:00:00",
          "2024-06-09T00:00:00",
          "2024-06-02T00:00:00",
          "2024-03-04T00:00:00",
          "2023-10-20T00:00:00",
          "2023-05-18T00:00:00",
          "2022-12-29T00:00:00",
          "2022-03-27T00:00:00",
          "2023-11-29T00:00:00",
          "2024-03-23T00:00:00",
          "2024-09-05T00:00:00",
          "2023-04-28T00:00:00",
          "2024-10-30T00:00:00",
          "2023-03-31T00:00:00",
          "2023-06-20T00:00:00",
          "2023-08-13T00:00:00",
          "2022-05-12T00:00:00",
          "2023-02-28T00:00:00",
          "2024-03-31T00:00:00",
          "2021-12-31T00:00:00",
          "2023-03-13T00:00:00",
          "2023-11-01T00:00:00",
          "2024-06-11T00:00:00",
          "2024-12-12T00:00:00",
          "2022-02-07T00:00:00",
          "2022-03-26T00:00:00",
          "2022-03-15T00:00:00",
          "2022-06-09T00:00:00",
          "2022-10-23T00:00:00",
          "2022-12-25T00:00:00",
          "2024-06-23T00:00:00",
          "2024-07-29T00:00:00",
          "2024-08-02T00:00:00",
          "2022-02-11T00:00:00",
          "2022-03-12T00:00:00",
          "2022-07-16T00:00:00",
          "2024-05-30T00:00:00",
          "2024-11-03T00:00:00",
          "2023-01-28T00:00:00",
          "2023-11-06T00:00:00",
          "2023-11-08T00:00:00",
          "2024-07-17T00:00:00",
          "2024-11-06T00:00:00",
          "2024-01-18T00:00:00",
          "2023-01-22T00:00:00",
          "2024-07-02T00:00:00",
          "2023-10-03T00:00:00",
          "2023-05-24T00:00:00",
          "2022-12-03T00:00:00",
          "2024-10-07T00:00:00",
          "2024-02-28T00:00:00",
          "2022-06-24T00:00:00",
          "2021-12-04T00:00:00",
          "2022-06-12T00:00:00",
          "2022-11-09T00:00:00",
          "2023-03-14T00:00:00",
          "2024-06-14T00:00:00",
          "2022-10-18T00:00:00",
          "2023-12-05T00:00:00",
          "2024-11-12T00:00:00",
          "2023-02-15T00:00:00",
          "2024-09-10T00:00:00",
          "2023-06-24T00:00:00",
          "2023-02-06T00:00:00",
          "2024-08-09T00:00:00",
          "2022-06-23T00:00:00",
          "2024-01-25T00:00:00",
          "2024-08-24T00:00:00",
          "2024-05-11T00:00:00",
          "2024-05-23T00:00:00",
          "2023-06-30T00:00:00",
          "2024-12-16T00:00:00",
          "2022-08-09T00:00:00",
          "2022-05-05T00:00:00",
          "2024-09-07T00:00:00",
          "2022-11-13T00:00:00",
          "2022-04-14T00:00:00",
          "2024-06-13T00:00:00",
          "2023-07-12T00:00:00",
          "2022-11-02T00:00:00",
          "2024-02-01T00:00:00",
          "2022-11-21T00:00:00",
          "2023-02-20T00:00:00",
          "2022-12-09T00:00:00",
          "2023-06-15T00:00:00",
          "2024-02-06T00:00:00",
          "2023-06-05T00:00:00",
          "2024-04-17T00:00:00",
          "2022-11-01T00:00:00",
          "2022-11-28T00:00:00",
          "2024-05-15T00:00:00",
          "2022-03-23T00:00:00",
          "2024-06-08T00:00:00",
          "2022-10-26T00:00:00",
          "2024-09-15T00:00:00",
          "2024-09-03T00:00:00",
          "2024-11-18T00:00:00",
          "2023-07-31T00:00:00",
          "2024-05-14T00:00:00",
          "2023-04-08T00:00:00",
          "2024-01-13T00:00:00",
          "2024-11-11T00:00:00",
          "2022-02-10T00:00:00",
          "2023-09-05T00:00:00",
          "2023-07-22T00:00:00",
          "2022-12-27T00:00:00",
          "2022-05-10T00:00:00",
          "2023-04-19T00:00:00",
          "2022-01-31T00:00:00",
          "2022-10-02T00:00:00",
          "2023-01-15T00:00:00",
          "2023-03-27T00:00:00",
          "2022-04-09T00:00:00",
          "2023-04-05T00:00:00",
          "2024-03-05T00:00:00",
          "2022-11-30T00:00:00",
          "2023-03-22T00:00:00",
          "2022-01-07T00:00:00",
          "2022-10-05T00:00:00",
          "2024-04-21T00:00:00",
          "2024-04-24T00:00:00",
          "2024-07-30T00:00:00",
          "2024-06-30T00:00:00",
          "2024-08-25T00:00:00",
          "2024-02-02T00:00:00",
          "2024-10-28T00:00:00",
          "2024-11-02T00:00:00",
          "2022-07-14T00:00:00",
          "2023-02-04T00:00:00",
          "2023-06-29T00:00:00",
          "2023-12-10T00:00:00",
          "2022-09-09T00:00:00",
          "2024-11-29T00:00:00",
          "2022-10-08T00:00:00",
          "2023-07-10T00:00:00",
          "2023-03-12T00:00:00",
          "2022-07-07T00:00:00",
          "2023-02-25T00:00:00",
          "2023-03-08T00:00:00",
          "2023-11-13T00:00:00",
          "2023-11-09T00:00:00",
          "2021-12-06T00:00:00",
          "2024-01-04T00:00:00",
          "2021-12-28T00:00:00",
          "2022-08-01T00:00:00",
          "2023-02-09T00:00:00",
          "2023-04-25T00:00:00",
          "2023-08-19T00:00:00",
          "2022-01-22T00:00:00",
          "2024-09-08T00:00:00",
          "2024-04-26T00:00:00",
          "2022-03-14T00:00:00",
          "2022-06-15T00:00:00",
          "2022-03-13T00:00:00",
          "2022-09-15T00:00:00",
          "2024-08-19T00:00:00",
          "2024-12-08T00:00:00",
          "2022-09-07T00:00:00",
          "2022-06-21T00:00:00",
          "2023-01-02T00:00:00",
          "2022-01-06T00:00:00",
          "2023-08-25T00:00:00",
          "2022-01-27T00:00:00",
          "2024-03-27T00:00:00",
          "2021-12-05T00:00:00",
          "2023-05-26T00:00:00",
          "2023-12-14T00:00:00",
          "2022-04-29T00:00:00",
          "2022-01-08T00:00:00",
          "2024-04-08T00:00:00",
          "2022-03-19T00:00:00",
          "2024-08-01T00:00:00",
          "2024-12-20T00:00:00",
          "2024-12-27T00:00:00",
          "2022-01-14T00:00:00",
          "2022-09-04T00:00:00",
          "2023-03-01T00:00:00",
          "2023-07-09T00:00:00",
          "2024-01-31T00:00:00",
          "2024-10-19T00:00:00",
          "2022-07-03T00:00:00",
          "2023-08-23T00:00:00",
          "2023-09-08T00:00:00",
          "2023-12-15T00:00:00",
          "2023-03-26T00:00:00",
          "2022-12-18T00:00:00",
          "2024-10-26T00:00:00",
          "2023-01-24T00:00:00",
          "2023-04-12T00:00:00",
          "2022-10-24T00:00:00",
          "2024-08-12T00:00:00",
          "2023-04-21T00:00:00",
          "2023-09-07T00:00:00",
          "2023-07-16T00:00:00",
          "2023-06-08T00:00:00",
          "2022-12-23T00:00:00",
          "2024-11-19T00:00:00",
          "2024-07-16T00:00:00",
          "2024-09-16T00:00:00",
          "2023-10-01T00:00:00",
          "2022-01-15T00:00:00",
          "2022-11-06T00:00:00",
          "2022-09-30T00:00:00",
          "2023-06-02T00:00:00",
          "2024-05-27T00:00:00",
          "2024-02-07T00:00:00",
          "2022-10-30T00:00:00",
          "2024-03-28T00:00:00",
          "2025-01-02T00:00:00",
          "2022-03-10T00:00:00",
          "2024-12-25T00:00:00",
          "2022-07-17T00:00:00",
          "2023-02-22T00:00:00",
          "2023-08-01T00:00:00",
          "2023-12-13T00:00:00",
          "2022-11-07T00:00:00",
          "2022-11-22T00:00:00",
          "2023-10-14T00:00:00",
          "2024-02-10T00:00:00",
          "2023-01-14T00:00:00",
          "2023-10-29T00:00:00",
          "2024-06-07T00:00:00",
          "2024-07-25T00:00:00",
          "2024-01-08T00:00:00",
          "2024-07-28T00:00:00",
          "2023-08-28T00:00:00",
          "2024-09-04T00:00:00",
          "2022-07-18T00:00:00",
          "2023-04-17T00:00:00",
          "2023-07-03T00:00:00",
          "2023-10-26T00:00:00",
          "2022-09-03T00:00:00",
          "2024-12-17T00:00:00",
          "2022-07-08T00:00:00",
          "2023-02-02T00:00:00",
          "2022-02-14T00:00:00",
          "2022-04-13T00:00:00",
          "2024-08-15T00:00:00",
          "2022-04-11T00:00:00",
          "2023-07-23T00:00:00",
          "2022-06-20T00:00:00",
          "2023-03-11T00:00:00",
          "2024-07-01T00:00:00",
          "2024-07-14T00:00:00",
          "2024-05-17T00:00:00",
          "2024-12-19T00:00:00",
          "2024-06-05T00:00:00",
          "2022-12-12T00:00:00",
          "2023-05-19T00:00:00",
          "2025-01-05T00:00:00",
          "2022-11-26T00:00:00",
          "2022-05-20T00:00:00",
          "2022-07-19T00:00:00",
          "2023-10-12T00:00:00",
          "2023-12-07T00:00:00",
          "2023-02-18T00:00:00",
          "2022-11-04T00:00:00",
          "2023-01-07T00:00:00",
          "2023-07-19T00:00:00",
          "2024-01-03T00:00:00",
          "2024-08-11T00:00:00",
          "2022-04-24T00:00:00",
          "2022-10-20T00:00:00",
          "2024-11-24T00:00:00",
          "2024-10-29T00:00:00",
          "2023-07-29T00:00:00",
          "2023-05-16T00:00:00",
          "2022-02-02T00:00:00",
          "2023-06-06T00:00:00",
          "2023-12-12T00:00:00",
          "2023-09-02T00:00:00",
          "2024-11-21T00:00:00",
          "2023-05-07T00:00:00",
          "2023-01-31T00:00:00",
          "2024-05-16T00:00:00",
          "2024-09-22T00:00:00",
          "2024-09-28T00:00:00",
          "2023-05-06T00:00:00",
          "2024-01-10T00:00:00",
          "2024-02-29T00:00:00",
          "2024-07-31T00:00:00",
          "2023-04-03T00:00:00",
          "2024-09-29T00:00:00",
          "2024-07-05T00:00:00",
          "2022-03-06T00:00:00",
          "2024-05-08T00:00:00",
          "2023-09-14T00:00:00",
          "2022-08-13T00:00:00",
          "2022-04-08T00:00:00",
          "2022-07-06T00:00:00",
          "2021-12-27T00:00:00",
          "2022-03-05T00:00:00",
          "2023-07-21T00:00:00",
          "2022-05-17T00:00:00",
          "2022-07-04T00:00:00",
          "2024-10-03T00:00:00",
          "2022-08-30T00:00:00",
          "2024-05-31T00:00:00",
          "2024-05-24T00:00:00",
          "2024-05-01T00:00:00",
          "2024-07-07T00:00:00",
          "2023-04-14T00:00:00",
          "2024-06-25T00:00:00",
          "2023-01-06T00:00:00",
          "2022-03-16T00:00:00",
          "2023-11-14T00:00:00",
          "2023-12-11T00:00:00",
          "2024-07-03T00:00:00",
          "2022-01-24T00:00:00",
          "2023-10-02T00:00:00",
          "2022-03-18T00:00:00",
          "2022-10-31T00:00:00",
          "2022-08-21T00:00:00",
          "2022-12-31T00:00:00",
          "2023-02-23T00:00:00",
          "2023-12-30T00:00:00",
          "2024-07-18T00:00:00",
          "2022-08-04T00:00:00",
          "2023-09-10T00:00:00",
          "2023-09-18T00:00:00",
          "2023-03-21T00:00:00",
          "2023-11-04T00:00:00",
          "2023-01-21T00:00:00",
          "2022-12-21T00:00:00",
          "2023-09-21T00:00:00",
          "2023-10-10T00:00:00",
          "2024-04-12T00:00:00",
          "2023-01-04T00:00:00",
          "2024-07-13T00:00:00",
          "2024-01-14T00:00:00",
          "2023-04-20T00:00:00",
          "2022-06-19T00:00:00",
          "2022-11-08T00:00:00",
          "2022-10-14T00:00:00",
          "2022-05-28T00:00:00",
          "2022-12-22T00:00:00",
          "2023-06-04T00:00:00",
          "2021-12-25T00:00:00",
          "2023-03-06T00:00:00",
          "2022-08-29T00:00:00",
          "2024-01-29T00:00:00",
          "2024-11-14T00:00:00",
          "2022-04-17T00:00:00",
          "2022-06-11T00:00:00",
          "2023-05-13T00:00:00",
          "2023-05-22T00:00:00",
          "2024-12-15T00:00:00",
          "2023-08-29T00:00:00",
          "2024-11-04T00:00:00",
          "2023-11-12T00:00:00",
          "2024-04-29T00:00:00",
          "2021-12-13T00:00:00",
          "2022-07-25T00:00:00",
          "2023-05-14T00:00:00",
          "2022-01-05T00:00:00",
          "2022-04-15T00:00:00",
          "2023-03-24T00:00:00",
          "2024-03-07T00:00:00",
          "2022-09-25T00:00:00",
          "2023-05-10T00:00:00",
          "2024-01-17T00:00:00",
          "2022-12-14T00:00:00",
          "2024-10-01T00:00:00",
          "2024-10-21T00:00:00",
          "2024-11-13T00:00:00",
          "2022-08-05T00:00:00",
          "2023-05-11T00:00:00",
          "2022-12-05T00:00:00",
          "2022-05-06T00:00:00",
          "2023-12-21T00:00:00",
          "2022-11-29T00:00:00",
          "2024-01-11T00:00:00",
          "2022-04-10T00:00:00",
          "2024-11-09T00:00:00",
          "2024-08-16T00:00:00",
          "2022-06-29T00:00:00",
          "2022-03-17T00:00:00",
          "2024-04-30T00:00:00",
          "2022-07-23T00:00:00",
          "2023-04-23T00:00:00",
          "2022-10-01T00:00:00",
          "2022-09-05T00:00:00",
          "2022-04-07T00:00:00",
          "2024-02-22T00:00:00",
          "2022-06-10T00:00:00",
          "2022-05-07T00:00:00",
          "2022-12-13T00:00:00",
          "2023-09-25T00:00:00",
          "2022-03-08T00:00:00",
          "2024-10-22T00:00:00",
          "2022-01-29T00:00:00",
          "2024-11-28T00:00:00",
          "2023-02-07T00:00:00",
          "2024-03-18T00:00:00",
          "2022-05-19T00:00:00",
          "2023-08-10T00:00:00",
          "2022-08-20T00:00:00",
          "2023-10-18T00:00:00",
          "2022-10-12T00:00:00",
          "2024-05-07T00:00:00",
          "2023-05-03T00:00:00",
          "2022-07-13T00:00:00",
          "2023-06-25T00:00:00",
          "2023-11-15T00:00:00",
          "2022-05-09T00:00:00",
          "2022-12-10T00:00:00",
          "2023-11-16T00:00:00",
          "2022-01-18T00:00:00",
          "2024-06-06T00:00:00",
          "2023-09-03T00:00:00",
          "2022-05-11T00:00:00",
          "2023-03-07T00:00:00",
          "2023-11-23T00:00:00",
          "2024-01-07T00:00:00"
         ],
         "xaxis": "x",
         "y": [
          201,
          86,
          179,
          235,
          224,
          221,
          203,
          165,
          261,
          187,
          196,
          174,
          199,
          300,
          253,
          204,
          219,
          272,
          252,
          171,
          322,
          230,
          47,
          223,
          233,
          301,
          207,
          184,
          76,
          167,
          208,
          314,
          206,
          199,
          284,
          173,
          200,
          291,
          298,
          432,
          212,
          199,
          280,
          290,
          335,
          262,
          178,
          233,
          251,
          182,
          161,
          239,
          213,
          245,
          220,
          205,
          147,
          277,
          247,
          288,
          270,
          242,
          246,
          195,
          268,
          207,
          259,
          256,
          229,
          198,
          215,
          249,
          296,
          228,
          305,
          350,
          238,
          147,
          209,
          249,
          200,
          164,
          290,
          219,
          228,
          242,
          237,
          203,
          266,
          199,
          246,
          203,
          338,
          245,
          433,
          199,
          244,
          267,
          215,
          134,
          219,
          239,
          187,
          163,
          314,
          380,
          10,
          227,
          189,
          216,
          83,
          169,
          245,
          335,
          247,
          176,
          263,
          173,
          234,
          280,
          258,
          311,
          180,
          223,
          252,
          218,
          248,
          192,
          255,
          163,
          329,
          266,
          208,
          230,
          237,
          248,
          148,
          295,
          61,
          179,
          184,
          232,
          248,
          235,
          209,
          209,
          215,
          161,
          72,
          206,
          288,
          235,
          212,
          246,
          350,
          184,
          220,
          221,
          267,
          203,
          178,
          24,
          268,
          232,
          286,
          282,
          275,
          282,
          210,
          240,
          173,
          338,
          288,
          268,
          349,
          71,
          260,
          193,
          218,
          152,
          176,
          228,
          213,
          207,
          333,
          331,
          227,
          264,
          59,
          129,
          152,
          270,
          256,
          226,
          193,
          244,
          231,
          190,
          206,
          255,
          301,
          99,
          233,
          215,
          251,
          295,
          239,
          152,
          284,
          153,
          250,
          232,
          345,
          222,
          240,
          211,
          156,
          166,
          239,
          293,
          236,
          210,
          234,
          187,
          218,
          192,
          246,
          237,
          207,
          242,
          365,
          226,
          355,
          256,
          224,
          238,
          227,
          156,
          245,
          260,
          314,
          231,
          242,
          205,
          252,
          214,
          245,
          191,
          310,
          258,
          194,
          163,
          195,
          338,
          156,
          245,
          221,
          210,
          304,
          190,
          115,
          308,
          261,
          190,
          221,
          418,
          208,
          221,
          183,
          250,
          184,
          210,
          262,
          46,
          195,
          219,
          269,
          189,
          205,
          60,
          210,
          177,
          252,
          226,
          277,
          261,
          273,
          194,
          222,
          292,
          27,
          186,
          174,
          298,
          278,
          194,
          187,
          218,
          271,
          276,
          196,
          246,
          217,
          296,
          182,
          262,
          15,
          171,
          232,
          227,
          214,
          255,
          266,
          178,
          234,
          310,
          275,
          239,
          233,
          231,
          330,
          211,
          122,
          203,
          194,
          335,
          238,
          201,
          220,
          277,
          171,
          229,
          134,
          159,
          77,
          203,
          176,
          241,
          283,
          218,
          209,
          296,
          262,
          199,
          299,
          232,
          167,
          206,
          206,
          205,
          283,
          2,
          260,
          368,
          178,
          178,
          46,
          198,
          282,
          192,
          159,
          266,
          205,
          281,
          295,
          25,
          241,
          190,
          52,
          223,
          258,
          221,
          220,
          192,
          257,
          254,
          217,
          188,
          333,
          236,
          204,
          351,
          324,
          171,
          203,
          218,
          167,
          198,
          200,
          227,
          218,
          225,
          268,
          253,
          199,
          221,
          2,
          248,
          183,
          335,
          184,
          281,
          177,
          190,
          218,
          196,
          162,
          202,
          357,
          267,
          250,
          265,
          170,
          246,
          10,
          5,
          212,
          253,
          47,
          235,
          262,
          60,
          369,
          223,
          198,
          201,
          214,
          41,
          233,
          227,
          265,
          190,
          245,
          179,
          354,
          23,
          251,
          10,
          162,
          197,
          221,
          43,
          220,
          232,
          222,
          325,
          70,
          242,
          163,
          286,
          230,
          289,
          199,
          275,
          196,
          214,
          308,
          196,
          80,
          9,
          330,
          227,
          240,
          238,
          301,
          252,
          267,
          171,
          320,
          186,
          206,
          225,
          182,
          181,
          231,
          210,
          238,
          377,
          187,
          222,
          337,
          180,
          165,
          298,
          233,
          193,
          213,
          232,
          219,
          149,
          356,
          212,
          181,
          262,
          157,
          315,
          222,
          160,
          205,
          207,
          234,
          218,
          242,
          258,
          178,
          287,
          236,
          210,
          211,
          297,
          347,
          247,
          265,
          221,
          220,
          270,
          325,
          215,
          186,
          19,
          28,
          243,
          208,
          234,
          261,
          220,
          188,
          211,
          224,
          223,
          255,
          203,
          23,
          205,
          210,
          277,
          268,
          213,
          247,
          100,
          113,
          346,
          209,
          315,
          21,
          183,
          310,
          239,
          356,
          222,
          230,
          196,
          174,
          274,
          191,
          311,
          205,
          243,
          278,
          270,
          114,
          413,
          211,
          50,
          171,
          173,
          217,
          253,
          260,
          210,
          296,
          384,
          209,
          211,
          259,
          224,
          231,
          258,
          182,
          168,
          272,
          218,
          112,
          228,
          263,
          317,
          257,
          265,
          342,
          227,
          203,
          218,
          181,
          235,
          190,
          238,
          284,
          188,
          197,
          196,
          192,
          221,
          169,
          137,
          271,
          263,
          330,
          213,
          331,
          285,
          171,
          195,
          257,
          260,
          383,
          300,
          166,
          234,
          219,
          320,
          173,
          167,
          347,
          324,
          196,
          222,
          199,
          158,
          181,
          310,
          312,
          349,
          37,
          156,
          65,
          245,
          211,
          222,
          400,
          219,
          239,
          198,
          301,
          255,
          201,
          307,
          201,
          178,
          218,
          189,
          249,
          229,
          266,
          84,
          39,
          159,
          186,
          207,
          260,
          258,
          133,
          1,
          282,
          160,
          255,
          258,
          194,
          380,
          228,
          209,
          261,
          233,
          185,
          280,
          248,
          231,
          306,
          184,
          179,
          268,
          282,
          87,
          287,
          180,
          214,
          278,
          248,
          135,
          179,
          209,
          166,
          157,
          322,
          217,
          202,
          266,
          191,
          281,
          230,
          190,
          221,
          263,
          386,
          323,
          305,
          317,
          195,
          314,
          230,
          283,
          278,
          216,
          211,
          237,
          257,
          229,
          179,
          245,
          310,
          235,
          325,
          197,
          164,
          235,
          263,
          266,
          353,
          225,
          259,
          185,
          210,
          208,
          362,
          269,
          220,
          127,
          250,
          277,
          257,
          88,
          291,
          202,
          221,
          258,
          209,
          218,
          287,
          227,
          326,
          381,
          188,
          234,
          314,
          181,
          167,
          214,
          269,
          275,
          176,
          216,
          202,
          233,
          323,
          175,
          263,
          168,
          311,
          169,
          4,
          191,
          274,
          164,
          208,
          224,
          259,
          203,
          217,
          221,
          213,
          270,
          240,
          218,
          282,
          247,
          251,
          315,
          252,
          58,
          183,
          212,
          246,
          276,
          188,
          204,
          273,
          279,
          190,
          193,
          260,
          261,
          184,
          336,
          284,
          194,
          230,
          238,
          231,
          328,
          261,
          202,
          311,
          363,
          236,
          169,
          311,
          162,
          209,
          189,
          300,
          197,
          199,
          226,
          201,
          164,
          228,
          250,
          196,
          201,
          196,
          259,
          226,
          239,
          208,
          127,
          293,
          222,
          356,
          266,
          270,
          246,
          165,
          225,
          291,
          263,
          194,
          277,
          148,
          243,
          163,
          240,
          190,
          146,
          183,
          160,
          264,
          207,
          327,
          15,
          241,
          93,
          200,
          195,
          206,
          249,
          226,
          325,
          215,
          219,
          209,
          239,
          258,
          248,
          47,
          234,
          195,
          157,
          121,
          187,
          313,
          204,
          27,
          251,
          191,
          274,
          157,
          223,
          201,
          256,
          51,
          14,
          183,
          249,
          228,
          222,
          295,
          311,
          231,
          200,
          231,
          266,
          270,
          192,
          293,
          238,
          319,
          261,
          279,
          236,
          253,
          219,
          154,
          212,
          139,
          197,
          296,
          378,
          164,
          267,
          353,
          283,
          356,
          235,
          254,
          281,
          2,
          207,
          24,
          168,
          235,
          232,
          237,
          227,
          185,
          187,
          233,
          203,
          273,
          201,
          240,
          272,
          293,
          271,
          312,
          273,
          223,
          201,
          315,
          347,
          73,
          272,
          183,
          187,
          255,
          291,
          201,
          198,
          221,
          194,
          250,
          207,
          297,
          60,
          220,
          230,
          200,
          1,
          234,
          218,
          242,
          383,
          215,
          203,
          218,
          176,
          214,
          234,
          200,
          196,
          228,
          117,
          204,
          196,
          233,
          338,
          183,
          253,
          259,
          233,
          152,
          180,
          331,
          302,
          342,
          179,
          286,
          194,
          290,
          173,
          309,
          278,
          251,
          257,
          177,
          237,
          210,
          248,
          106,
          194,
          215,
          197,
          192,
          264,
          272,
          293,
          203,
          312,
          243,
          283,
          254,
          179,
          225,
          258,
          331,
          321,
          141,
          268,
          193,
          298,
          203,
          155,
          251,
          254,
          180,
          267,
          209,
          172,
          236,
          208,
          141,
          222,
          210,
          184,
          272,
          232,
          231,
          163,
          228,
          178,
          312,
          343,
          202,
          172,
          230,
          84,
          200,
          260,
          229,
          165,
          208,
          153,
          198,
          219,
          34,
          237,
          236,
          268,
          331,
          21,
          177,
          289,
          181,
          227,
          219,
          271,
          243,
          143,
          309,
          232,
          274,
          304,
          235,
          247,
          206,
          206,
          230,
          214,
          252,
          228,
          210,
          230,
          247,
          218,
          206,
          281,
          239,
          210,
          224,
          218,
          205,
          221,
          258,
          270,
          223,
          211,
          191,
          272,
          284,
          132,
          274,
          179,
          171,
          176,
          232,
          340,
          265,
          242,
          207,
          211,
          186,
          285,
          247,
          238,
          173,
          167,
          408,
          153,
          227,
          206,
          284,
          198
         ],
         "yaxis": "y"
        }
       ],
       "layout": {
        "barmode": "relative",
        "legend": {
         "tracegroupgap": 0
        },
        "margin": {
         "t": 60
        },
        "template": {
         "data": {
          "bar": [
           {
            "error_x": {
             "color": "#2a3f5f"
            },
            "error_y": {
             "color": "#2a3f5f"
            },
            "marker": {
             "line": {
              "color": "#E5ECF6",
              "width": 0.5
             },
             "pattern": {
              "fillmode": "overlay",
              "size": 10,
              "solidity": 0.2
             }
            },
            "type": "bar"
           }
          ],
          "barpolar": [
           {
            "marker": {
             "line": {
              "color": "#E5ECF6",
              "width": 0.5
             },
             "pattern": {
              "fillmode": "overlay",
              "size": 10,
              "solidity": 0.2
             }
            },
            "type": "barpolar"
           }
          ],
          "carpet": [
           {
            "aaxis": {
             "endlinecolor": "#2a3f5f",
             "gridcolor": "white",
             "linecolor": "white",
             "minorgridcolor": "white",
             "startlinecolor": "#2a3f5f"
            },
            "baxis": {
             "endlinecolor": "#2a3f5f",
             "gridcolor": "white",
             "linecolor": "white",
             "minorgridcolor": "white",
             "startlinecolor": "#2a3f5f"
            },
            "type": "carpet"
           }
          ],
          "choropleth": [
           {
            "colorbar": {
             "outlinewidth": 0,
             "ticks": ""
            },
            "type": "choropleth"
           }
          ],
          "contour": [
           {
            "colorbar": {
             "outlinewidth": 0,
             "ticks": ""
            },
            "colorscale": [
             [
              0,
              "#0d0887"
             ],
             [
              0.1111111111111111,
              "#46039f"
             ],
             [
              0.2222222222222222,
              "#7201a8"
             ],
             [
              0.3333333333333333,
              "#9c179e"
             ],
             [
              0.4444444444444444,
              "#bd3786"
             ],
             [
              0.5555555555555556,
              "#d8576b"
             ],
             [
              0.6666666666666666,
              "#ed7953"
             ],
             [
              0.7777777777777778,
              "#fb9f3a"
             ],
             [
              0.8888888888888888,
              "#fdca26"
             ],
             [
              1,
              "#f0f921"
             ]
            ],
            "type": "contour"
           }
          ],
          "contourcarpet": [
           {
            "colorbar": {
             "outlinewidth": 0,
             "ticks": ""
            },
            "type": "contourcarpet"
           }
          ],
          "heatmap": [
           {
            "colorbar": {
             "outlinewidth": 0,
             "ticks": ""
            },
            "colorscale": [
             [
              0,
              "#0d0887"
             ],
             [
              0.1111111111111111,
              "#46039f"
             ],
             [
              0.2222222222222222,
              "#7201a8"
             ],
             [
              0.3333333333333333,
              "#9c179e"
             ],
             [
              0.4444444444444444,
              "#bd3786"
             ],
             [
              0.5555555555555556,
              "#d8576b"
             ],
             [
              0.6666666666666666,
              "#ed7953"
             ],
             [
              0.7777777777777778,
              "#fb9f3a"
             ],
             [
              0.8888888888888888,
              "#fdca26"
             ],
             [
              1,
              "#f0f921"
             ]
            ],
            "type": "heatmap"
           }
          ],
          "heatmapgl": [
           {
            "colorbar": {
             "outlinewidth": 0,
             "ticks": ""
            },
            "colorscale": [
             [
              0,
              "#0d0887"
             ],
             [
              0.1111111111111111,
              "#46039f"
             ],
             [
              0.2222222222222222,
              "#7201a8"
             ],
             [
              0.3333333333333333,
              "#9c179e"
             ],
             [
              0.4444444444444444,
              "#bd3786"
             ],
             [
              0.5555555555555556,
              "#d8576b"
             ],
             [
              0.6666666666666666,
              "#ed7953"
             ],
             [
              0.7777777777777778,
              "#fb9f3a"
             ],
             [
              0.8888888888888888,
              "#fdca26"
             ],
             [
              1,
              "#f0f921"
             ]
            ],
            "type": "heatmapgl"
           }
          ],
          "histogram": [
           {
            "marker": {
             "pattern": {
              "fillmode": "overlay",
              "size": 10,
              "solidity": 0.2
             }
            },
            "type": "histogram"
           }
          ],
          "histogram2d": [
           {
            "colorbar": {
             "outlinewidth": 0,
             "ticks": ""
            },
            "colorscale": [
             [
              0,
              "#0d0887"
             ],
             [
              0.1111111111111111,
              "#46039f"
             ],
             [
              0.2222222222222222,
              "#7201a8"
             ],
             [
              0.3333333333333333,
              "#9c179e"
             ],
             [
              0.4444444444444444,
              "#bd3786"
             ],
             [
              0.5555555555555556,
              "#d8576b"
             ],
             [
              0.6666666666666666,
              "#ed7953"
             ],
             [
              0.7777777777777778,
              "#fb9f3a"
             ],
             [
              0.8888888888888888,
              "#fdca26"
             ],
             [
              1,
              "#f0f921"
             ]
            ],
            "type": "histogram2d"
           }
          ],
          "histogram2dcontour": [
           {
            "colorbar": {
             "outlinewidth": 0,
             "ticks": ""
            },
            "colorscale": [
             [
              0,
              "#0d0887"
             ],
             [
              0.1111111111111111,
              "#46039f"
             ],
             [
              0.2222222222222222,
              "#7201a8"
             ],
             [
              0.3333333333333333,
              "#9c179e"
             ],
             [
              0.4444444444444444,
              "#bd3786"
             ],
             [
              0.5555555555555556,
              "#d8576b"
             ],
             [
              0.6666666666666666,
              "#ed7953"
             ],
             [
              0.7777777777777778,
              "#fb9f3a"
             ],
             [
              0.8888888888888888,
              "#fdca26"
             ],
             [
              1,
              "#f0f921"
             ]
            ],
            "type": "histogram2dcontour"
           }
          ],
          "mesh3d": [
           {
            "colorbar": {
             "outlinewidth": 0,
             "ticks": ""
            },
            "type": "mesh3d"
           }
          ],
          "parcoords": [
           {
            "line": {
             "colorbar": {
              "outlinewidth": 0,
              "ticks": ""
             }
            },
            "type": "parcoords"
           }
          ],
          "pie": [
           {
            "automargin": true,
            "type": "pie"
           }
          ],
          "scatter": [
           {
            "fillpattern": {
             "fillmode": "overlay",
             "size": 10,
             "solidity": 0.2
            },
            "type": "scatter"
           }
          ],
          "scatter3d": [
           {
            "line": {
             "colorbar": {
              "outlinewidth": 0,
              "ticks": ""
             }
            },
            "marker": {
             "colorbar": {
              "outlinewidth": 0,
              "ticks": ""
             }
            },
            "type": "scatter3d"
           }
          ],
          "scattercarpet": [
           {
            "marker": {
             "colorbar": {
              "outlinewidth": 0,
              "ticks": ""
             }
            },
            "type": "scattercarpet"
           }
          ],
          "scattergeo": [
           {
            "marker": {
             "colorbar": {
              "outlinewidth": 0,
              "ticks": ""
             }
            },
            "type": "scattergeo"
           }
          ],
          "scattergl": [
           {
            "marker": {
             "colorbar": {
              "outlinewidth": 0,
              "ticks": ""
             }
            },
            "type": "scattergl"
           }
          ],
          "scattermapbox": [
           {
            "marker": {
             "colorbar": {
              "outlinewidth": 0,
              "ticks": ""
             }
            },
            "type": "scattermapbox"
           }
          ],
          "scatterpolar": [
           {
            "marker": {
             "colorbar": {
              "outlinewidth": 0,
              "ticks": ""
             }
            },
            "type": "scatterpolar"
           }
          ],
          "scatterpolargl": [
           {
            "marker": {
             "colorbar": {
              "outlinewidth": 0,
              "ticks": ""
             }
            },
            "type": "scatterpolargl"
           }
          ],
          "scatterternary": [
           {
            "marker": {
             "colorbar": {
              "outlinewidth": 0,
              "ticks": ""
             }
            },
            "type": "scatterternary"
           }
          ],
          "surface": [
           {
            "colorbar": {
             "outlinewidth": 0,
             "ticks": ""
            },
            "colorscale": [
             [
              0,
              "#0d0887"
             ],
             [
              0.1111111111111111,
              "#46039f"
             ],
             [
              0.2222222222222222,
              "#7201a8"
             ],
             [
              0.3333333333333333,
              "#9c179e"
             ],
             [
              0.4444444444444444,
              "#bd3786"
             ],
             [
              0.5555555555555556,
              "#d8576b"
             ],
             [
              0.6666666666666666,
              "#ed7953"
             ],
             [
              0.7777777777777778,
              "#fb9f3a"
             ],
             [
              0.8888888888888888,
              "#fdca26"
             ],
             [
              1,
              "#f0f921"
             ]
            ],
            "type": "surface"
           }
          ],
          "table": [
           {
            "cells": {
             "fill": {
              "color": "#EBF0F8"
             },
             "line": {
              "color": "white"
             }
            },
            "header": {
             "fill": {
              "color": "#C8D4E3"
             },
             "line": {
              "color": "white"
             }
            },
            "type": "table"
           }
          ]
         },
         "layout": {
          "annotationdefaults": {
           "arrowcolor": "#2a3f5f",
           "arrowhead": 0,
           "arrowwidth": 1
          },
          "autotypenumbers": "strict",
          "coloraxis": {
           "colorbar": {
            "outlinewidth": 0,
            "ticks": ""
           }
          },
          "colorscale": {
           "diverging": [
            [
             0,
             "#8e0152"
            ],
            [
             0.1,
             "#c51b7d"
            ],
            [
             0.2,
             "#de77ae"
            ],
            [
             0.3,
             "#f1b6da"
            ],
            [
             0.4,
             "#fde0ef"
            ],
            [
             0.5,
             "#f7f7f7"
            ],
            [
             0.6,
             "#e6f5d0"
            ],
            [
             0.7,
             "#b8e186"
            ],
            [
             0.8,
             "#7fbc41"
            ],
            [
             0.9,
             "#4d9221"
            ],
            [
             1,
             "#276419"
            ]
           ],
           "sequential": [
            [
             0,
             "#0d0887"
            ],
            [
             0.1111111111111111,
             "#46039f"
            ],
            [
             0.2222222222222222,
             "#7201a8"
            ],
            [
             0.3333333333333333,
             "#9c179e"
            ],
            [
             0.4444444444444444,
             "#bd3786"
            ],
            [
             0.5555555555555556,
             "#d8576b"
            ],
            [
             0.6666666666666666,
             "#ed7953"
            ],
            [
             0.7777777777777778,
             "#fb9f3a"
            ],
            [
             0.8888888888888888,
             "#fdca26"
            ],
            [
             1,
             "#f0f921"
            ]
           ],
           "sequentialminus": [
            [
             0,
             "#0d0887"
            ],
            [
             0.1111111111111111,
             "#46039f"
            ],
            [
             0.2222222222222222,
             "#7201a8"
            ],
            [
             0.3333333333333333,
             "#9c179e"
            ],
            [
             0.4444444444444444,
             "#bd3786"
            ],
            [
             0.5555555555555556,
             "#d8576b"
            ],
            [
             0.6666666666666666,
             "#ed7953"
            ],
            [
             0.7777777777777778,
             "#fb9f3a"
            ],
            [
             0.8888888888888888,
             "#fdca26"
            ],
            [
             1,
             "#f0f921"
            ]
           ]
          },
          "colorway": [
           "#636efa",
           "#EF553B",
           "#00cc96",
           "#ab63fa",
           "#FFA15A",
           "#19d3f3",
           "#FF6692",
           "#B6E880",
           "#FF97FF",
           "#FECB52"
          ],
          "font": {
           "color": "#2a3f5f"
          },
          "geo": {
           "bgcolor": "white",
           "lakecolor": "white",
           "landcolor": "#E5ECF6",
           "showlakes": true,
           "showland": true,
           "subunitcolor": "white"
          },
          "hoverlabel": {
           "align": "left"
          },
          "hovermode": "closest",
          "mapbox": {
           "style": "light"
          },
          "paper_bgcolor": "white",
          "plot_bgcolor": "#E5ECF6",
          "polar": {
           "angularaxis": {
            "gridcolor": "white",
            "linecolor": "white",
            "ticks": ""
           },
           "bgcolor": "#E5ECF6",
           "radialaxis": {
            "gridcolor": "white",
            "linecolor": "white",
            "ticks": ""
           }
          },
          "scene": {
           "xaxis": {
            "backgroundcolor": "#E5ECF6",
            "gridcolor": "white",
            "gridwidth": 2,
            "linecolor": "white",
            "showbackground": true,
            "ticks": "",
            "zerolinecolor": "white"
           },
           "yaxis": {
            "backgroundcolor": "#E5ECF6",
            "gridcolor": "white",
            "gridwidth": 2,
            "linecolor": "white",
            "showbackground": true,
            "ticks": "",
            "zerolinecolor": "white"
           },
           "zaxis": {
            "backgroundcolor": "#E5ECF6",
            "gridcolor": "white",
            "gridwidth": 2,
            "linecolor": "white",
            "showbackground": true,
            "ticks": "",
            "zerolinecolor": "white"
           }
          },
          "shapedefaults": {
           "line": {
            "color": "#2a3f5f"
           }
          },
          "ternary": {
           "aaxis": {
            "gridcolor": "white",
            "linecolor": "white",
            "ticks": ""
           },
           "baxis": {
            "gridcolor": "white",
            "linecolor": "white",
            "ticks": ""
           },
           "bgcolor": "#E5ECF6",
           "caxis": {
            "gridcolor": "white",
            "linecolor": "white",
            "ticks": ""
           }
          },
          "title": {
           "x": 0.05
          },
          "xaxis": {
           "automargin": true,
           "gridcolor": "white",
           "linecolor": "white",
           "ticks": "",
           "title": {
            "standoff": 15
           },
           "zerolinecolor": "white",
           "zerolinewidth": 2
          },
          "yaxis": {
           "automargin": true,
           "gridcolor": "white",
           "linecolor": "white",
           "ticks": "",
           "title": {
            "standoff": 15
           },
           "zerolinecolor": "white",
           "zerolinewidth": 2
          }
         }
        },
        "xaxis": {
         "anchor": "y",
         "domain": [
          0,
          1
         ],
         "title": {
          "text": "Service Date"
         }
        },
        "yaxis": {
         "anchor": "x",
         "domain": [
          0,
          1
         ],
         "title": {
          "text": "count"
         }
        }
       }
      }
     },
     "metadata": {},
     "output_type": "display_data"
    }
   ],
   "source": [
    "import plotly.express as px\n",
    "fig = px.bar(service_date_counts, x=\"Service Date\", y=\"count\", hover_data=[\"count\"], color_discrete_sequence=[\"#000000\"])\n",
    "fig.show()"
   ]
  },
  {
   "cell_type": "markdown",
   "metadata": {},
   "source": [
    "There seems to be very less data for Jan 2022 and Dec 2024."
   ]
  },
  {
   "cell_type": "code",
   "execution_count": 304,
   "metadata": {},
   "outputs": [],
   "source": [
    "high_cost_by_service_date = df.filter(df['High Cost Claim']==1)['Service Date'].value_counts()"
   ]
  },
  {
   "cell_type": "code",
   "execution_count": 305,
   "metadata": {},
   "outputs": [
    {
     "data": {
      "application/vnd.plotly.v1+json": {
       "config": {
        "plotlyServerURL": "https://plot.ly"
       },
       "data": [
        {
         "alignmentgroup": "True",
         "hovertemplate": "Service Date=%{x}<br>count=%{y}<extra></extra>",
         "legendgroup": "",
         "marker": {
          "color": "#000000",
          "pattern": {
           "shape": ""
          }
         },
         "name": "",
         "offsetgroup": "",
         "orientation": "v",
         "showlegend": false,
         "textposition": "auto",
         "type": "bar",
         "x": [
          "2024-10-02T00:00:00",
          "2023-12-05T00:00:00",
          "2022-11-20T00:00:00",
          "2024-08-12T00:00:00",
          "2024-08-23T00:00:00",
          "2024-09-10T00:00:00",
          "2024-12-22T00:00:00",
          "2024-08-11T00:00:00",
          "2022-02-01T00:00:00",
          "2024-11-25T00:00:00",
          "2024-04-02T00:00:00",
          "2024-06-16T00:00:00",
          "2024-08-22T00:00:00",
          "2024-06-22T00:00:00",
          "2022-10-15T00:00:00",
          "2023-12-11T00:00:00",
          "2024-11-03T00:00:00",
          "2024-02-15T00:00:00",
          "2022-03-24T00:00:00",
          "2024-04-25T00:00:00",
          "2023-01-15T00:00:00",
          "2024-06-19T00:00:00",
          "2024-11-04T00:00:00",
          "2024-06-28T00:00:00",
          "2024-06-27T00:00:00",
          "2024-08-14T00:00:00",
          "2024-06-20T00:00:00",
          "2024-10-04T00:00:00",
          "2024-09-30T00:00:00",
          "2022-06-03T00:00:00",
          "2024-10-01T00:00:00",
          "2024-03-20T00:00:00",
          "2024-06-30T00:00:00",
          "2022-10-09T00:00:00",
          "2023-02-08T00:00:00",
          "2023-09-22T00:00:00",
          "2022-01-29T00:00:00",
          "2024-04-09T00:00:00",
          "2024-09-01T00:00:00",
          "2023-01-05T00:00:00",
          "2024-10-11T00:00:00",
          "2024-03-07T00:00:00",
          "2022-05-16T00:00:00",
          "2024-08-31T00:00:00",
          "2022-04-10T00:00:00",
          "2024-06-06T00:00:00",
          "2024-12-03T00:00:00",
          "2024-09-19T00:00:00",
          "2024-10-10T00:00:00",
          "2024-08-15T00:00:00",
          "2024-10-09T00:00:00",
          "2023-03-03T00:00:00",
          "2024-08-19T00:00:00",
          "2022-09-20T00:00:00",
          "2024-10-12T00:00:00",
          "2024-05-01T00:00:00",
          "2024-09-16T00:00:00",
          "2024-09-25T00:00:00",
          "2024-09-29T00:00:00",
          "2024-02-14T00:00:00",
          "2022-03-04T00:00:00",
          "2024-08-01T00:00:00",
          "2022-05-19T00:00:00",
          "2023-10-30T00:00:00",
          "2023-07-02T00:00:00",
          "2023-09-30T00:00:00",
          "2024-07-13T00:00:00",
          "2024-02-16T00:00:00",
          "2024-08-28T00:00:00",
          "2024-10-22T00:00:00",
          "2023-02-17T00:00:00",
          "2023-10-23T00:00:00",
          "2024-08-24T00:00:00",
          "2024-09-26T00:00:00",
          "2024-09-12T00:00:00",
          "2024-05-25T00:00:00",
          "2024-08-21T00:00:00",
          "2024-05-19T00:00:00",
          "2022-01-28T00:00:00",
          "2024-10-03T00:00:00",
          "2024-11-07T00:00:00",
          "2022-10-17T00:00:00",
          "2022-12-03T00:00:00",
          "2023-12-02T00:00:00",
          "2024-11-10T00:00:00",
          "2023-01-06T00:00:00",
          "2024-06-21T00:00:00",
          "2024-07-08T00:00:00",
          "2024-11-29T00:00:00",
          "2024-07-11T00:00:00",
          "2024-08-07T00:00:00",
          "2024-06-14T00:00:00",
          "2024-10-27T00:00:00",
          "2022-10-25T00:00:00",
          "2022-01-10T00:00:00",
          "2023-06-03T00:00:00",
          "2024-02-27T00:00:00",
          "2024-10-25T00:00:00",
          "2024-07-31T00:00:00",
          "2024-11-19T00:00:00",
          "2023-04-12T00:00:00",
          "2024-01-01T00:00:00",
          "2024-09-17T00:00:00",
          "2024-11-26T00:00:00",
          "2024-04-20T00:00:00",
          "2024-09-15T00:00:00",
          "2024-08-26T00:00:00",
          "2024-03-09T00:00:00",
          "2024-02-26T00:00:00",
          "2024-06-25T00:00:00",
          "2023-08-28T00:00:00",
          "2022-05-03T00:00:00",
          "2024-08-17T00:00:00",
          "2023-12-12T00:00:00",
          "2024-11-11T00:00:00",
          "2022-02-02T00:00:00",
          "2024-01-23T00:00:00",
          "2022-06-12T00:00:00",
          "2023-01-14T00:00:00",
          "2022-08-31T00:00:00",
          "2024-03-12T00:00:00",
          "2024-03-21T00:00:00",
          "2024-06-11T00:00:00",
          "2024-09-09T00:00:00",
          "2024-08-08T00:00:00",
          "2024-08-30T00:00:00",
          "2023-01-24T00:00:00",
          "2024-10-13T00:00:00",
          "2024-09-24T00:00:00",
          "2024-06-23T00:00:00",
          "2024-03-01T00:00:00",
          "2024-09-18T00:00:00",
          "2024-10-06T00:00:00",
          "2024-11-28T00:00:00",
          "2024-10-21T00:00:00",
          "2024-07-04T00:00:00",
          "2024-05-05T00:00:00",
          "2024-07-15T00:00:00",
          "2024-08-06T00:00:00",
          "2024-08-13T00:00:00",
          "2022-07-20T00:00:00",
          "2024-07-26T00:00:00",
          "2024-08-29T00:00:00",
          "2024-09-14T00:00:00",
          "2022-10-01T00:00:00",
          "2024-09-27T00:00:00",
          "2023-12-21T00:00:00",
          "2024-09-07T00:00:00",
          "2023-06-04T00:00:00",
          "2023-12-19T00:00:00",
          "2024-06-13T00:00:00",
          "2024-05-02T00:00:00",
          "2024-10-28T00:00:00",
          "2022-06-23T00:00:00",
          "2024-08-04T00:00:00",
          "2024-09-23T00:00:00",
          "2023-07-24T00:00:00",
          "2023-12-06T00:00:00",
          "2023-11-29T00:00:00",
          "2024-07-01T00:00:00",
          "2024-05-23T00:00:00",
          "2024-11-02T00:00:00",
          "2022-06-25T00:00:00",
          "2024-09-06T00:00:00",
          "2023-11-12T00:00:00",
          "2024-06-04T00:00:00",
          "2024-05-27T00:00:00",
          "2024-01-03T00:00:00",
          "2024-10-18T00:00:00",
          "2022-03-25T00:00:00",
          "2024-04-23T00:00:00",
          "2024-06-08T00:00:00",
          "2022-10-13T00:00:00",
          "2024-07-18T00:00:00",
          "2024-07-22T00:00:00",
          "2024-05-11T00:00:00",
          "2024-11-18T00:00:00",
          "2024-11-05T00:00:00",
          "2024-08-09T00:00:00",
          "2024-01-06T00:00:00",
          "2024-04-08T00:00:00",
          "2023-10-20T00:00:00",
          "2024-11-01T00:00:00",
          "2024-04-17T00:00:00",
          "2024-03-15T00:00:00",
          "2024-09-05T00:00:00",
          "2024-10-08T00:00:00",
          "2024-06-12T00:00:00",
          "2022-04-29T00:00:00",
          "2023-07-10T00:00:00",
          "2022-05-26T00:00:00",
          "2024-06-24T00:00:00",
          "2024-10-19T00:00:00",
          "2023-02-15T00:00:00",
          "2023-05-22T00:00:00",
          "2024-07-27T00:00:00",
          "2024-05-15T00:00:00",
          "2024-01-07T00:00:00",
          "2023-09-13T00:00:00",
          "2024-07-12T00:00:00",
          "2023-12-26T00:00:00",
          "2024-04-29T00:00:00",
          "2023-12-14T00:00:00",
          "2023-04-20T00:00:00",
          "2024-11-17T00:00:00",
          "2024-10-23T00:00:00",
          "2023-10-01T00:00:00",
          "2023-04-22T00:00:00",
          "2024-09-20T00:00:00",
          "2024-07-10T00:00:00",
          "2024-07-06T00:00:00",
          "2022-10-24T00:00:00",
          "2024-08-03T00:00:00",
          "2024-07-30T00:00:00",
          "2024-02-06T00:00:00",
          "2024-05-20T00:00:00",
          "2024-06-29T00:00:00",
          "2024-07-02T00:00:00",
          "2022-02-11T00:00:00",
          "2024-08-20T00:00:00",
          "2024-07-14T00:00:00",
          "2024-09-21T00:00:00",
          "2024-04-15T00:00:00",
          "2024-09-13T00:00:00",
          "2024-11-13T00:00:00",
          "2022-12-14T00:00:00",
          "2024-03-16T00:00:00",
          "2024-03-19T00:00:00",
          "2024-05-30T00:00:00",
          "2024-07-28T00:00:00",
          "2024-08-18T00:00:00",
          "2024-06-18T00:00:00",
          "2024-05-29T00:00:00",
          "2023-06-23T00:00:00",
          "2023-10-12T00:00:00",
          "2024-11-16T00:00:00",
          "2024-07-05T00:00:00",
          "2022-05-23T00:00:00",
          "2024-07-03T00:00:00",
          "2024-03-23T00:00:00",
          "2023-07-26T00:00:00",
          "2023-10-10T00:00:00",
          "2024-12-17T00:00:00",
          "2022-01-14T00:00:00",
          "2024-05-31T00:00:00",
          "2022-09-14T00:00:00",
          "2024-05-17T00:00:00",
          "2024-07-20T00:00:00",
          "2024-02-24T00:00:00",
          "2023-06-29T00:00:00",
          "2024-05-06T00:00:00",
          "2024-10-24T00:00:00",
          "2024-07-17T00:00:00",
          "2024-10-05T00:00:00",
          "2023-08-17T00:00:00",
          "2023-12-01T00:00:00",
          "2024-05-16T00:00:00",
          "2024-06-03T00:00:00",
          "2024-11-30T00:00:00",
          "2024-04-06T00:00:00",
          "2024-04-30T00:00:00",
          "2024-09-11T00:00:00",
          "2023-10-06T00:00:00",
          "2024-04-28T00:00:00",
          "2023-06-30T00:00:00",
          "2023-11-30T00:00:00",
          "2024-06-07T00:00:00",
          "2024-03-08T00:00:00",
          "2024-08-05T00:00:00",
          "2024-07-07T00:00:00",
          "2024-06-02T00:00:00",
          "2024-10-17T00:00:00",
          "2024-12-01T00:00:00",
          "2023-12-13T00:00:00",
          "2024-10-07T00:00:00",
          "2024-09-04T00:00:00",
          "2024-05-12T00:00:00",
          "2023-12-07T00:00:00",
          "2022-02-10T00:00:00",
          "2024-01-20T00:00:00",
          "2022-12-01T00:00:00",
          "2022-11-18T00:00:00",
          "2024-10-26T00:00:00",
          "2023-01-09T00:00:00",
          "2023-10-26T00:00:00",
          "2024-11-27T00:00:00",
          "2024-09-02T00:00:00",
          "2023-11-06T00:00:00",
          "2022-09-03T00:00:00",
          "2024-12-20T00:00:00",
          "2022-07-23T00:00:00",
          "2024-12-04T00:00:00",
          "2024-10-15T00:00:00",
          "2024-12-07T00:00:00",
          "2024-10-16T00:00:00",
          "2024-04-03T00:00:00",
          "2024-03-27T00:00:00",
          "2023-12-15T00:00:00",
          "2024-01-26T00:00:00",
          "2022-02-22T00:00:00",
          "2023-05-23T00:00:00",
          "2024-06-10T00:00:00",
          "2024-08-16T00:00:00",
          "2023-11-07T00:00:00",
          "2024-11-23T00:00:00",
          "2022-10-19T00:00:00",
          "2022-08-22T00:00:00",
          "2024-09-22T00:00:00",
          "2024-07-09T00:00:00",
          "2023-05-07T00:00:00",
          "2024-05-22T00:00:00",
          "2023-09-01T00:00:00",
          "2023-03-08T00:00:00",
          "2024-06-09T00:00:00",
          "2023-03-26T00:00:00",
          "2023-08-29T00:00:00",
          "2024-05-14T00:00:00",
          "2024-05-04T00:00:00",
          "2024-06-26T00:00:00",
          "2024-09-03T00:00:00",
          "2024-04-07T00:00:00",
          "2024-11-24T00:00:00",
          "2023-10-05T00:00:00",
          "2023-01-18T00:00:00",
          "2024-04-10T00:00:00",
          "2024-10-30T00:00:00",
          "2024-01-28T00:00:00",
          "2024-01-15T00:00:00",
          "2024-07-19T00:00:00",
          "2024-03-13T00:00:00",
          "2022-12-23T00:00:00",
          "2024-11-21T00:00:00",
          "2024-05-26T00:00:00",
          "2023-07-06T00:00:00",
          "2024-08-25T00:00:00",
          "2024-04-22T00:00:00",
          "2024-04-16T00:00:00",
          "2024-04-04T00:00:00",
          "2022-05-10T00:00:00",
          "2024-03-22T00:00:00",
          "2024-10-14T00:00:00",
          "2024-12-06T00:00:00",
          "2022-09-08T00:00:00",
          "2024-07-21T00:00:00",
          "2024-05-28T00:00:00",
          "2024-10-29T00:00:00",
          "2023-12-29T00:00:00",
          "2024-05-21T00:00:00",
          "2024-02-04T00:00:00",
          "2024-10-31T00:00:00",
          "2024-09-28T00:00:00",
          "2024-11-09T00:00:00",
          "2023-11-08T00:00:00",
          "2024-11-12T00:00:00",
          "2024-02-09T00:00:00",
          "2024-08-02T00:00:00",
          "2024-07-23T00:00:00"
         ],
         "xaxis": "x",
         "y": [
          13,
          7,
          51,
          58,
          60,
          18,
          24,
          28,
          2,
          11,
          82,
          125,
          53,
          43,
          15,
          38,
          16,
          49,
          16,
          127,
          23,
          53,
          22,
          16,
          47,
          89,
          60,
          33,
          114,
          21,
          41,
          30,
          77,
          32,
          18,
          19,
          35,
          60,
          34,
          18,
          20,
          42,
          9,
          142,
          22,
          198,
          13,
          5,
          18,
          46,
          24,
          24,
          41,
          43,
          78,
          2,
          33,
          111,
          42,
          23,
          15,
          35,
          36,
          19,
          54,
          34,
          37,
          16,
          258,
          29,
          30,
          30,
          38,
          10,
          90,
          23,
          25,
          22,
          40,
          7,
          20,
          14,
          25,
          30,
          28,
          30,
          72,
          27,
          38,
          62,
          85,
          18,
          52,
          9,
          59,
          17,
          31,
          63,
          59,
          12,
          45,
          8,
          32,
          47,
          29,
          33,
          43,
          10,
          47,
          40,
          11,
          12,
          30,
          32,
          30,
          23,
          47,
          6,
          2,
          3,
          21,
          176,
          41,
          97,
          105,
          44,
          18,
          130,
          11,
          44,
          25,
          68,
          85,
          21,
          31,
          42,
          19,
          108,
          47,
          31,
          30,
          77,
          126,
          112,
          3,
          59,
          2,
          71,
          21,
          7,
          18,
          13,
          38,
          16,
          52,
          50,
          28,
          14,
          26,
          34,
          109,
          69,
          2,
          117,
          25,
          20,
          72,
          28,
          17,
          11,
          5,
          45,
          22,
          23,
          39,
          26,
          19,
          19,
          24,
          27,
          36,
          22,
          27,
          30,
          28,
          76,
          39,
          109,
          16,
          15,
          43,
          91,
          39,
          17,
          28,
          14,
          31,
          3,
          16,
          24,
          31,
          82,
          15,
          6,
          35,
          15,
          13,
          46,
          59,
          60,
          25,
          27,
          54,
          17,
          62,
          63,
          49,
          18,
          15,
          49,
          16,
          92,
          65,
          4,
          64,
          16,
          34,
          40,
          114,
          94,
          86,
          32,
          59,
          28,
          70,
          101,
          43,
          13,
          34,
          27,
          35,
          25,
          18,
          13,
          83,
          37,
          67,
          11,
          64,
          26,
          20,
          39,
          53,
          57,
          63,
          25,
          114,
          54,
          32,
          11,
          44,
          84,
          15,
          55,
          24,
          18,
          26,
          8,
          140,
          66,
          25,
          34,
          48,
          13,
          21,
          107,
          70,
          7,
          43,
          25,
          22,
          13,
          52,
          34,
          38,
          54,
          49,
          22,
          32,
          16,
          24,
          24,
          43,
          31,
          42,
          22,
          20,
          46,
          37,
          25,
          83,
          98,
          87,
          28,
          24,
          32,
          4,
          51,
          25,
          4,
          45,
          13,
          29,
          31,
          31,
          25,
          101,
          61,
          147,
          169,
          35,
          18,
          13,
          9,
          35,
          21,
          40,
          10,
          4,
          17,
          17,
          45,
          90,
          25,
          32,
          27,
          64,
          15,
          13,
          18,
          119,
          16,
          22,
          48,
          112,
          24,
          2,
          68,
          11,
          37,
          99,
          23,
          56,
          22,
          30,
          65,
          42
         ],
         "yaxis": "y"
        }
       ],
       "layout": {
        "barmode": "relative",
        "legend": {
         "tracegroupgap": 0
        },
        "margin": {
         "t": 60
        },
        "template": {
         "data": {
          "bar": [
           {
            "error_x": {
             "color": "#2a3f5f"
            },
            "error_y": {
             "color": "#2a3f5f"
            },
            "marker": {
             "line": {
              "color": "#E5ECF6",
              "width": 0.5
             },
             "pattern": {
              "fillmode": "overlay",
              "size": 10,
              "solidity": 0.2
             }
            },
            "type": "bar"
           }
          ],
          "barpolar": [
           {
            "marker": {
             "line": {
              "color": "#E5ECF6",
              "width": 0.5
             },
             "pattern": {
              "fillmode": "overlay",
              "size": 10,
              "solidity": 0.2
             }
            },
            "type": "barpolar"
           }
          ],
          "carpet": [
           {
            "aaxis": {
             "endlinecolor": "#2a3f5f",
             "gridcolor": "white",
             "linecolor": "white",
             "minorgridcolor": "white",
             "startlinecolor": "#2a3f5f"
            },
            "baxis": {
             "endlinecolor": "#2a3f5f",
             "gridcolor": "white",
             "linecolor": "white",
             "minorgridcolor": "white",
             "startlinecolor": "#2a3f5f"
            },
            "type": "carpet"
           }
          ],
          "choropleth": [
           {
            "colorbar": {
             "outlinewidth": 0,
             "ticks": ""
            },
            "type": "choropleth"
           }
          ],
          "contour": [
           {
            "colorbar": {
             "outlinewidth": 0,
             "ticks": ""
            },
            "colorscale": [
             [
              0,
              "#0d0887"
             ],
             [
              0.1111111111111111,
              "#46039f"
             ],
             [
              0.2222222222222222,
              "#7201a8"
             ],
             [
              0.3333333333333333,
              "#9c179e"
             ],
             [
              0.4444444444444444,
              "#bd3786"
             ],
             [
              0.5555555555555556,
              "#d8576b"
             ],
             [
              0.6666666666666666,
              "#ed7953"
             ],
             [
              0.7777777777777778,
              "#fb9f3a"
             ],
             [
              0.8888888888888888,
              "#fdca26"
             ],
             [
              1,
              "#f0f921"
             ]
            ],
            "type": "contour"
           }
          ],
          "contourcarpet": [
           {
            "colorbar": {
             "outlinewidth": 0,
             "ticks": ""
            },
            "type": "contourcarpet"
           }
          ],
          "heatmap": [
           {
            "colorbar": {
             "outlinewidth": 0,
             "ticks": ""
            },
            "colorscale": [
             [
              0,
              "#0d0887"
             ],
             [
              0.1111111111111111,
              "#46039f"
             ],
             [
              0.2222222222222222,
              "#7201a8"
             ],
             [
              0.3333333333333333,
              "#9c179e"
             ],
             [
              0.4444444444444444,
              "#bd3786"
             ],
             [
              0.5555555555555556,
              "#d8576b"
             ],
             [
              0.6666666666666666,
              "#ed7953"
             ],
             [
              0.7777777777777778,
              "#fb9f3a"
             ],
             [
              0.8888888888888888,
              "#fdca26"
             ],
             [
              1,
              "#f0f921"
             ]
            ],
            "type": "heatmap"
           }
          ],
          "heatmapgl": [
           {
            "colorbar": {
             "outlinewidth": 0,
             "ticks": ""
            },
            "colorscale": [
             [
              0,
              "#0d0887"
             ],
             [
              0.1111111111111111,
              "#46039f"
             ],
             [
              0.2222222222222222,
              "#7201a8"
             ],
             [
              0.3333333333333333,
              "#9c179e"
             ],
             [
              0.4444444444444444,
              "#bd3786"
             ],
             [
              0.5555555555555556,
              "#d8576b"
             ],
             [
              0.6666666666666666,
              "#ed7953"
             ],
             [
              0.7777777777777778,
              "#fb9f3a"
             ],
             [
              0.8888888888888888,
              "#fdca26"
             ],
             [
              1,
              "#f0f921"
             ]
            ],
            "type": "heatmapgl"
           }
          ],
          "histogram": [
           {
            "marker": {
             "pattern": {
              "fillmode": "overlay",
              "size": 10,
              "solidity": 0.2
             }
            },
            "type": "histogram"
           }
          ],
          "histogram2d": [
           {
            "colorbar": {
             "outlinewidth": 0,
             "ticks": ""
            },
            "colorscale": [
             [
              0,
              "#0d0887"
             ],
             [
              0.1111111111111111,
              "#46039f"
             ],
             [
              0.2222222222222222,
              "#7201a8"
             ],
             [
              0.3333333333333333,
              "#9c179e"
             ],
             [
              0.4444444444444444,
              "#bd3786"
             ],
             [
              0.5555555555555556,
              "#d8576b"
             ],
             [
              0.6666666666666666,
              "#ed7953"
             ],
             [
              0.7777777777777778,
              "#fb9f3a"
             ],
             [
              0.8888888888888888,
              "#fdca26"
             ],
             [
              1,
              "#f0f921"
             ]
            ],
            "type": "histogram2d"
           }
          ],
          "histogram2dcontour": [
           {
            "colorbar": {
             "outlinewidth": 0,
             "ticks": ""
            },
            "colorscale": [
             [
              0,
              "#0d0887"
             ],
             [
              0.1111111111111111,
              "#46039f"
             ],
             [
              0.2222222222222222,
              "#7201a8"
             ],
             [
              0.3333333333333333,
              "#9c179e"
             ],
             [
              0.4444444444444444,
              "#bd3786"
             ],
             [
              0.5555555555555556,
              "#d8576b"
             ],
             [
              0.6666666666666666,
              "#ed7953"
             ],
             [
              0.7777777777777778,
              "#fb9f3a"
             ],
             [
              0.8888888888888888,
              "#fdca26"
             ],
             [
              1,
              "#f0f921"
             ]
            ],
            "type": "histogram2dcontour"
           }
          ],
          "mesh3d": [
           {
            "colorbar": {
             "outlinewidth": 0,
             "ticks": ""
            },
            "type": "mesh3d"
           }
          ],
          "parcoords": [
           {
            "line": {
             "colorbar": {
              "outlinewidth": 0,
              "ticks": ""
             }
            },
            "type": "parcoords"
           }
          ],
          "pie": [
           {
            "automargin": true,
            "type": "pie"
           }
          ],
          "scatter": [
           {
            "fillpattern": {
             "fillmode": "overlay",
             "size": 10,
             "solidity": 0.2
            },
            "type": "scatter"
           }
          ],
          "scatter3d": [
           {
            "line": {
             "colorbar": {
              "outlinewidth": 0,
              "ticks": ""
             }
            },
            "marker": {
             "colorbar": {
              "outlinewidth": 0,
              "ticks": ""
             }
            },
            "type": "scatter3d"
           }
          ],
          "scattercarpet": [
           {
            "marker": {
             "colorbar": {
              "outlinewidth": 0,
              "ticks": ""
             }
            },
            "type": "scattercarpet"
           }
          ],
          "scattergeo": [
           {
            "marker": {
             "colorbar": {
              "outlinewidth": 0,
              "ticks": ""
             }
            },
            "type": "scattergeo"
           }
          ],
          "scattergl": [
           {
            "marker": {
             "colorbar": {
              "outlinewidth": 0,
              "ticks": ""
             }
            },
            "type": "scattergl"
           }
          ],
          "scattermapbox": [
           {
            "marker": {
             "colorbar": {
              "outlinewidth": 0,
              "ticks": ""
             }
            },
            "type": "scattermapbox"
           }
          ],
          "scatterpolar": [
           {
            "marker": {
             "colorbar": {
              "outlinewidth": 0,
              "ticks": ""
             }
            },
            "type": "scatterpolar"
           }
          ],
          "scatterpolargl": [
           {
            "marker": {
             "colorbar": {
              "outlinewidth": 0,
              "ticks": ""
             }
            },
            "type": "scatterpolargl"
           }
          ],
          "scatterternary": [
           {
            "marker": {
             "colorbar": {
              "outlinewidth": 0,
              "ticks": ""
             }
            },
            "type": "scatterternary"
           }
          ],
          "surface": [
           {
            "colorbar": {
             "outlinewidth": 0,
             "ticks": ""
            },
            "colorscale": [
             [
              0,
              "#0d0887"
             ],
             [
              0.1111111111111111,
              "#46039f"
             ],
             [
              0.2222222222222222,
              "#7201a8"
             ],
             [
              0.3333333333333333,
              "#9c179e"
             ],
             [
              0.4444444444444444,
              "#bd3786"
             ],
             [
              0.5555555555555556,
              "#d8576b"
             ],
             [
              0.6666666666666666,
              "#ed7953"
             ],
             [
              0.7777777777777778,
              "#fb9f3a"
             ],
             [
              0.8888888888888888,
              "#fdca26"
             ],
             [
              1,
              "#f0f921"
             ]
            ],
            "type": "surface"
           }
          ],
          "table": [
           {
            "cells": {
             "fill": {
              "color": "#EBF0F8"
             },
             "line": {
              "color": "white"
             }
            },
            "header": {
             "fill": {
              "color": "#C8D4E3"
             },
             "line": {
              "color": "white"
             }
            },
            "type": "table"
           }
          ]
         },
         "layout": {
          "annotationdefaults": {
           "arrowcolor": "#2a3f5f",
           "arrowhead": 0,
           "arrowwidth": 1
          },
          "autotypenumbers": "strict",
          "coloraxis": {
           "colorbar": {
            "outlinewidth": 0,
            "ticks": ""
           }
          },
          "colorscale": {
           "diverging": [
            [
             0,
             "#8e0152"
            ],
            [
             0.1,
             "#c51b7d"
            ],
            [
             0.2,
             "#de77ae"
            ],
            [
             0.3,
             "#f1b6da"
            ],
            [
             0.4,
             "#fde0ef"
            ],
            [
             0.5,
             "#f7f7f7"
            ],
            [
             0.6,
             "#e6f5d0"
            ],
            [
             0.7,
             "#b8e186"
            ],
            [
             0.8,
             "#7fbc41"
            ],
            [
             0.9,
             "#4d9221"
            ],
            [
             1,
             "#276419"
            ]
           ],
           "sequential": [
            [
             0,
             "#0d0887"
            ],
            [
             0.1111111111111111,
             "#46039f"
            ],
            [
             0.2222222222222222,
             "#7201a8"
            ],
            [
             0.3333333333333333,
             "#9c179e"
            ],
            [
             0.4444444444444444,
             "#bd3786"
            ],
            [
             0.5555555555555556,
             "#d8576b"
            ],
            [
             0.6666666666666666,
             "#ed7953"
            ],
            [
             0.7777777777777778,
             "#fb9f3a"
            ],
            [
             0.8888888888888888,
             "#fdca26"
            ],
            [
             1,
             "#f0f921"
            ]
           ],
           "sequentialminus": [
            [
             0,
             "#0d0887"
            ],
            [
             0.1111111111111111,
             "#46039f"
            ],
            [
             0.2222222222222222,
             "#7201a8"
            ],
            [
             0.3333333333333333,
             "#9c179e"
            ],
            [
             0.4444444444444444,
             "#bd3786"
            ],
            [
             0.5555555555555556,
             "#d8576b"
            ],
            [
             0.6666666666666666,
             "#ed7953"
            ],
            [
             0.7777777777777778,
             "#fb9f3a"
            ],
            [
             0.8888888888888888,
             "#fdca26"
            ],
            [
             1,
             "#f0f921"
            ]
           ]
          },
          "colorway": [
           "#636efa",
           "#EF553B",
           "#00cc96",
           "#ab63fa",
           "#FFA15A",
           "#19d3f3",
           "#FF6692",
           "#B6E880",
           "#FF97FF",
           "#FECB52"
          ],
          "font": {
           "color": "#2a3f5f"
          },
          "geo": {
           "bgcolor": "white",
           "lakecolor": "white",
           "landcolor": "#E5ECF6",
           "showlakes": true,
           "showland": true,
           "subunitcolor": "white"
          },
          "hoverlabel": {
           "align": "left"
          },
          "hovermode": "closest",
          "mapbox": {
           "style": "light"
          },
          "paper_bgcolor": "white",
          "plot_bgcolor": "#E5ECF6",
          "polar": {
           "angularaxis": {
            "gridcolor": "white",
            "linecolor": "white",
            "ticks": ""
           },
           "bgcolor": "#E5ECF6",
           "radialaxis": {
            "gridcolor": "white",
            "linecolor": "white",
            "ticks": ""
           }
          },
          "scene": {
           "xaxis": {
            "backgroundcolor": "#E5ECF6",
            "gridcolor": "white",
            "gridwidth": 2,
            "linecolor": "white",
            "showbackground": true,
            "ticks": "",
            "zerolinecolor": "white"
           },
           "yaxis": {
            "backgroundcolor": "#E5ECF6",
            "gridcolor": "white",
            "gridwidth": 2,
            "linecolor": "white",
            "showbackground": true,
            "ticks": "",
            "zerolinecolor": "white"
           },
           "zaxis": {
            "backgroundcolor": "#E5ECF6",
            "gridcolor": "white",
            "gridwidth": 2,
            "linecolor": "white",
            "showbackground": true,
            "ticks": "",
            "zerolinecolor": "white"
           }
          },
          "shapedefaults": {
           "line": {
            "color": "#2a3f5f"
           }
          },
          "ternary": {
           "aaxis": {
            "gridcolor": "white",
            "linecolor": "white",
            "ticks": ""
           },
           "baxis": {
            "gridcolor": "white",
            "linecolor": "white",
            "ticks": ""
           },
           "bgcolor": "#E5ECF6",
           "caxis": {
            "gridcolor": "white",
            "linecolor": "white",
            "ticks": ""
           }
          },
          "title": {
           "x": 0.05
          },
          "xaxis": {
           "automargin": true,
           "gridcolor": "white",
           "linecolor": "white",
           "ticks": "",
           "title": {
            "standoff": 15
           },
           "zerolinecolor": "white",
           "zerolinewidth": 2
          },
          "yaxis": {
           "automargin": true,
           "gridcolor": "white",
           "linecolor": "white",
           "ticks": "",
           "title": {
            "standoff": 15
           },
           "zerolinecolor": "white",
           "zerolinewidth": 2
          }
         }
        },
        "xaxis": {
         "anchor": "y",
         "domain": [
          0,
          1
         ],
         "title": {
          "text": "Service Date"
         }
        },
        "yaxis": {
         "anchor": "x",
         "domain": [
          0,
          1
         ],
         "title": {
          "text": "count"
         }
        }
       }
      }
     },
     "metadata": {},
     "output_type": "display_data"
    }
   ],
   "source": [
    "fig = px.bar(high_cost_by_service_date, x=\"Service Date\", y=\"count\", hover_data=[\"count\"], color_discrete_sequence=[\"#000000\"])\n",
    "fig.show()"
   ]
  },
  {
   "cell_type": "code",
   "execution_count": 306,
   "metadata": {},
   "outputs": [],
   "source": [
    "jan = pl.lit(\"2022-02-01\").str.strptime(pl.Date)\n",
    "dec = pl.lit(\"2024-12-01\").str.strptime(pl.Date)\n"
   ]
  },
  {
   "cell_type": "code",
   "execution_count": 307,
   "metadata": {},
   "outputs": [],
   "source": [
    "jan_and_dec = df.filter((df['Service Date']<jan) | (df['Service Date']>dec))"
   ]
  },
  {
   "cell_type": "code",
   "execution_count": 308,
   "metadata": {},
   "outputs": [
    {
     "data": {
      "text/html": [
       "<div><style>\n",
       ".dataframe > thead > tr,\n",
       ".dataframe > tbody > tr {\n",
       "  text-align: right;\n",
       "  white-space: pre-wrap;\n",
       "}\n",
       "</style>\n",
       "<small>shape: (2, 2)</small><table border=\"1\" class=\"dataframe\"><thead><tr><th>Service Date</th><th>count</th></tr><tr><td>i8</td><td>u32</td></tr></thead><tbody><tr><td>12</td><td>3080</td></tr><tr><td>1</td><td>5499</td></tr></tbody></table></div>"
      ],
      "text/plain": [
       "shape: (2, 2)\n",
       "┌──────────────┬───────┐\n",
       "│ Service Date ┆ count │\n",
       "│ ---          ┆ ---   │\n",
       "│ i8           ┆ u32   │\n",
       "╞══════════════╪═══════╡\n",
       "│ 12           ┆ 3080  │\n",
       "│ 1            ┆ 5499  │\n",
       "└──────────────┴───────┘"
      ]
     },
     "execution_count": 308,
     "metadata": {},
     "output_type": "execute_result"
    }
   ],
   "source": [
    "jan_and_dec['Service Date'].dt.month().value_counts()"
   ]
  },
  {
   "cell_type": "code",
   "execution_count": 309,
   "metadata": {},
   "outputs": [
    {
     "data": {
      "text/html": [
       "<div><style>\n",
       ".dataframe > thead > tr,\n",
       ".dataframe > tbody > tr {\n",
       "  text-align: right;\n",
       "  white-space: pre-wrap;\n",
       "}\n",
       "</style>\n",
       "<small>shape: (2, 2)</small><table border=\"1\" class=\"dataframe\"><thead><tr><th>Service Date</th><th>count</th></tr><tr><td>i8</td><td>u32</td></tr></thead><tbody><tr><td>12</td><td>142</td></tr><tr><td>1</td><td>147</td></tr></tbody></table></div>"
      ],
      "text/plain": [
       "shape: (2, 2)\n",
       "┌──────────────┬───────┐\n",
       "│ Service Date ┆ count │\n",
       "│ ---          ┆ ---   │\n",
       "│ i8           ┆ u32   │\n",
       "╞══════════════╪═══════╡\n",
       "│ 12           ┆ 142   │\n",
       "│ 1            ┆ 147   │\n",
       "└──────────────┴───────┘"
      ]
     },
     "execution_count": 309,
     "metadata": {},
     "output_type": "execute_result"
    }
   ],
   "source": [
    "jan_and_dec.filter(jan_and_dec['High Cost Claim'] == 1)['Service Date'].dt.month().value_counts()"
   ]
  },
  {
   "cell_type": "code",
   "execution_count": 310,
   "metadata": {},
   "outputs": [
    {
     "data": {
      "application/vnd.plotly.v1+json": {
       "config": {
        "plotlyServerURL": "https://plot.ly"
       },
       "data": [
        {
         "alignmentgroup": "True",
         "hovertemplate": "Service Date=%{x}<br>count=%{y}<extra></extra>",
         "legendgroup": "",
         "marker": {
          "color": "#000000",
          "pattern": {
           "shape": ""
          }
         },
         "name": "",
         "offsetgroup": "",
         "orientation": "v",
         "showlegend": false,
         "textposition": "auto",
         "type": "bar",
         "x": [
          "2024-08-22T00:00:00",
          "2023-10-16T00:00:00",
          "2022-12-17T00:00:00",
          "2024-06-16T00:00:00",
          "2024-08-28T00:00:00",
          "2022-09-20T00:00:00",
          "2023-01-05T00:00:00",
          "2024-06-24T00:00:00",
          "2024-09-12T00:00:00",
          "2024-08-29T00:00:00",
          "2023-11-02T00:00:00",
          "2024-09-02T00:00:00",
          "2024-05-05T00:00:00",
          "2023-04-22T00:00:00",
          "2024-09-27T00:00:00",
          "2024-09-06T00:00:00",
          "2024-08-05T00:00:00",
          "2024-05-28T00:00:00",
          "2024-02-24T00:00:00",
          "2024-07-26T00:00:00",
          "2024-10-10T00:00:00",
          "2022-10-28T00:00:00",
          "2024-04-22T00:00:00",
          "2024-06-18T00:00:00",
          "2024-10-16T00:00:00",
          "2023-11-24T00:00:00",
          "2023-10-23T00:00:00",
          "2024-06-27T00:00:00",
          "2023-07-02T00:00:00",
          "2024-10-13T00:00:00",
          "2024-09-23T00:00:00",
          "2024-02-03T00:00:00",
          "2024-02-14T00:00:00",
          "2024-04-25T00:00:00",
          "2024-08-07T00:00:00",
          "2024-10-02T00:00:00",
          "2024-08-04T00:00:00",
          "2024-09-25T00:00:00",
          "2024-07-15T00:00:00",
          "2024-04-16T00:00:00",
          "2024-05-22T00:00:00",
          "2024-09-30T00:00:00",
          "2024-04-11T00:00:00",
          "2024-10-12T00:00:00",
          "2022-09-08T00:00:00",
          "2024-06-10T00:00:00",
          "2023-04-02T00:00:00",
          "2024-08-03T00:00:00",
          "2024-09-09T00:00:00",
          "2024-07-11T00:00:00",
          "2024-10-11T00:00:00",
          "2023-09-22T00:00:00",
          "2024-06-20T00:00:00",
          "2024-02-15T00:00:00",
          "2024-07-20T00:00:00",
          "2024-05-26T00:00:00",
          "2022-10-06T00:00:00",
          "2024-03-21T00:00:00",
          "2024-10-14T00:00:00",
          "2023-11-21T00:00:00",
          "2024-07-12T00:00:00",
          "2024-09-11T00:00:00",
          "2024-11-01T00:00:00",
          "2024-06-12T00:00:00",
          "2024-02-17T00:00:00",
          "2022-11-10T00:00:00",
          "2022-10-09T00:00:00",
          "2023-09-19T00:00:00",
          "2024-05-18T00:00:00",
          "2022-07-26T00:00:00",
          "2024-10-08T00:00:00",
          "2023-11-20T00:00:00",
          "2024-04-10T00:00:00",
          "2023-02-12T00:00:00",
          "2024-06-26T00:00:00",
          "2022-01-26T00:00:00",
          "2024-04-04T00:00:00",
          "2024-08-31T00:00:00",
          "2024-09-18T00:00:00",
          "2023-03-03T00:00:00",
          "2024-09-14T00:00:00",
          "2024-04-06T00:00:00",
          "2024-06-02T00:00:00",
          "2023-10-20T00:00:00",
          "2024-09-05T00:00:00",
          "2022-05-12T00:00:00",
          "2024-08-02T00:00:00",
          "2022-02-11T00:00:00",
          "2024-05-30T00:00:00",
          "2023-10-03T00:00:00",
          "2024-02-28T00:00:00",
          "2024-05-23T00:00:00",
          "2024-02-06T00:00:00",
          "2022-03-23T00:00:00",
          "2024-09-15T00:00:00",
          "2024-09-03T00:00:00",
          "2024-05-14T00:00:00",
          "2022-02-10T00:00:00",
          "2024-04-24T00:00:00",
          "2023-11-09T00:00:00",
          "2024-09-08T00:00:00",
          "2022-01-27T00:00:00",
          "2024-10-19T00:00:00",
          "2023-04-12T00:00:00",
          "2023-10-01T00:00:00",
          "2022-09-30T00:00:00",
          "2024-05-27T00:00:00",
          "2024-09-04T00:00:00",
          "2023-10-26T00:00:00",
          "2022-09-03T00:00:00",
          "2023-10-12T00:00:00",
          "2022-02-02T00:00:00",
          "2024-05-16T00:00:00",
          "2024-09-22T00:00:00",
          "2024-09-28T00:00:00",
          "2024-09-29T00:00:00",
          "2024-05-01T00:00:00",
          "2023-12-11T00:00:00",
          "2024-07-03T00:00:00",
          "2022-11-08T00:00:00",
          "2022-10-14T00:00:00",
          "2024-04-29T00:00:00",
          "2024-01-17T00:00:00",
          "2024-10-21T00:00:00",
          "2023-10-18T00:00:00",
          "2024-06-06T00:00:00"
         ],
         "xaxis": "x",
         "y": [
          300,
          322,
          301,
          314,
          432,
          335,
          305,
          350,
          338,
          433,
          314,
          380,
          335,
          311,
          329,
          350,
          338,
          349,
          333,
          331,
          301,
          345,
          365,
          355,
          314,
          310,
          338,
          304,
          308,
          418,
          310,
          330,
          335,
          368,
          333,
          351,
          324,
          335,
          357,
          369,
          354,
          325,
          308,
          330,
          301,
          320,
          377,
          337,
          356,
          315,
          347,
          325,
          346,
          315,
          310,
          356,
          311,
          413,
          384,
          317,
          342,
          330,
          331,
          383,
          300,
          320,
          347,
          324,
          310,
          312,
          349,
          400,
          301,
          307,
          380,
          306,
          322,
          386,
          323,
          305,
          317,
          314,
          310,
          325,
          353,
          362,
          326,
          381,
          314,
          323,
          311,
          315,
          336,
          328,
          311,
          363,
          311,
          300,
          356,
          327,
          325,
          313,
          311,
          319,
          378,
          353,
          356,
          312,
          315,
          347,
          383,
          338,
          331,
          302,
          342,
          309,
          312,
          331,
          321,
          312,
          343,
          331,
          309,
          304,
          340,
          408
         ],
         "yaxis": "y"
        }
       ],
       "layout": {
        "barmode": "relative",
        "legend": {
         "tracegroupgap": 0
        },
        "margin": {
         "t": 60
        },
        "template": {
         "data": {
          "bar": [
           {
            "error_x": {
             "color": "#2a3f5f"
            },
            "error_y": {
             "color": "#2a3f5f"
            },
            "marker": {
             "line": {
              "color": "#E5ECF6",
              "width": 0.5
             },
             "pattern": {
              "fillmode": "overlay",
              "size": 10,
              "solidity": 0.2
             }
            },
            "type": "bar"
           }
          ],
          "barpolar": [
           {
            "marker": {
             "line": {
              "color": "#E5ECF6",
              "width": 0.5
             },
             "pattern": {
              "fillmode": "overlay",
              "size": 10,
              "solidity": 0.2
             }
            },
            "type": "barpolar"
           }
          ],
          "carpet": [
           {
            "aaxis": {
             "endlinecolor": "#2a3f5f",
             "gridcolor": "white",
             "linecolor": "white",
             "minorgridcolor": "white",
             "startlinecolor": "#2a3f5f"
            },
            "baxis": {
             "endlinecolor": "#2a3f5f",
             "gridcolor": "white",
             "linecolor": "white",
             "minorgridcolor": "white",
             "startlinecolor": "#2a3f5f"
            },
            "type": "carpet"
           }
          ],
          "choropleth": [
           {
            "colorbar": {
             "outlinewidth": 0,
             "ticks": ""
            },
            "type": "choropleth"
           }
          ],
          "contour": [
           {
            "colorbar": {
             "outlinewidth": 0,
             "ticks": ""
            },
            "colorscale": [
             [
              0,
              "#0d0887"
             ],
             [
              0.1111111111111111,
              "#46039f"
             ],
             [
              0.2222222222222222,
              "#7201a8"
             ],
             [
              0.3333333333333333,
              "#9c179e"
             ],
             [
              0.4444444444444444,
              "#bd3786"
             ],
             [
              0.5555555555555556,
              "#d8576b"
             ],
             [
              0.6666666666666666,
              "#ed7953"
             ],
             [
              0.7777777777777778,
              "#fb9f3a"
             ],
             [
              0.8888888888888888,
              "#fdca26"
             ],
             [
              1,
              "#f0f921"
             ]
            ],
            "type": "contour"
           }
          ],
          "contourcarpet": [
           {
            "colorbar": {
             "outlinewidth": 0,
             "ticks": ""
            },
            "type": "contourcarpet"
           }
          ],
          "heatmap": [
           {
            "colorbar": {
             "outlinewidth": 0,
             "ticks": ""
            },
            "colorscale": [
             [
              0,
              "#0d0887"
             ],
             [
              0.1111111111111111,
              "#46039f"
             ],
             [
              0.2222222222222222,
              "#7201a8"
             ],
             [
              0.3333333333333333,
              "#9c179e"
             ],
             [
              0.4444444444444444,
              "#bd3786"
             ],
             [
              0.5555555555555556,
              "#d8576b"
             ],
             [
              0.6666666666666666,
              "#ed7953"
             ],
             [
              0.7777777777777778,
              "#fb9f3a"
             ],
             [
              0.8888888888888888,
              "#fdca26"
             ],
             [
              1,
              "#f0f921"
             ]
            ],
            "type": "heatmap"
           }
          ],
          "heatmapgl": [
           {
            "colorbar": {
             "outlinewidth": 0,
             "ticks": ""
            },
            "colorscale": [
             [
              0,
              "#0d0887"
             ],
             [
              0.1111111111111111,
              "#46039f"
             ],
             [
              0.2222222222222222,
              "#7201a8"
             ],
             [
              0.3333333333333333,
              "#9c179e"
             ],
             [
              0.4444444444444444,
              "#bd3786"
             ],
             [
              0.5555555555555556,
              "#d8576b"
             ],
             [
              0.6666666666666666,
              "#ed7953"
             ],
             [
              0.7777777777777778,
              "#fb9f3a"
             ],
             [
              0.8888888888888888,
              "#fdca26"
             ],
             [
              1,
              "#f0f921"
             ]
            ],
            "type": "heatmapgl"
           }
          ],
          "histogram": [
           {
            "marker": {
             "pattern": {
              "fillmode": "overlay",
              "size": 10,
              "solidity": 0.2
             }
            },
            "type": "histogram"
           }
          ],
          "histogram2d": [
           {
            "colorbar": {
             "outlinewidth": 0,
             "ticks": ""
            },
            "colorscale": [
             [
              0,
              "#0d0887"
             ],
             [
              0.1111111111111111,
              "#46039f"
             ],
             [
              0.2222222222222222,
              "#7201a8"
             ],
             [
              0.3333333333333333,
              "#9c179e"
             ],
             [
              0.4444444444444444,
              "#bd3786"
             ],
             [
              0.5555555555555556,
              "#d8576b"
             ],
             [
              0.6666666666666666,
              "#ed7953"
             ],
             [
              0.7777777777777778,
              "#fb9f3a"
             ],
             [
              0.8888888888888888,
              "#fdca26"
             ],
             [
              1,
              "#f0f921"
             ]
            ],
            "type": "histogram2d"
           }
          ],
          "histogram2dcontour": [
           {
            "colorbar": {
             "outlinewidth": 0,
             "ticks": ""
            },
            "colorscale": [
             [
              0,
              "#0d0887"
             ],
             [
              0.1111111111111111,
              "#46039f"
             ],
             [
              0.2222222222222222,
              "#7201a8"
             ],
             [
              0.3333333333333333,
              "#9c179e"
             ],
             [
              0.4444444444444444,
              "#bd3786"
             ],
             [
              0.5555555555555556,
              "#d8576b"
             ],
             [
              0.6666666666666666,
              "#ed7953"
             ],
             [
              0.7777777777777778,
              "#fb9f3a"
             ],
             [
              0.8888888888888888,
              "#fdca26"
             ],
             [
              1,
              "#f0f921"
             ]
            ],
            "type": "histogram2dcontour"
           }
          ],
          "mesh3d": [
           {
            "colorbar": {
             "outlinewidth": 0,
             "ticks": ""
            },
            "type": "mesh3d"
           }
          ],
          "parcoords": [
           {
            "line": {
             "colorbar": {
              "outlinewidth": 0,
              "ticks": ""
             }
            },
            "type": "parcoords"
           }
          ],
          "pie": [
           {
            "automargin": true,
            "type": "pie"
           }
          ],
          "scatter": [
           {
            "fillpattern": {
             "fillmode": "overlay",
             "size": 10,
             "solidity": 0.2
            },
            "type": "scatter"
           }
          ],
          "scatter3d": [
           {
            "line": {
             "colorbar": {
              "outlinewidth": 0,
              "ticks": ""
             }
            },
            "marker": {
             "colorbar": {
              "outlinewidth": 0,
              "ticks": ""
             }
            },
            "type": "scatter3d"
           }
          ],
          "scattercarpet": [
           {
            "marker": {
             "colorbar": {
              "outlinewidth": 0,
              "ticks": ""
             }
            },
            "type": "scattercarpet"
           }
          ],
          "scattergeo": [
           {
            "marker": {
             "colorbar": {
              "outlinewidth": 0,
              "ticks": ""
             }
            },
            "type": "scattergeo"
           }
          ],
          "scattergl": [
           {
            "marker": {
             "colorbar": {
              "outlinewidth": 0,
              "ticks": ""
             }
            },
            "type": "scattergl"
           }
          ],
          "scattermapbox": [
           {
            "marker": {
             "colorbar": {
              "outlinewidth": 0,
              "ticks": ""
             }
            },
            "type": "scattermapbox"
           }
          ],
          "scatterpolar": [
           {
            "marker": {
             "colorbar": {
              "outlinewidth": 0,
              "ticks": ""
             }
            },
            "type": "scatterpolar"
           }
          ],
          "scatterpolargl": [
           {
            "marker": {
             "colorbar": {
              "outlinewidth": 0,
              "ticks": ""
             }
            },
            "type": "scatterpolargl"
           }
          ],
          "scatterternary": [
           {
            "marker": {
             "colorbar": {
              "outlinewidth": 0,
              "ticks": ""
             }
            },
            "type": "scatterternary"
           }
          ],
          "surface": [
           {
            "colorbar": {
             "outlinewidth": 0,
             "ticks": ""
            },
            "colorscale": [
             [
              0,
              "#0d0887"
             ],
             [
              0.1111111111111111,
              "#46039f"
             ],
             [
              0.2222222222222222,
              "#7201a8"
             ],
             [
              0.3333333333333333,
              "#9c179e"
             ],
             [
              0.4444444444444444,
              "#bd3786"
             ],
             [
              0.5555555555555556,
              "#d8576b"
             ],
             [
              0.6666666666666666,
              "#ed7953"
             ],
             [
              0.7777777777777778,
              "#fb9f3a"
             ],
             [
              0.8888888888888888,
              "#fdca26"
             ],
             [
              1,
              "#f0f921"
             ]
            ],
            "type": "surface"
           }
          ],
          "table": [
           {
            "cells": {
             "fill": {
              "color": "#EBF0F8"
             },
             "line": {
              "color": "white"
             }
            },
            "header": {
             "fill": {
              "color": "#C8D4E3"
             },
             "line": {
              "color": "white"
             }
            },
            "type": "table"
           }
          ]
         },
         "layout": {
          "annotationdefaults": {
           "arrowcolor": "#2a3f5f",
           "arrowhead": 0,
           "arrowwidth": 1
          },
          "autotypenumbers": "strict",
          "coloraxis": {
           "colorbar": {
            "outlinewidth": 0,
            "ticks": ""
           }
          },
          "colorscale": {
           "diverging": [
            [
             0,
             "#8e0152"
            ],
            [
             0.1,
             "#c51b7d"
            ],
            [
             0.2,
             "#de77ae"
            ],
            [
             0.3,
             "#f1b6da"
            ],
            [
             0.4,
             "#fde0ef"
            ],
            [
             0.5,
             "#f7f7f7"
            ],
            [
             0.6,
             "#e6f5d0"
            ],
            [
             0.7,
             "#b8e186"
            ],
            [
             0.8,
             "#7fbc41"
            ],
            [
             0.9,
             "#4d9221"
            ],
            [
             1,
             "#276419"
            ]
           ],
           "sequential": [
            [
             0,
             "#0d0887"
            ],
            [
             0.1111111111111111,
             "#46039f"
            ],
            [
             0.2222222222222222,
             "#7201a8"
            ],
            [
             0.3333333333333333,
             "#9c179e"
            ],
            [
             0.4444444444444444,
             "#bd3786"
            ],
            [
             0.5555555555555556,
             "#d8576b"
            ],
            [
             0.6666666666666666,
             "#ed7953"
            ],
            [
             0.7777777777777778,
             "#fb9f3a"
            ],
            [
             0.8888888888888888,
             "#fdca26"
            ],
            [
             1,
             "#f0f921"
            ]
           ],
           "sequentialminus": [
            [
             0,
             "#0d0887"
            ],
            [
             0.1111111111111111,
             "#46039f"
            ],
            [
             0.2222222222222222,
             "#7201a8"
            ],
            [
             0.3333333333333333,
             "#9c179e"
            ],
            [
             0.4444444444444444,
             "#bd3786"
            ],
            [
             0.5555555555555556,
             "#d8576b"
            ],
            [
             0.6666666666666666,
             "#ed7953"
            ],
            [
             0.7777777777777778,
             "#fb9f3a"
            ],
            [
             0.8888888888888888,
             "#fdca26"
            ],
            [
             1,
             "#f0f921"
            ]
           ]
          },
          "colorway": [
           "#636efa",
           "#EF553B",
           "#00cc96",
           "#ab63fa",
           "#FFA15A",
           "#19d3f3",
           "#FF6692",
           "#B6E880",
           "#FF97FF",
           "#FECB52"
          ],
          "font": {
           "color": "#2a3f5f"
          },
          "geo": {
           "bgcolor": "white",
           "lakecolor": "white",
           "landcolor": "#E5ECF6",
           "showlakes": true,
           "showland": true,
           "subunitcolor": "white"
          },
          "hoverlabel": {
           "align": "left"
          },
          "hovermode": "closest",
          "mapbox": {
           "style": "light"
          },
          "paper_bgcolor": "white",
          "plot_bgcolor": "#E5ECF6",
          "polar": {
           "angularaxis": {
            "gridcolor": "white",
            "linecolor": "white",
            "ticks": ""
           },
           "bgcolor": "#E5ECF6",
           "radialaxis": {
            "gridcolor": "white",
            "linecolor": "white",
            "ticks": ""
           }
          },
          "scene": {
           "xaxis": {
            "backgroundcolor": "#E5ECF6",
            "gridcolor": "white",
            "gridwidth": 2,
            "linecolor": "white",
            "showbackground": true,
            "ticks": "",
            "zerolinecolor": "white"
           },
           "yaxis": {
            "backgroundcolor": "#E5ECF6",
            "gridcolor": "white",
            "gridwidth": 2,
            "linecolor": "white",
            "showbackground": true,
            "ticks": "",
            "zerolinecolor": "white"
           },
           "zaxis": {
            "backgroundcolor": "#E5ECF6",
            "gridcolor": "white",
            "gridwidth": 2,
            "linecolor": "white",
            "showbackground": true,
            "ticks": "",
            "zerolinecolor": "white"
           }
          },
          "shapedefaults": {
           "line": {
            "color": "#2a3f5f"
           }
          },
          "ternary": {
           "aaxis": {
            "gridcolor": "white",
            "linecolor": "white",
            "ticks": ""
           },
           "baxis": {
            "gridcolor": "white",
            "linecolor": "white",
            "ticks": ""
           },
           "bgcolor": "#E5ECF6",
           "caxis": {
            "gridcolor": "white",
            "linecolor": "white",
            "ticks": ""
           }
          },
          "title": {
           "x": 0.05
          },
          "xaxis": {
           "automargin": true,
           "gridcolor": "white",
           "linecolor": "white",
           "ticks": "",
           "title": {
            "standoff": 15
           },
           "zerolinecolor": "white",
           "zerolinewidth": 2
          },
          "yaxis": {
           "automargin": true,
           "gridcolor": "white",
           "linecolor": "white",
           "ticks": "",
           "title": {
            "standoff": 15
           },
           "zerolinecolor": "white",
           "zerolinewidth": 2
          }
         }
        },
        "xaxis": {
         "anchor": "y",
         "domain": [
          0,
          1
         ],
         "title": {
          "text": "Service Date"
         }
        },
        "yaxis": {
         "anchor": "x",
         "domain": [
          0,
          1
         ],
         "title": {
          "text": "count"
         }
        }
       }
      }
     },
     "metadata": {},
     "output_type": "display_data"
    }
   ],
   "source": [
    "subset_dates = service_date_counts.filter(service_date_counts['count']>=300)\n",
    "fig = px.bar(subset_dates, x=\"Service Date\", y=\"count\", hover_data=[\"count\"], color_discrete_sequence=[\"#000000\"])\n",
    "fig.show()"
   ]
  },
  {
   "cell_type": "code",
   "execution_count": 311,
   "metadata": {},
   "outputs": [
    {
     "data": {
      "application/vnd.plotly.v1+json": {
       "config": {
        "plotlyServerURL": "https://plot.ly"
       },
       "data": [
        {
         "alignmentgroup": "True",
         "hovertemplate": "Service Date=%{x}<br>count=%{y}<extra></extra>",
         "legendgroup": "",
         "marker": {
          "color": "#000000",
          "pattern": {
           "shape": ""
          }
         },
         "name": "",
         "offsetgroup": "",
         "orientation": "v",
         "showlegend": false,
         "textposition": "auto",
         "type": "bar",
         "x": [
          "2023-06-23T00:00:00",
          "2022-01-02T00:00:00",
          "2022-04-04T00:00:00",
          "2022-08-07T00:00:00",
          "2024-08-23T00:00:00",
          "2023-10-19T00:00:00",
          "2023-03-19T00:00:00",
          "2024-02-12T00:00:00",
          "2022-04-02T00:00:00",
          "2022-06-17T00:00:00",
          "2022-02-17T00:00:00",
          "2023-06-07T00:00:00",
          "2024-04-23T00:00:00",
          "2024-08-22T00:00:00",
          "2022-07-20T00:00:00",
          "2023-04-26T00:00:00",
          "2024-02-18T00:00:00",
          "2023-09-01T00:00:00",
          "2022-11-14T00:00:00",
          "2023-08-15T00:00:00",
          "2023-10-16T00:00:00",
          "2024-01-26T00:00:00",
          "2021-12-19T00:00:00",
          "2022-04-01T00:00:00",
          "2024-05-20T00:00:00",
          "2022-12-17T00:00:00",
          "2023-09-04T00:00:00",
          "2024-05-03T00:00:00",
          "2024-12-02T00:00:00",
          "2022-07-15T00:00:00",
          "2023-02-17T00:00:00",
          "2024-06-16T00:00:00",
          "2022-04-05T00:00:00",
          "2022-10-13T00:00:00",
          "2023-02-08T00:00:00",
          "2024-01-22T00:00:00",
          "2022-04-23T00:00:00",
          "2023-11-11T00:00:00",
          "2024-08-08T00:00:00",
          "2024-08-28T00:00:00",
          "2023-11-25T00:00:00",
          "2024-02-09T00:00:00",
          "2024-08-14T00:00:00",
          "2022-09-26T00:00:00",
          "2022-09-20T00:00:00",
          "2022-09-10T00:00:00",
          "2023-01-30T00:00:00",
          "2022-03-24T00:00:00",
          "2023-02-14T00:00:00",
          "2022-08-16T00:00:00",
          "2023-12-02T00:00:00",
          "2023-08-04T00:00:00",
          "2022-08-15T00:00:00",
          "2023-03-15T00:00:00",
          "2023-10-22T00:00:00",
          "2023-12-24T00:00:00",
          "2024-03-10T00:00:00",
          "2024-03-16T00:00:00",
          "2022-07-09T00:00:00",
          "2023-07-08T00:00:00",
          "2022-02-25T00:00:00",
          "2023-10-04T00:00:00",
          "2023-01-27T00:00:00",
          "2022-11-15T00:00:00",
          "2022-08-10T00:00:00",
          "2023-08-08T00:00:00",
          "2023-09-20T00:00:00",
          "2023-06-16T00:00:00",
          "2024-05-06T00:00:00",
          "2022-02-24T00:00:00",
          "2022-03-04T00:00:00",
          "2023-11-07T00:00:00",
          "2022-10-03T00:00:00",
          "2022-05-29T00:00:00",
          "2023-01-05T00:00:00",
          "2024-06-24T00:00:00",
          "2022-01-19T00:00:00",
          "2022-06-14T00:00:00",
          "2023-11-03T00:00:00",
          "2022-06-02T00:00:00",
          "2023-10-30T00:00:00",
          "2024-01-16T00:00:00",
          "2024-07-10T00:00:00",
          "2022-04-27T00:00:00",
          "2024-07-08T00:00:00",
          "2022-09-24T00:00:00",
          "2022-11-18T00:00:00",
          "2023-05-30T00:00:00",
          "2023-06-13T00:00:00",
          "2022-05-16T00:00:00",
          "2023-10-09T00:00:00",
          "2024-01-28T00:00:00",
          "2024-09-12T00:00:00",
          "2023-06-10T00:00:00",
          "2024-08-29T00:00:00",
          "2022-05-24T00:00:00",
          "2023-08-17T00:00:00",
          "2024-01-27T00:00:00",
          "2023-09-23T00:00:00",
          "2024-12-01T00:00:00",
          "2023-12-29T00:00:00",
          "2023-12-08T00:00:00",
          "2022-04-25T00:00:00",
          "2022-12-07T00:00:00",
          "2023-11-02T00:00:00",
          "2024-09-02T00:00:00",
          "2025-01-01T00:00:00",
          "2024-11-17T00:00:00",
          "2022-12-15T00:00:00",
          "2023-05-31T00:00:00",
          "2024-12-07T00:00:00",
          "2022-05-21T00:00:00",
          "2023-05-05T00:00:00",
          "2024-05-05T00:00:00",
          "2024-06-03T00:00:00",
          "2022-01-30T00:00:00",
          "2022-08-12T00:00:00",
          "2022-11-17T00:00:00",
          "2022-10-29T00:00:00",
          "2023-03-25T00:00:00",
          "2023-07-18T00:00:00",
          "2023-04-22T00:00:00",
          "2022-08-11T00:00:00",
          "2023-12-06T00:00:00",
          "2023-04-18T00:00:00",
          "2022-09-06T00:00:00",
          "2023-03-23T00:00:00",
          "2022-06-18T00:00:00",
          "2022-11-11T00:00:00",
          "2023-08-12T00:00:00",
          "2024-09-27T00:00:00",
          "2022-06-25T00:00:00",
          "2023-05-08T00:00:00",
          "2023-07-25T00:00:00",
          "2024-04-28T00:00:00",
          "2024-03-15T00:00:00",
          "2024-11-20T00:00:00",
          "2022-09-18T00:00:00",
          "2021-12-22T00:00:00",
          "2024-02-20T00:00:00",
          "2022-06-30T00:00:00",
          "2022-10-21T00:00:00",
          "2022-04-20T00:00:00",
          "2023-08-30T00:00:00",
          "2024-01-09T00:00:00",
          "2024-02-13T00:00:00",
          "2023-10-08T00:00:00",
          "2023-01-13T00:00:00",
          "2021-12-24T00:00:00",
          "2022-10-17T00:00:00",
          "2024-10-05T00:00:00",
          "2023-09-27T00:00:00",
          "2024-01-02T00:00:00",
          "2024-04-03T00:00:00",
          "2024-09-06T00:00:00",
          "2023-03-20T00:00:00",
          "2022-10-10T00:00:00",
          "2022-09-13T00:00:00",
          "2022-09-14T00:00:00",
          "2024-01-23T00:00:00",
          "2024-11-26T00:00:00",
          "2024-12-29T00:00:00",
          "2023-04-15T00:00:00",
          "2022-03-01T00:00:00",
          "2024-11-05T00:00:00",
          "2023-10-31T00:00:00",
          "2024-05-29T00:00:00",
          "2024-02-08T00:00:00",
          "2024-04-01T00:00:00",
          "2024-10-23T00:00:00",
          "2022-06-01T00:00:00",
          "2024-08-05T00:00:00",
          "2024-03-19T00:00:00",
          "2024-04-02T00:00:00",
          "2024-05-28T00:00:00",
          "2021-12-29T00:00:00",
          "2024-08-26T00:00:00",
          "2022-06-16T00:00:00",
          "2022-11-16T00:00:00",
          "2022-05-22T00:00:00",
          "2023-07-05T00:00:00",
          "2023-12-20T00:00:00",
          "2023-03-29T00:00:00",
          "2024-02-25T00:00:00",
          "2024-02-24T00:00:00",
          "2024-07-26T00:00:00",
          "2022-01-28T00:00:00",
          "2024-09-17T00:00:00",
          "2021-12-18T00:00:00",
          "2022-01-12T00:00:00",
          "2023-07-20T00:00:00",
          "2023-11-22T00:00:00",
          "2022-10-27T00:00:00",
          "2023-01-19T00:00:00",
          "2023-09-24T00:00:00",
          "2024-06-17T00:00:00",
          "2022-12-04T00:00:00",
          "2024-03-30T00:00:00",
          "2024-03-26T00:00:00",
          "2022-07-21T00:00:00",
          "2024-10-10T00:00:00",
          "2022-01-04T00:00:00",
          "2023-10-21T00:00:00",
          "2023-01-01T00:00:00",
          "2023-03-18T00:00:00",
          "2022-11-12T00:00:00",
          "2023-07-01T00:00:00",
          "2023-04-27T00:00:00",
          "2024-07-04T00:00:00",
          "2023-08-18T00:00:00",
          "2023-02-21T00:00:00",
          "2022-02-23T00:00:00",
          "2022-10-28T00:00:00",
          "2023-08-31T00:00:00",
          "2024-06-22T00:00:00",
          "2023-03-30T00:00:00",
          "2022-02-13T00:00:00",
          "2024-02-19T00:00:00",
          "2022-04-26T00:00:00",
          "2023-12-22T00:00:00",
          "2023-07-27T00:00:00",
          "2022-07-11T00:00:00",
          "2023-03-02T00:00:00",
          "2024-04-27T00:00:00",
          "2022-02-04T00:00:00",
          "2023-05-09T00:00:00",
          "2023-04-24T00:00:00",
          "2023-05-27T00:00:00",
          "2022-06-06T00:00:00",
          "2023-12-01T00:00:00",
          "2024-04-22T00:00:00",
          "2023-03-04T00:00:00",
          "2024-06-18T00:00:00",
          "2024-03-09T00:00:00",
          "2024-04-13T00:00:00",
          "2024-02-16T00:00:00",
          "2023-07-13T00:00:00",
          "2022-01-25T00:00:00",
          "2022-06-03T00:00:00",
          "2024-06-19T00:00:00",
          "2024-10-16T00:00:00",
          "2022-12-26T00:00:00",
          "2022-02-16T00:00:00",
          "2022-06-05T00:00:00",
          "2022-09-27T00:00:00",
          "2023-03-10T00:00:00",
          "2023-05-02T00:00:00",
          "2023-05-29T00:00:00",
          "2023-11-24T00:00:00",
          "2022-08-18T00:00:00",
          "2022-07-02T00:00:00",
          "2023-08-27T00:00:00",
          "2023-12-27T00:00:00",
          "2023-10-23T00:00:00",
          "2024-06-15T00:00:00",
          "2024-07-21T00:00:00",
          "2022-12-20T00:00:00",
          "2023-04-10T00:00:00",
          "2024-06-27T00:00:00",
          "2023-12-26T00:00:00",
          "2024-12-04T00:00:00",
          "2023-07-02T00:00:00",
          "2024-07-19T00:00:00",
          "2023-09-15T00:00:00",
          "2023-06-26T00:00:00",
          "2024-10-13T00:00:00",
          "2023-03-09T00:00:00",
          "2023-11-28T00:00:00",
          "2024-01-20T00:00:00",
          "2023-01-16T00:00:00",
          "2023-05-04T00:00:00",
          "2023-08-21T00:00:00",
          "2023-09-29T00:00:00",
          "2021-12-20T00:00:00",
          "2022-02-08T00:00:00",
          "2022-05-27T00:00:00",
          "2023-06-21T00:00:00",
          "2023-10-17T00:00:00",
          "2023-02-05T00:00:00",
          "2021-12-17T00:00:00",
          "2022-08-08T00:00:00",
          "2023-03-05T00:00:00",
          "2024-09-19T00:00:00",
          "2023-10-25T00:00:00",
          "2022-08-28T00:00:00",
          "2022-07-28T00:00:00",
          "2024-05-19T00:00:00",
          "2023-01-12T00:00:00",
          "2022-08-02T00:00:00",
          "2024-10-06T00:00:00",
          "2024-12-18T00:00:00",
          "2022-01-17T00:00:00",
          "2023-08-16T00:00:00",
          "2022-12-01T00:00:00",
          "2024-05-12T00:00:00",
          "2022-01-10T00:00:00",
          "2023-05-12T00:00:00",
          "2024-11-08T00:00:00",
          "2023-09-16T00:00:00",
          "2022-08-24T00:00:00",
          "2023-05-25T00:00:00",
          "2022-11-19T00:00:00",
          "2024-11-10T00:00:00",
          "2023-10-28T00:00:00",
          "2023-04-13T00:00:00",
          "2024-10-25T00:00:00",
          "2024-12-30T00:00:00",
          "2024-11-22T00:00:00",
          "2022-09-17T00:00:00",
          "2023-06-27T00:00:00",
          "2024-08-13T00:00:00",
          "2023-09-12T00:00:00",
          "2023-12-18T00:00:00",
          "2022-09-22T00:00:00",
          "2022-04-21T00:00:00",
          "2024-09-23T00:00:00",
          "2024-03-01T00:00:00",
          "2022-02-03T00:00:00",
          "2023-11-17T00:00:00",
          "2024-05-02T00:00:00",
          "2024-02-03T00:00:00",
          "2022-02-01T00:00:00",
          "2022-04-18T00:00:00",
          "2022-07-31T00:00:00",
          "2023-06-22T00:00:00",
          "2024-02-14T00:00:00",
          "2024-04-20T00:00:00",
          "2024-06-28T00:00:00",
          "2022-12-02T00:00:00",
          "2024-08-18T00:00:00",
          "2024-09-13T00:00:00",
          "2022-09-12T00:00:00",
          "2024-12-03T00:00:00",
          "2022-10-22T00:00:00",
          "2021-12-30T00:00:00",
          "2022-12-08T00:00:00",
          "2023-04-07T00:00:00",
          "2022-06-08T00:00:00",
          "2024-03-17T00:00:00",
          "2022-08-19T00:00:00",
          "2022-05-03T00:00:00",
          "2024-10-31T00:00:00",
          "2023-01-23T00:00:00",
          "2023-09-09T00:00:00",
          "2022-05-02T00:00:00",
          "2022-08-14T00:00:00",
          "2023-06-14T00:00:00",
          "2022-08-25T00:00:00",
          "2022-09-11T00:00:00",
          "2023-02-27T00:00:00",
          "2022-10-15T00:00:00",
          "2025-01-04T00:00:00",
          "2023-02-13T00:00:00",
          "2024-04-25T00:00:00",
          "2022-05-30T00:00:00",
          "2022-06-27T00:00:00",
          "2024-12-09T00:00:00",
          "2022-05-31T00:00:00",
          "2022-02-18T00:00:00",
          "2023-06-19T00:00:00",
          "2023-07-17T00:00:00",
          "2023-05-21T00:00:00",
          "2023-12-03T00:00:00",
          "2024-08-21T00:00:00",
          "2024-10-15T00:00:00",
          "2024-12-14T00:00:00",
          "2023-10-11T00:00:00",
          "2024-05-10T00:00:00",
          "2024-12-21T00:00:00",
          "2023-02-16T00:00:00",
          "2023-07-14T00:00:00",
          "2022-03-02T00:00:00",
          "2023-05-20T00:00:00",
          "2023-08-06T00:00:00",
          "2022-09-16T00:00:00",
          "2022-11-05T00:00:00",
          "2022-12-24T00:00:00",
          "2024-11-27T00:00:00",
          "2024-08-07T00:00:00",
          "2024-06-01T00:00:00",
          "2022-09-02T00:00:00",
          "2024-10-02T00:00:00",
          "2024-08-04T00:00:00",
          "2023-08-14T00:00:00",
          "2022-02-22T00:00:00",
          "2022-06-22T00:00:00",
          "2023-07-28T00:00:00",
          "2022-05-15T00:00:00",
          "2022-12-28T00:00:00",
          "2023-12-16T00:00:00",
          "2022-08-03T00:00:00",
          "2023-06-03T00:00:00",
          "2024-10-24T00:00:00",
          "2022-03-03T00:00:00",
          "2023-11-26T00:00:00",
          "2023-08-07T00:00:00",
          "2025-01-03T00:00:00",
          "2022-07-24T00:00:00",
          "2024-03-14T00:00:00",
          "2024-09-25T00:00:00",
          "2024-04-14T00:00:00",
          "2022-08-17T00:00:00",
          "2024-03-03T00:00:00",
          "2024-02-26T00:00:00",
          "2022-09-01T00:00:00",
          "2022-06-26T00:00:00",
          "2023-01-08T00:00:00",
          "2023-06-17T00:00:00",
          "2024-07-15T00:00:00",
          "2023-07-26T00:00:00",
          "2024-10-20T00:00:00",
          "2022-02-26T00:00:00",
          "2024-11-25T00:00:00",
          "2022-11-20T00:00:00",
          "2024-12-23T00:00:00",
          "2024-12-31T00:00:00",
          "2023-10-06T00:00:00",
          "2024-09-26T00:00:00",
          "2021-12-15T00:00:00",
          "2022-10-16T00:00:00",
          "2023-10-27T00:00:00",
          "2024-12-05T00:00:00",
          "2024-04-16T00:00:00",
          "2024-07-24T00:00:00",
          "2023-08-11T00:00:00",
          "2022-12-30T00:00:00",
          "2024-01-24T00:00:00",
          "2024-12-22T00:00:00",
          "2024-07-22T00:00:00",
          "2023-11-19T00:00:00",
          "2023-05-23T00:00:00",
          "2023-07-11T00:00:00",
          "2022-04-19T00:00:00",
          "2022-05-08T00:00:00",
          "2024-05-22T00:00:00",
          "2021-12-08T00:00:00",
          "2024-09-20T00:00:00",
          "2024-12-26T00:00:00",
          "2023-01-20T00:00:00",
          "2023-07-07T00:00:00",
          "2022-07-22T00:00:00",
          "2021-12-12T00:00:00",
          "2022-09-23T00:00:00",
          "2023-09-17T00:00:00",
          "2023-11-10T00:00:00",
          "2024-09-30T00:00:00",
          "2021-12-16T00:00:00",
          "2023-02-11T00:00:00",
          "2024-11-15T00:00:00",
          "2022-10-19T00:00:00",
          "2023-04-16T00:00:00",
          "2024-10-17T00:00:00",
          "2022-02-15T00:00:00",
          "2022-09-21T00:00:00",
          "2022-06-07T00:00:00",
          "2024-03-08T00:00:00",
          "2024-04-11T00:00:00",
          "2024-08-20T00:00:00",
          "2021-12-26T00:00:00",
          "2024-12-28T00:00:00",
          "2024-10-12T00:00:00",
          "2022-07-30T00:00:00",
          "2022-02-09T00:00:00",
          "2022-02-19T00:00:00",
          "2022-09-08T00:00:00",
          "2023-04-04T00:00:00",
          "2023-12-19T00:00:00",
          "2024-05-13T00:00:00",
          "2024-06-10T00:00:00",
          "2024-11-23T00:00:00",
          "2023-04-11T00:00:00",
          "2023-07-30T00:00:00",
          "2023-06-12T00:00:00",
          "2023-06-18T00:00:00",
          "2022-12-11T00:00:00",
          "2022-10-11T00:00:00",
          "2023-05-17T00:00:00",
          "2023-04-02T00:00:00",
          "2024-03-22T00:00:00",
          "2023-06-11T00:00:00",
          "2024-08-03T00:00:00",
          "2023-02-10T00:00:00",
          "2023-08-05T00:00:00",
          "2024-05-21T00:00:00",
          "2022-03-22T00:00:00",
          "2023-12-25T00:00:00",
          "2023-09-13T00:00:00",
          "2023-04-09T00:00:00",
          "2024-01-05T00:00:00",
          "2023-06-09T00:00:00",
          "2024-09-09T00:00:00",
          "2023-10-13T00:00:00",
          "2023-03-28T00:00:00",
          "2022-05-26T00:00:00",
          "2023-04-30T00:00:00",
          "2024-07-11T00:00:00",
          "2023-01-09T00:00:00",
          "2023-02-03T00:00:00",
          "2024-08-17T00:00:00",
          "2023-08-09T00:00:00",
          "2023-11-05T00:00:00",
          "2022-02-12T00:00:00",
          "2024-02-04T00:00:00",
          "2023-01-26T00:00:00",
          "2023-07-04T00:00:00",
          "2023-01-18T00:00:00",
          "2022-12-06T00:00:00",
          "2024-08-10T00:00:00",
          "2023-02-26T00:00:00",
          "2022-02-06T00:00:00",
          "2024-10-11T00:00:00",
          "2024-03-02T00:00:00",
          "2024-03-13T00:00:00",
          "2024-05-09T00:00:00",
          "2022-06-04T00:00:00",
          "2022-10-04T00:00:00",
          "2023-09-22T00:00:00",
          "2023-11-18T00:00:00",
          "2022-01-13T00:00:00",
          "2024-12-24T00:00:00",
          "2021-12-11T00:00:00",
          "2024-01-12T00:00:00",
          "2024-04-19T00:00:00",
          "2024-03-25T00:00:00",
          "2023-07-24T00:00:00",
          "2022-03-20T00:00:00",
          "2022-02-20T00:00:00",
          "2022-08-22T00:00:00",
          "2023-03-16T00:00:00",
          "2023-10-07T00:00:00",
          "2023-10-05T00:00:00",
          "2022-04-12T00:00:00",
          "2021-12-07T00:00:00",
          "2022-09-29T00:00:00",
          "2022-11-25T00:00:00",
          "2023-09-26T00:00:00",
          "2024-02-11T00:00:00",
          "2022-07-27T00:00:00",
          "2024-10-18T00:00:00",
          "2024-12-06T00:00:00",
          "2022-01-03T00:00:00",
          "2024-06-20T00:00:00",
          "2023-02-01T00:00:00",
          "2024-02-15T00:00:00",
          "2021-12-09T00:00:00",
          "2022-03-28T00:00:00",
          "2024-07-20T00:00:00",
          "2024-10-27T00:00:00",
          "2024-05-26T00:00:00",
          "2024-06-29T00:00:00",
          "2024-02-23T00:00:00",
          "2022-02-05T00:00:00",
          "2022-01-09T00:00:00",
          "2024-04-15T00:00:00",
          "2023-04-29T00:00:00",
          "2022-10-06T00:00:00",
          "2023-08-20T00:00:00",
          "2024-10-04T00:00:00",
          "2023-08-02T00:00:00",
          "2022-02-28T00:00:00",
          "2022-01-01T00:00:00",
          "2024-03-21T00:00:00",
          "2022-02-27T00:00:00",
          "2021-12-14T00:00:00",
          "2022-08-06T00:00:00",
          "2023-07-15T00:00:00",
          "2022-07-12T00:00:00",
          "2024-03-06T00:00:00",
          "2024-07-27T00:00:00",
          "2024-01-01T00:00:00",
          "2024-09-21T00:00:00",
          "2024-10-14T00:00:00",
          "2023-05-01T00:00:00",
          "2023-04-06T00:00:00",
          "2022-08-31T00:00:00",
          "2022-04-28T00:00:00",
          "2022-05-01T00:00:00",
          "2022-11-23T00:00:00",
          "2023-01-11T00:00:00",
          "2023-08-03T00:00:00",
          "2024-01-30T00:00:00",
          "2023-02-24T00:00:00",
          "2024-12-10T00:00:00",
          "2023-09-11T00:00:00",
          "2023-12-23T00:00:00",
          "2023-11-21T00:00:00",
          "2022-05-14T00:00:00",
          "2024-03-29T00:00:00",
          "2024-07-12T00:00:00",
          "2023-10-24T00:00:00",
          "2023-02-19T00:00:00",
          "2023-03-17T00:00:00",
          "2023-01-17T00:00:00",
          "2023-01-29T00:00:00",
          "2024-11-07T00:00:00",
          "2022-10-25T00:00:00",
          "2024-09-01T00:00:00",
          "2023-05-15T00:00:00",
          "2024-01-19T00:00:00",
          "2023-12-17T00:00:00",
          "2022-06-13T00:00:00",
          "2023-01-10T00:00:00",
          "2023-09-06T00:00:00",
          "2022-01-23T00:00:00",
          "2024-04-05T00:00:00",
          "2022-03-31T00:00:00",
          "2024-09-11T00:00:00",
          "2022-11-24T00:00:00",
          "2024-11-01T00:00:00",
          "2024-10-09T00:00:00",
          "2022-01-20T00:00:00",
          "2022-04-30T00:00:00",
          "2023-12-28T00:00:00",
          "2024-02-05T00:00:00",
          "2024-06-12T00:00:00",
          "2024-02-17T00:00:00",
          "2023-08-22T00:00:00",
          "2022-02-21T00:00:00",
          "2022-03-09T00:00:00",
          "2022-11-10T00:00:00",
          "2023-06-01T00:00:00",
          "2024-01-21T00:00:00",
          "2022-10-09T00:00:00",
          "2023-09-19T00:00:00",
          "2022-11-27T00:00:00",
          "2024-07-06T00:00:00",
          "2023-07-06T00:00:00",
          "2023-11-27T00:00:00",
          "2022-03-11T00:00:00",
          "2024-05-18T00:00:00",
          "2022-07-26T00:00:00",
          "2024-10-08T00:00:00",
          "2021-12-10T00:00:00",
          "2022-07-05T00:00:00",
          "2021-12-23T00:00:00",
          "2023-09-30T00:00:00",
          "2024-01-06T00:00:00",
          "2024-03-20T00:00:00",
          "2023-11-20T00:00:00",
          "2024-02-21T00:00:00",
          "2024-02-27T00:00:00",
          "2022-04-16T00:00:00",
          "2024-04-10T00:00:00",
          "2024-04-07T00:00:00",
          "2022-05-13T00:00:00",
          "2023-02-12T00:00:00",
          "2023-12-31T00:00:00",
          "2023-12-09T00:00:00",
          "2022-05-18T00:00:00",
          "2022-12-16T00:00:00",
          "2024-01-15T00:00:00",
          "2024-03-24T00:00:00",
          "2024-06-21T00:00:00",
          "2024-12-11T00:00:00",
          "2024-12-13T00:00:00",
          "2024-03-12T00:00:00",
          "2022-05-25T00:00:00",
          "2023-08-24T00:00:00",
          "2024-08-27T00:00:00",
          "2022-09-28T00:00:00",
          "2024-11-30T00:00:00",
          "2021-12-03T00:00:00",
          "2024-09-24T00:00:00",
          "2022-07-10T00:00:00",
          "2022-10-07T00:00:00",
          "2024-07-09T00:00:00",
          "2022-03-25T00:00:00",
          "2024-06-26T00:00:00",
          "2024-11-16T00:00:00",
          "2023-01-03T00:00:00",
          "2022-11-03T00:00:00",
          "2023-01-25T00:00:00",
          "2022-03-21T00:00:00",
          "2024-07-23T00:00:00",
          "2022-04-06T00:00:00",
          "2022-06-28T00:00:00",
          "2022-01-26T00:00:00",
          "2022-01-11T00:00:00",
          "2023-09-28T00:00:00",
          "2023-10-15T00:00:00",
          "2024-08-30T00:00:00",
          "2021-12-21T00:00:00",
          "2024-05-25T00:00:00",
          "2022-08-23T00:00:00",
          "2022-05-04T00:00:00",
          "2023-06-28T00:00:00",
          "2024-03-11T00:00:00",
          "2022-01-21T00:00:00",
          "2022-01-16T00:00:00",
          "2022-07-29T00:00:00",
          "2023-12-04T00:00:00",
          "2022-12-19T00:00:00",
          "2024-04-04T00:00:00",
          "2023-11-30T00:00:00",
          "2022-05-23T00:00:00",
          "2024-05-04T00:00:00",
          "2022-03-29T00:00:00",
          "2022-08-26T00:00:00",
          "2022-04-03T00:00:00",
          "2022-07-01T00:00:00",
          "2022-09-19T00:00:00",
          "2024-06-04T00:00:00",
          "2024-08-31T00:00:00",
          "2024-09-18T00:00:00",
          "2023-03-03T00:00:00",
          "2024-09-14T00:00:00",
          "2023-05-28T00:00:00",
          "2024-04-06T00:00:00",
          "2023-08-26T00:00:00",
          "2022-04-22T00:00:00",
          "2024-04-09T00:00:00",
          "2022-08-27T00:00:00",
          "2022-03-30T00:00:00",
          "2024-04-18T00:00:00",
          "2024-08-06T00:00:00",
          "2023-04-01T00:00:00",
          "2022-03-07T00:00:00",
          "2024-06-09T00:00:00",
          "2024-06-02T00:00:00",
          "2024-03-04T00:00:00",
          "2023-10-20T00:00:00",
          "2023-05-18T00:00:00",
          "2022-12-29T00:00:00",
          "2022-03-27T00:00:00",
          "2023-11-29T00:00:00",
          "2024-03-23T00:00:00",
          "2024-09-05T00:00:00",
          "2023-04-28T00:00:00",
          "2024-10-30T00:00:00",
          "2023-03-31T00:00:00",
          "2023-06-20T00:00:00",
          "2023-08-13T00:00:00",
          "2022-05-12T00:00:00",
          "2023-02-28T00:00:00",
          "2024-03-31T00:00:00",
          "2021-12-31T00:00:00",
          "2023-03-13T00:00:00",
          "2023-11-01T00:00:00",
          "2024-06-11T00:00:00",
          "2024-12-12T00:00:00",
          "2022-02-07T00:00:00",
          "2022-03-26T00:00:00",
          "2022-03-15T00:00:00",
          "2022-06-09T00:00:00",
          "2022-10-23T00:00:00",
          "2022-12-25T00:00:00",
          "2024-06-23T00:00:00",
          "2024-07-29T00:00:00",
          "2024-08-02T00:00:00",
          "2022-02-11T00:00:00",
          "2022-03-12T00:00:00",
          "2022-07-16T00:00:00",
          "2024-05-30T00:00:00",
          "2024-11-03T00:00:00",
          "2023-01-28T00:00:00",
          "2023-11-06T00:00:00",
          "2023-11-08T00:00:00",
          "2024-07-17T00:00:00",
          "2024-11-06T00:00:00",
          "2024-01-18T00:00:00",
          "2023-01-22T00:00:00",
          "2024-07-02T00:00:00",
          "2023-10-03T00:00:00",
          "2023-05-24T00:00:00",
          "2022-12-03T00:00:00",
          "2024-10-07T00:00:00",
          "2024-02-28T00:00:00",
          "2022-06-24T00:00:00",
          "2021-12-04T00:00:00",
          "2022-06-12T00:00:00",
          "2022-11-09T00:00:00",
          "2023-03-14T00:00:00",
          "2024-06-14T00:00:00",
          "2022-10-18T00:00:00",
          "2023-12-05T00:00:00",
          "2024-11-12T00:00:00",
          "2023-02-15T00:00:00",
          "2024-09-10T00:00:00",
          "2023-06-24T00:00:00",
          "2023-02-06T00:00:00",
          "2024-08-09T00:00:00",
          "2022-06-23T00:00:00",
          "2024-01-25T00:00:00",
          "2024-08-24T00:00:00",
          "2024-05-11T00:00:00",
          "2024-05-23T00:00:00",
          "2023-06-30T00:00:00",
          "2024-12-16T00:00:00",
          "2022-08-09T00:00:00",
          "2022-05-05T00:00:00",
          "2024-09-07T00:00:00",
          "2022-11-13T00:00:00",
          "2022-04-14T00:00:00",
          "2024-06-13T00:00:00",
          "2023-07-12T00:00:00",
          "2022-11-02T00:00:00",
          "2024-02-01T00:00:00",
          "2022-11-21T00:00:00",
          "2023-02-20T00:00:00",
          "2022-12-09T00:00:00",
          "2023-06-15T00:00:00",
          "2024-02-06T00:00:00",
          "2023-06-05T00:00:00",
          "2024-04-17T00:00:00",
          "2022-11-01T00:00:00",
          "2022-11-28T00:00:00",
          "2024-05-15T00:00:00",
          "2022-03-23T00:00:00",
          "2024-06-08T00:00:00",
          "2022-10-26T00:00:00",
          "2024-09-15T00:00:00",
          "2024-09-03T00:00:00",
          "2024-11-18T00:00:00",
          "2023-07-31T00:00:00",
          "2024-05-14T00:00:00",
          "2023-04-08T00:00:00",
          "2024-01-13T00:00:00",
          "2024-11-11T00:00:00",
          "2022-02-10T00:00:00",
          "2023-09-05T00:00:00",
          "2023-07-22T00:00:00",
          "2022-12-27T00:00:00",
          "2022-05-10T00:00:00",
          "2023-04-19T00:00:00",
          "2022-01-31T00:00:00",
          "2022-10-02T00:00:00",
          "2023-01-15T00:00:00",
          "2023-03-27T00:00:00",
          "2022-04-09T00:00:00",
          "2023-04-05T00:00:00",
          "2024-03-05T00:00:00",
          "2022-11-30T00:00:00",
          "2023-03-22T00:00:00",
          "2022-01-07T00:00:00",
          "2022-10-05T00:00:00",
          "2024-04-21T00:00:00",
          "2024-04-24T00:00:00",
          "2024-07-30T00:00:00",
          "2024-06-30T00:00:00",
          "2024-08-25T00:00:00",
          "2024-02-02T00:00:00",
          "2024-10-28T00:00:00",
          "2024-11-02T00:00:00",
          "2022-07-14T00:00:00",
          "2023-02-04T00:00:00",
          "2023-06-29T00:00:00",
          "2023-12-10T00:00:00",
          "2022-09-09T00:00:00",
          "2024-11-29T00:00:00",
          "2022-10-08T00:00:00",
          "2023-07-10T00:00:00",
          "2023-03-12T00:00:00",
          "2022-07-07T00:00:00",
          "2023-02-25T00:00:00",
          "2023-03-08T00:00:00",
          "2023-11-13T00:00:00",
          "2023-11-09T00:00:00",
          "2021-12-06T00:00:00",
          "2024-01-04T00:00:00",
          "2021-12-28T00:00:00",
          "2022-08-01T00:00:00",
          "2023-02-09T00:00:00",
          "2023-04-25T00:00:00",
          "2023-08-19T00:00:00",
          "2022-01-22T00:00:00",
          "2024-09-08T00:00:00",
          "2024-04-26T00:00:00",
          "2022-03-14T00:00:00",
          "2022-06-15T00:00:00",
          "2022-03-13T00:00:00",
          "2022-09-15T00:00:00",
          "2024-08-19T00:00:00",
          "2024-12-08T00:00:00",
          "2022-09-07T00:00:00",
          "2022-06-21T00:00:00",
          "2023-01-02T00:00:00",
          "2022-01-06T00:00:00",
          "2023-08-25T00:00:00",
          "2022-01-27T00:00:00",
          "2024-03-27T00:00:00",
          "2021-12-05T00:00:00",
          "2023-05-26T00:00:00",
          "2023-12-14T00:00:00",
          "2022-04-29T00:00:00",
          "2022-01-08T00:00:00",
          "2024-04-08T00:00:00",
          "2022-03-19T00:00:00",
          "2024-08-01T00:00:00",
          "2024-12-20T00:00:00",
          "2024-12-27T00:00:00",
          "2022-01-14T00:00:00",
          "2022-09-04T00:00:00",
          "2023-03-01T00:00:00",
          "2023-07-09T00:00:00",
          "2024-01-31T00:00:00",
          "2024-10-19T00:00:00",
          "2022-07-03T00:00:00",
          "2023-08-23T00:00:00",
          "2023-09-08T00:00:00",
          "2023-12-15T00:00:00",
          "2023-03-26T00:00:00",
          "2022-12-18T00:00:00",
          "2024-10-26T00:00:00",
          "2023-01-24T00:00:00",
          "2023-04-12T00:00:00",
          "2022-10-24T00:00:00",
          "2024-08-12T00:00:00",
          "2023-04-21T00:00:00",
          "2023-09-07T00:00:00",
          "2023-07-16T00:00:00",
          "2023-06-08T00:00:00",
          "2022-12-23T00:00:00",
          "2024-11-19T00:00:00",
          "2024-07-16T00:00:00",
          "2024-09-16T00:00:00",
          "2023-10-01T00:00:00",
          "2022-01-15T00:00:00",
          "2022-11-06T00:00:00",
          "2022-09-30T00:00:00",
          "2023-06-02T00:00:00",
          "2024-05-27T00:00:00",
          "2024-02-07T00:00:00",
          "2022-10-30T00:00:00",
          "2024-03-28T00:00:00",
          "2025-01-02T00:00:00",
          "2022-03-10T00:00:00",
          "2024-12-25T00:00:00",
          "2022-07-17T00:00:00",
          "2023-02-22T00:00:00",
          "2023-08-01T00:00:00",
          "2023-12-13T00:00:00",
          "2022-11-07T00:00:00",
          "2022-11-22T00:00:00",
          "2023-10-14T00:00:00",
          "2024-02-10T00:00:00",
          "2023-01-14T00:00:00",
          "2023-10-29T00:00:00",
          "2024-06-07T00:00:00",
          "2024-07-25T00:00:00",
          "2024-01-08T00:00:00",
          "2024-07-28T00:00:00",
          "2023-08-28T00:00:00",
          "2024-09-04T00:00:00",
          "2022-07-18T00:00:00",
          "2023-04-17T00:00:00",
          "2023-07-03T00:00:00",
          "2023-10-26T00:00:00",
          "2022-09-03T00:00:00",
          "2024-12-17T00:00:00",
          "2022-07-08T00:00:00",
          "2023-02-02T00:00:00",
          "2022-02-14T00:00:00",
          "2022-04-13T00:00:00",
          "2024-08-15T00:00:00",
          "2022-04-11T00:00:00",
          "2023-07-23T00:00:00",
          "2022-06-20T00:00:00",
          "2023-03-11T00:00:00",
          "2024-07-01T00:00:00",
          "2024-07-14T00:00:00",
          "2024-05-17T00:00:00",
          "2024-12-19T00:00:00",
          "2024-06-05T00:00:00",
          "2022-12-12T00:00:00",
          "2023-05-19T00:00:00",
          "2025-01-05T00:00:00",
          "2022-11-26T00:00:00",
          "2022-05-20T00:00:00",
          "2022-07-19T00:00:00",
          "2023-10-12T00:00:00",
          "2023-12-07T00:00:00",
          "2023-02-18T00:00:00",
          "2022-11-04T00:00:00",
          "2023-01-07T00:00:00",
          "2023-07-19T00:00:00",
          "2024-01-03T00:00:00",
          "2024-08-11T00:00:00",
          "2022-04-24T00:00:00",
          "2022-10-20T00:00:00",
          "2024-11-24T00:00:00",
          "2024-10-29T00:00:00",
          "2023-07-29T00:00:00",
          "2023-05-16T00:00:00",
          "2022-02-02T00:00:00",
          "2023-06-06T00:00:00",
          "2023-12-12T00:00:00",
          "2023-09-02T00:00:00",
          "2024-11-21T00:00:00",
          "2023-05-07T00:00:00",
          "2023-01-31T00:00:00",
          "2024-05-16T00:00:00",
          "2024-09-22T00:00:00",
          "2024-09-28T00:00:00",
          "2023-05-06T00:00:00",
          "2024-01-10T00:00:00",
          "2024-02-29T00:00:00",
          "2024-07-31T00:00:00",
          "2023-04-03T00:00:00",
          "2024-09-29T00:00:00",
          "2024-07-05T00:00:00",
          "2022-03-06T00:00:00",
          "2024-05-08T00:00:00",
          "2023-09-14T00:00:00",
          "2022-08-13T00:00:00",
          "2022-04-08T00:00:00",
          "2022-07-06T00:00:00",
          "2021-12-27T00:00:00",
          "2022-03-05T00:00:00",
          "2023-07-21T00:00:00",
          "2022-05-17T00:00:00",
          "2022-07-04T00:00:00",
          "2024-10-03T00:00:00",
          "2022-08-30T00:00:00",
          "2024-05-31T00:00:00",
          "2024-05-24T00:00:00",
          "2024-05-01T00:00:00",
          "2024-07-07T00:00:00",
          "2023-04-14T00:00:00",
          "2024-06-25T00:00:00",
          "2023-01-06T00:00:00",
          "2022-03-16T00:00:00",
          "2023-11-14T00:00:00",
          "2023-12-11T00:00:00",
          "2024-07-03T00:00:00",
          "2022-01-24T00:00:00",
          "2023-10-02T00:00:00",
          "2022-03-18T00:00:00",
          "2022-10-31T00:00:00",
          "2022-08-21T00:00:00",
          "2022-12-31T00:00:00",
          "2023-02-23T00:00:00",
          "2023-12-30T00:00:00",
          "2024-07-18T00:00:00",
          "2022-08-04T00:00:00",
          "2023-09-10T00:00:00",
          "2023-09-18T00:00:00",
          "2023-03-21T00:00:00",
          "2023-11-04T00:00:00",
          "2023-01-21T00:00:00",
          "2022-12-21T00:00:00",
          "2023-09-21T00:00:00",
          "2023-10-10T00:00:00",
          "2024-04-12T00:00:00",
          "2023-01-04T00:00:00",
          "2024-07-13T00:00:00",
          "2024-01-14T00:00:00",
          "2023-04-20T00:00:00",
          "2022-06-19T00:00:00",
          "2022-11-08T00:00:00",
          "2022-10-14T00:00:00",
          "2022-05-28T00:00:00",
          "2022-12-22T00:00:00",
          "2023-06-04T00:00:00",
          "2021-12-25T00:00:00",
          "2023-03-06T00:00:00",
          "2022-08-29T00:00:00",
          "2024-01-29T00:00:00",
          "2024-11-14T00:00:00",
          "2022-04-17T00:00:00",
          "2022-06-11T00:00:00",
          "2023-05-13T00:00:00",
          "2023-05-22T00:00:00",
          "2024-12-15T00:00:00",
          "2023-08-29T00:00:00",
          "2024-11-04T00:00:00",
          "2023-11-12T00:00:00",
          "2024-04-29T00:00:00",
          "2021-12-13T00:00:00",
          "2022-07-25T00:00:00",
          "2023-05-14T00:00:00",
          "2022-01-05T00:00:00",
          "2022-04-15T00:00:00",
          "2023-03-24T00:00:00",
          "2024-03-07T00:00:00",
          "2022-09-25T00:00:00",
          "2023-05-10T00:00:00",
          "2024-01-17T00:00:00",
          "2022-12-14T00:00:00",
          "2024-10-01T00:00:00",
          "2024-10-21T00:00:00",
          "2024-11-13T00:00:00",
          "2022-08-05T00:00:00",
          "2023-05-11T00:00:00",
          "2022-12-05T00:00:00",
          "2022-05-06T00:00:00",
          "2023-12-21T00:00:00",
          "2022-11-29T00:00:00",
          "2024-01-11T00:00:00",
          "2022-04-10T00:00:00",
          "2024-11-09T00:00:00",
          "2024-08-16T00:00:00",
          "2022-06-29T00:00:00",
          "2022-03-17T00:00:00",
          "2024-04-30T00:00:00",
          "2022-07-23T00:00:00",
          "2023-04-23T00:00:00",
          "2022-10-01T00:00:00",
          "2022-09-05T00:00:00",
          "2022-04-07T00:00:00",
          "2024-02-22T00:00:00",
          "2022-06-10T00:00:00",
          "2022-05-07T00:00:00",
          "2022-12-13T00:00:00",
          "2023-09-25T00:00:00",
          "2022-03-08T00:00:00",
          "2024-10-22T00:00:00",
          "2022-01-29T00:00:00",
          "2024-11-28T00:00:00",
          "2023-02-07T00:00:00",
          "2024-03-18T00:00:00",
          "2022-05-19T00:00:00",
          "2023-08-10T00:00:00",
          "2022-08-20T00:00:00",
          "2023-10-18T00:00:00",
          "2022-10-12T00:00:00",
          "2024-05-07T00:00:00",
          "2023-05-03T00:00:00",
          "2022-07-13T00:00:00",
          "2023-06-25T00:00:00",
          "2023-11-15T00:00:00",
          "2022-05-09T00:00:00",
          "2022-12-10T00:00:00",
          "2023-11-16T00:00:00",
          "2022-01-18T00:00:00",
          "2024-06-06T00:00:00",
          "2023-09-03T00:00:00",
          "2022-05-11T00:00:00",
          "2023-03-07T00:00:00",
          "2023-11-23T00:00:00",
          "2024-01-07T00:00:00"
         ],
         "xaxis": "x",
         "y": [
          201,
          86,
          179,
          235,
          224,
          221,
          203,
          165,
          261,
          187,
          196,
          174,
          199,
          300,
          253,
          204,
          219,
          272,
          252,
          171,
          322,
          230,
          47,
          223,
          233,
          301,
          207,
          184,
          76,
          167,
          208,
          314,
          206,
          199,
          284,
          173,
          200,
          291,
          298,
          432,
          212,
          199,
          280,
          290,
          335,
          262,
          178,
          233,
          251,
          182,
          161,
          239,
          213,
          245,
          220,
          205,
          147,
          277,
          247,
          288,
          270,
          242,
          246,
          195,
          268,
          207,
          259,
          256,
          229,
          198,
          215,
          249,
          296,
          228,
          305,
          350,
          238,
          147,
          209,
          249,
          200,
          164,
          290,
          219,
          228,
          242,
          237,
          203,
          266,
          199,
          246,
          203,
          338,
          245,
          433,
          199,
          244,
          267,
          215,
          134,
          219,
          239,
          187,
          163,
          314,
          380,
          10,
          227,
          189,
          216,
          83,
          169,
          245,
          335,
          247,
          176,
          263,
          173,
          234,
          280,
          258,
          311,
          180,
          223,
          252,
          218,
          248,
          192,
          255,
          163,
          329,
          266,
          208,
          230,
          237,
          248,
          148,
          295,
          61,
          179,
          184,
          232,
          248,
          235,
          209,
          209,
          215,
          161,
          72,
          206,
          288,
          235,
          212,
          246,
          350,
          184,
          220,
          221,
          267,
          203,
          178,
          24,
          268,
          232,
          286,
          282,
          275,
          282,
          210,
          240,
          173,
          338,
          288,
          268,
          349,
          71,
          260,
          193,
          218,
          152,
          176,
          228,
          213,
          207,
          333,
          331,
          227,
          264,
          59,
          129,
          152,
          270,
          256,
          226,
          193,
          244,
          231,
          190,
          206,
          255,
          301,
          99,
          233,
          215,
          251,
          295,
          239,
          152,
          284,
          153,
          250,
          232,
          345,
          222,
          240,
          211,
          156,
          166,
          239,
          293,
          236,
          210,
          234,
          187,
          218,
          192,
          246,
          237,
          207,
          242,
          365,
          226,
          355,
          256,
          224,
          238,
          227,
          156,
          245,
          260,
          314,
          231,
          242,
          205,
          252,
          214,
          245,
          191,
          310,
          258,
          194,
          163,
          195,
          338,
          156,
          245,
          221,
          210,
          304,
          190,
          115,
          308,
          261,
          190,
          221,
          418,
          208,
          221,
          183,
          250,
          184,
          210,
          262,
          46,
          195,
          219,
          269,
          189,
          205,
          60,
          210,
          177,
          252,
          226,
          277,
          261,
          273,
          194,
          222,
          292,
          27,
          186,
          174,
          298,
          278,
          194,
          187,
          218,
          271,
          276,
          196,
          246,
          217,
          296,
          182,
          262,
          15,
          171,
          232,
          227,
          214,
          255,
          266,
          178,
          234,
          310,
          275,
          239,
          233,
          231,
          330,
          211,
          122,
          203,
          194,
          335,
          238,
          201,
          220,
          277,
          171,
          229,
          134,
          159,
          77,
          203,
          176,
          241,
          283,
          218,
          209,
          296,
          262,
          199,
          299,
          232,
          167,
          206,
          206,
          205,
          283,
          2,
          260,
          368,
          178,
          178,
          46,
          198,
          282,
          192,
          159,
          266,
          205,
          281,
          295,
          25,
          241,
          190,
          52,
          223,
          258,
          221,
          220,
          192,
          257,
          254,
          217,
          188,
          333,
          236,
          204,
          351,
          324,
          171,
          203,
          218,
          167,
          198,
          200,
          227,
          218,
          225,
          268,
          253,
          199,
          221,
          2,
          248,
          183,
          335,
          184,
          281,
          177,
          190,
          218,
          196,
          162,
          202,
          357,
          267,
          250,
          265,
          170,
          246,
          10,
          5,
          212,
          253,
          47,
          235,
          262,
          60,
          369,
          223,
          198,
          201,
          214,
          41,
          233,
          227,
          265,
          190,
          245,
          179,
          354,
          23,
          251,
          10,
          162,
          197,
          221,
          43,
          220,
          232,
          222,
          325,
          70,
          242,
          163,
          286,
          230,
          289,
          199,
          275,
          196,
          214,
          308,
          196,
          80,
          9,
          330,
          227,
          240,
          238,
          301,
          252,
          267,
          171,
          320,
          186,
          206,
          225,
          182,
          181,
          231,
          210,
          238,
          377,
          187,
          222,
          337,
          180,
          165,
          298,
          233,
          193,
          213,
          232,
          219,
          149,
          356,
          212,
          181,
          262,
          157,
          315,
          222,
          160,
          205,
          207,
          234,
          218,
          242,
          258,
          178,
          287,
          236,
          210,
          211,
          297,
          347,
          247,
          265,
          221,
          220,
          270,
          325,
          215,
          186,
          19,
          28,
          243,
          208,
          234,
          261,
          220,
          188,
          211,
          224,
          223,
          255,
          203,
          23,
          205,
          210,
          277,
          268,
          213,
          247,
          100,
          113,
          346,
          209,
          315,
          21,
          183,
          310,
          239,
          356,
          222,
          230,
          196,
          174,
          274,
          191,
          311,
          205,
          243,
          278,
          270,
          114,
          413,
          211,
          50,
          171,
          173,
          217,
          253,
          260,
          210,
          296,
          384,
          209,
          211,
          259,
          224,
          231,
          258,
          182,
          168,
          272,
          218,
          112,
          228,
          263,
          317,
          257,
          265,
          342,
          227,
          203,
          218,
          181,
          235,
          190,
          238,
          284,
          188,
          197,
          196,
          192,
          221,
          169,
          137,
          271,
          263,
          330,
          213,
          331,
          285,
          171,
          195,
          257,
          260,
          383,
          300,
          166,
          234,
          219,
          320,
          173,
          167,
          347,
          324,
          196,
          222,
          199,
          158,
          181,
          310,
          312,
          349,
          37,
          156,
          65,
          245,
          211,
          222,
          400,
          219,
          239,
          198,
          301,
          255,
          201,
          307,
          201,
          178,
          218,
          189,
          249,
          229,
          266,
          84,
          39,
          159,
          186,
          207,
          260,
          258,
          133,
          1,
          282,
          160,
          255,
          258,
          194,
          380,
          228,
          209,
          261,
          233,
          185,
          280,
          248,
          231,
          306,
          184,
          179,
          268,
          282,
          87,
          287,
          180,
          214,
          278,
          248,
          135,
          179,
          209,
          166,
          157,
          322,
          217,
          202,
          266,
          191,
          281,
          230,
          190,
          221,
          263,
          386,
          323,
          305,
          317,
          195,
          314,
          230,
          283,
          278,
          216,
          211,
          237,
          257,
          229,
          179,
          245,
          310,
          235,
          325,
          197,
          164,
          235,
          263,
          266,
          353,
          225,
          259,
          185,
          210,
          208,
          362,
          269,
          220,
          127,
          250,
          277,
          257,
          88,
          291,
          202,
          221,
          258,
          209,
          218,
          287,
          227,
          326,
          381,
          188,
          234,
          314,
          181,
          167,
          214,
          269,
          275,
          176,
          216,
          202,
          233,
          323,
          175,
          263,
          168,
          311,
          169,
          4,
          191,
          274,
          164,
          208,
          224,
          259,
          203,
          217,
          221,
          213,
          270,
          240,
          218,
          282,
          247,
          251,
          315,
          252,
          58,
          183,
          212,
          246,
          276,
          188,
          204,
          273,
          279,
          190,
          193,
          260,
          261,
          184,
          336,
          284,
          194,
          230,
          238,
          231,
          328,
          261,
          202,
          311,
          363,
          236,
          169,
          311,
          162,
          209,
          189,
          300,
          197,
          199,
          226,
          201,
          164,
          228,
          250,
          196,
          201,
          196,
          259,
          226,
          239,
          208,
          127,
          293,
          222,
          356,
          266,
          270,
          246,
          165,
          225,
          291,
          263,
          194,
          277,
          148,
          243,
          163,
          240,
          190,
          146,
          183,
          160,
          264,
          207,
          327,
          15,
          241,
          93,
          200,
          195,
          206,
          249,
          226,
          325,
          215,
          219,
          209,
          239,
          258,
          248,
          47,
          234,
          195,
          157,
          121,
          187,
          313,
          204,
          27,
          251,
          191,
          274,
          157,
          223,
          201,
          256,
          51,
          14,
          183,
          249,
          228,
          222,
          295,
          311,
          231,
          200,
          231,
          266,
          270,
          192,
          293,
          238,
          319,
          261,
          279,
          236,
          253,
          219,
          154,
          212,
          139,
          197,
          296,
          378,
          164,
          267,
          353,
          283,
          356,
          235,
          254,
          281,
          2,
          207,
          24,
          168,
          235,
          232,
          237,
          227,
          185,
          187,
          233,
          203,
          273,
          201,
          240,
          272,
          293,
          271,
          312,
          273,
          223,
          201,
          315,
          347,
          73,
          272,
          183,
          187,
          255,
          291,
          201,
          198,
          221,
          194,
          250,
          207,
          297,
          60,
          220,
          230,
          200,
          1,
          234,
          218,
          242,
          383,
          215,
          203,
          218,
          176,
          214,
          234,
          200,
          196,
          228,
          117,
          204,
          196,
          233,
          338,
          183,
          253,
          259,
          233,
          152,
          180,
          331,
          302,
          342,
          179,
          286,
          194,
          290,
          173,
          309,
          278,
          251,
          257,
          177,
          237,
          210,
          248,
          106,
          194,
          215,
          197,
          192,
          264,
          272,
          293,
          203,
          312,
          243,
          283,
          254,
          179,
          225,
          258,
          331,
          321,
          141,
          268,
          193,
          298,
          203,
          155,
          251,
          254,
          180,
          267,
          209,
          172,
          236,
          208,
          141,
          222,
          210,
          184,
          272,
          232,
          231,
          163,
          228,
          178,
          312,
          343,
          202,
          172,
          230,
          84,
          200,
          260,
          229,
          165,
          208,
          153,
          198,
          219,
          34,
          237,
          236,
          268,
          331,
          21,
          177,
          289,
          181,
          227,
          219,
          271,
          243,
          143,
          309,
          232,
          274,
          304,
          235,
          247,
          206,
          206,
          230,
          214,
          252,
          228,
          210,
          230,
          247,
          218,
          206,
          281,
          239,
          210,
          224,
          218,
          205,
          221,
          258,
          270,
          223,
          211,
          191,
          272,
          284,
          132,
          274,
          179,
          171,
          176,
          232,
          340,
          265,
          242,
          207,
          211,
          186,
          285,
          247,
          238,
          173,
          167,
          408,
          153,
          227,
          206,
          284,
          198
         ],
         "yaxis": "y"
        }
       ],
       "layout": {
        "barmode": "relative",
        "legend": {
         "tracegroupgap": 0
        },
        "margin": {
         "t": 60
        },
        "template": {
         "data": {
          "bar": [
           {
            "error_x": {
             "color": "#2a3f5f"
            },
            "error_y": {
             "color": "#2a3f5f"
            },
            "marker": {
             "line": {
              "color": "#E5ECF6",
              "width": 0.5
             },
             "pattern": {
              "fillmode": "overlay",
              "size": 10,
              "solidity": 0.2
             }
            },
            "type": "bar"
           }
          ],
          "barpolar": [
           {
            "marker": {
             "line": {
              "color": "#E5ECF6",
              "width": 0.5
             },
             "pattern": {
              "fillmode": "overlay",
              "size": 10,
              "solidity": 0.2
             }
            },
            "type": "barpolar"
           }
          ],
          "carpet": [
           {
            "aaxis": {
             "endlinecolor": "#2a3f5f",
             "gridcolor": "white",
             "linecolor": "white",
             "minorgridcolor": "white",
             "startlinecolor": "#2a3f5f"
            },
            "baxis": {
             "endlinecolor": "#2a3f5f",
             "gridcolor": "white",
             "linecolor": "white",
             "minorgridcolor": "white",
             "startlinecolor": "#2a3f5f"
            },
            "type": "carpet"
           }
          ],
          "choropleth": [
           {
            "colorbar": {
             "outlinewidth": 0,
             "ticks": ""
            },
            "type": "choropleth"
           }
          ],
          "contour": [
           {
            "colorbar": {
             "outlinewidth": 0,
             "ticks": ""
            },
            "colorscale": [
             [
              0,
              "#0d0887"
             ],
             [
              0.1111111111111111,
              "#46039f"
             ],
             [
              0.2222222222222222,
              "#7201a8"
             ],
             [
              0.3333333333333333,
              "#9c179e"
             ],
             [
              0.4444444444444444,
              "#bd3786"
             ],
             [
              0.5555555555555556,
              "#d8576b"
             ],
             [
              0.6666666666666666,
              "#ed7953"
             ],
             [
              0.7777777777777778,
              "#fb9f3a"
             ],
             [
              0.8888888888888888,
              "#fdca26"
             ],
             [
              1,
              "#f0f921"
             ]
            ],
            "type": "contour"
           }
          ],
          "contourcarpet": [
           {
            "colorbar": {
             "outlinewidth": 0,
             "ticks": ""
            },
            "type": "contourcarpet"
           }
          ],
          "heatmap": [
           {
            "colorbar": {
             "outlinewidth": 0,
             "ticks": ""
            },
            "colorscale": [
             [
              0,
              "#0d0887"
             ],
             [
              0.1111111111111111,
              "#46039f"
             ],
             [
              0.2222222222222222,
              "#7201a8"
             ],
             [
              0.3333333333333333,
              "#9c179e"
             ],
             [
              0.4444444444444444,
              "#bd3786"
             ],
             [
              0.5555555555555556,
              "#d8576b"
             ],
             [
              0.6666666666666666,
              "#ed7953"
             ],
             [
              0.7777777777777778,
              "#fb9f3a"
             ],
             [
              0.8888888888888888,
              "#fdca26"
             ],
             [
              1,
              "#f0f921"
             ]
            ],
            "type": "heatmap"
           }
          ],
          "heatmapgl": [
           {
            "colorbar": {
             "outlinewidth": 0,
             "ticks": ""
            },
            "colorscale": [
             [
              0,
              "#0d0887"
             ],
             [
              0.1111111111111111,
              "#46039f"
             ],
             [
              0.2222222222222222,
              "#7201a8"
             ],
             [
              0.3333333333333333,
              "#9c179e"
             ],
             [
              0.4444444444444444,
              "#bd3786"
             ],
             [
              0.5555555555555556,
              "#d8576b"
             ],
             [
              0.6666666666666666,
              "#ed7953"
             ],
             [
              0.7777777777777778,
              "#fb9f3a"
             ],
             [
              0.8888888888888888,
              "#fdca26"
             ],
             [
              1,
              "#f0f921"
             ]
            ],
            "type": "heatmapgl"
           }
          ],
          "histogram": [
           {
            "marker": {
             "pattern": {
              "fillmode": "overlay",
              "size": 10,
              "solidity": 0.2
             }
            },
            "type": "histogram"
           }
          ],
          "histogram2d": [
           {
            "colorbar": {
             "outlinewidth": 0,
             "ticks": ""
            },
            "colorscale": [
             [
              0,
              "#0d0887"
             ],
             [
              0.1111111111111111,
              "#46039f"
             ],
             [
              0.2222222222222222,
              "#7201a8"
             ],
             [
              0.3333333333333333,
              "#9c179e"
             ],
             [
              0.4444444444444444,
              "#bd3786"
             ],
             [
              0.5555555555555556,
              "#d8576b"
             ],
             [
              0.6666666666666666,
              "#ed7953"
             ],
             [
              0.7777777777777778,
              "#fb9f3a"
             ],
             [
              0.8888888888888888,
              "#fdca26"
             ],
             [
              1,
              "#f0f921"
             ]
            ],
            "type": "histogram2d"
           }
          ],
          "histogram2dcontour": [
           {
            "colorbar": {
             "outlinewidth": 0,
             "ticks": ""
            },
            "colorscale": [
             [
              0,
              "#0d0887"
             ],
             [
              0.1111111111111111,
              "#46039f"
             ],
             [
              0.2222222222222222,
              "#7201a8"
             ],
             [
              0.3333333333333333,
              "#9c179e"
             ],
             [
              0.4444444444444444,
              "#bd3786"
             ],
             [
              0.5555555555555556,
              "#d8576b"
             ],
             [
              0.6666666666666666,
              "#ed7953"
             ],
             [
              0.7777777777777778,
              "#fb9f3a"
             ],
             [
              0.8888888888888888,
              "#fdca26"
             ],
             [
              1,
              "#f0f921"
             ]
            ],
            "type": "histogram2dcontour"
           }
          ],
          "mesh3d": [
           {
            "colorbar": {
             "outlinewidth": 0,
             "ticks": ""
            },
            "type": "mesh3d"
           }
          ],
          "parcoords": [
           {
            "line": {
             "colorbar": {
              "outlinewidth": 0,
              "ticks": ""
             }
            },
            "type": "parcoords"
           }
          ],
          "pie": [
           {
            "automargin": true,
            "type": "pie"
           }
          ],
          "scatter": [
           {
            "fillpattern": {
             "fillmode": "overlay",
             "size": 10,
             "solidity": 0.2
            },
            "type": "scatter"
           }
          ],
          "scatter3d": [
           {
            "line": {
             "colorbar": {
              "outlinewidth": 0,
              "ticks": ""
             }
            },
            "marker": {
             "colorbar": {
              "outlinewidth": 0,
              "ticks": ""
             }
            },
            "type": "scatter3d"
           }
          ],
          "scattercarpet": [
           {
            "marker": {
             "colorbar": {
              "outlinewidth": 0,
              "ticks": ""
             }
            },
            "type": "scattercarpet"
           }
          ],
          "scattergeo": [
           {
            "marker": {
             "colorbar": {
              "outlinewidth": 0,
              "ticks": ""
             }
            },
            "type": "scattergeo"
           }
          ],
          "scattergl": [
           {
            "marker": {
             "colorbar": {
              "outlinewidth": 0,
              "ticks": ""
             }
            },
            "type": "scattergl"
           }
          ],
          "scattermapbox": [
           {
            "marker": {
             "colorbar": {
              "outlinewidth": 0,
              "ticks": ""
             }
            },
            "type": "scattermapbox"
           }
          ],
          "scatterpolar": [
           {
            "marker": {
             "colorbar": {
              "outlinewidth": 0,
              "ticks": ""
             }
            },
            "type": "scatterpolar"
           }
          ],
          "scatterpolargl": [
           {
            "marker": {
             "colorbar": {
              "outlinewidth": 0,
              "ticks": ""
             }
            },
            "type": "scatterpolargl"
           }
          ],
          "scatterternary": [
           {
            "marker": {
             "colorbar": {
              "outlinewidth": 0,
              "ticks": ""
             }
            },
            "type": "scatterternary"
           }
          ],
          "surface": [
           {
            "colorbar": {
             "outlinewidth": 0,
             "ticks": ""
            },
            "colorscale": [
             [
              0,
              "#0d0887"
             ],
             [
              0.1111111111111111,
              "#46039f"
             ],
             [
              0.2222222222222222,
              "#7201a8"
             ],
             [
              0.3333333333333333,
              "#9c179e"
             ],
             [
              0.4444444444444444,
              "#bd3786"
             ],
             [
              0.5555555555555556,
              "#d8576b"
             ],
             [
              0.6666666666666666,
              "#ed7953"
             ],
             [
              0.7777777777777778,
              "#fb9f3a"
             ],
             [
              0.8888888888888888,
              "#fdca26"
             ],
             [
              1,
              "#f0f921"
             ]
            ],
            "type": "surface"
           }
          ],
          "table": [
           {
            "cells": {
             "fill": {
              "color": "#EBF0F8"
             },
             "line": {
              "color": "white"
             }
            },
            "header": {
             "fill": {
              "color": "#C8D4E3"
             },
             "line": {
              "color": "white"
             }
            },
            "type": "table"
           }
          ]
         },
         "layout": {
          "annotationdefaults": {
           "arrowcolor": "#2a3f5f",
           "arrowhead": 0,
           "arrowwidth": 1
          },
          "autotypenumbers": "strict",
          "coloraxis": {
           "colorbar": {
            "outlinewidth": 0,
            "ticks": ""
           }
          },
          "colorscale": {
           "diverging": [
            [
             0,
             "#8e0152"
            ],
            [
             0.1,
             "#c51b7d"
            ],
            [
             0.2,
             "#de77ae"
            ],
            [
             0.3,
             "#f1b6da"
            ],
            [
             0.4,
             "#fde0ef"
            ],
            [
             0.5,
             "#f7f7f7"
            ],
            [
             0.6,
             "#e6f5d0"
            ],
            [
             0.7,
             "#b8e186"
            ],
            [
             0.8,
             "#7fbc41"
            ],
            [
             0.9,
             "#4d9221"
            ],
            [
             1,
             "#276419"
            ]
           ],
           "sequential": [
            [
             0,
             "#0d0887"
            ],
            [
             0.1111111111111111,
             "#46039f"
            ],
            [
             0.2222222222222222,
             "#7201a8"
            ],
            [
             0.3333333333333333,
             "#9c179e"
            ],
            [
             0.4444444444444444,
             "#bd3786"
            ],
            [
             0.5555555555555556,
             "#d8576b"
            ],
            [
             0.6666666666666666,
             "#ed7953"
            ],
            [
             0.7777777777777778,
             "#fb9f3a"
            ],
            [
             0.8888888888888888,
             "#fdca26"
            ],
            [
             1,
             "#f0f921"
            ]
           ],
           "sequentialminus": [
            [
             0,
             "#0d0887"
            ],
            [
             0.1111111111111111,
             "#46039f"
            ],
            [
             0.2222222222222222,
             "#7201a8"
            ],
            [
             0.3333333333333333,
             "#9c179e"
            ],
            [
             0.4444444444444444,
             "#bd3786"
            ],
            [
             0.5555555555555556,
             "#d8576b"
            ],
            [
             0.6666666666666666,
             "#ed7953"
            ],
            [
             0.7777777777777778,
             "#fb9f3a"
            ],
            [
             0.8888888888888888,
             "#fdca26"
            ],
            [
             1,
             "#f0f921"
            ]
           ]
          },
          "colorway": [
           "#636efa",
           "#EF553B",
           "#00cc96",
           "#ab63fa",
           "#FFA15A",
           "#19d3f3",
           "#FF6692",
           "#B6E880",
           "#FF97FF",
           "#FECB52"
          ],
          "font": {
           "color": "#2a3f5f"
          },
          "geo": {
           "bgcolor": "white",
           "lakecolor": "white",
           "landcolor": "#E5ECF6",
           "showlakes": true,
           "showland": true,
           "subunitcolor": "white"
          },
          "hoverlabel": {
           "align": "left"
          },
          "hovermode": "closest",
          "mapbox": {
           "style": "light"
          },
          "paper_bgcolor": "white",
          "plot_bgcolor": "#E5ECF6",
          "polar": {
           "angularaxis": {
            "gridcolor": "white",
            "linecolor": "white",
            "ticks": ""
           },
           "bgcolor": "#E5ECF6",
           "radialaxis": {
            "gridcolor": "white",
            "linecolor": "white",
            "ticks": ""
           }
          },
          "scene": {
           "xaxis": {
            "backgroundcolor": "#E5ECF6",
            "gridcolor": "white",
            "gridwidth": 2,
            "linecolor": "white",
            "showbackground": true,
            "ticks": "",
            "zerolinecolor": "white"
           },
           "yaxis": {
            "backgroundcolor": "#E5ECF6",
            "gridcolor": "white",
            "gridwidth": 2,
            "linecolor": "white",
            "showbackground": true,
            "ticks": "",
            "zerolinecolor": "white"
           },
           "zaxis": {
            "backgroundcolor": "#E5ECF6",
            "gridcolor": "white",
            "gridwidth": 2,
            "linecolor": "white",
            "showbackground": true,
            "ticks": "",
            "zerolinecolor": "white"
           }
          },
          "shapedefaults": {
           "line": {
            "color": "#2a3f5f"
           }
          },
          "ternary": {
           "aaxis": {
            "gridcolor": "white",
            "linecolor": "white",
            "ticks": ""
           },
           "baxis": {
            "gridcolor": "white",
            "linecolor": "white",
            "ticks": ""
           },
           "bgcolor": "#E5ECF6",
           "caxis": {
            "gridcolor": "white",
            "linecolor": "white",
            "ticks": ""
           }
          },
          "title": {
           "x": 0.05
          },
          "xaxis": {
           "automargin": true,
           "gridcolor": "white",
           "linecolor": "white",
           "ticks": "",
           "title": {
            "standoff": 15
           },
           "zerolinecolor": "white",
           "zerolinewidth": 2
          },
          "yaxis": {
           "automargin": true,
           "gridcolor": "white",
           "linecolor": "white",
           "ticks": "",
           "title": {
            "standoff": 15
           },
           "zerolinecolor": "white",
           "zerolinewidth": 2
          }
         }
        },
        "xaxis": {
         "anchor": "y",
         "domain": [
          0,
          1
         ],
         "title": {
          "text": "Service Date"
         }
        },
        "yaxis": {
         "anchor": "x",
         "domain": [
          0,
          1
         ],
         "title": {
          "text": "count"
         }
        }
       }
      }
     },
     "metadata": {},
     "output_type": "display_data"
    }
   ],
   "source": [
    "fig = px.bar(service_date_counts, x=\"Service Date\", y=\"count\", hover_data=[\"count\"], color_discrete_sequence=[\"#000000\"])\n",
    "fig.show()"
   ]
  },
  {
   "cell_type": "code",
   "execution_count": 312,
   "metadata": {},
   "outputs": [],
   "source": [
    "month_counts = subset_dates['Service Date'].dt.month().value_counts()"
   ]
  },
  {
   "cell_type": "code",
   "execution_count": 313,
   "metadata": {},
   "outputs": [
    {
     "data": {
      "text/html": [
       "<div><style>\n",
       ".dataframe > thead > tr,\n",
       ".dataframe > tbody > tr {\n",
       "  text-align: right;\n",
       "  white-space: pre-wrap;\n",
       "}\n",
       "</style>\n",
       "<small>shape: (12,)</small><table border=\"1\" class=\"dataframe\"><thead><tr><th>Service Date</th></tr><tr><td>i8</td></tr></thead><tbody><tr><td>12</td></tr><tr><td>1</td></tr><tr><td>7</td></tr><tr><td>6</td></tr><tr><td>11</td></tr><tr><td>8</td></tr><tr><td>10</td></tr><tr><td>5</td></tr><tr><td>3</td></tr><tr><td>4</td></tr><tr><td>2</td></tr><tr><td>9</td></tr></tbody></table></div>"
      ],
      "text/plain": [
       "shape: (12,)\n",
       "Series: 'Service Date' [i8]\n",
       "[\n",
       "\t12\n",
       "\t1\n",
       "\t7\n",
       "\t6\n",
       "\t11\n",
       "\t8\n",
       "\t10\n",
       "\t5\n",
       "\t3\n",
       "\t4\n",
       "\t2\n",
       "\t9\n",
       "]"
      ]
     },
     "execution_count": 313,
     "metadata": {},
     "output_type": "execute_result"
    }
   ],
   "source": [
    "month_counts['Service Date']"
   ]
  },
  {
   "cell_type": "code",
   "execution_count": 314,
   "metadata": {},
   "outputs": [
    {
     "data": {
      "text/html": [
       "<div><style>\n",
       ".dataframe > thead > tr,\n",
       ".dataframe > tbody > tr {\n",
       "  text-align: right;\n",
       "  white-space: pre-wrap;\n",
       "}\n",
       "</style>\n",
       "<small>shape: (12, 2)</small><table border=\"1\" class=\"dataframe\"><thead><tr><th>Service Date</th><th>count</th></tr><tr><td>i8</td><td>u32</td></tr></thead><tbody><tr><td>9</td><td>23479</td></tr><tr><td>4</td><td>21245</td></tr><tr><td>2</td><td>20032</td></tr><tr><td>6</td><td>20880</td></tr><tr><td>7</td><td>21730</td></tr><tr><td>12</td><td>16898</td></tr><tr><td>8</td><td>22214</td></tr><tr><td>3</td><td>20854</td></tr><tr><td>1</td><td>18947</td></tr><tr><td>5</td><td>21822</td></tr><tr><td>10</td><td>24841</td></tr><tr><td>11</td><td>20744</td></tr></tbody></table></div>"
      ],
      "text/plain": [
       "shape: (12, 2)\n",
       "┌──────────────┬───────┐\n",
       "│ Service Date ┆ count │\n",
       "│ ---          ┆ ---   │\n",
       "│ i8           ┆ u32   │\n",
       "╞══════════════╪═══════╡\n",
       "│ 9            ┆ 23479 │\n",
       "│ 4            ┆ 21245 │\n",
       "│ 2            ┆ 20032 │\n",
       "│ 6            ┆ 20880 │\n",
       "│ 7            ┆ 21730 │\n",
       "│ 12           ┆ 16898 │\n",
       "│ 8            ┆ 22214 │\n",
       "│ 3            ┆ 20854 │\n",
       "│ 1            ┆ 18947 │\n",
       "│ 5            ┆ 21822 │\n",
       "│ 10           ┆ 24841 │\n",
       "│ 11           ┆ 20744 │\n",
       "└──────────────┴───────┘"
      ]
     },
     "execution_count": 314,
     "metadata": {},
     "output_type": "execute_result"
    }
   ],
   "source": [
    "df['Service Date'].dt.month().value_counts()"
   ]
  },
  {
   "cell_type": "code",
   "execution_count": 315,
   "metadata": {},
   "outputs": [
    {
     "data": {
      "text/html": [
       "<div><style>\n",
       ".dataframe > thead > tr,\n",
       ".dataframe > tbody > tr {\n",
       "  text-align: right;\n",
       "  white-space: pre-wrap;\n",
       "}\n",
       "</style>\n",
       "<small>shape: (12, 2)</small><table border=\"1\" class=\"dataframe\"><thead><tr><th>Service Date</th><th>count</th></tr><tr><td>i8</td><td>u32</td></tr></thead><tbody><tr><td>9</td><td>2113</td></tr><tr><td>10</td><td>1660</td></tr><tr><td>5</td><td>1625</td></tr><tr><td>7</td><td>1313</td></tr><tr><td>4</td><td>959</td></tr><tr><td>6</td><td>1740</td></tr><tr><td>2</td><td>506</td></tr><tr><td>8</td><td>2079</td></tr><tr><td>1</td><td>506</td></tr><tr><td>11</td><td>1036</td></tr><tr><td>3</td><td>622</td></tr><tr><td>12</td><td>539</td></tr></tbody></table></div>"
      ],
      "text/plain": [
       "shape: (12, 2)\n",
       "┌──────────────┬───────┐\n",
       "│ Service Date ┆ count │\n",
       "│ ---          ┆ ---   │\n",
       "│ i8           ┆ u32   │\n",
       "╞══════════════╪═══════╡\n",
       "│ 9            ┆ 2113  │\n",
       "│ 10           ┆ 1660  │\n",
       "│ 5            ┆ 1625  │\n",
       "│ 7            ┆ 1313  │\n",
       "│ 4            ┆ 959   │\n",
       "│ 6            ┆ 1740  │\n",
       "│ 2            ┆ 506   │\n",
       "│ 8            ┆ 2079  │\n",
       "│ 1            ┆ 506   │\n",
       "│ 11           ┆ 1036  │\n",
       "│ 3            ┆ 622   │\n",
       "│ 12           ┆ 539   │\n",
       "└──────────────┴───────┘"
      ]
     },
     "execution_count": 315,
     "metadata": {},
     "output_type": "execute_result"
    }
   ],
   "source": [
    "df.filter(df['High Cost Claim']==1)['Service Date'].dt.month().value_counts()"
   ]
  },
  {
   "cell_type": "code",
   "execution_count": 316,
   "metadata": {},
   "outputs": [],
   "source": [
    "month_counts = df.filter(df['High Cost Claim'] == 1).with_columns(\n",
    "    pl.col(\"Service Date\").dt.month().alias(\"Month\")\n",
    ")\n",
    "month_counts = month_counts.group_by(\"Month\").agg(pl.len().alias(\"Count\"))\n"
   ]
  },
  {
   "cell_type": "code",
   "execution_count": 317,
   "metadata": {},
   "outputs": [
    {
     "data": {
      "image/png": "[encoded data removed]",
      "text/plain": [
       "<Figure size 640x480 with 1 Axes>"
      ]
     },
     "metadata": {},
     "output_type": "display_data"
    }
   ],
   "source": [
    "month_counts_pd = month_counts.to_pandas()\n",
    "\n",
    "month_counts_pd.plot(kind=\"bar\", x=\"Month\", y=\"Count\", color='skyblue', edgecolor='black')\n",
    "plt.title(\"High Cost Claims Serviced by Month\")\n",
    "plt.xlabel(\"Month\")\n",
    "plt.ylabel(\"Count\")\n",
    "plt.show() "
   ]
  },
  {
   "cell_type": "code",
   "execution_count": 318,
   "metadata": {},
   "outputs": [],
   "source": [
    "weekday_counts = df.filter(df['High Cost Claim'] == 1).with_columns(\n",
    "    pl.col(\"Service Date\").dt.weekday().alias(\"Weekday\")\n",
    ")\n",
    "weekday_counts = weekday_counts.group_by(\"Weekday\").agg(pl.len().alias(\"Weekday Count\"))\n"
   ]
  },
  {
   "cell_type": "code",
   "execution_count": 319,
   "metadata": {},
   "outputs": [
    {
     "data": {
      "text/html": [
       "<div><style>\n",
       ".dataframe > thead > tr,\n",
       ".dataframe > tbody > tr {\n",
       "  text-align: right;\n",
       "  white-space: pre-wrap;\n",
       "}\n",
       "</style>\n",
       "<small>shape: (7, 2)</small><table border=\"1\" class=\"dataframe\"><thead><tr><th>Weekday</th><th>Weekday Count</th></tr><tr><td>i8</td><td>u32</td></tr></thead><tbody><tr><td>6</td><td>1970</td></tr><tr><td>4</td><td>2497</td></tr><tr><td>5</td><td>1780</td></tr><tr><td>2</td><td>1996</td></tr><tr><td>1</td><td>2148</td></tr><tr><td>7</td><td>1947</td></tr><tr><td>3</td><td>2360</td></tr></tbody></table></div>"
      ],
      "text/plain": [
       "shape: (7, 2)\n",
       "┌─────────┬───────────────┐\n",
       "│ Weekday ┆ Weekday Count │\n",
       "│ ---     ┆ ---           │\n",
       "│ i8      ┆ u32           │\n",
       "╞═════════╪═══════════════╡\n",
       "│ 6       ┆ 1970          │\n",
       "│ 4       ┆ 2497          │\n",
       "│ 5       ┆ 1780          │\n",
       "│ 2       ┆ 1996          │\n",
       "│ 1       ┆ 2148          │\n",
       "│ 7       ┆ 1947          │\n",
       "│ 3       ┆ 2360          │\n",
       "└─────────┴───────────────┘"
      ]
     },
     "execution_count": 319,
     "metadata": {},
     "output_type": "execute_result"
    }
   ],
   "source": [
    "weekday_counts"
   ]
  },
  {
   "cell_type": "code",
   "execution_count": 320,
   "metadata": {},
   "outputs": [
    {
     "data": {
      "image/png": "[encoded data removed]",
      "text/plain": [
       "<Figure size 640x480 with 1 Axes>"
      ]
     },
     "metadata": {},
     "output_type": "display_data"
    }
   ],
   "source": [
    "weekday_counts_pd = weekday_counts.to_pandas()\n",
    "\n",
    "weekday_counts_pd.plot(kind=\"bar\", x=\"Weekday\", y=\"Weekday Count\", color='skyblue', edgecolor='black')\n",
    "plt.title(\"High Cost Claims Serviced by Weekday\")\n",
    "plt.xlabel(\"Weekday\")\n",
    "plt.ylabel(\"Count\")\n",
    "plt.show() "
   ]
  },
  {
   "cell_type": "code",
   "execution_count": null,
   "metadata": {},
   "outputs": [],
   "source": []
  }
 ],
 "metadata": {
  "kernelspec": {
   "display_name": ".venv",
   "language": "python",
   "name": "python3"
  },
  "language_info": {
   "codemirror_mode": {
    "name": "ipython",
    "version": 3
   },
   "file_extension": ".py",
   "mimetype": "text/x-python",
   "name": "python",
   "nbconvert_exporter": "python",
   "pygments_lexer": "ipython3",
   "version": "3.10.16"
  }
 },
 "nbformat": 4,
 "nbformat_minor": 2
}
