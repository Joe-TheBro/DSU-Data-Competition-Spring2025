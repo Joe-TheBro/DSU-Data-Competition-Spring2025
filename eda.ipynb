{
 "cells": [
  {
   "cell_type": "code",
   "execution_count": 103,
   "metadata": {},
   "outputs": [],
   "source": [
    "import polars as pl\n",
    "import altair as alt\n",
    "from pathlib import Path\n",
    "import matplotlib.pyplot as plt"
   ]
  },
  {
   "cell_type": "code",
   "execution_count": 14,
   "metadata": {},
   "outputs": [],
   "source": [
    "data_dir = Path(\"data\")\n",
    "df = pl.read_parquet(data_dir / \"DSU-Dataset.parquet\") "
   ]
  },
  {
   "cell_type": "code",
   "execution_count": 15,
   "metadata": {},
   "outputs": [
    {
     "data": {
      "text/html": [
       "<div><style>\n",
       ".dataframe > thead > tr,\n",
       ".dataframe > tbody > tr {\n",
       "  text-align: right;\n",
       "  white-space: pre-wrap;\n",
       "}\n",
       "</style>\n",
       "<small>shape: (5, 31)</small><table border=\"1\" class=\"dataframe\"><thead><tr><th>Claim ID</th><th>Service Date</th><th>Recieved Date</th><th>Paid Date</th><th>Patient ID</th><th>Member Age</th><th>Gender</th><th>Marital Status</th><th>Ethnicity</th><th>LOB</th><th>Network Status</th><th>Claim Category</th><th>Claim Subcategory</th><th>Claim Line</th><th>Place of Service</th><th>Provider Type</th><th>Provider Specialty</th><th>ICD10 Code 1</th><th>ICD10 Code 2</th><th>ICD10 Code 3</th><th>ICD10 Code 4</th><th>ICD10 Code 5</th><th>ICD10 Code 6</th><th>ICD10 Code 7</th><th>ICD10 Code 8</th><th>ICD10 Code 9</th><th>ICD10 Code 10</th><th>Service Type</th><th>Service Code</th><th>Modifiers</th><th>High Cost Claim</th></tr><tr><td>str</td><td>date</td><td>date</td><td>date</td><td>str</td><td>str</td><td>str</td><td>str</td><td>str</td><td>str</td><td>str</td><td>str</td><td>str</td><td>str</td><td>str</td><td>str</td><td>str</td><td>i64</td><td>i64</td><td>i64</td><td>i64</td><td>i64</td><td>i64</td><td>i64</td><td>i64</td><td>i64</td><td>i64</td><td>str</td><td>str</td><td>str</td><td>i64</td></tr></thead><tbody><tr><td>&quot;8110afaab1020212f58193e233369c…</td><td>2022-01-15</td><td>2022-01-17</td><td>2022-01-25</td><td>&quot;99f69b741b2784601452afbe7f9083…</td><td>&quot;10-19 Yrs Old&quot;</td><td>&quot;F&quot;</td><td>&quot;Single&quot;</td><td>&quot;Caucasian/White&quot;</td><td>&quot;SGH&quot;</td><td>&quot;IN NETWORK&quot;</td><td>&quot;PROFESSIONAL&quot;</td><td>&quot;OFFICE VISIT&quot;</td><td>&quot;MEDICAL&quot;</td><td>&quot;OFFICE&quot;</td><td>&quot;Physician&quot;</td><td>&quot;OCCUPATIONAL MEDICINE (PREVENT…</td><td>0</td><td>null</td><td>null</td><td>null</td><td>null</td><td>null</td><td>null</td><td>null</td><td>null</td><td>null</td><td>&quot;PROC&quot;</td><td>&quot;U0005&quot;</td><td>null</td><td>null</td></tr><tr><td>&quot;8110afaab1020212f58193e233369c…</td><td>2022-01-15</td><td>2022-01-17</td><td>2022-01-25</td><td>&quot;99f69b741b2784601452afbe7f9083…</td><td>&quot;10-19 Yrs Old&quot;</td><td>&quot;F&quot;</td><td>&quot;Single&quot;</td><td>&quot;Caucasian/White&quot;</td><td>&quot;SGH&quot;</td><td>&quot;IN NETWORK&quot;</td><td>&quot;PROFESSIONAL&quot;</td><td>&quot;OFFICE VISIT&quot;</td><td>&quot;MEDICAL&quot;</td><td>&quot;OFFICE&quot;</td><td>&quot;Physician&quot;</td><td>&quot;OCCUPATIONAL MEDICINE (PREVENT…</td><td>0</td><td>null</td><td>null</td><td>null</td><td>null</td><td>null</td><td>null</td><td>null</td><td>null</td><td>null</td><td>&quot;PROC&quot;</td><td>&quot;U0003&quot;</td><td>null</td><td>null</td></tr><tr><td>&quot;190430199dfa0b3ed46212060301b3…</td><td>2022-01-05</td><td>2022-01-06</td><td>2022-01-10</td><td>&quot;79c25d5d6a0cec975ddcd349f1c431…</td><td>&quot;10-19 Yrs Old&quot;</td><td>&quot;M&quot;</td><td>&quot;Single&quot;</td><td>&quot;Caucasian/White&quot;</td><td>&quot;NPS&quot;</td><td>&quot;ND PERS PPO&quot;</td><td>&quot;PROFESSIONAL&quot;</td><td>&quot;OFFICE VISIT&quot;</td><td>&quot;MEDICAL&quot;</td><td>&quot;OFFICE&quot;</td><td>&quot;Physician&quot;</td><td>&quot;DIAGNOSTIC RADIOLOGY (RADIOLOG…</td><td>2</td><td>null</td><td>null</td><td>null</td><td>null</td><td>null</td><td>null</td><td>null</td><td>null</td><td>null</td><td>&quot;PROC&quot;</td><td>&quot;73630&quot;</td><td>&quot;TC,LT&quot;</td><td>0</td></tr><tr><td>&quot;cac4ce65912da45e6350bf9528623f…</td><td>2021-12-28</td><td>2021-12-30</td><td>2022-01-03</td><td>&quot;2fe692eb90cbcb4a2afa053ac41691…</td><td>&quot;50-59 Yrs Old&quot;</td><td>&quot;F&quot;</td><td>&quot;Divorced&quot;</td><td>&quot;Caucasian/White&quot;</td><td>&quot;NPS&quot;</td><td>&quot;ND PERS PPO&quot;</td><td>&quot;PROFESSIONAL&quot;</td><td>&quot;OFFICE VISIT&quot;</td><td>&quot;MEDICAL&quot;</td><td>&quot;OFFICE&quot;</td><td>&quot;Physician&quot;</td><td>&quot;PATHOLOGY&quot;</td><td>3</td><td>null</td><td>null</td><td>null</td><td>null</td><td>null</td><td>null</td><td>null</td><td>null</td><td>null</td><td>&quot;PROC&quot;</td><td>&quot;87426&quot;</td><td>null</td><td>0</td></tr><tr><td>&quot;e01f80a521e095d6fe969a0342a74c…</td><td>2022-01-05</td><td>2022-01-06</td><td>2022-01-13</td><td>&quot;64c05a5a40591a5f00d0868167a22d…</td><td>&quot;1-9 Yrs Old&quot;</td><td>&quot;F&quot;</td><td>&quot;Single&quot;</td><td>&quot;Caucasian/White&quot;</td><td>&quot;SGH&quot;</td><td>&quot;IN NETWORK&quot;</td><td>&quot;PROFESSIONAL&quot;</td><td>&quot;OFFICE VISIT&quot;</td><td>&quot;MEDICAL&quot;</td><td>&quot;OFFICE&quot;</td><td>&quot;Physician&quot;</td><td>&quot;PEDIATRICS&quot;</td><td>4</td><td>5</td><td>null</td><td>null</td><td>null</td><td>null</td><td>null</td><td>null</td><td>null</td><td>null</td><td>&quot;PROC&quot;</td><td>&quot;90670&quot;</td><td>null</td><td>0</td></tr></tbody></table></div>"
      ],
      "text/plain": [
       "shape: (5, 31)\n",
       "┌────────────┬────────────┬────────────┬───────────┬───┬───────────┬───────────┬───────────┬───────┐\n",
       "│ Claim ID   ┆ Service    ┆ Recieved   ┆ Paid Date ┆ … ┆ Service   ┆ Service   ┆ Modifiers ┆ High  │\n",
       "│ ---        ┆ Date       ┆ Date       ┆ ---       ┆   ┆ Type      ┆ Code      ┆ ---       ┆ Cost  │\n",
       "│ str        ┆ ---        ┆ ---        ┆ date      ┆   ┆ ---       ┆ ---       ┆ str       ┆ Claim │\n",
       "│            ┆ date       ┆ date       ┆           ┆   ┆ str       ┆ str       ┆           ┆ ---   │\n",
       "│            ┆            ┆            ┆           ┆   ┆           ┆           ┆           ┆ i64   │\n",
       "╞════════════╪════════════╪════════════╪═══════════╪═══╪═══════════╪═══════════╪═══════════╪═══════╡\n",
       "│ 8110afaab1 ┆ 2022-01-15 ┆ 2022-01-17 ┆ 2022-01-2 ┆ … ┆ PROC      ┆ U0005     ┆ null      ┆ null  │\n",
       "│ 020212f581 ┆            ┆            ┆ 5         ┆   ┆           ┆           ┆           ┆       │\n",
       "│ 93e233369c ┆            ┆            ┆           ┆   ┆           ┆           ┆           ┆       │\n",
       "│ …          ┆            ┆            ┆           ┆   ┆           ┆           ┆           ┆       │\n",
       "│ 8110afaab1 ┆ 2022-01-15 ┆ 2022-01-17 ┆ 2022-01-2 ┆ … ┆ PROC      ┆ U0003     ┆ null      ┆ null  │\n",
       "│ 020212f581 ┆            ┆            ┆ 5         ┆   ┆           ┆           ┆           ┆       │\n",
       "│ 93e233369c ┆            ┆            ┆           ┆   ┆           ┆           ┆           ┆       │\n",
       "│ …          ┆            ┆            ┆           ┆   ┆           ┆           ┆           ┆       │\n",
       "│ 190430199d ┆ 2022-01-05 ┆ 2022-01-06 ┆ 2022-01-1 ┆ … ┆ PROC      ┆ 73630     ┆ TC,LT     ┆ 0     │\n",
       "│ fa0b3ed462 ┆            ┆            ┆ 0         ┆   ┆           ┆           ┆           ┆       │\n",
       "│ 12060301b3 ┆            ┆            ┆           ┆   ┆           ┆           ┆           ┆       │\n",
       "│ …          ┆            ┆            ┆           ┆   ┆           ┆           ┆           ┆       │\n",
       "│ cac4ce6591 ┆ 2021-12-28 ┆ 2021-12-30 ┆ 2022-01-0 ┆ … ┆ PROC      ┆ 87426     ┆ null      ┆ 0     │\n",
       "│ 2da45e6350 ┆            ┆            ┆ 3         ┆   ┆           ┆           ┆           ┆       │\n",
       "│ bf9528623f ┆            ┆            ┆           ┆   ┆           ┆           ┆           ┆       │\n",
       "│ …          ┆            ┆            ┆           ┆   ┆           ┆           ┆           ┆       │\n",
       "│ e01f80a521 ┆ 2022-01-05 ┆ 2022-01-06 ┆ 2022-01-1 ┆ … ┆ PROC      ┆ 90670     ┆ null      ┆ 0     │\n",
       "│ e095d6fe96 ┆            ┆            ┆ 3         ┆   ┆           ┆           ┆           ┆       │\n",
       "│ 9a0342a74c ┆            ┆            ┆           ┆   ┆           ┆           ┆           ┆       │\n",
       "│ …          ┆            ┆            ┆           ┆   ┆           ┆           ┆           ┆       │\n",
       "└────────────┴────────────┴────────────┴───────────┴───┴───────────┴───────────┴───────────┴───────┘"
      ]
     },
     "execution_count": 15,
     "metadata": {},
     "output_type": "execute_result"
    }
   ],
   "source": [
    "df.head()"
   ]
  },
  {
   "cell_type": "code",
   "execution_count": 16,
   "metadata": {},
   "outputs": [
    {
     "data": {
      "text/html": [
       "<div><style>\n",
       ".dataframe > thead > tr,\n",
       ".dataframe > tbody > tr {\n",
       "  text-align: right;\n",
       "  white-space: pre-wrap;\n",
       "}\n",
       "</style>\n",
       "<small>shape: (1_130, 2)</small><table border=\"1\" class=\"dataframe\"><thead><tr><th>Service Date</th><th>count</th></tr><tr><td>date</td><td>u32</td></tr></thead><tbody><tr><td>2024-12-13</td><td>39</td></tr><tr><td>2022-03-16</td><td>225</td></tr><tr><td>2023-08-08</td><td>207</td></tr><tr><td>2023-09-22</td><td>325</td></tr><tr><td>2023-03-23</td><td>248</td></tr><tr><td>&hellip;</td><td>&hellip;</td></tr><tr><td>2023-03-26</td><td>270</td></tr><tr><td>2023-12-27</td><td>195</td></tr><tr><td>2023-09-12</td><td>255</td></tr><tr><td>2023-04-08</td><td>162</td></tr><tr><td>2024-10-24</td><td>268</td></tr></tbody></table></div>"
      ],
      "text/plain": [
       "shape: (1_130, 2)\n",
       "┌──────────────┬───────┐\n",
       "│ Service Date ┆ count │\n",
       "│ ---          ┆ ---   │\n",
       "│ date         ┆ u32   │\n",
       "╞══════════════╪═══════╡\n",
       "│ 2024-12-13   ┆ 39    │\n",
       "│ 2022-03-16   ┆ 225   │\n",
       "│ 2023-08-08   ┆ 207   │\n",
       "│ 2023-09-22   ┆ 325   │\n",
       "│ 2023-03-23   ┆ 248   │\n",
       "│ …            ┆ …     │\n",
       "│ 2023-03-26   ┆ 270   │\n",
       "│ 2023-12-27   ┆ 195   │\n",
       "│ 2023-09-12   ┆ 255   │\n",
       "│ 2023-04-08   ┆ 162   │\n",
       "│ 2024-10-24   ┆ 268   │\n",
       "└──────────────┴───────┘"
      ]
     },
     "execution_count": 16,
     "metadata": {},
     "output_type": "execute_result"
    }
   ],
   "source": [
    "df['Service Date'].value_counts()"
   ]
  },
  {
   "cell_type": "code",
   "execution_count": 17,
   "metadata": {},
   "outputs": [],
   "source": [
    "service_date_counts = df['Service Date'].value_counts()"
   ]
  },
  {
   "cell_type": "code",
   "execution_count": 18,
   "metadata": {},
   "outputs": [
    {
     "data": {
      "text/html": [
       "<div><style>\n",
       ".dataframe > thead > tr,\n",
       ".dataframe > tbody > tr {\n",
       "  text-align: right;\n",
       "  white-space: pre-wrap;\n",
       "}\n",
       "</style>\n",
       "<small>shape: (1_130, 2)</small><table border=\"1\" class=\"dataframe\"><thead><tr><th>Service Date</th><th>count</th></tr><tr><td>date</td><td>u32</td></tr></thead><tbody><tr><td>2023-04-01</td><td>229</td></tr><tr><td>2023-09-16</td><td>271</td></tr><tr><td>2022-09-15</td><td>258</td></tr><tr><td>2024-12-13</td><td>39</td></tr><tr><td>2023-05-24</td><td>175</td></tr><tr><td>&hellip;</td><td>&hellip;</td></tr><tr><td>2022-02-17</td><td>196</td></tr><tr><td>2024-06-19</td><td>260</td></tr><tr><td>2022-02-14</td><td>187</td></tr><tr><td>2024-03-17</td><td>283</td></tr><tr><td>2024-07-17</td><td>275</td></tr></tbody></table></div>"
      ],
      "text/plain": [
       "shape: (1_130, 2)\n",
       "┌──────────────┬───────┐\n",
       "│ Service Date ┆ count │\n",
       "│ ---          ┆ ---   │\n",
       "│ date         ┆ u32   │\n",
       "╞══════════════╪═══════╡\n",
       "│ 2023-04-01   ┆ 229   │\n",
       "│ 2023-09-16   ┆ 271   │\n",
       "│ 2022-09-15   ┆ 258   │\n",
       "│ 2024-12-13   ┆ 39    │\n",
       "│ 2023-05-24   ┆ 175   │\n",
       "│ …            ┆ …     │\n",
       "│ 2022-02-17   ┆ 196   │\n",
       "│ 2024-06-19   ┆ 260   │\n",
       "│ 2022-02-14   ┆ 187   │\n",
       "│ 2024-03-17   ┆ 283   │\n",
       "│ 2024-07-17   ┆ 275   │\n",
       "└──────────────┴───────┘"
      ]
     },
     "execution_count": 18,
     "metadata": {},
     "output_type": "execute_result"
    }
   ],
   "source": [
    "service_date_counts"
   ]
  },
  {
   "cell_type": "code",
   "execution_count": 19,
   "metadata": {},
   "outputs": [
    {
     "data": {
      "text/html": [
       "\n",
       "<style>\n",
       "  #altair-viz-3ad301aee03742f9b09d42ae1f37aff5.vega-embed {\n",
       "    width: 100%;\n",
       "    display: flex;\n",
       "  }\n",
       "\n",
       "  #altair-viz-3ad301aee03742f9b09d42ae1f37aff5.vega-embed details,\n",
       "  #altair-viz-3ad301aee03742f9b09d42ae1f37aff5.vega-embed details summary {\n",
       "    position: relative;\n",
       "  }\n",
       "</style>\n",
       "<div id=\"altair-viz-3ad301aee03742f9b09d42ae1f37aff5\"></div>\n",
       "<script type=\"text/javascript\">\n",
       "  var VEGA_DEBUG = (typeof VEGA_DEBUG == \"undefined\") ? {} : VEGA_DEBUG;\n",
       "  (function(spec, embedOpt){\n",
       "    let outputDiv = document.currentScript.previousElementSibling;\n",
       "    if (outputDiv.id !== \"altair-viz-3ad301aee03742f9b09d42ae1f37aff5\") {\n",
       "      outputDiv = document.getElementById(\"altair-viz-3ad301aee03742f9b09d42ae1f37aff5\");\n",
       "    }\n",
       "\n",
       "    const paths = {\n",
       "      \"vega\": \"https://cdn.jsdelivr.net/npm/vega@5?noext\",\n",
       "      \"vega-lib\": \"https://cdn.jsdelivr.net/npm/vega-lib?noext\",\n",
       "      \"vega-lite\": \"https://cdn.jsdelivr.net/npm/vega-lite@5.20.1?noext\",\n",
       "      \"vega-embed\": \"https://cdn.jsdelivr.net/npm/vega-embed@6?noext\",\n",
       "    };\n",
       "\n",
       "    function maybeLoadScript(lib, version) {\n",
       "      var key = `${lib.replace(\"-\", \"\")}_version`;\n",
       "      return (VEGA_DEBUG[key] == version) ?\n",
       "        Promise.resolve(paths[lib]) :\n",
       "        new Promise(function(resolve, reject) {\n",
       "          var s = document.createElement('script');\n",
       "          document.getElementsByTagName(\"head\")[0].appendChild(s);\n",
       "          s.async = true;\n",
       "          s.onload = () => {\n",
       "            VEGA_DEBUG[key] = version;\n",
       "            return resolve(paths[lib]);\n",
       "          };\n",
       "          s.onerror = () => reject(`Error loading script: ${paths[lib]}`);\n",
       "          s.src = paths[lib];\n",
       "        });\n",
       "    }\n",
       "\n",
       "    function showError(err) {\n",
       "      outputDiv.innerHTML = `<div class=\"error\" style=\"color:red;\">${err}</div>`;\n",
       "      throw err;\n",
       "    }\n",
       "\n",
       "    function displayChart(vegaEmbed) {\n",
       "      vegaEmbed(outputDiv, spec, embedOpt)\n",
       "        .catch(err => showError(`Javascript Error: ${err.message}<br>This usually means there's a typo in your chart specification. See the javascript console for the full traceback.`));\n",
       "    }\n",
       "\n",
       "    if(typeof define === \"function\" && define.amd) {\n",
       "      requirejs.config({paths});\n",
       "      let deps = [\"vega-embed\"];\n",
       "      require(deps, displayChart, err => showError(`Error loading script: ${err.message}`));\n",
       "    } else {\n",
       "      maybeLoadScript(\"vega\", \"5\")\n",
       "        .then(() => maybeLoadScript(\"vega-lite\", \"5.20.1\"))\n",
       "        .then(() => maybeLoadScript(\"vega-embed\", \"6\"))\n",
       "        .catch(showError)\n",
       "        .then(() => displayChart(vegaEmbed));\n",
       "    }\n",
       "  })({\"config\": {\"view\": {\"continuousWidth\": 300, \"continuousHeight\": 300}}, \"data\": {\"name\": \"data-383e27774320bb77c3bd90ad28da2d4e\"}, \"mark\": {\"type\": \"bar\"}, \"encoding\": {\"x\": {\"field\": \"Service Date\", \"type\": \"temporal\"}, \"y\": {\"field\": \"count\", \"type\": \"quantitative\"}}, \"height\": 600, \"width\": 800, \"$schema\": \"https://vega.github.io/schema/vega-lite/v5.20.1.json\", \"datasets\": {\"data-383e27774320bb77c3bd90ad28da2d4e\": [{\"Service Date\": \"2023-04-01T00:00:00\", \"count\": 229}, {\"Service Date\": \"2023-09-16T00:00:00\", \"count\": 271}, {\"Service Date\": \"2022-09-15T00:00:00\", \"count\": 258}, {\"Service Date\": \"2024-12-13T00:00:00\", \"count\": 39}, {\"Service Date\": \"2023-05-24T00:00:00\", \"count\": 175}, {\"Service Date\": \"2024-03-03T00:00:00\", \"count\": 177}, {\"Service Date\": \"2022-10-21T00:00:00\", \"count\": 232}, {\"Service Date\": \"2023-03-06T00:00:00\", \"count\": 200}, {\"Service Date\": \"2024-12-06T00:00:00\", \"count\": 100}, {\"Service Date\": \"2024-05-13T00:00:00\", \"count\": 171}, {\"Service Date\": \"2022-05-27T00:00:00\", \"count\": 219}, {\"Service Date\": \"2024-10-31T00:00:00\", \"count\": 296}, {\"Service Date\": \"2024-07-18T00:00:00\", \"count\": 180}, {\"Service Date\": \"2023-03-31T00:00:00\", \"count\": 185}, {\"Service Date\": \"2022-06-05T00:00:00\", \"count\": 205}, {\"Service Date\": \"2022-07-18T00:00:00\", \"count\": 273}, {\"Service Date\": \"2023-04-14T00:00:00\", \"count\": 283}, {\"Service Date\": \"2023-05-22T00:00:00\", \"count\": 219}, {\"Service Date\": \"2024-11-10T00:00:00\", \"count\": 217}, {\"Service Date\": \"2022-04-06T00:00:00\", \"count\": 248}, {\"Service Date\": \"2023-02-27T00:00:00\", \"count\": 205}, {\"Service Date\": \"2023-03-16T00:00:00\", \"count\": 224}, {\"Service Date\": \"2023-08-12T00:00:00\", \"count\": 163}, {\"Service Date\": \"2022-11-21T00:00:00\", \"count\": 193}, {\"Service Date\": \"2023-12-18T00:00:00\", \"count\": 266}, {\"Service Date\": \"2024-07-11T00:00:00\", \"count\": 315}, {\"Service Date\": \"2023-04-15T00:00:00\", \"count\": 268}, {\"Service Date\": \"2024-05-05T00:00:00\", \"count\": 335}, {\"Service Date\": \"2022-03-27T00:00:00\", \"count\": 235}, {\"Service Date\": \"2024-05-26T00:00:00\", \"count\": 356}, {\"Service Date\": \"2024-08-27T00:00:00\", \"count\": 260}, {\"Service Date\": \"2022-05-19T00:00:00\", \"count\": 171}, {\"Service Date\": \"2023-03-19T00:00:00\", \"count\": 203}, {\"Service Date\": \"2023-06-19T00:00:00\", \"count\": 192}, {\"Service Date\": \"2022-08-13T00:00:00\", \"count\": 237}, {\"Service Date\": \"2023-07-26T00:00:00\", \"count\": 267}, {\"Service Date\": \"2024-01-08T00:00:00\", \"count\": 272}, {\"Service Date\": \"2024-08-22T00:00:00\", \"count\": 300}, {\"Service Date\": \"2024-09-06T00:00:00\", \"count\": 350}, {\"Service Date\": \"2024-10-07T00:00:00\", \"count\": 168}, {\"Service Date\": \"2022-12-24T00:00:00\", \"count\": 217}, {\"Service Date\": \"2022-10-06T00:00:00\", \"count\": 311}, {\"Service Date\": \"2022-03-21T00:00:00\", \"count\": 185}, {\"Service Date\": \"2024-07-06T00:00:00\", \"count\": 222}, {\"Service Date\": \"2023-11-25T00:00:00\", \"count\": 212}, {\"Service Date\": \"2022-06-27T00:00:00\", \"count\": 178}, {\"Service Date\": \"2023-04-29T00:00:00\", \"count\": 191}, {\"Service Date\": \"2021-12-12T00:00:00\", \"count\": 43}, {\"Service Date\": \"2023-02-16T00:00:00\", \"count\": 223}, {\"Service Date\": \"2023-01-12T00:00:00\", \"count\": 194}, {\"Service Date\": \"2024-06-17T00:00:00\", \"count\": 244}, {\"Service Date\": \"2024-08-11T00:00:00\", \"count\": 200}, {\"Service Date\": \"2024-09-08T00:00:00\", \"count\": 325}, {\"Service Date\": \"2024-09-23T00:00:00\", \"count\": 310}, {\"Service Date\": \"2022-01-17T00:00:00\", \"count\": 186}, {\"Service Date\": \"2023-01-20T00:00:00\", \"count\": 162}, {\"Service Date\": \"2024-11-18T00:00:00\", \"count\": 236}, {\"Service Date\": \"2024-04-21T00:00:00\", \"count\": 222}, {\"Service Date\": \"2024-02-20T00:00:00\", \"count\": 179}, {\"Service Date\": \"2022-02-07T00:00:00\", \"count\": 291}, {\"Service Date\": \"2024-01-27T00:00:00\", \"count\": 267}, {\"Service Date\": \"2022-09-19T00:00:00\", \"count\": 221}, {\"Service Date\": \"2023-01-25T00:00:00\", \"count\": 233}, {\"Service Date\": \"2023-03-22T00:00:00\", \"count\": 208}, {\"Service Date\": \"2022-12-01T00:00:00\", \"count\": 298}, {\"Service Date\": \"2022-01-27T00:00:00\", \"count\": 313}, {\"Service Date\": \"2022-12-18T00:00:00\", \"count\": 192}, {\"Service Date\": \"2023-08-24T00:00:00\", \"count\": 207}, {\"Service Date\": \"2023-10-11T00:00:00\", \"count\": 241}, {\"Service Date\": \"2023-01-07T00:00:00\", \"count\": 176}, {\"Service Date\": \"2022-08-04T00:00:00\", \"count\": 267}, {\"Service Date\": \"2023-05-31T00:00:00\", \"count\": 216}, {\"Service Date\": \"2024-12-12T00:00:00\", \"count\": 88}, {\"Service Date\": \"2022-12-02T00:00:00\", \"count\": 220}, {\"Service Date\": \"2024-06-16T00:00:00\", \"count\": 314}, {\"Service Date\": \"2022-08-27T00:00:00\", \"count\": 216}, {\"Service Date\": \"2021-12-25T00:00:00\", \"count\": 84}, {\"Service Date\": \"2023-09-09T00:00:00\", \"count\": 199}, {\"Service Date\": \"2023-11-11T00:00:00\", \"count\": 291}, {\"Service Date\": \"2022-02-12T00:00:00\", \"count\": 218}, {\"Service Date\": \"2023-08-05T00:00:00\", \"count\": 165}, {\"Service Date\": \"2024-03-14T00:00:00\", \"count\": 183}, {\"Service Date\": \"2024-10-30T00:00:00\", \"count\": 259}, {\"Service Date\": \"2023-10-15T00:00:00\", \"count\": 268}, {\"Service Date\": \"2024-10-03T00:00:00\", \"count\": 264}, {\"Service Date\": \"2022-10-18T00:00:00\", \"count\": 224}, {\"Service Date\": \"2023-11-20T00:00:00\", \"count\": 400}, {\"Service Date\": \"2024-12-24T00:00:00\", \"count\": 19}, {\"Service Date\": \"2023-07-04T00:00:00\", \"count\": 178}, {\"Service Date\": \"2024-10-11T00:00:00\", \"count\": 347}, {\"Service Date\": \"2022-11-14T00:00:00\", \"count\": 252}, {\"Service Date\": \"2022-06-01T00:00:00\", \"count\": 173}, {\"Service Date\": \"2023-05-16T00:00:00\", \"count\": 233}, {\"Service Date\": \"2023-09-20T00:00:00\", \"count\": 259}, {\"Service Date\": \"2023-11-06T00:00:00\", \"count\": 214}, {\"Service Date\": \"2024-02-03T00:00:00\", \"count\": 330}, {\"Service Date\": \"2023-06-29T00:00:00\", \"count\": 277}, {\"Service Date\": \"2024-05-30T00:00:00\", \"count\": 314}, {\"Service Date\": \"2023-12-11T00:00:00\", \"count\": 331}, {\"Service Date\": \"2022-05-28T00:00:00\", \"count\": 202}, {\"Service Date\": \"2024-08-02T00:00:00\", \"count\": 326}, {\"Service Date\": \"2023-07-01T00:00:00\", \"count\": 239}, {\"Service Date\": \"2022-05-08T00:00:00\", \"count\": 179}, {\"Service Date\": \"2022-06-16T00:00:00\", \"count\": 193}, {\"Service Date\": \"2023-02-24T00:00:00\", \"count\": 218}, {\"Service Date\": \"2023-04-06T00:00:00\", \"count\": 211}, {\"Service Date\": \"2021-12-06T00:00:00\", \"count\": 15}, {\"Service Date\": \"2022-10-24T00:00:00\", \"count\": 261}, {\"Service Date\": \"2022-04-01T00:00:00\", \"count\": 223}, {\"Service Date\": \"2024-01-24T00:00:00\", \"count\": 214}, {\"Service Date\": \"2024-01-05T00:00:00\", \"count\": 219}, {\"Service Date\": \"2022-10-13T00:00:00\", \"count\": 199}, {\"Service Date\": \"2022-03-13T00:00:00\", \"count\": 239}, {\"Service Date\": \"2023-02-01T00:00:00\", \"count\": 209}, {\"Service Date\": \"2024-05-15T00:00:00\", \"count\": 231}, {\"Service Date\": \"2022-08-20T00:00:00\", \"count\": 232}, {\"Service Date\": \"2022-11-20T00:00:00\", \"count\": 246}, {\"Service Date\": \"2023-12-31T00:00:00\", \"count\": 201}, {\"Service Date\": \"2024-02-06T00:00:00\", \"count\": 336}, {\"Service Date\": \"2022-03-05T00:00:00\", \"count\": 194}, {\"Service Date\": \"2024-04-24T00:00:00\", \"count\": 356}, {\"Service Date\": \"2024-02-17T00:00:00\", \"count\": 300}, {\"Service Date\": \"2023-01-09T00:00:00\", \"count\": 222}, {\"Service Date\": \"2023-02-09T00:00:00\", \"count\": 195}, {\"Service Date\": \"2023-03-29T00:00:00\", \"count\": 213}, {\"Service Date\": \"2023-04-08T00:00:00\", \"count\": 162}, {\"Service Date\": \"2023-04-19T00:00:00\", \"count\": 164}, {\"Service Date\": \"2024-02-12T00:00:00\", \"count\": 165}, {\"Service Date\": \"2024-04-11T00:00:00\", \"count\": 308}, {\"Service Date\": \"2022-01-21T00:00:00\", \"count\": 135}, {\"Service Date\": \"2024-08-06T00:00:00\", \"count\": 257}, {\"Service Date\": \"2022-11-01T00:00:00\", \"count\": 230}, {\"Service Date\": \"2023-08-15T00:00:00\", \"count\": 171}, {\"Service Date\": \"2022-01-30T00:00:00\", \"count\": 176}, {\"Service Date\": \"2023-02-21T00:00:00\", \"count\": 250}, {\"Service Date\": \"2024-05-25T00:00:00\", \"count\": 287}, {\"Service Date\": \"2023-07-14T00:00:00\", \"count\": 258}, {\"Service Date\": \"2024-03-07T00:00:00\", \"count\": 271}, {\"Service Date\": \"2024-12-20T00:00:00\", \"count\": 51}, {\"Service Date\": \"2024-10-15T00:00:00\", \"count\": 295}, {\"Service Date\": \"2022-03-09T00:00:00\", \"count\": 219}, {\"Service Date\": \"2022-03-01T00:00:00\", \"count\": 232}, {\"Service Date\": \"2022-09-30T00:00:00\", \"count\": 353}, {\"Service Date\": \"2023-02-23T00:00:00\", \"count\": 251}, {\"Service Date\": \"2023-08-08T00:00:00\", \"count\": 207}, {\"Service Date\": \"2023-11-18T00:00:00\", \"count\": 215}, {\"Service Date\": \"2023-05-09T00:00:00\", \"count\": 192}, {\"Service Date\": \"2023-03-10T00:00:00\", \"count\": 214}, {\"Service Date\": \"2022-11-30T00:00:00\", \"count\": 239}, {\"Service Date\": \"2022-01-04T00:00:00\", \"count\": 99}, {\"Service Date\": \"2024-04-07T00:00:00\", \"count\": 255}, {\"Service Date\": \"2024-03-26T00:00:00\", \"count\": 206}, {\"Service Date\": \"2024-06-25T00:00:00\", \"count\": 254}, {\"Service Date\": \"2022-06-26T00:00:00\", \"count\": 196}, {\"Service Date\": \"2023-07-19T00:00:00\", \"count\": 214}, {\"Service Date\": \"2022-05-17T00:00:00\", \"count\": 197}, {\"Service Date\": \"2021-12-17T00:00:00\", \"count\": 60}, {\"Service Date\": \"2022-11-12T00:00:00\", \"count\": 295}, {\"Service Date\": \"2023-01-26T00:00:00\", \"count\": 258}, {\"Service Date\": \"2023-12-22T00:00:00\", \"count\": 293}, {\"Service Date\": \"2022-12-23T00:00:00\", \"count\": 212}, {\"Service Date\": \"2023-08-09T00:00:00\", \"count\": 207}, {\"Service Date\": \"2023-08-19T00:00:00\", \"count\": 249}, {\"Service Date\": \"2024-09-21T00:00:00\", \"count\": 296}, {\"Service Date\": \"2022-07-11T00:00:00\", \"count\": 210}, {\"Service Date\": \"2022-02-11T00:00:00\", \"count\": 381}, {\"Service Date\": \"2022-03-15T00:00:00\", \"count\": 221}, {\"Service Date\": \"2023-06-07T00:00:00\", \"count\": 174}, {\"Service Date\": \"2024-10-02T00:00:00\", \"count\": 351}, {\"Service Date\": \"2023-04-17T00:00:00\", \"count\": 223}, {\"Service Date\": \"2024-10-25T00:00:00\", \"count\": 262}, {\"Service Date\": \"2023-09-24T00:00:00\", \"count\": 193}, {\"Service Date\": \"2023-11-29T00:00:00\", \"count\": 263}, {\"Service Date\": \"2022-05-26T00:00:00\", \"count\": 262}, {\"Service Date\": \"2024-05-10T00:00:00\", \"count\": 190}, {\"Service Date\": \"2022-05-25T00:00:00\", \"count\": 186}, {\"Service Date\": \"2024-04-03T00:00:00\", \"count\": 246}, {\"Service Date\": \"2022-03-29T00:00:00\", \"count\": 191}, {\"Service Date\": \"2023-03-04T00:00:00\", \"count\": 226}, {\"Service Date\": \"2023-09-13T00:00:00\", \"count\": 213}, {\"Service Date\": \"2022-09-11T00:00:00\", \"count\": 206}, {\"Service Date\": \"2024-04-17T00:00:00\", \"count\": 194}, {\"Service Date\": \"2022-08-26T00:00:00\", \"count\": 281}, {\"Service Date\": \"2024-10-17T00:00:00\", \"count\": 289}, {\"Service Date\": \"2023-12-03T00:00:00\", \"count\": 205}, {\"Service Date\": \"2022-07-06T00:00:00\", \"count\": 248}, {\"Service Date\": \"2022-09-22T00:00:00\", \"count\": 178}, {\"Service Date\": \"2024-03-24T00:00:00\", \"count\": 229}, {\"Service Date\": \"2024-12-10T00:00:00\", \"count\": 112}, {\"Service Date\": \"2024-11-03T00:00:00\", \"count\": 181}, {\"Service Date\": \"2024-03-01T00:00:00\", \"count\": 275}, {\"Service Date\": \"2024-07-03T00:00:00\", \"count\": 321}, {\"Service Date\": \"2023-02-28T00:00:00\", \"count\": 269}, {\"Service Date\": \"2023-05-13T00:00:00\", \"count\": 198}, {\"Service Date\": \"2022-03-18T00:00:00\", \"count\": 193}, {\"Service Date\": \"2022-05-31T00:00:00\", \"count\": 198}, {\"Service Date\": \"2022-01-24T00:00:00\", \"count\": 141}, {\"Service Date\": \"2022-04-02T00:00:00\", \"count\": 261}, {\"Service Date\": \"2022-11-15T00:00:00\", \"count\": 195}, {\"Service Date\": \"2023-08-22T00:00:00\", \"count\": 166}, {\"Service Date\": \"2024-06-28T00:00:00\", \"count\": 201}, {\"Service Date\": \"2022-04-12T00:00:00\", \"count\": 203}, {\"Service Date\": \"2024-12-23T00:00:00\", \"count\": 10}, {\"Service Date\": \"2022-11-18T00:00:00\", \"count\": 237}, {\"Service Date\": \"2024-12-11T00:00:00\", \"count\": 84}, {\"Service Date\": \"2024-12-31T00:00:00\", \"count\": 5}, {\"Service Date\": \"2024-04-12T00:00:00\", \"count\": 272}, {\"Service Date\": \"2022-11-10T00:00:00\", \"count\": 320}, {\"Service Date\": \"2023-02-12T00:00:00\", \"count\": 307}, {\"Service Date\": \"2024-10-13T00:00:00\", \"count\": 418}, {\"Service Date\": \"2022-04-14T00:00:00\", \"count\": 188}, {\"Service Date\": \"2024-12-14T00:00:00\", \"count\": 25}, {\"Service Date\": \"2023-08-31T00:00:00\", \"count\": 222}, {\"Service Date\": \"2024-01-07T00:00:00\", \"count\": 198}, {\"Service Date\": \"2022-06-21T00:00:00\", \"count\": 195}, {\"Service Date\": \"2022-07-10T00:00:00\", \"count\": 160}, {\"Service Date\": \"2022-01-03T00:00:00\", \"count\": 113}, {\"Service Date\": \"2022-05-22T00:00:00\", \"count\": 152}, {\"Service Date\": \"2022-08-21T00:00:00\", \"count\": 203}, {\"Service Date\": \"2022-09-18T00:00:00\", \"count\": 295}, {\"Service Date\": \"2023-08-30T00:00:00\", \"count\": 235}, {\"Service Date\": \"2023-10-04T00:00:00\", \"count\": 242}, {\"Service Date\": \"2023-11-21T00:00:00\", \"count\": 317}, {\"Service Date\": \"2024-02-09T00:00:00\", \"count\": 199}, {\"Service Date\": \"2024-09-01T00:00:00\", \"count\": 284}, {\"Service Date\": \"2024-09-02T00:00:00\", \"count\": 380}, {\"Service Date\": \"2024-12-15T00:00:00\", \"count\": 34}, {\"Service Date\": \"2023-12-04T00:00:00\", \"count\": 166}, {\"Service Date\": \"2024-04-10T00:00:00\", \"count\": 301}, {\"Service Date\": \"2022-06-07T00:00:00\", \"count\": 196}, {\"Service Date\": \"2023-05-25T00:00:00\", \"count\": 196}, {\"Service Date\": \"2022-03-11T00:00:00\", \"count\": 181}, {\"Service Date\": \"2022-10-14T00:00:00\", \"count\": 343}, {\"Service Date\": \"2024-01-30T00:00:00\", \"count\": 272}, {\"Service Date\": \"2023-02-08T00:00:00\", \"count\": 284}, {\"Service Date\": \"2022-12-06T00:00:00\", \"count\": 236}, {\"Service Date\": \"2023-09-08T00:00:00\", \"count\": 231}, {\"Service Date\": \"2022-04-10T00:00:00\", \"count\": 210}, {\"Service Date\": \"2022-09-02T00:00:00\", \"count\": 204}, {\"Service Date\": \"2023-06-13T00:00:00\", \"count\": 266}, {\"Service Date\": \"2024-03-30T00:00:00\", \"count\": 190}, {\"Service Date\": \"2021-12-10T00:00:00\", \"count\": 37}, {\"Service Date\": \"2023-07-25T00:00:00\", \"count\": 230}, {\"Service Date\": \"2022-08-31T00:00:00\", \"count\": 259}, {\"Service Date\": \"2023-08-03T00:00:00\", \"count\": 168}, {\"Service Date\": \"2023-11-16T00:00:00\", \"count\": 173}, {\"Service Date\": \"2024-11-25T00:00:00\", \"count\": 170}, {\"Service Date\": \"2024-12-21T00:00:00\", \"count\": 52}, {\"Service Date\": \"2022-09-20T00:00:00\", \"count\": 335}, {\"Service Date\": \"2022-07-25T00:00:00\", \"count\": 177}, {\"Service Date\": \"2024-02-11T00:00:00\", \"count\": 268}, {\"Service Date\": \"2024-10-14T00:00:00\", \"count\": 384}, {\"Service Date\": \"2024-08-17T00:00:00\", \"count\": 205}, {\"Service Date\": \"2024-05-02T00:00:00\", \"count\": 231}, {\"Service Date\": \"2022-11-22T00:00:00\", \"count\": 185}, {\"Service Date\": \"2023-09-26T00:00:00\", \"count\": 277}, {\"Service Date\": \"2024-11-26T00:00:00\", \"count\": 178}, {\"Service Date\": \"2022-09-08T00:00:00\", \"count\": 301}, {\"Service Date\": \"2023-11-04T00:00:00\", \"count\": 208}, {\"Service Date\": \"2022-05-21T00:00:00\", \"count\": 169}, {\"Service Date\": \"2022-07-17T00:00:00\", \"count\": 168}, {\"Service Date\": \"2024-11-05T00:00:00\", \"count\": 286}, {\"Service Date\": \"2024-04-05T00:00:00\", \"count\": 271}, {\"Service Date\": \"2022-08-02T00:00:00\", \"count\": 222}, {\"Service Date\": \"2024-08-30T00:00:00\", \"count\": 282}, {\"Service Date\": \"2023-09-05T00:00:00\", \"count\": 197}, {\"Service Date\": \"2022-11-09T00:00:00\", \"count\": 274}, {\"Service Date\": \"2023-03-07T00:00:00\", \"count\": 206}, {\"Service Date\": \"2023-03-30T00:00:00\", \"count\": 211}, {\"Service Date\": \"2022-06-30T00:00:00\", \"count\": 184}, {\"Service Date\": \"2024-05-17T00:00:00\", \"count\": 297}, {\"Service Date\": \"2022-11-27T00:00:00\", \"count\": 196}, {\"Service Date\": \"2023-03-24T00:00:00\", \"count\": 219}, {\"Service Date\": \"2024-11-08T00:00:00\", \"count\": 218}, {\"Service Date\": \"2023-12-20T00:00:00\", \"count\": 228}, {\"Service Date\": \"2024-12-29T00:00:00\", \"count\": 24}, {\"Service Date\": \"2023-07-20T00:00:00\", \"count\": 152}, {\"Service Date\": \"2024-05-19T00:00:00\", \"count\": 273}, {\"Service Date\": \"2024-07-04T00:00:00\", \"count\": 284}, {\"Service Date\": \"2022-01-20T00:00:00\", \"count\": 171}, {\"Service Date\": \"2024-04-22T00:00:00\", \"count\": 365}, {\"Service Date\": \"2022-06-18T00:00:00\", \"count\": 192}, {\"Service Date\": \"2022-07-08T00:00:00\", \"count\": 272}, {\"Service Date\": \"2022-12-29T00:00:00\", \"count\": 164}, {\"Service Date\": \"2022-02-05T00:00:00\", \"count\": 196}, {\"Service Date\": \"2023-03-15T00:00:00\", \"count\": 245}, {\"Service Date\": \"2024-01-28T00:00:00\", \"count\": 203}, {\"Service Date\": \"2023-06-22T00:00:00\", \"count\": 194}, {\"Service Date\": \"2024-05-16T00:00:00\", \"count\": 331}, {\"Service Date\": \"2023-12-21T00:00:00\", \"count\": 214}, {\"Service Date\": \"2023-01-01T00:00:00\", \"count\": 215}, {\"Service Date\": \"2022-06-22T00:00:00\", \"count\": 218}, {\"Service Date\": \"2024-06-21T00:00:00\", \"count\": 266}, {\"Service Date\": \"2024-09-10T00:00:00\", \"count\": 221}, {\"Service Date\": \"2022-09-13T00:00:00\", \"count\": 221}, {\"Service Date\": \"2022-07-09T00:00:00\", \"count\": 247}, {\"Service Date\": \"2025-01-03T00:00:00\", \"count\": 2}, {\"Service Date\": \"2023-06-05T00:00:00\", \"count\": 284}, {\"Service Date\": \"2024-07-13T00:00:00\", \"count\": 231}, {\"Service Date\": \"2023-10-17T00:00:00\", \"count\": 189}, {\"Service Date\": \"2023-02-17T00:00:00\", \"count\": 208}, {\"Service Date\": \"2024-10-26T00:00:00\", \"count\": 293}, {\"Service Date\": \"2023-09-22T00:00:00\", \"count\": 325}, {\"Service Date\": \"2022-10-11T00:00:00\", \"count\": 210}, {\"Service Date\": \"2023-02-03T00:00:00\", \"count\": 160}, {\"Service Date\": \"2022-06-15T00:00:00\", \"count\": 209}, {\"Service Date\": \"2024-01-19T00:00:00\", \"count\": 197}, {\"Service Date\": \"2024-03-02T00:00:00\", \"count\": 247}, {\"Service Date\": \"2022-12-20T00:00:00\", \"count\": 221}, {\"Service Date\": \"2023-11-14T00:00:00\", \"count\": 258}, {\"Service Date\": \"2024-10-06T00:00:00\", \"count\": 292}, {\"Service Date\": \"2023-06-01T00:00:00\", \"count\": 173}, {\"Service Date\": \"2023-01-05T00:00:00\", \"count\": 305}, {\"Service Date\": \"2024-08-28T00:00:00\", \"count\": 432}, {\"Service Date\": \"2022-06-20T00:00:00\", \"count\": 221}, {\"Service Date\": \"2024-09-14T00:00:00\", \"count\": 317}, {\"Service Date\": \"2022-04-11T00:00:00\", \"count\": 201}, {\"Service Date\": \"2021-12-15T00:00:00\", \"count\": 47}, {\"Service Date\": \"2023-03-23T00:00:00\", \"count\": 248}, {\"Service Date\": \"2022-10-01T00:00:00\", \"count\": 224}, {\"Service Date\": \"2023-07-24T00:00:00\", \"count\": 261}, {\"Service Date\": \"2022-11-04T00:00:00\", \"count\": 218}, {\"Service Date\": \"2024-04-04T00:00:00\", \"count\": 322}, {\"Service Date\": \"2024-02-10T00:00:00\", \"count\": 233}, {\"Service Date\": \"2024-05-31T00:00:00\", \"count\": 293}, {\"Service Date\": \"2022-04-20T00:00:00\", \"count\": 248}, {\"Service Date\": \"2024-07-29T00:00:00\", \"count\": 227}, {\"Service Date\": \"2024-01-02T00:00:00\", \"count\": 212}, {\"Service Date\": \"2022-06-06T00:00:00\", \"count\": 207}, {\"Service Date\": \"2022-11-08T00:00:00\", \"count\": 312}, {\"Service Date\": \"2023-03-05T00:00:00\", \"count\": 177}, {\"Service Date\": \"2022-02-16T00:00:00\", \"count\": 242}, {\"Service Date\": \"2023-03-26T00:00:00\", \"count\": 270}, {\"Service Date\": \"2023-06-04T00:00:00\", \"count\": 230}, {\"Service Date\": \"2022-03-17T00:00:00\", \"count\": 206}, {\"Service Date\": \"2023-02-07T00:00:00\", \"count\": 274}, {\"Service Date\": \"2024-06-06T00:00:00\", \"count\": 408}, {\"Service Date\": \"2023-01-31T00:00:00\", \"count\": 180}, {\"Service Date\": \"2024-06-14T00:00:00\", \"count\": 208}, {\"Service Date\": \"2022-04-28T00:00:00\", \"count\": 224}, {\"Service Date\": \"2024-03-22T00:00:00\", \"count\": 187}, {\"Service Date\": \"2022-05-30T00:00:00\", \"count\": 178}, {\"Service Date\": \"2023-05-18T00:00:00\", \"count\": 197}, {\"Service Date\": \"2023-01-18T00:00:00\", \"count\": 287}, {\"Service Date\": \"2023-07-09T00:00:00\", \"count\": 222}, {\"Service Date\": \"2024-10-09T00:00:00\", \"count\": 285}, {\"Service Date\": \"2024-07-10T00:00:00\", \"count\": 290}, {\"Service Date\": \"2023-10-05T00:00:00\", \"count\": 255}, {\"Service Date\": \"2023-06-25T00:00:00\", \"count\": 186}, {\"Service Date\": \"2023-09-15T00:00:00\", \"count\": 190}, {\"Service Date\": \"2024-02-01T00:00:00\", \"count\": 190}, {\"Service Date\": \"2023-05-10T00:00:00\", \"count\": 143}, {\"Service Date\": \"2022-01-02T00:00:00\", \"count\": 86}, {\"Service Date\": \"2022-06-09T00:00:00\", \"count\": 258}, {\"Service Date\": \"2023-01-04T00:00:00\", \"count\": 232}, {\"Service Date\": \"2023-07-30T00:00:00\", \"count\": 225}, {\"Service Date\": \"2024-05-01T00:00:00\", \"count\": 312}, {\"Service Date\": \"2022-11-03T00:00:00\", \"count\": 261}, {\"Service Date\": \"2024-07-15T00:00:00\", \"count\": 357}, {\"Service Date\": \"2023-05-07T00:00:00\", \"count\": 152}, {\"Service Date\": \"2024-08-15T00:00:00\", \"count\": 291}, {\"Service Date\": \"2023-09-19T00:00:00\", \"count\": 324}, {\"Service Date\": \"2022-04-23T00:00:00\", \"count\": 200}, {\"Service Date\": \"2024-07-24T00:00:00\", \"count\": 223}, {\"Service Date\": \"2024-08-21T00:00:00\", \"count\": 281}, {\"Service Date\": \"2023-07-07T00:00:00\", \"count\": 197}, {\"Service Date\": \"2023-11-07T00:00:00\", \"count\": 249}, {\"Service Date\": \"2024-10-12T00:00:00\", \"count\": 330}, {\"Service Date\": \"2021-12-26T00:00:00\", \"count\": 80}, {\"Service Date\": \"2023-02-04T00:00:00\", \"count\": 194}, {\"Service Date\": \"2023-09-30T00:00:00\", \"count\": 245}, {\"Service Date\": \"2024-11-22T00:00:00\", \"count\": 171}, {\"Service Date\": \"2023-10-30T00:00:00\", \"count\": 200}, {\"Service Date\": \"2022-10-12T00:00:00\", \"count\": 265}, {\"Service Date\": \"2023-10-08T00:00:00\", \"count\": 215}, {\"Service Date\": \"2022-07-15T00:00:00\", \"count\": 167}, {\"Service Date\": \"2023-08-29T00:00:00\", \"count\": 237}, {\"Service Date\": \"2022-04-26T00:00:00\", \"count\": 239}, {\"Service Date\": \"2023-08-16T00:00:00\", \"count\": 174}, {\"Service Date\": \"2022-03-07T00:00:00\", \"count\": 179}, {\"Service Date\": \"2022-09-17T00:00:00\", \"count\": 232}, {\"Service Date\": \"2023-03-03T00:00:00\", \"count\": 305}, {\"Service Date\": \"2022-09-09T00:00:00\", \"count\": 243}, {\"Service Date\": \"2023-10-03T00:00:00\", \"count\": 323}, {\"Service Date\": \"2024-02-22T00:00:00\", \"count\": 221}, {\"Service Date\": \"2023-03-09T00:00:00\", \"count\": 208}, {\"Service Date\": \"2023-09-21T00:00:00\", \"count\": 210}, {\"Service Date\": \"2022-04-22T00:00:00\", \"count\": 283}, {\"Service Date\": \"2022-01-15T00:00:00\", \"count\": 164}, {\"Service Date\": \"2023-04-12T00:00:00\", \"count\": 319}, {\"Service Date\": \"2024-03-29T00:00:00\", \"count\": 265}, {\"Service Date\": \"2022-02-06T00:00:00\", \"count\": 297}, {\"Service Date\": \"2022-07-01T00:00:00\", \"count\": 190}, {\"Service Date\": \"2022-05-23T00:00:00\", \"count\": 202}, {\"Service Date\": \"2022-10-29T00:00:00\", \"count\": 234}, {\"Service Date\": \"2022-06-14T00:00:00\", \"count\": 147}, {\"Service Date\": \"2022-06-29T00:00:00\", \"count\": 218}, {\"Service Date\": \"2023-03-11T00:00:00\", \"count\": 194}, {\"Service Date\": \"2023-04-23T00:00:00\", \"count\": 210}, {\"Service Date\": \"2023-09-10T00:00:00\", \"count\": 209}, {\"Service Date\": \"2022-07-03T00:00:00\", \"count\": 231}, {\"Service Date\": \"2022-10-04T00:00:00\", \"count\": 270}, {\"Service Date\": \"2024-03-16T00:00:00\", \"count\": 277}, {\"Service Date\": \"2024-05-09T00:00:00\", \"count\": 221}, {\"Service Date\": \"2023-12-14T00:00:00\", \"count\": 191}, {\"Service Date\": \"2022-10-05T00:00:00\", \"count\": 293}, {\"Service Date\": \"2023-07-31T00:00:00\", \"count\": 169}, {\"Service Date\": \"2021-12-28T00:00:00\", \"count\": 93}, {\"Service Date\": \"2023-01-23T00:00:00\", \"count\": 262}, {\"Service Date\": \"2023-08-21T00:00:00\", \"count\": 210}, {\"Service Date\": \"2023-10-02T00:00:00\", \"count\": 268}, {\"Service Date\": \"2024-01-13T00:00:00\", \"count\": 209}, {\"Service Date\": \"2022-12-30T00:00:00\", \"count\": 201}, {\"Service Date\": \"2023-01-28T00:00:00\", \"count\": 167}, {\"Service Date\": \"2023-03-21T00:00:00\", \"count\": 236}, {\"Service Date\": \"2024-01-22T00:00:00\", \"count\": 173}, {\"Service Date\": \"2022-07-20T00:00:00\", \"count\": 253}, {\"Service Date\": \"2024-02-15T00:00:00\", \"count\": 315}, {\"Service Date\": \"2024-03-28T00:00:00\", \"count\": 281}, {\"Service Date\": \"2024-10-04T00:00:00\", \"count\": 243}, {\"Service Date\": \"2023-07-17T00:00:00\", \"count\": 159}, {\"Service Date\": \"2022-09-03T00:00:00\", \"count\": 347}, {\"Service Date\": \"2023-09-03T00:00:00\", \"count\": 153}, {\"Service Date\": \"2022-06-03T00:00:00\", \"count\": 245}, {\"Service Date\": \"2023-07-11T00:00:00\", \"count\": 190}, {\"Service Date\": \"2023-03-13T00:00:00\", \"count\": 250}, {\"Service Date\": \"2024-11-14T00:00:00\", \"count\": 165}, {\"Service Date\": \"2024-09-22T00:00:00\", \"count\": 302}, {\"Service Date\": \"2023-10-20T00:00:00\", \"count\": 325}, {\"Service Date\": \"2024-06-05T00:00:00\", \"count\": 220}, {\"Service Date\": \"2023-08-01T00:00:00\", \"count\": 232}, {\"Service Date\": \"2022-06-28T00:00:00\", \"count\": 231}, {\"Service Date\": \"2022-05-06T00:00:00\", \"count\": 230}, {\"Service Date\": \"2022-06-08T00:00:00\", \"count\": 241}, {\"Service Date\": \"2022-10-16T00:00:00\", \"count\": 235}, {\"Service Date\": \"2023-04-21T00:00:00\", \"count\": 236}, {\"Service Date\": \"2022-11-05T00:00:00\", \"count\": 254}, {\"Service Date\": \"2023-08-17T00:00:00\", \"count\": 244}, {\"Service Date\": \"2022-04-29T00:00:00\", \"count\": 274}, {\"Service Date\": \"2022-09-16T00:00:00\", \"count\": 257}, {\"Service Date\": \"2022-11-23T00:00:00\", \"count\": 258}, {\"Service Date\": \"2022-12-22T00:00:00\", \"count\": 172}, {\"Service Date\": \"2024-09-24T00:00:00\", \"count\": 282}, {\"Service Date\": \"2022-05-10T00:00:00\", \"count\": 201}, {\"Service Date\": \"2022-04-19T00:00:00\", \"count\": 245}, {\"Service Date\": \"2022-03-20T00:00:00\", \"count\": 220}, {\"Service Date\": \"2022-07-28T00:00:00\", \"count\": 261}, {\"Service Date\": \"2023-01-14T00:00:00\", \"count\": 203}, {\"Service Date\": \"2023-04-28T00:00:00\", \"count\": 225}, {\"Service Date\": \"2024-07-20T00:00:00\", \"count\": 310}, {\"Service Date\": \"2024-10-27T00:00:00\", \"count\": 239}, {\"Service Date\": \"2022-08-12T00:00:00\", \"count\": 263}, {\"Service Date\": \"2023-05-17T00:00:00\", \"count\": 238}, {\"Service Date\": \"2023-05-20T00:00:00\", \"count\": 220}, {\"Service Date\": \"2024-01-15T00:00:00\", \"count\": 249}, {\"Service Date\": \"2023-10-21T00:00:00\", \"count\": 233}, {\"Service Date\": \"2022-09-10T00:00:00\", \"count\": 262}, {\"Service Date\": \"2024-02-21T00:00:00\", \"count\": 219}, {\"Service Date\": \"2022-02-09T00:00:00\", \"count\": 240}, {\"Service Date\": \"2023-06-30T00:00:00\", \"count\": 252}, {\"Service Date\": \"2023-12-16T00:00:00\", \"count\": 227}, {\"Service Date\": \"2022-06-19T00:00:00\", \"count\": 178}, {\"Service Date\": \"2022-01-14T00:00:00\", \"count\": 183}, {\"Service Date\": \"2022-03-04T00:00:00\", \"count\": 215}, {\"Service Date\": \"2022-03-31T00:00:00\", \"count\": 263}, {\"Service Date\": \"2024-05-18T00:00:00\", \"count\": 310}, {\"Service Date\": \"2022-03-02T00:00:00\", \"count\": 221}, {\"Service Date\": \"2022-04-18T00:00:00\", \"count\": 122}, {\"Service Date\": \"2022-05-09T00:00:00\", \"count\": 247}, {\"Service Date\": \"2023-01-19T00:00:00\", \"count\": 226}, {\"Service Date\": \"2024-09-17T00:00:00\", \"count\": 264}, {\"Service Date\": \"2022-04-30T00:00:00\", \"count\": 195}, {\"Service Date\": \"2022-05-05T00:00:00\", \"count\": 212}, {\"Service Date\": \"2022-08-23T00:00:00\", \"count\": 180}, {\"Service Date\": \"2023-09-18T00:00:00\", \"count\": 172}, {\"Service Date\": \"2022-01-08T00:00:00\", \"count\": 157}, {\"Service Date\": \"2022-11-06T00:00:00\", \"count\": 267}, {\"Service Date\": \"2023-04-05T00:00:00\", \"count\": 259}, {\"Service Date\": \"2023-11-01T00:00:00\", \"count\": 277}, {\"Service Date\": \"2024-03-15T00:00:00\", \"count\": 248}, {\"Service Date\": \"2024-07-16T00:00:00\", \"count\": 197}, {\"Service Date\": \"2022-10-03T00:00:00\", \"count\": 296}, {\"Service Date\": \"2024-04-08T00:00:00\", \"count\": 223}, {\"Service Date\": \"2023-07-23T00:00:00\", \"count\": 198}, {\"Service Date\": \"2024-04-16T00:00:00\", \"count\": 369}, {\"Service Date\": \"2024-05-23T00:00:00\", \"count\": 315}, {\"Service Date\": \"2022-02-03T00:00:00\", \"count\": 239}, {\"Service Date\": \"2022-01-09T00:00:00\", \"count\": 174}, {\"Service Date\": \"2024-11-02T00:00:00\", \"count\": 291}, {\"Service Date\": \"2022-10-09T00:00:00\", \"count\": 347}, {\"Service Date\": \"2023-03-27T00:00:00\", \"count\": 201}, {\"Service Date\": \"2024-10-28T00:00:00\", \"count\": 225}, {\"Service Date\": \"2022-08-03T00:00:00\", \"count\": 218}, {\"Service Date\": \"2022-08-06T00:00:00\", \"count\": 171}, {\"Service Date\": \"2023-05-11T00:00:00\", \"count\": 206}, {\"Service Date\": \"2024-02-29T00:00:00\", \"count\": 194}, {\"Service Date\": \"2024-08-04T00:00:00\", \"count\": 324}, {\"Service Date\": \"2024-08-20T00:00:00\", \"count\": 196}, {\"Service Date\": \"2022-07-05T00:00:00\", \"count\": 156}, {\"Service Date\": \"2022-12-21T00:00:00\", \"count\": 222}, {\"Service Date\": \"2023-06-24T00:00:00\", \"count\": 213}, {\"Service Date\": \"2023-11-10T00:00:00\", \"count\": 222}, {\"Service Date\": \"2024-02-13T00:00:00\", \"count\": 209}, {\"Service Date\": \"2024-07-21T00:00:00\", \"count\": 245}, {\"Service Date\": \"2024-10-20T00:00:00\", \"count\": 250}, {\"Service Date\": \"2023-04-11T00:00:00\", \"count\": 206}, {\"Service Date\": \"2024-03-19T00:00:00\", \"count\": 288}, {\"Service Date\": \"2021-12-22T00:00:00\", \"count\": 61}, {\"Service Date\": \"2022-08-28T00:00:00\", \"count\": 277}, {\"Service Date\": \"2024-07-09T00:00:00\", \"count\": 258}, {\"Service Date\": \"2023-05-01T00:00:00\", \"count\": 209}, {\"Service Date\": \"2021-12-16T00:00:00\", \"count\": 70}, {\"Service Date\": \"2024-03-23T00:00:00\", \"count\": 266}, {\"Service Date\": \"2023-10-31T00:00:00\", \"count\": 282}, {\"Service Date\": \"2021-12-08T00:00:00\", \"count\": 23}, {\"Service Date\": \"2022-06-04T00:00:00\", \"count\": 220}, {\"Service Date\": \"2024-01-23T00:00:00\", \"count\": 203}, {\"Service Date\": \"2022-09-23T00:00:00\", \"count\": 220}, {\"Service Date\": \"2024-08-07T00:00:00\", \"count\": 333}, {\"Service Date\": \"2022-07-14T00:00:00\", \"count\": 263}, {\"Service Date\": \"2023-10-22T00:00:00\", \"count\": 220}, {\"Service Date\": \"2024-08-12T00:00:00\", \"count\": 279}, {\"Service Date\": \"2024-07-27T00:00:00\", \"count\": 260}, {\"Service Date\": \"2023-08-20T00:00:00\", \"count\": 205}, {\"Service Date\": \"2023-08-23T00:00:00\", \"count\": 200}, {\"Service Date\": \"2023-05-08T00:00:00\", \"count\": 208}, {\"Service Date\": \"2021-12-11T00:00:00\", \"count\": 28}, {\"Service Date\": \"2023-05-12T00:00:00\", \"count\": 187}, {\"Service Date\": \"2024-04-01T00:00:00\", \"count\": 210}, {\"Service Date\": \"2023-06-21T00:00:00\", \"count\": 269}, {\"Service Date\": \"2022-11-26T00:00:00\", \"count\": 234}, {\"Service Date\": \"2022-02-24T00:00:00\", \"count\": 198}, {\"Service Date\": \"2023-02-26T00:00:00\", \"count\": 211}, {\"Service Date\": \"2022-04-09T00:00:00\", \"count\": 196}, {\"Service Date\": \"2022-12-05T00:00:00\", \"count\": 206}, {\"Service Date\": \"2023-06-20T00:00:00\", \"count\": 210}, {\"Service Date\": \"2023-12-07T00:00:00\", \"count\": 215}, {\"Service Date\": \"2024-05-04T00:00:00\", \"count\": 266}, {\"Service Date\": \"2024-04-02T00:00:00\", \"count\": 268}, {\"Service Date\": \"2024-12-17T00:00:00\", \"count\": 73}, {\"Service Date\": \"2023-01-21T00:00:00\", \"count\": 141}, {\"Service Date\": \"2022-12-11T00:00:00\", \"count\": 231}, {\"Service Date\": \"2022-04-05T00:00:00\", \"count\": 206}, {\"Service Date\": \"2023-02-25T00:00:00\", \"count\": 160}, {\"Service Date\": \"2022-05-12T00:00:00\", \"count\": 362}, {\"Service Date\": \"2024-01-21T00:00:00\", \"count\": 167}, {\"Service Date\": \"2021-12-04T00:00:00\", \"count\": 4}, {\"Service Date\": \"2023-12-08T00:00:00\", \"count\": 239}, {\"Service Date\": \"2022-01-22T00:00:00\", \"count\": 226}, {\"Service Date\": \"2023-09-25T00:00:00\", \"count\": 211}, {\"Service Date\": \"2022-07-02T00:00:00\", \"count\": 194}, {\"Service Date\": \"2024-12-01T00:00:00\", \"count\": 134}, {\"Service Date\": \"2022-01-13T00:00:00\", \"count\": 186}, {\"Service Date\": \"2024-06-01T00:00:00\", \"count\": 236}, {\"Service Date\": \"2024-09-29T00:00:00\", \"count\": 309}, {\"Service Date\": \"2023-08-11T00:00:00\", \"count\": 198}, {\"Service Date\": \"2024-03-18T00:00:00\", \"count\": 179}, {\"Service Date\": \"2023-06-10T00:00:00\", \"count\": 245}, {\"Service Date\": \"2023-07-08T00:00:00\", \"count\": 288}, {\"Service Date\": \"2022-08-22T00:00:00\", \"count\": 211}, {\"Service Date\": \"2022-01-12T00:00:00\", \"count\": 129}, {\"Service Date\": \"2023-11-26T00:00:00\", \"count\": 199}, {\"Service Date\": \"2024-11-11T00:00:00\", \"count\": 189}, {\"Service Date\": \"2023-06-09T00:00:00\", \"count\": 149}, {\"Service Date\": \"2022-12-08T00:00:00\", \"count\": 203}, {\"Service Date\": \"2023-04-02T00:00:00\", \"count\": 377}, {\"Service Date\": \"2021-12-07T00:00:00\", \"count\": 23}, {\"Service Date\": \"2023-03-02T00:00:00\", \"count\": 234}, {\"Service Date\": \"2023-02-18T00:00:00\", \"count\": 203}, {\"Service Date\": \"2022-03-08T00:00:00\", \"count\": 191}, {\"Service Date\": \"2022-09-01T00:00:00\", \"count\": 218}, {\"Service Date\": \"2022-09-27T00:00:00\", \"count\": 252}, {\"Service Date\": \"2024-11-27T00:00:00\", \"count\": 188}, {\"Service Date\": \"2023-11-30T00:00:00\", \"count\": 217}, {\"Service Date\": \"2021-12-31T00:00:00\", \"count\": 127}, {\"Service Date\": \"2022-03-03T00:00:00\", \"count\": 253}, {\"Service Date\": \"2022-01-18T00:00:00\", \"count\": 167}, {\"Service Date\": \"2023-07-27T00:00:00\", \"count\": 236}, {\"Service Date\": \"2022-04-13T00:00:00\", \"count\": 255}, {\"Service Date\": \"2022-06-12T00:00:00\", \"count\": 191}, {\"Service Date\": \"2023-11-24T00:00:00\", \"count\": 310}, {\"Service Date\": \"2024-03-11T00:00:00\", \"count\": 248}, {\"Service Date\": \"2024-04-28T00:00:00\", \"count\": 237}, {\"Service Date\": \"2022-05-16T00:00:00\", \"count\": 199}, {\"Service Date\": \"2023-06-17T00:00:00\", \"count\": 202}, {\"Service Date\": \"2024-07-30T00:00:00\", \"count\": 266}, {\"Service Date\": \"2024-08-25T00:00:00\", \"count\": 246}, {\"Service Date\": \"2024-08-24T00:00:00\", \"count\": 247}, {\"Service Date\": \"2024-12-03T00:00:00\", \"count\": 134}, {\"Service Date\": \"2022-04-08T00:00:00\", \"count\": 210}, {\"Service Date\": \"2022-09-29T00:00:00\", \"count\": 205}, {\"Service Date\": \"2023-02-22T00:00:00\", \"count\": 235}, {\"Service Date\": \"2023-08-06T00:00:00\", \"count\": 192}, {\"Service Date\": \"2024-02-18T00:00:00\", \"count\": 219}, {\"Service Date\": \"2024-06-29T00:00:00\", \"count\": 222}, {\"Service Date\": \"2024-12-18T00:00:00\", \"count\": 27}, {\"Service Date\": \"2023-03-01T00:00:00\", \"count\": 228}, {\"Service Date\": \"2022-06-25T00:00:00\", \"count\": 266}, {\"Service Date\": \"2024-09-27T00:00:00\", \"count\": 329}, {\"Service Date\": \"2024-12-04T00:00:00\", \"count\": 115}, {\"Service Date\": \"2024-02-23T00:00:00\", \"count\": 230}, {\"Service Date\": \"2022-10-28T00:00:00\", \"count\": 345}, {\"Service Date\": \"2024-12-02T00:00:00\", \"count\": 76}, {\"Service Date\": \"2023-11-15T00:00:00\", \"count\": 285}, {\"Service Date\": \"2022-11-28T00:00:00\", \"count\": 238}, {\"Service Date\": \"2023-02-19T00:00:00\", \"count\": 203}, {\"Service Date\": \"2023-05-21T00:00:00\", \"count\": 266}, {\"Service Date\": \"2024-10-19T00:00:00\", \"count\": 311}, {\"Service Date\": \"2024-06-27T00:00:00\", \"count\": 304}, {\"Service Date\": \"2024-12-19T00:00:00\", \"count\": 60}, {\"Service Date\": \"2023-07-29T00:00:00\", \"count\": 196}, {\"Service Date\": \"2023-09-27T00:00:00\", \"count\": 235}, {\"Service Date\": \"2022-02-10T00:00:00\", \"count\": 300}, {\"Service Date\": \"2024-03-06T00:00:00\", \"count\": 253}, {\"Service Date\": \"2024-05-14T00:00:00\", \"count\": 311}, {\"Service Date\": \"2024-09-15T00:00:00\", \"count\": 311}, {\"Service Date\": \"2024-10-18T00:00:00\", \"count\": 247}, {\"Service Date\": \"2022-02-01T00:00:00\", \"count\": 211}, {\"Service Date\": \"2024-11-24T00:00:00\", \"count\": 117}, {\"Service Date\": \"2022-01-31T00:00:00\", \"count\": 228}, {\"Service Date\": \"2023-01-03T00:00:00\", \"count\": 209}, {\"Service Date\": \"2023-11-03T00:00:00\", \"count\": 209}, {\"Service Date\": \"2024-07-05T00:00:00\", \"count\": 278}, {\"Service Date\": \"2023-12-15T00:00:00\", \"count\": 266}, {\"Service Date\": \"2023-05-04T00:00:00\", \"count\": 184}, {\"Service Date\": \"2022-08-15T00:00:00\", \"count\": 213}, {\"Service Date\": \"2022-10-07T00:00:00\", \"count\": 255}, {\"Service Date\": \"2024-08-26T00:00:00\", \"count\": 260}, {\"Service Date\": \"2023-01-10T00:00:00\", \"count\": 221}, {\"Service Date\": \"2023-07-16T00:00:00\", \"count\": 219}, {\"Service Date\": \"2023-04-04T00:00:00\", \"count\": 252}, {\"Service Date\": \"2023-10-29T00:00:00\", \"count\": 273}, {\"Service Date\": \"2024-09-05T00:00:00\", \"count\": 353}, {\"Service Date\": \"2023-11-09T00:00:00\", \"count\": 327}, {\"Service Date\": \"2023-11-22T00:00:00\", \"count\": 270}, {\"Service Date\": \"2024-02-02T00:00:00\", \"count\": 165}, {\"Service Date\": \"2022-04-21T00:00:00\", \"count\": 234}, {\"Service Date\": \"2024-10-22T00:00:00\", \"count\": 272}, {\"Service Date\": \"2022-06-24T00:00:00\", \"count\": 169}, {\"Service Date\": \"2022-02-18T00:00:00\", \"count\": 282}, {\"Service Date\": \"2023-06-06T00:00:00\", \"count\": 183}, {\"Service Date\": \"2022-04-07T00:00:00\", \"count\": 205}, {\"Service Date\": \"2023-01-17T00:00:00\", \"count\": 181}, {\"Service Date\": \"2024-05-24T00:00:00\", \"count\": 203}, {\"Service Date\": \"2022-03-23T00:00:00\", \"count\": 328}, {\"Service Date\": \"2023-11-28T00:00:00\", \"count\": 221}, {\"Service Date\": \"2024-11-28T00:00:00\", \"count\": 132}, {\"Service Date\": \"2024-08-09T00:00:00\", \"count\": 240}, {\"Service Date\": \"2024-09-26T00:00:00\", \"count\": 253}, {\"Service Date\": \"2024-03-05T00:00:00\", \"count\": 226}, {\"Service Date\": \"2022-04-17T00:00:00\", \"count\": 208}, {\"Service Date\": \"2022-08-25T00:00:00\", \"count\": 206}, {\"Service Date\": \"2024-04-20T00:00:00\", \"count\": 238}, {\"Service Date\": \"2023-10-18T00:00:00\", \"count\": 340}, {\"Service Date\": \"2024-11-06T00:00:00\", \"count\": 176}, {\"Service Date\": \"2022-07-26T00:00:00\", \"count\": 312}, {\"Service Date\": \"2022-08-10T00:00:00\", \"count\": 268}, {\"Service Date\": \"2022-09-25T00:00:00\", \"count\": 243}, {\"Service Date\": \"2023-09-23T00:00:00\", \"count\": 215}, {\"Service Date\": \"2023-12-12T00:00:00\", \"count\": 253}, {\"Service Date\": \"2024-01-10T00:00:00\", \"count\": 286}, {\"Service Date\": \"2022-10-19T00:00:00\", \"count\": 286}, {\"Service Date\": \"2024-04-06T00:00:00\", \"count\": 314}, {\"Service Date\": \"2024-05-29T00:00:00\", \"count\": 275}, {\"Service Date\": \"2024-08-18T00:00:00\", \"count\": 277}, {\"Service Date\": \"2021-12-14T00:00:00\", \"count\": 50}, {\"Service Date\": \"2022-08-07T00:00:00\", \"count\": 235}, {\"Service Date\": \"2024-12-16T00:00:00\", \"count\": 58}, {\"Service Date\": \"2024-07-01T00:00:00\", \"count\": 250}, {\"Service Date\": \"2022-11-02T00:00:00\", \"count\": 279}, {\"Service Date\": \"2024-04-30T00:00:00\", \"count\": 281}, {\"Service Date\": \"2024-10-23T00:00:00\", \"count\": 240}, {\"Service Date\": \"2023-05-27T00:00:00\", \"count\": 237}, {\"Service Date\": \"2022-11-24T00:00:00\", \"count\": 213}, {\"Service Date\": \"2022-12-28T00:00:00\", \"count\": 200}, {\"Service Date\": \"2023-11-02T00:00:00\", \"count\": 314}, {\"Service Date\": \"2024-06-23T00:00:00\", \"count\": 287}, {\"Service Date\": \"2024-12-07T00:00:00\", \"count\": 83}, {\"Service Date\": \"2024-07-08T00:00:00\", \"count\": 228}, {\"Service Date\": \"2022-11-07T00:00:00\", \"count\": 227}, {\"Service Date\": \"2023-10-09T00:00:00\", \"count\": 246}, {\"Service Date\": \"2024-03-25T00:00:00\", \"count\": 234}, {\"Service Date\": \"2022-06-13T00:00:00\", \"count\": 192}, {\"Service Date\": \"2023-07-02T00:00:00\", \"count\": 308}, {\"Service Date\": \"2024-10-01T00:00:00\", \"count\": 274}, {\"Service Date\": \"2024-02-27T00:00:00\", \"count\": 239}, {\"Service Date\": \"2024-01-12T00:00:00\", \"count\": 243}, {\"Service Date\": \"2024-08-13T00:00:00\", \"count\": 214}, {\"Service Date\": \"2023-08-02T00:00:00\", \"count\": 278}, {\"Service Date\": \"2022-08-01T00:00:00\", \"count\": 200}, {\"Service Date\": \"2022-12-31T00:00:00\", \"count\": 155}, {\"Service Date\": \"2023-06-14T00:00:00\", \"count\": 167}, {\"Service Date\": \"2024-01-06T00:00:00\", \"count\": 211}, {\"Service Date\": \"2023-12-10T00:00:00\", \"count\": 148}, {\"Service Date\": \"2024-09-12T00:00:00\", \"count\": 338}, {\"Service Date\": \"2024-11-07T00:00:00\", \"count\": 190}, {\"Service Date\": \"2023-10-12T00:00:00\", \"count\": 383}, {\"Service Date\": \"2022-08-19T00:00:00\", \"count\": 218}, {\"Service Date\": \"2024-06-24T00:00:00\", \"count\": 350}, {\"Service Date\": \"2022-10-27T00:00:00\", \"count\": 256}, {\"Service Date\": \"2022-07-07T00:00:00\", \"count\": 183}, {\"Service Date\": \"2022-02-02T00:00:00\", \"count\": 338}, {\"Service Date\": \"2024-11-01T00:00:00\", \"count\": 331}, {\"Service Date\": \"2022-01-11T00:00:00\", \"count\": 184}, {\"Service Date\": \"2022-12-16T00:00:00\", \"count\": 189}, {\"Service Date\": \"2023-05-29T00:00:00\", \"count\": 191}, {\"Service Date\": \"2023-11-05T00:00:00\", \"count\": 234}, {\"Service Date\": \"2023-09-14T00:00:00\", \"count\": 177}, {\"Service Date\": \"2024-03-09T00:00:00\", \"count\": 256}, {\"Service Date\": \"2024-06-13T00:00:00\", \"count\": 204}, {\"Service Date\": \"2023-04-20T00:00:00\", \"count\": 228}, {\"Service Date\": \"2022-12-13T00:00:00\", \"count\": 223}, {\"Service Date\": \"2024-12-05T00:00:00\", \"count\": 60}, {\"Service Date\": \"2023-07-03T00:00:00\", \"count\": 201}, {\"Service Date\": \"2024-02-05T00:00:00\", \"count\": 260}, {\"Service Date\": \"2023-02-10T00:00:00\", \"count\": 180}, {\"Service Date\": \"2022-04-04T00:00:00\", \"count\": 179}, {\"Service Date\": \"2024-01-16T00:00:00\", \"count\": 164}, {\"Service Date\": \"2022-01-26T00:00:00\", \"count\": 306}, {\"Service Date\": \"2024-11-15T00:00:00\", \"count\": 163}, {\"Service Date\": \"2023-02-15T00:00:00\", \"count\": 217}, {\"Service Date\": \"2023-05-28T00:00:00\", \"count\": 195}, {\"Service Date\": \"2023-12-19T00:00:00\", \"count\": 267}, {\"Service Date\": \"2024-11-19T00:00:00\", \"count\": 139}, {\"Service Date\": \"2023-10-01T00:00:00\", \"count\": 378}, {\"Service Date\": \"2024-05-28T00:00:00\", \"count\": 349}, {\"Service Date\": \"2022-02-19T00:00:00\", \"count\": 238}, {\"Service Date\": \"2023-09-06T00:00:00\", \"count\": 169}, {\"Service Date\": \"2024-08-05T00:00:00\", \"count\": 338}, {\"Service Date\": \"2022-05-01T00:00:00\", \"count\": 231}, {\"Service Date\": \"2023-06-16T00:00:00\", \"count\": 256}, {\"Service Date\": \"2023-10-10T00:00:00\", \"count\": 184}, {\"Service Date\": \"2023-04-16T00:00:00\", \"count\": 230}, {\"Service Date\": \"2024-06-22T00:00:00\", \"count\": 240}, {\"Service Date\": \"2022-02-26T00:00:00\", \"count\": 265}, {\"Service Date\": \"2024-03-20T00:00:00\", \"count\": 222}, {\"Service Date\": \"2022-12-07T00:00:00\", \"count\": 163}, {\"Service Date\": \"2023-04-09T00:00:00\", \"count\": 232}, {\"Service Date\": \"2023-12-17T00:00:00\", \"count\": 196}, {\"Service Date\": \"2022-02-27T00:00:00\", \"count\": 211}, {\"Service Date\": \"2022-03-25T00:00:00\", \"count\": 194}, {\"Service Date\": \"2022-01-16T00:00:00\", \"count\": 179}, {\"Service Date\": \"2023-02-05T00:00:00\", \"count\": 205}, {\"Service Date\": \"2024-08-16T00:00:00\", \"count\": 247}, {\"Service Date\": \"2023-01-11T00:00:00\", \"count\": 182}, {\"Service Date\": \"2024-01-09T00:00:00\", \"count\": 209}, {\"Service Date\": \"2022-03-16T00:00:00\", \"count\": 225}, {\"Service Date\": \"2022-05-04T00:00:00\", \"count\": 214}, {\"Service Date\": \"2022-01-28T00:00:00\", \"count\": 227}, {\"Service Date\": \"2022-04-03T00:00:00\", \"count\": 230}, {\"Service Date\": \"2024-04-19T00:00:00\", \"count\": 208}, {\"Service Date\": \"2024-07-12T00:00:00\", \"count\": 342}, {\"Service Date\": \"2024-12-09T00:00:00\", \"count\": 46}, {\"Service Date\": \"2023-10-07T00:00:00\", \"count\": 223}, {\"Service Date\": \"2022-02-04T00:00:00\", \"count\": 218}, {\"Service Date\": \"2024-05-03T00:00:00\", \"count\": 184}, {\"Service Date\": \"2024-03-31T00:00:00\", \"count\": 220}, {\"Service Date\": \"2024-08-08T00:00:00\", \"count\": 298}, {\"Service Date\": \"2024-04-25T00:00:00\", \"count\": 368}, {\"Service Date\": \"2022-10-23T00:00:00\", \"count\": 209}, {\"Service Date\": \"2023-07-15T00:00:00\", \"count\": 173}, {\"Service Date\": \"2024-06-07T00:00:00\", \"count\": 201}, {\"Service Date\": \"2022-05-18T00:00:00\", \"count\": 218}, {\"Service Date\": \"2023-02-02T00:00:00\", \"count\": 183}, {\"Service Date\": \"2024-10-24T00:00:00\", \"count\": 268}, {\"Service Date\": \"2024-10-10T00:00:00\", \"count\": 301}, {\"Service Date\": \"2022-03-10T00:00:00\", \"count\": 207}, {\"Service Date\": \"2024-09-13T00:00:00\", \"count\": 171}, {\"Service Date\": \"2023-12-13T00:00:00\", \"count\": 237}, {\"Service Date\": \"2021-12-27T00:00:00\", \"count\": 106}, {\"Service Date\": \"2022-06-11T00:00:00\", \"count\": 153}, {\"Service Date\": \"2024-12-28T00:00:00\", \"count\": 9}, {\"Service Date\": \"2025-01-01T00:00:00\", \"count\": 10}, {\"Service Date\": \"2022-05-13T00:00:00\", \"count\": 201}, {\"Service Date\": \"2023-09-02T00:00:00\", \"count\": 259}, {\"Service Date\": \"2024-03-12T00:00:00\", \"count\": 159}, {\"Service Date\": \"2023-09-12T00:00:00\", \"count\": 255}, {\"Service Date\": \"2022-10-17T00:00:00\", \"count\": 206}, {\"Service Date\": \"2022-12-12T00:00:00\", \"count\": 230}, {\"Service Date\": \"2024-09-09T00:00:00\", \"count\": 356}, {\"Service Date\": \"2022-01-01T00:00:00\", \"count\": 114}, {\"Service Date\": \"2024-03-27T00:00:00\", \"count\": 204}, {\"Service Date\": \"2023-08-27T00:00:00\", \"count\": 163}, {\"Service Date\": \"2022-03-19T00:00:00\", \"count\": 201}, {\"Service Date\": \"2022-09-21T00:00:00\", \"count\": 275}, {\"Service Date\": \"2023-11-23T00:00:00\", \"count\": 284}, {\"Service Date\": \"2024-11-04T00:00:00\", \"count\": 236}, {\"Service Date\": \"2022-05-15T00:00:00\", \"count\": 198}, {\"Service Date\": \"2022-07-30T00:00:00\", \"count\": 227}, {\"Service Date\": \"2022-10-15T00:00:00\", \"count\": 283}, {\"Service Date\": \"2024-11-30T00:00:00\", \"count\": 133}, {\"Service Date\": \"2024-11-23T00:00:00\", \"count\": 186}, {\"Service Date\": \"2022-01-19T00:00:00\", \"count\": 238}, {\"Service Date\": \"2022-11-29T00:00:00\", \"count\": 252}, {\"Service Date\": \"2023-11-08T00:00:00\", \"count\": 269}, {\"Service Date\": \"2024-03-21T00:00:00\", \"count\": 413}, {\"Service Date\": \"2022-07-21T00:00:00\", \"count\": 255}, {\"Service Date\": \"2024-05-07T00:00:00\", \"count\": 242}, {\"Service Date\": \"2022-02-13T00:00:00\", \"count\": 156}, {\"Service Date\": \"2022-02-28T00:00:00\", \"count\": 270}, {\"Service Date\": \"2022-11-13T00:00:00\", \"count\": 276}, {\"Service Date\": \"2022-01-23T00:00:00\", \"count\": 137}, {\"Service Date\": \"2023-12-01T00:00:00\", \"count\": 242}, {\"Service Date\": \"2024-09-16T00:00:00\", \"count\": 296}, {\"Service Date\": \"2022-03-14T00:00:00\", \"count\": 219}, {\"Service Date\": \"2022-10-10T00:00:00\", \"count\": 220}, {\"Service Date\": \"2024-07-02T00:00:00\", \"count\": 233}, {\"Service Date\": \"2024-08-14T00:00:00\", \"count\": 280}, {\"Service Date\": \"2024-10-08T00:00:00\", \"count\": 349}, {\"Service Date\": \"2022-03-22T00:00:00\", \"count\": 233}, {\"Service Date\": \"2024-06-12T00:00:00\", \"count\": 383}, {\"Service Date\": \"2022-08-17T00:00:00\", \"count\": 281}, {\"Service Date\": \"2023-04-30T00:00:00\", \"count\": 157}, {\"Service Date\": \"2024-06-20T00:00:00\", \"count\": 346}, {\"Service Date\": \"2024-01-18T00:00:00\", \"count\": 216}, {\"Service Date\": \"2022-09-06T00:00:00\", \"count\": 218}, {\"Service Date\": \"2023-06-18T00:00:00\", \"count\": 181}, {\"Service Date\": \"2023-09-28T00:00:00\", \"count\": 179}, {\"Service Date\": \"2022-11-11T00:00:00\", \"count\": 255}, {\"Service Date\": \"2022-01-29T00:00:00\", \"count\": 284}, {\"Service Date\": \"2023-12-06T00:00:00\", \"count\": 223}, {\"Service Date\": \"2023-10-13T00:00:00\", \"count\": 212}, {\"Service Date\": \"2025-01-04T00:00:00\", \"count\": 2}, {\"Service Date\": \"2023-04-10T00:00:00\", \"count\": 210}, {\"Service Date\": \"2023-07-06T00:00:00\", \"count\": 199}, {\"Service Date\": \"2024-03-13T00:00:00\", \"count\": 265}, {\"Service Date\": \"2023-11-17T00:00:00\", \"count\": 233}, {\"Service Date\": \"2024-01-26T00:00:00\", \"count\": 230}, {\"Service Date\": \"2023-12-02T00:00:00\", \"count\": 161}, {\"Service Date\": \"2022-09-07T00:00:00\", \"count\": 234}, {\"Service Date\": \"2023-01-08T00:00:00\", \"count\": 162}, {\"Service Date\": \"2023-03-25T00:00:00\", \"count\": 280}, {\"Service Date\": \"2024-04-26T00:00:00\", \"count\": 215}, {\"Service Date\": \"2024-11-17T00:00:00\", \"count\": 227}, {\"Service Date\": \"2022-07-04T00:00:00\", \"count\": 192}, {\"Service Date\": \"2024-04-15T00:00:00\", \"count\": 274}, {\"Service Date\": \"2024-07-28T00:00:00\", \"count\": 293}, {\"Service Date\": \"2024-02-19T00:00:00\", \"count\": 166}, {\"Service Date\": \"2024-06-08T00:00:00\", \"count\": 261}, {\"Service Date\": \"2022-09-04T00:00:00\", \"count\": 249}, {\"Service Date\": \"2023-04-18T00:00:00\", \"count\": 252}, {\"Service Date\": \"2022-12-10T00:00:00\", \"count\": 238}, {\"Service Date\": \"2024-01-29T00:00:00\", \"count\": 229}, {\"Service Date\": \"2024-09-18T00:00:00\", \"count\": 323}, {\"Service Date\": \"2022-12-26T00:00:00\", \"count\": 231}, {\"Service Date\": \"2022-01-10T00:00:00\", \"count\": 194}, {\"Service Date\": \"2024-01-17T00:00:00\", \"count\": 309}, {\"Service Date\": \"2023-08-28T00:00:00\", \"count\": 271}, {\"Service Date\": \"2024-08-01T00:00:00\", \"count\": 256}, {\"Service Date\": \"2023-01-15T00:00:00\", \"count\": 196}, {\"Service Date\": \"2023-10-28T00:00:00\", \"count\": 296}, {\"Service Date\": \"2021-12-23T00:00:00\", \"count\": 65}, {\"Service Date\": \"2023-08-04T00:00:00\", \"count\": 239}, {\"Service Date\": \"2023-08-07T00:00:00\", \"count\": 221}, {\"Service Date\": \"2022-08-30T00:00:00\", \"count\": 272}, {\"Service Date\": \"2023-04-22T00:00:00\", \"count\": 311}, {\"Service Date\": \"2024-07-19T00:00:00\", \"count\": 261}, {\"Service Date\": \"2025-01-02T00:00:00\", \"count\": 2}, {\"Service Date\": \"2023-02-06T00:00:00\", \"count\": 270}, {\"Service Date\": \"2022-10-08T00:00:00\", \"count\": 240}, {\"Service Date\": \"2024-09-07T00:00:00\", \"count\": 246}, {\"Service Date\": \"2024-07-07T00:00:00\", \"count\": 243}, {\"Service Date\": \"2022-07-29T00:00:00\", \"count\": 209}, {\"Service Date\": \"2023-08-25T00:00:00\", \"count\": 187}, {\"Service Date\": \"2022-07-31T00:00:00\", \"count\": 203}, {\"Service Date\": \"2022-12-03T00:00:00\", \"count\": 263}, {\"Service Date\": \"2023-03-18T00:00:00\", \"count\": 251}, {\"Service Date\": \"2023-12-09T00:00:00\", \"count\": 178}, {\"Service Date\": \"2022-07-24T00:00:00\", \"count\": 248}, {\"Service Date\": \"2022-09-24T00:00:00\", \"count\": 242}, {\"Service Date\": \"2023-09-04T00:00:00\", \"count\": 207}, {\"Service Date\": \"2023-12-26T00:00:00\", \"count\": 190}, {\"Service Date\": \"2023-09-17T00:00:00\", \"count\": 232}, {\"Service Date\": \"2024-10-16T00:00:00\", \"count\": 314}, {\"Service Date\": \"2022-11-25T00:00:00\", \"count\": 210}, {\"Service Date\": \"2023-08-10T00:00:00\", \"count\": 176}, {\"Service Date\": \"2022-06-02T00:00:00\", \"count\": 249}, {\"Service Date\": \"2023-08-13T00:00:00\", \"count\": 208}, {\"Service Date\": \"2023-10-19T00:00:00\", \"count\": 221}, {\"Service Date\": \"2023-05-06T00:00:00\", \"count\": 179}, {\"Service Date\": \"2024-05-22T00:00:00\", \"count\": 354}, {\"Service Date\": \"2024-10-21T00:00:00\", \"count\": 304}, {\"Service Date\": \"2024-11-09T00:00:00\", \"count\": 230}, {\"Service Date\": \"2022-04-25T00:00:00\", \"count\": 187}, {\"Service Date\": \"2023-12-30T00:00:00\", \"count\": 254}, {\"Service Date\": \"2022-05-02T00:00:00\", \"count\": 299}, {\"Service Date\": \"2024-10-05T00:00:00\", \"count\": 288}, {\"Service Date\": \"2022-05-20T00:00:00\", \"count\": 218}, {\"Service Date\": \"2022-03-30T00:00:00\", \"count\": 211}, {\"Service Date\": \"2022-05-07T00:00:00\", \"count\": 270}, {\"Service Date\": \"2024-12-08T00:00:00\", \"count\": 47}, {\"Service Date\": \"2022-01-25T00:00:00\", \"count\": 156}, {\"Service Date\": \"2024-09-19T00:00:00\", \"count\": 252}, {\"Service Date\": \"2024-03-04T00:00:00\", \"count\": 235}, {\"Service Date\": \"2023-07-05T00:00:00\", \"count\": 176}, {\"Service Date\": \"2024-08-10T00:00:00\", \"count\": 210}, {\"Service Date\": \"2024-09-25T00:00:00\", \"count\": 335}, {\"Service Date\": \"2022-08-24T00:00:00\", \"count\": 276}, {\"Service Date\": \"2023-01-22T00:00:00\", \"count\": 202}, {\"Service Date\": \"2024-06-09T00:00:00\", \"count\": 245}, {\"Service Date\": \"2024-07-23T00:00:00\", \"count\": 280}, {\"Service Date\": \"2023-11-27T00:00:00\", \"count\": 158}, {\"Service Date\": \"2022-07-22T00:00:00\", \"count\": 221}, {\"Service Date\": \"2024-01-11T00:00:00\", \"count\": 228}, {\"Service Date\": \"2024-02-04T00:00:00\", \"count\": 242}, {\"Service Date\": \"2023-07-18T00:00:00\", \"count\": 258}, {\"Service Date\": \"2024-02-08T00:00:00\", \"count\": 282}, {\"Service Date\": \"2022-07-19T00:00:00\", \"count\": 242}, {\"Service Date\": \"2022-03-28T00:00:00\", \"count\": 183}, {\"Service Date\": \"2022-08-08T00:00:00\", \"count\": 210}, {\"Service Date\": \"2023-03-28T00:00:00\", \"count\": 181}, {\"Service Date\": \"2023-06-15T00:00:00\", \"count\": 184}, {\"Service Date\": \"2024-08-23T00:00:00\", \"count\": 224}, {\"Service Date\": \"2024-04-09T00:00:00\", \"count\": 278}, {\"Service Date\": \"2023-06-02T00:00:00\", \"count\": 283}, {\"Service Date\": \"2024-07-31T00:00:00\", \"count\": 290}, {\"Service Date\": \"2024-09-04T00:00:00\", \"count\": 312}, {\"Service Date\": \"2024-09-03T00:00:00\", \"count\": 363}, {\"Service Date\": \"2024-06-11T00:00:00\", \"count\": 257}, {\"Service Date\": \"2022-10-22T00:00:00\", \"count\": 159}, {\"Service Date\": \"2022-03-24T00:00:00\", \"count\": 233}, {\"Service Date\": \"2023-12-25T00:00:00\", \"count\": 193}, {\"Service Date\": \"2022-05-29T00:00:00\", \"count\": 228}, {\"Service Date\": \"2022-08-14T00:00:00\", \"count\": 232}, {\"Service Date\": \"2023-04-27T00:00:00\", \"count\": 152}, {\"Service Date\": \"2024-05-11T00:00:00\", \"count\": 251}, {\"Service Date\": \"2022-07-12T00:00:00\", \"count\": 217}, {\"Service Date\": \"2023-02-13T00:00:00\", \"count\": 260}, {\"Service Date\": \"2024-06-02T00:00:00\", \"count\": 310}, {\"Service Date\": \"2022-10-31T00:00:00\", \"count\": 298}, {\"Service Date\": \"2023-05-19T00:00:00\", \"count\": 200}, {\"Service Date\": \"2023-09-01T00:00:00\", \"count\": 272}, {\"Service Date\": \"2024-06-26T00:00:00\", \"count\": 380}, {\"Service Date\": \"2023-04-26T00:00:00\", \"count\": 204}, {\"Service Date\": \"2022-05-14T00:00:00\", \"count\": 257}, {\"Service Date\": \"2023-07-21T00:00:00\", \"count\": 215}, {\"Service Date\": \"2024-07-25T00:00:00\", \"count\": 240}, {\"Service Date\": \"2023-12-23T00:00:00\", \"count\": 263}, {\"Service Date\": \"2024-08-31T00:00:00\", \"count\": 386}, {\"Service Date\": \"2022-04-27T00:00:00\", \"count\": 219}, {\"Service Date\": \"2024-12-27T00:00:00\", \"count\": 14}, {\"Service Date\": \"2024-09-28T00:00:00\", \"count\": 342}, {\"Service Date\": \"2022-06-10T00:00:00\", \"count\": 258}, {\"Service Date\": \"2022-03-26T00:00:00\", \"count\": 202}, {\"Service Date\": \"2024-11-13T00:00:00\", \"count\": 235}, {\"Service Date\": \"2022-09-12T00:00:00\", \"count\": 229}, {\"Service Date\": \"2023-02-14T00:00:00\", \"count\": 251}, {\"Service Date\": \"2024-02-25T00:00:00\", \"count\": 207}, {\"Service Date\": \"2022-02-15T00:00:00\", \"count\": 199}, {\"Service Date\": \"2022-09-26T00:00:00\", \"count\": 290}, {\"Service Date\": \"2024-01-04T00:00:00\", \"count\": 241}, {\"Service Date\": \"2023-04-24T00:00:00\", \"count\": 246}, {\"Service Date\": \"2024-02-26T00:00:00\", \"count\": 190}, {\"Service Date\": \"2024-09-30T00:00:00\", \"count\": 325}, {\"Service Date\": \"2021-12-09T00:00:00\", \"count\": 21}, {\"Service Date\": \"2023-05-14T00:00:00\", \"count\": 289}, {\"Service Date\": \"2024-02-28T00:00:00\", \"count\": 311}, {\"Service Date\": \"2022-02-23T00:00:00\", \"count\": 232}, {\"Service Date\": \"2022-10-25T00:00:00\", \"count\": 238}, {\"Service Date\": \"2023-01-06T00:00:00\", \"count\": 179}, {\"Service Date\": \"2023-12-27T00:00:00\", \"count\": 195}, {\"Service Date\": \"2023-10-26T00:00:00\", \"count\": 315}, {\"Service Date\": \"2023-06-27T00:00:00\", \"count\": 227}, {\"Service Date\": \"2022-11-17T00:00:00\", \"count\": 173}, {\"Service Date\": \"2023-04-03T00:00:00\", \"count\": 173}, {\"Service Date\": \"2024-08-29T00:00:00\", \"count\": 433}, {\"Service Date\": \"2023-03-12T00:00:00\", \"count\": 146}, {\"Service Date\": \"2024-04-29T00:00:00\", \"count\": 331}, {\"Service Date\": \"2022-08-29T00:00:00\", \"count\": 260}, {\"Service Date\": \"2022-10-26T00:00:00\", \"count\": 202}, {\"Service Date\": \"2022-12-17T00:00:00\", \"count\": 301}, {\"Service Date\": \"2023-02-20T00:00:00\", \"count\": 260}, {\"Service Date\": \"2024-02-07T00:00:00\", \"count\": 235}, {\"Service Date\": \"2023-03-17T00:00:00\", \"count\": 218}, {\"Service Date\": \"2022-10-02T00:00:00\", \"count\": 250}, {\"Service Date\": \"2022-11-16T00:00:00\", \"count\": 218}, {\"Service Date\": \"2024-06-10T00:00:00\", \"count\": 320}, {\"Service Date\": \"2023-05-26T00:00:00\", \"count\": 251}, {\"Service Date\": \"2024-05-08T00:00:00\", \"count\": 257}, {\"Service Date\": \"2022-12-27T00:00:00\", \"count\": 226}, {\"Service Date\": \"2024-04-13T00:00:00\", \"count\": 224}, {\"Service Date\": \"2023-01-13T00:00:00\", \"count\": 161}, {\"Service Date\": \"2023-12-28T00:00:00\", \"count\": 257}, {\"Service Date\": \"2024-06-15T00:00:00\", \"count\": 156}, {\"Service Date\": \"2022-09-05T00:00:00\", \"count\": 218}, {\"Service Date\": \"2022-08-16T00:00:00\", \"count\": 182}, {\"Service Date\": \"2024-12-30T00:00:00\", \"count\": 15}, {\"Service Date\": \"2021-12-29T00:00:00\", \"count\": 71}, {\"Service Date\": \"2022-12-14T00:00:00\", \"count\": 232}, {\"Service Date\": \"2023-09-11T00:00:00\", \"count\": 228}, {\"Service Date\": \"2024-01-14T00:00:00\", \"count\": 163}, {\"Service Date\": \"2022-08-09T00:00:00\", \"count\": 183}, {\"Service Date\": \"2022-12-04T00:00:00\", \"count\": 231}, {\"Service Date\": \"2022-02-22T00:00:00\", \"count\": 203}, {\"Service Date\": \"2021-12-05T00:00:00\", \"count\": 27}, {\"Service Date\": \"2022-02-25T00:00:00\", \"count\": 270}, {\"Service Date\": \"2024-12-22T00:00:00\", \"count\": 41}, {\"Service Date\": \"2023-11-13T00:00:00\", \"count\": 207}, {\"Service Date\": \"2023-07-13T00:00:00\", \"count\": 227}, {\"Service Date\": \"2024-01-01T00:00:00\", \"count\": 210}, {\"Service Date\": \"2022-05-11T00:00:00\", \"count\": 227}, {\"Service Date\": \"2023-07-12T00:00:00\", \"count\": 273}, {\"Service Date\": \"2024-10-29T00:00:00\", \"count\": 204}, {\"Service Date\": \"2023-05-15T00:00:00\", \"count\": 188}, {\"Service Date\": \"2021-12-18T00:00:00\", \"count\": 59}, {\"Service Date\": \"2023-11-19T00:00:00\", \"count\": 227}, {\"Service Date\": \"2024-01-31T00:00:00\", \"count\": 295}, {\"Service Date\": \"2024-08-03T00:00:00\", \"count\": 337}, {\"Service Date\": \"2022-12-09T00:00:00\", \"count\": 261}, {\"Service Date\": \"2023-10-24T00:00:00\", \"count\": 227}, {\"Service Date\": \"2022-02-08T00:00:00\", \"count\": 195}, {\"Service Date\": \"2023-12-05T00:00:00\", \"count\": 259}, {\"Service Date\": \"2023-01-16T00:00:00\", \"count\": 250}, {\"Service Date\": \"2023-06-26T00:00:00\", \"count\": 221}, {\"Service Date\": \"2024-01-25T00:00:00\", \"count\": 282}, {\"Service Date\": \"2024-02-24T00:00:00\", \"count\": 333}, {\"Service Date\": \"2022-08-05T00:00:00\", \"count\": 247}, {\"Service Date\": \"2023-02-11T00:00:00\", \"count\": 242}, {\"Service Date\": \"2024-07-22T00:00:00\", \"count\": 233}, {\"Service Date\": \"2022-08-11T00:00:00\", \"count\": 180}, {\"Service Date\": \"2021-12-20T00:00:00\", \"count\": 46}, {\"Service Date\": \"2023-03-20T00:00:00\", \"count\": 184}, {\"Service Date\": \"2023-06-11T00:00:00\", \"count\": 222}, {\"Service Date\": \"2022-07-16T00:00:00\", \"count\": 234}, {\"Service Date\": \"2024-11-21T00:00:00\", \"count\": 233}, {\"Service Date\": \"2023-08-18T00:00:00\", \"count\": 153}, {\"Service Date\": \"2024-11-20T00:00:00\", \"count\": 148}, {\"Service Date\": \"2023-10-16T00:00:00\", \"count\": 322}, {\"Service Date\": \"2023-06-08T00:00:00\", \"count\": 154}, {\"Service Date\": \"2023-07-28T00:00:00\", \"count\": 167}, {\"Service Date\": \"2022-05-24T00:00:00\", \"count\": 199}, {\"Service Date\": \"2023-01-24T00:00:00\", \"count\": 238}, {\"Service Date\": \"2022-09-28T00:00:00\", \"count\": 258}, {\"Service Date\": \"2022-07-27T00:00:00\", \"count\": 213}, {\"Service Date\": \"2022-03-06T00:00:00\", \"count\": 251}, {\"Service Date\": \"2023-03-08T00:00:00\", \"count\": 264}, {\"Service Date\": \"2023-04-07T00:00:00\", \"count\": 176}, {\"Service Date\": \"2023-07-10T00:00:00\", \"count\": 190}, {\"Service Date\": \"2023-09-29T00:00:00\", \"count\": 262}, {\"Service Date\": \"2024-02-16T00:00:00\", \"count\": 238}, {\"Service Date\": \"2022-08-18T00:00:00\", \"count\": 258}, {\"Service Date\": \"2024-05-20T00:00:00\", \"count\": 233}, {\"Service Date\": \"2024-06-30T00:00:00\", \"count\": 270}, {\"Service Date\": \"2023-06-03T00:00:00\", \"count\": 225}, {\"Service Date\": \"2023-10-06T00:00:00\", \"count\": 212}, {\"Service Date\": \"2023-01-02T00:00:00\", \"count\": 157}, {\"Service Date\": \"2024-05-27T00:00:00\", \"count\": 356}, {\"Service Date\": \"2022-07-23T00:00:00\", \"count\": 239}, {\"Service Date\": \"2024-05-21T00:00:00\", \"count\": 298}, {\"Service Date\": \"2024-06-18T00:00:00\", \"count\": 355}, {\"Service Date\": \"2023-08-14T00:00:00\", \"count\": 171}, {\"Service Date\": \"2023-05-03T00:00:00\", \"count\": 207}, {\"Service Date\": \"2023-08-26T00:00:00\", \"count\": 230}, {\"Service Date\": \"2022-10-20T00:00:00\", \"count\": 228}, {\"Service Date\": \"2022-11-19T00:00:00\", \"count\": 246}, {\"Service Date\": \"2023-03-14T00:00:00\", \"count\": 164}, {\"Service Date\": \"2024-04-27T00:00:00\", \"count\": 187}, {\"Service Date\": \"2024-07-14T00:00:00\", \"count\": 207}, {\"Service Date\": \"2024-09-11T00:00:00\", \"count\": 330}, {\"Service Date\": \"2024-09-20T00:00:00\", \"count\": 251}, {\"Service Date\": \"2021-12-03T00:00:00\", \"count\": 1}, {\"Service Date\": \"2023-11-12T00:00:00\", \"count\": 268}, {\"Service Date\": \"2022-09-14T00:00:00\", \"count\": 267}, {\"Service Date\": \"2024-11-12T00:00:00\", \"count\": 203}, {\"Service Date\": \"2023-10-14T00:00:00\", \"count\": 187}, {\"Service Date\": \"2023-05-05T00:00:00\", \"count\": 245}, {\"Service Date\": \"2022-05-03T00:00:00\", \"count\": 209}, {\"Service Date\": \"2023-06-28T00:00:00\", \"count\": 278}, {\"Service Date\": \"2021-12-19T00:00:00\", \"count\": 47}, {\"Service Date\": \"2024-04-14T00:00:00\", \"count\": 184}, {\"Service Date\": \"2021-12-24T00:00:00\", \"count\": 72}, {\"Service Date\": \"2024-07-26T00:00:00\", \"count\": 331}, {\"Service Date\": \"2023-07-22T00:00:00\", \"count\": 199}, {\"Service Date\": \"2023-12-29T00:00:00\", \"count\": 219}, {\"Service Date\": \"2022-02-20T00:00:00\", \"count\": 188}, {\"Service Date\": \"2023-05-23T00:00:00\", \"count\": 265}, {\"Service Date\": \"2022-04-16T00:00:00\", \"count\": 198}, {\"Service Date\": \"2023-01-27T00:00:00\", \"count\": 246}, {\"Service Date\": \"2024-01-03T00:00:00\", \"count\": 234}, {\"Service Date\": \"2022-07-13T00:00:00\", \"count\": 211}, {\"Service Date\": \"2023-12-24T00:00:00\", \"count\": 205}, {\"Service Date\": \"2024-08-19T00:00:00\", \"count\": 248}, {\"Service Date\": \"2024-12-26T00:00:00\", \"count\": 10}, {\"Service Date\": \"2022-01-06T00:00:00\", \"count\": 121}, {\"Service Date\": \"2025-01-05T00:00:00\", \"count\": 1}, {\"Service Date\": \"2024-03-08T00:00:00\", \"count\": 214}, {\"Service Date\": \"2024-04-18T00:00:00\", \"count\": 237}, {\"Service Date\": \"2021-12-30T00:00:00\", \"count\": 77}, {\"Service Date\": \"2023-01-30T00:00:00\", \"count\": 178}, {\"Service Date\": \"2022-12-25T00:00:00\", \"count\": 218}, {\"Service Date\": \"2024-02-14T00:00:00\", \"count\": 335}, {\"Service Date\": \"2021-12-13T00:00:00\", \"count\": 21}, {\"Service Date\": \"2022-12-19T00:00:00\", \"count\": 157}, {\"Service Date\": \"2023-10-27T00:00:00\", \"count\": 262}, {\"Service Date\": \"2024-11-16T00:00:00\", \"count\": 228}, {\"Service Date\": \"2022-01-05T00:00:00\", \"count\": 181}, {\"Service Date\": \"2024-11-29T00:00:00\", \"count\": 163}, {\"Service Date\": \"2022-04-24T00:00:00\", \"count\": 196}, {\"Service Date\": \"2023-04-25T00:00:00\", \"count\": 206}, {\"Service Date\": \"2024-01-20T00:00:00\", \"count\": 183}, {\"Service Date\": \"2022-04-15T00:00:00\", \"count\": 227}, {\"Service Date\": \"2022-06-23T00:00:00\", \"count\": 218}, {\"Service Date\": \"2023-05-30T00:00:00\", \"count\": 203}, {\"Service Date\": \"2022-10-30T00:00:00\", \"count\": 254}, {\"Service Date\": \"2022-06-17T00:00:00\", \"count\": 187}, {\"Service Date\": \"2024-05-12T00:00:00\", \"count\": 278}, {\"Service Date\": \"2023-10-23T00:00:00\", \"count\": 338}, {\"Service Date\": \"2022-03-12T00:00:00\", \"count\": 188}, {\"Service Date\": \"2022-12-15T00:00:00\", \"count\": 189}, {\"Service Date\": \"2023-10-25T00:00:00\", \"count\": 226}, {\"Service Date\": \"2023-01-29T00:00:00\", \"count\": 235}, {\"Service Date\": \"2024-05-06T00:00:00\", \"count\": 229}, {\"Service Date\": \"2024-06-04T00:00:00\", \"count\": 263}, {\"Service Date\": \"2022-02-21T00:00:00\", \"count\": 234}, {\"Service Date\": \"2023-05-02T00:00:00\", \"count\": 245}, {\"Service Date\": \"2024-12-25T00:00:00\", \"count\": 24}, {\"Service Date\": \"2023-04-13T00:00:00\", \"count\": 182}, {\"Service Date\": \"2023-06-12T00:00:00\", \"count\": 182}, {\"Service Date\": \"2024-04-23T00:00:00\", \"count\": 199}, {\"Service Date\": \"2023-06-23T00:00:00\", \"count\": 201}, {\"Service Date\": \"2021-12-21T00:00:00\", \"count\": 87}, {\"Service Date\": \"2024-03-10T00:00:00\", \"count\": 147}, {\"Service Date\": \"2024-06-03T00:00:00\", \"count\": 247}, {\"Service Date\": \"2022-01-07T00:00:00\", \"count\": 127}, {\"Service Date\": \"2023-09-07T00:00:00\", \"count\": 253}, {\"Service Date\": \"2022-02-17T00:00:00\", \"count\": 196}, {\"Service Date\": \"2024-06-19T00:00:00\", \"count\": 260}, {\"Service Date\": \"2022-02-14T00:00:00\", \"count\": 187}, {\"Service Date\": \"2024-03-17T00:00:00\", \"count\": 283}, {\"Service Date\": \"2024-07-17T00:00:00\", \"count\": 275}]}}, {\"mode\": \"vega-lite\"});\n",
       "</script>"
      ],
      "text/plain": [
       "alt.Chart(...)"
      ]
     },
     "metadata": {},
     "output_type": "display_data"
    }
   ],
   "source": [
    "chart = alt.Chart(service_date_counts.to_pandas()).mark_bar().encode(\n",
    "    x=\"Service Date\",\n",
    "    y=\"count\"\n",
    ").properties(\n",
    "    width=800,  # Set the width of the chart\n",
    "    height=600  # Set the height of the chart\n",
    ")\n",
    "\n",
    "chart.display()\n"
   ]
  },
  {
   "cell_type": "code",
   "execution_count": 20,
   "metadata": {},
   "outputs": [
    {
     "data": {
      "application/vnd.plotly.v1+json": {
       "config": {
        "plotlyServerURL": "https://plot.ly"
       },
       "data": [
        {
         "alignmentgroup": "True",
         "hovertemplate": "Service Date=%{x}<br>count=%{y}<extra></extra>",
         "legendgroup": "",
         "marker": {
          "color": "#000000",
          "pattern": {
           "shape": ""
          }
         },
         "name": "",
         "offsetgroup": "",
         "orientation": "v",
         "showlegend": false,
         "textposition": "auto",
         "type": "bar",
         "x": [
          "2023-04-01T00:00:00",
          "2023-09-16T00:00:00",
          "2022-09-15T00:00:00",
          "2024-12-13T00:00:00",
          "2023-05-24T00:00:00",
          "2024-03-03T00:00:00",
          "2022-10-21T00:00:00",
          "2023-03-06T00:00:00",
          "2024-12-06T00:00:00",
          "2024-05-13T00:00:00",
          "2022-05-27T00:00:00",
          "2024-10-31T00:00:00",
          "2024-07-18T00:00:00",
          "2023-03-31T00:00:00",
          "2022-06-05T00:00:00",
          "2022-07-18T00:00:00",
          "2023-04-14T00:00:00",
          "2023-05-22T00:00:00",
          "2024-11-10T00:00:00",
          "2022-04-06T00:00:00",
          "2023-02-27T00:00:00",
          "2023-03-16T00:00:00",
          "2023-08-12T00:00:00",
          "2022-11-21T00:00:00",
          "2023-12-18T00:00:00",
          "2024-07-11T00:00:00",
          "2023-04-15T00:00:00",
          "2024-05-05T00:00:00",
          "2022-03-27T00:00:00",
          "2024-05-26T00:00:00",
          "2024-08-27T00:00:00",
          "2022-05-19T00:00:00",
          "2023-03-19T00:00:00",
          "2023-06-19T00:00:00",
          "2022-08-13T00:00:00",
          "2023-07-26T00:00:00",
          "2024-01-08T00:00:00",
          "2024-08-22T00:00:00",
          "2024-09-06T00:00:00",
          "2024-10-07T00:00:00",
          "2022-12-24T00:00:00",
          "2022-10-06T00:00:00",
          "2022-03-21T00:00:00",
          "2024-07-06T00:00:00",
          "2023-11-25T00:00:00",
          "2022-06-27T00:00:00",
          "2023-04-29T00:00:00",
          "2021-12-12T00:00:00",
          "2023-02-16T00:00:00",
          "2023-01-12T00:00:00",
          "2024-06-17T00:00:00",
          "2024-08-11T00:00:00",
          "2024-09-08T00:00:00",
          "2024-09-23T00:00:00",
          "2022-01-17T00:00:00",
          "2023-01-20T00:00:00",
          "2024-11-18T00:00:00",
          "2024-04-21T00:00:00",
          "2024-02-20T00:00:00",
          "2022-02-07T00:00:00",
          "2024-01-27T00:00:00",
          "2022-09-19T00:00:00",
          "2023-01-25T00:00:00",
          "2023-03-22T00:00:00",
          "2022-12-01T00:00:00",
          "2022-01-27T00:00:00",
          "2022-12-18T00:00:00",
          "2023-08-24T00:00:00",
          "2023-10-11T00:00:00",
          "2023-01-07T00:00:00",
          "2022-08-04T00:00:00",
          "2023-05-31T00:00:00",
          "2024-12-12T00:00:00",
          "2022-12-02T00:00:00",
          "2024-06-16T00:00:00",
          "2022-08-27T00:00:00",
          "2021-12-25T00:00:00",
          "2023-09-09T00:00:00",
          "2023-11-11T00:00:00",
          "2022-02-12T00:00:00",
          "2023-08-05T00:00:00",
          "2024-03-14T00:00:00",
          "2024-10-30T00:00:00",
          "2023-10-15T00:00:00",
          "2024-10-03T00:00:00",
          "2022-10-18T00:00:00",
          "2023-11-20T00:00:00",
          "2024-12-24T00:00:00",
          "2023-07-04T00:00:00",
          "2024-10-11T00:00:00",
          "2022-11-14T00:00:00",
          "2022-06-01T00:00:00",
          "2023-05-16T00:00:00",
          "2023-09-20T00:00:00",
          "2023-11-06T00:00:00",
          "2024-02-03T00:00:00",
          "2023-06-29T00:00:00",
          "2024-05-30T00:00:00",
          "2023-12-11T00:00:00",
          "2022-05-28T00:00:00",
          "2024-08-02T00:00:00",
          "2023-07-01T00:00:00",
          "2022-05-08T00:00:00",
          "2022-06-16T00:00:00",
          "2023-02-24T00:00:00",
          "2023-04-06T00:00:00",
          "2021-12-06T00:00:00",
          "2022-10-24T00:00:00",
          "2022-04-01T00:00:00",
          "2024-01-24T00:00:00",
          "2024-01-05T00:00:00",
          "2022-10-13T00:00:00",
          "2022-03-13T00:00:00",
          "2023-02-01T00:00:00",
          "2024-05-15T00:00:00",
          "2022-08-20T00:00:00",
          "2022-11-20T00:00:00",
          "2023-12-31T00:00:00",
          "2024-02-06T00:00:00",
          "2022-03-05T00:00:00",
          "2024-04-24T00:00:00",
          "2024-02-17T00:00:00",
          "2023-01-09T00:00:00",
          "2023-02-09T00:00:00",
          "2023-03-29T00:00:00",
          "2023-04-08T00:00:00",
          "2023-04-19T00:00:00",
          "2024-02-12T00:00:00",
          "2024-04-11T00:00:00",
          "2022-01-21T00:00:00",
          "2024-08-06T00:00:00",
          "2022-11-01T00:00:00",
          "2023-08-15T00:00:00",
          "2022-01-30T00:00:00",
          "2023-02-21T00:00:00",
          "2024-05-25T00:00:00",
          "2023-07-14T00:00:00",
          "2024-03-07T00:00:00",
          "2024-12-20T00:00:00",
          "2024-10-15T00:00:00",
          "2022-03-09T00:00:00",
          "2022-03-01T00:00:00",
          "2022-09-30T00:00:00",
          "2023-02-23T00:00:00",
          "2023-08-08T00:00:00",
          "2023-11-18T00:00:00",
          "2023-05-09T00:00:00",
          "2023-03-10T00:00:00",
          "2022-11-30T00:00:00",
          "2022-01-04T00:00:00",
          "2024-04-07T00:00:00",
          "2024-03-26T00:00:00",
          "2024-06-25T00:00:00",
          "2022-06-26T00:00:00",
          "2023-07-19T00:00:00",
          "2022-05-17T00:00:00",
          "2021-12-17T00:00:00",
          "2022-11-12T00:00:00",
          "2023-01-26T00:00:00",
          "2023-12-22T00:00:00",
          "2022-12-23T00:00:00",
          "2023-08-09T00:00:00",
          "2023-08-19T00:00:00",
          "2024-09-21T00:00:00",
          "2022-07-11T00:00:00",
          "2022-02-11T00:00:00",
          "2022-03-15T00:00:00",
          "2023-06-07T00:00:00",
          "2024-10-02T00:00:00",
          "2023-04-17T00:00:00",
          "2024-10-25T00:00:00",
          "2023-09-24T00:00:00",
          "2023-11-29T00:00:00",
          "2022-05-26T00:00:00",
          "2024-05-10T00:00:00",
          "2022-05-25T00:00:00",
          "2024-04-03T00:00:00",
          "2022-03-29T00:00:00",
          "2023-03-04T00:00:00",
          "2023-09-13T00:00:00",
          "2022-09-11T00:00:00",
          "2024-04-17T00:00:00",
          "2022-08-26T00:00:00",
          "2024-10-17T00:00:00",
          "2023-12-03T00:00:00",
          "2022-07-06T00:00:00",
          "2022-09-22T00:00:00",
          "2024-03-24T00:00:00",
          "2024-12-10T00:00:00",
          "2024-11-03T00:00:00",
          "2024-03-01T00:00:00",
          "2024-07-03T00:00:00",
          "2023-02-28T00:00:00",
          "2023-05-13T00:00:00",
          "2022-03-18T00:00:00",
          "2022-05-31T00:00:00",
          "2022-01-24T00:00:00",
          "2022-04-02T00:00:00",
          "2022-11-15T00:00:00",
          "2023-08-22T00:00:00",
          "2024-06-28T00:00:00",
          "2022-04-12T00:00:00",
          "2024-12-23T00:00:00",
          "2022-11-18T00:00:00",
          "2024-12-11T00:00:00",
          "2024-12-31T00:00:00",
          "2024-04-12T00:00:00",
          "2022-11-10T00:00:00",
          "2023-02-12T00:00:00",
          "2024-10-13T00:00:00",
          "2022-04-14T00:00:00",
          "2024-12-14T00:00:00",
          "2023-08-31T00:00:00",
          "2024-01-07T00:00:00",
          "2022-06-21T00:00:00",
          "2022-07-10T00:00:00",
          "2022-01-03T00:00:00",
          "2022-05-22T00:00:00",
          "2022-08-21T00:00:00",
          "2022-09-18T00:00:00",
          "2023-08-30T00:00:00",
          "2023-10-04T00:00:00",
          "2023-11-21T00:00:00",
          "2024-02-09T00:00:00",
          "2024-09-01T00:00:00",
          "2024-09-02T00:00:00",
          "2024-12-15T00:00:00",
          "2023-12-04T00:00:00",
          "2024-04-10T00:00:00",
          "2022-06-07T00:00:00",
          "2023-05-25T00:00:00",
          "2022-03-11T00:00:00",
          "2022-10-14T00:00:00",
          "2024-01-30T00:00:00",
          "2023-02-08T00:00:00",
          "2022-12-06T00:00:00",
          "2023-09-08T00:00:00",
          "2022-04-10T00:00:00",
          "2022-09-02T00:00:00",
          "2023-06-13T00:00:00",
          "2024-03-30T00:00:00",
          "2021-12-10T00:00:00",
          "2023-07-25T00:00:00",
          "2022-08-31T00:00:00",
          "2023-08-03T00:00:00",
          "2023-11-16T00:00:00",
          "2024-11-25T00:00:00",
          "2024-12-21T00:00:00",
          "2022-09-20T00:00:00",
          "2022-07-25T00:00:00",
          "2024-02-11T00:00:00",
          "2024-10-14T00:00:00",
          "2024-08-17T00:00:00",
          "2024-05-02T00:00:00",
          "2022-11-22T00:00:00",
          "2023-09-26T00:00:00",
          "2024-11-26T00:00:00",
          "2022-09-08T00:00:00",
          "2023-11-04T00:00:00",
          "2022-05-21T00:00:00",
          "2022-07-17T00:00:00",
          "2024-11-05T00:00:00",
          "2024-04-05T00:00:00",
          "2022-08-02T00:00:00",
          "2024-08-30T00:00:00",
          "2023-09-05T00:00:00",
          "2022-11-09T00:00:00",
          "2023-03-07T00:00:00",
          "2023-03-30T00:00:00",
          "2022-06-30T00:00:00",
          "2024-05-17T00:00:00",
          "2022-11-27T00:00:00",
          "2023-03-24T00:00:00",
          "2024-11-08T00:00:00",
          "2023-12-20T00:00:00",
          "2024-12-29T00:00:00",
          "2023-07-20T00:00:00",
          "2024-05-19T00:00:00",
          "2024-07-04T00:00:00",
          "2022-01-20T00:00:00",
          "2024-04-22T00:00:00",
          "2022-06-18T00:00:00",
          "2022-07-08T00:00:00",
          "2022-12-29T00:00:00",
          "2022-02-05T00:00:00",
          "2023-03-15T00:00:00",
          "2024-01-28T00:00:00",
          "2023-06-22T00:00:00",
          "2024-05-16T00:00:00",
          "2023-12-21T00:00:00",
          "2023-01-01T00:00:00",
          "2022-06-22T00:00:00",
          "2024-06-21T00:00:00",
          "2024-09-10T00:00:00",
          "2022-09-13T00:00:00",
          "2022-07-09T00:00:00",
          "2025-01-03T00:00:00",
          "2023-06-05T00:00:00",
          "2024-07-13T00:00:00",
          "2023-10-17T00:00:00",
          "2023-02-17T00:00:00",
          "2024-10-26T00:00:00",
          "2023-09-22T00:00:00",
          "2022-10-11T00:00:00",
          "2023-02-03T00:00:00",
          "2022-06-15T00:00:00",
          "2024-01-19T00:00:00",
          "2024-03-02T00:00:00",
          "2022-12-20T00:00:00",
          "2023-11-14T00:00:00",
          "2024-10-06T00:00:00",
          "2023-06-01T00:00:00",
          "2023-01-05T00:00:00",
          "2024-08-28T00:00:00",
          "2022-06-20T00:00:00",
          "2024-09-14T00:00:00",
          "2022-04-11T00:00:00",
          "2021-12-15T00:00:00",
          "2023-03-23T00:00:00",
          "2022-10-01T00:00:00",
          "2023-07-24T00:00:00",
          "2022-11-04T00:00:00",
          "2024-04-04T00:00:00",
          "2024-02-10T00:00:00",
          "2024-05-31T00:00:00",
          "2022-04-20T00:00:00",
          "2024-07-29T00:00:00",
          "2024-01-02T00:00:00",
          "2022-06-06T00:00:00",
          "2022-11-08T00:00:00",
          "2023-03-05T00:00:00",
          "2022-02-16T00:00:00",
          "2023-03-26T00:00:00",
          "2023-06-04T00:00:00",
          "2022-03-17T00:00:00",
          "2023-02-07T00:00:00",
          "2024-06-06T00:00:00",
          "2023-01-31T00:00:00",
          "2024-06-14T00:00:00",
          "2022-04-28T00:00:00",
          "2024-03-22T00:00:00",
          "2022-05-30T00:00:00",
          "2023-05-18T00:00:00",
          "2023-01-18T00:00:00",
          "2023-07-09T00:00:00",
          "2024-10-09T00:00:00",
          "2024-07-10T00:00:00",
          "2023-10-05T00:00:00",
          "2023-06-25T00:00:00",
          "2023-09-15T00:00:00",
          "2024-02-01T00:00:00",
          "2023-05-10T00:00:00",
          "2022-01-02T00:00:00",
          "2022-06-09T00:00:00",
          "2023-01-04T00:00:00",
          "2023-07-30T00:00:00",
          "2024-05-01T00:00:00",
          "2022-11-03T00:00:00",
          "2024-07-15T00:00:00",
          "2023-05-07T00:00:00",
          "2024-08-15T00:00:00",
          "2023-09-19T00:00:00",
          "2022-04-23T00:00:00",
          "2024-07-24T00:00:00",
          "2024-08-21T00:00:00",
          "2023-07-07T00:00:00",
          "2023-11-07T00:00:00",
          "2024-10-12T00:00:00",
          "2021-12-26T00:00:00",
          "2023-02-04T00:00:00",
          "2023-09-30T00:00:00",
          "2024-11-22T00:00:00",
          "2023-10-30T00:00:00",
          "2022-10-12T00:00:00",
          "2023-10-08T00:00:00",
          "2022-07-15T00:00:00",
          "2023-08-29T00:00:00",
          "2022-04-26T00:00:00",
          "2023-08-16T00:00:00",
          "2022-03-07T00:00:00",
          "2022-09-17T00:00:00",
          "2023-03-03T00:00:00",
          "2022-09-09T00:00:00",
          "2023-10-03T00:00:00",
          "2024-02-22T00:00:00",
          "2023-03-09T00:00:00",
          "2023-09-21T00:00:00",
          "2022-04-22T00:00:00",
          "2022-01-15T00:00:00",
          "2023-04-12T00:00:00",
          "2024-03-29T00:00:00",
          "2022-02-06T00:00:00",
          "2022-07-01T00:00:00",
          "2022-05-23T00:00:00",
          "2022-10-29T00:00:00",
          "2022-06-14T00:00:00",
          "2022-06-29T00:00:00",
          "2023-03-11T00:00:00",
          "2023-04-23T00:00:00",
          "2023-09-10T00:00:00",
          "2022-07-03T00:00:00",
          "2022-10-04T00:00:00",
          "2024-03-16T00:00:00",
          "2024-05-09T00:00:00",
          "2023-12-14T00:00:00",
          "2022-10-05T00:00:00",
          "2023-07-31T00:00:00",
          "2021-12-28T00:00:00",
          "2023-01-23T00:00:00",
          "2023-08-21T00:00:00",
          "2023-10-02T00:00:00",
          "2024-01-13T00:00:00",
          "2022-12-30T00:00:00",
          "2023-01-28T00:00:00",
          "2023-03-21T00:00:00",
          "2024-01-22T00:00:00",
          "2022-07-20T00:00:00",
          "2024-02-15T00:00:00",
          "2024-03-28T00:00:00",
          "2024-10-04T00:00:00",
          "2023-07-17T00:00:00",
          "2022-09-03T00:00:00",
          "2023-09-03T00:00:00",
          "2022-06-03T00:00:00",
          "2023-07-11T00:00:00",
          "2023-03-13T00:00:00",
          "2024-11-14T00:00:00",
          "2024-09-22T00:00:00",
          "2023-10-20T00:00:00",
          "2024-06-05T00:00:00",
          "2023-08-01T00:00:00",
          "2022-06-28T00:00:00",
          "2022-05-06T00:00:00",
          "2022-06-08T00:00:00",
          "2022-10-16T00:00:00",
          "2023-04-21T00:00:00",
          "2022-11-05T00:00:00",
          "2023-08-17T00:00:00",
          "2022-04-29T00:00:00",
          "2022-09-16T00:00:00",
          "2022-11-23T00:00:00",
          "2022-12-22T00:00:00",
          "2024-09-24T00:00:00",
          "2022-05-10T00:00:00",
          "2022-04-19T00:00:00",
          "2022-03-20T00:00:00",
          "2022-07-28T00:00:00",
          "2023-01-14T00:00:00",
          "2023-04-28T00:00:00",
          "2024-07-20T00:00:00",
          "2024-10-27T00:00:00",
          "2022-08-12T00:00:00",
          "2023-05-17T00:00:00",
          "2023-05-20T00:00:00",
          "2024-01-15T00:00:00",
          "2023-10-21T00:00:00",
          "2022-09-10T00:00:00",
          "2024-02-21T00:00:00",
          "2022-02-09T00:00:00",
          "2023-06-30T00:00:00",
          "2023-12-16T00:00:00",
          "2022-06-19T00:00:00",
          "2022-01-14T00:00:00",
          "2022-03-04T00:00:00",
          "2022-03-31T00:00:00",
          "2024-05-18T00:00:00",
          "2022-03-02T00:00:00",
          "2022-04-18T00:00:00",
          "2022-05-09T00:00:00",
          "2023-01-19T00:00:00",
          "2024-09-17T00:00:00",
          "2022-04-30T00:00:00",
          "2022-05-05T00:00:00",
          "2022-08-23T00:00:00",
          "2023-09-18T00:00:00",
          "2022-01-08T00:00:00",
          "2022-11-06T00:00:00",
          "2023-04-05T00:00:00",
          "2023-11-01T00:00:00",
          "2024-03-15T00:00:00",
          "2024-07-16T00:00:00",
          "2022-10-03T00:00:00",
          "2024-04-08T00:00:00",
          "2023-07-23T00:00:00",
          "2024-04-16T00:00:00",
          "2024-05-23T00:00:00",
          "2022-02-03T00:00:00",
          "2022-01-09T00:00:00",
          "2024-11-02T00:00:00",
          "2022-10-09T00:00:00",
          "2023-03-27T00:00:00",
          "2024-10-28T00:00:00",
          "2022-08-03T00:00:00",
          "2022-08-06T00:00:00",
          "2023-05-11T00:00:00",
          "2024-02-29T00:00:00",
          "2024-08-04T00:00:00",
          "2024-08-20T00:00:00",
          "2022-07-05T00:00:00",
          "2022-12-21T00:00:00",
          "2023-06-24T00:00:00",
          "2023-11-10T00:00:00",
          "2024-02-13T00:00:00",
          "2024-07-21T00:00:00",
          "2024-10-20T00:00:00",
          "2023-04-11T00:00:00",
          "2024-03-19T00:00:00",
          "2021-12-22T00:00:00",
          "2022-08-28T00:00:00",
          "2024-07-09T00:00:00",
          "2023-05-01T00:00:00",
          "2021-12-16T00:00:00",
          "2024-03-23T00:00:00",
          "2023-10-31T00:00:00",
          "2021-12-08T00:00:00",
          "2022-06-04T00:00:00",
          "2024-01-23T00:00:00",
          "2022-09-23T00:00:00",
          "2024-08-07T00:00:00",
          "2022-07-14T00:00:00",
          "2023-10-22T00:00:00",
          "2024-08-12T00:00:00",
          "2024-07-27T00:00:00",
          "2023-08-20T00:00:00",
          "2023-08-23T00:00:00",
          "2023-05-08T00:00:00",
          "2021-12-11T00:00:00",
          "2023-05-12T00:00:00",
          "2024-04-01T00:00:00",
          "2023-06-21T00:00:00",
          "2022-11-26T00:00:00",
          "2022-02-24T00:00:00",
          "2023-02-26T00:00:00",
          "2022-04-09T00:00:00",
          "2022-12-05T00:00:00",
          "2023-06-20T00:00:00",
          "2023-12-07T00:00:00",
          "2024-05-04T00:00:00",
          "2024-04-02T00:00:00",
          "2024-12-17T00:00:00",
          "2023-01-21T00:00:00",
          "2022-12-11T00:00:00",
          "2022-04-05T00:00:00",
          "2023-02-25T00:00:00",
          "2022-05-12T00:00:00",
          "2024-01-21T00:00:00",
          "2021-12-04T00:00:00",
          "2023-12-08T00:00:00",
          "2022-01-22T00:00:00",
          "2023-09-25T00:00:00",
          "2022-07-02T00:00:00",
          "2024-12-01T00:00:00",
          "2022-01-13T00:00:00",
          "2024-06-01T00:00:00",
          "2024-09-29T00:00:00",
          "2023-08-11T00:00:00",
          "2024-03-18T00:00:00",
          "2023-06-10T00:00:00",
          "2023-07-08T00:00:00",
          "2022-08-22T00:00:00",
          "2022-01-12T00:00:00",
          "2023-11-26T00:00:00",
          "2024-11-11T00:00:00",
          "2023-06-09T00:00:00",
          "2022-12-08T00:00:00",
          "2023-04-02T00:00:00",
          "2021-12-07T00:00:00",
          "2023-03-02T00:00:00",
          "2023-02-18T00:00:00",
          "2022-03-08T00:00:00",
          "2022-09-01T00:00:00",
          "2022-09-27T00:00:00",
          "2024-11-27T00:00:00",
          "2023-11-30T00:00:00",
          "2021-12-31T00:00:00",
          "2022-03-03T00:00:00",
          "2022-01-18T00:00:00",
          "2023-07-27T00:00:00",
          "2022-04-13T00:00:00",
          "2022-06-12T00:00:00",
          "2023-11-24T00:00:00",
          "2024-03-11T00:00:00",
          "2024-04-28T00:00:00",
          "2022-05-16T00:00:00",
          "2023-06-17T00:00:00",
          "2024-07-30T00:00:00",
          "2024-08-25T00:00:00",
          "2024-08-24T00:00:00",
          "2024-12-03T00:00:00",
          "2022-04-08T00:00:00",
          "2022-09-29T00:00:00",
          "2023-02-22T00:00:00",
          "2023-08-06T00:00:00",
          "2024-02-18T00:00:00",
          "2024-06-29T00:00:00",
          "2024-12-18T00:00:00",
          "2023-03-01T00:00:00",
          "2022-06-25T00:00:00",
          "2024-09-27T00:00:00",
          "2024-12-04T00:00:00",
          "2024-02-23T00:00:00",
          "2022-10-28T00:00:00",
          "2024-12-02T00:00:00",
          "2023-11-15T00:00:00",
          "2022-11-28T00:00:00",
          "2023-02-19T00:00:00",
          "2023-05-21T00:00:00",
          "2024-10-19T00:00:00",
          "2024-06-27T00:00:00",
          "2024-12-19T00:00:00",
          "2023-07-29T00:00:00",
          "2023-09-27T00:00:00",
          "2022-02-10T00:00:00",
          "2024-03-06T00:00:00",
          "2024-05-14T00:00:00",
          "2024-09-15T00:00:00",
          "2024-10-18T00:00:00",
          "2022-02-01T00:00:00",
          "2024-11-24T00:00:00",
          "2022-01-31T00:00:00",
          "2023-01-03T00:00:00",
          "2023-11-03T00:00:00",
          "2024-07-05T00:00:00",
          "2023-12-15T00:00:00",
          "2023-05-04T00:00:00",
          "2022-08-15T00:00:00",
          "2022-10-07T00:00:00",
          "2024-08-26T00:00:00",
          "2023-01-10T00:00:00",
          "2023-07-16T00:00:00",
          "2023-04-04T00:00:00",
          "2023-10-29T00:00:00",
          "2024-09-05T00:00:00",
          "2023-11-09T00:00:00",
          "2023-11-22T00:00:00",
          "2024-02-02T00:00:00",
          "2022-04-21T00:00:00",
          "2024-10-22T00:00:00",
          "2022-06-24T00:00:00",
          "2022-02-18T00:00:00",
          "2023-06-06T00:00:00",
          "2022-04-07T00:00:00",
          "2023-01-17T00:00:00",
          "2024-05-24T00:00:00",
          "2022-03-23T00:00:00",
          "2023-11-28T00:00:00",
          "2024-11-28T00:00:00",
          "2024-08-09T00:00:00",
          "2024-09-26T00:00:00",
          "2024-03-05T00:00:00",
          "2022-04-17T00:00:00",
          "2022-08-25T00:00:00",
          "2024-04-20T00:00:00",
          "2023-10-18T00:00:00",
          "2024-11-06T00:00:00",
          "2022-07-26T00:00:00",
          "2022-08-10T00:00:00",
          "2022-09-25T00:00:00",
          "2023-09-23T00:00:00",
          "2023-12-12T00:00:00",
          "2024-01-10T00:00:00",
          "2022-10-19T00:00:00",
          "2024-04-06T00:00:00",
          "2024-05-29T00:00:00",
          "2024-08-18T00:00:00",
          "2021-12-14T00:00:00",
          "2022-08-07T00:00:00",
          "2024-12-16T00:00:00",
          "2024-07-01T00:00:00",
          "2022-11-02T00:00:00",
          "2024-04-30T00:00:00",
          "2024-10-23T00:00:00",
          "2023-05-27T00:00:00",
          "2022-11-24T00:00:00",
          "2022-12-28T00:00:00",
          "2023-11-02T00:00:00",
          "2024-06-23T00:00:00",
          "2024-12-07T00:00:00",
          "2024-07-08T00:00:00",
          "2022-11-07T00:00:00",
          "2023-10-09T00:00:00",
          "2024-03-25T00:00:00",
          "2022-06-13T00:00:00",
          "2023-07-02T00:00:00",
          "2024-10-01T00:00:00",
          "2024-02-27T00:00:00",
          "2024-01-12T00:00:00",
          "2024-08-13T00:00:00",
          "2023-08-02T00:00:00",
          "2022-08-01T00:00:00",
          "2022-12-31T00:00:00",
          "2023-06-14T00:00:00",
          "2024-01-06T00:00:00",
          "2023-12-10T00:00:00",
          "2024-09-12T00:00:00",
          "2024-11-07T00:00:00",
          "2023-10-12T00:00:00",
          "2022-08-19T00:00:00",
          "2024-06-24T00:00:00",
          "2022-10-27T00:00:00",
          "2022-07-07T00:00:00",
          "2022-02-02T00:00:00",
          "2024-11-01T00:00:00",
          "2022-01-11T00:00:00",
          "2022-12-16T00:00:00",
          "2023-05-29T00:00:00",
          "2023-11-05T00:00:00",
          "2023-09-14T00:00:00",
          "2024-03-09T00:00:00",
          "2024-06-13T00:00:00",
          "2023-04-20T00:00:00",
          "2022-12-13T00:00:00",
          "2024-12-05T00:00:00",
          "2023-07-03T00:00:00",
          "2024-02-05T00:00:00",
          "2023-02-10T00:00:00",
          "2022-04-04T00:00:00",
          "2024-01-16T00:00:00",
          "2022-01-26T00:00:00",
          "2024-11-15T00:00:00",
          "2023-02-15T00:00:00",
          "2023-05-28T00:00:00",
          "2023-12-19T00:00:00",
          "2024-11-19T00:00:00",
          "2023-10-01T00:00:00",
          "2024-05-28T00:00:00",
          "2022-02-19T00:00:00",
          "2023-09-06T00:00:00",
          "2024-08-05T00:00:00",
          "2022-05-01T00:00:00",
          "2023-06-16T00:00:00",
          "2023-10-10T00:00:00",
          "2023-04-16T00:00:00",
          "2024-06-22T00:00:00",
          "2022-02-26T00:00:00",
          "2024-03-20T00:00:00",
          "2022-12-07T00:00:00",
          "2023-04-09T00:00:00",
          "2023-12-17T00:00:00",
          "2022-02-27T00:00:00",
          "2022-03-25T00:00:00",
          "2022-01-16T00:00:00",
          "2023-02-05T00:00:00",
          "2024-08-16T00:00:00",
          "2023-01-11T00:00:00",
          "2024-01-09T00:00:00",
          "2022-03-16T00:00:00",
          "2022-05-04T00:00:00",
          "2022-01-28T00:00:00",
          "2022-04-03T00:00:00",
          "2024-04-19T00:00:00",
          "2024-07-12T00:00:00",
          "2024-12-09T00:00:00",
          "2023-10-07T00:00:00",
          "2022-02-04T00:00:00",
          "2024-05-03T00:00:00",
          "2024-03-31T00:00:00",
          "2024-08-08T00:00:00",
          "2024-04-25T00:00:00",
          "2022-10-23T00:00:00",
          "2023-07-15T00:00:00",
          "2024-06-07T00:00:00",
          "2022-05-18T00:00:00",
          "2023-02-02T00:00:00",
          "2024-10-24T00:00:00",
          "2024-10-10T00:00:00",
          "2022-03-10T00:00:00",
          "2024-09-13T00:00:00",
          "2023-12-13T00:00:00",
          "2021-12-27T00:00:00",
          "2022-06-11T00:00:00",
          "2024-12-28T00:00:00",
          "2025-01-01T00:00:00",
          "2022-05-13T00:00:00",
          "2023-09-02T00:00:00",
          "2024-03-12T00:00:00",
          "2023-09-12T00:00:00",
          "2022-10-17T00:00:00",
          "2022-12-12T00:00:00",
          "2024-09-09T00:00:00",
          "2022-01-01T00:00:00",
          "2024-03-27T00:00:00",
          "2023-08-27T00:00:00",
          "2022-03-19T00:00:00",
          "2022-09-21T00:00:00",
          "2023-11-23T00:00:00",
          "2024-11-04T00:00:00",
          "2022-05-15T00:00:00",
          "2022-07-30T00:00:00",
          "2022-10-15T00:00:00",
          "2024-11-30T00:00:00",
          "2024-11-23T00:00:00",
          "2022-01-19T00:00:00",
          "2022-11-29T00:00:00",
          "2023-11-08T00:00:00",
          "2024-03-21T00:00:00",
          "2022-07-21T00:00:00",
          "2024-05-07T00:00:00",
          "2022-02-13T00:00:00",
          "2022-02-28T00:00:00",
          "2022-11-13T00:00:00",
          "2022-01-23T00:00:00",
          "2023-12-01T00:00:00",
          "2024-09-16T00:00:00",
          "2022-03-14T00:00:00",
          "2022-10-10T00:00:00",
          "2024-07-02T00:00:00",
          "2024-08-14T00:00:00",
          "2024-10-08T00:00:00",
          "2022-03-22T00:00:00",
          "2024-06-12T00:00:00",
          "2022-08-17T00:00:00",
          "2023-04-30T00:00:00",
          "2024-06-20T00:00:00",
          "2024-01-18T00:00:00",
          "2022-09-06T00:00:00",
          "2023-06-18T00:00:00",
          "2023-09-28T00:00:00",
          "2022-11-11T00:00:00",
          "2022-01-29T00:00:00",
          "2023-12-06T00:00:00",
          "2023-10-13T00:00:00",
          "2025-01-04T00:00:00",
          "2023-04-10T00:00:00",
          "2023-07-06T00:00:00",
          "2024-03-13T00:00:00",
          "2023-11-17T00:00:00",
          "2024-01-26T00:00:00",
          "2023-12-02T00:00:00",
          "2022-09-07T00:00:00",
          "2023-01-08T00:00:00",
          "2023-03-25T00:00:00",
          "2024-04-26T00:00:00",
          "2024-11-17T00:00:00",
          "2022-07-04T00:00:00",
          "2024-04-15T00:00:00",
          "2024-07-28T00:00:00",
          "2024-02-19T00:00:00",
          "2024-06-08T00:00:00",
          "2022-09-04T00:00:00",
          "2023-04-18T00:00:00",
          "2022-12-10T00:00:00",
          "2024-01-29T00:00:00",
          "2024-09-18T00:00:00",
          "2022-12-26T00:00:00",
          "2022-01-10T00:00:00",
          "2024-01-17T00:00:00",
          "2023-08-28T00:00:00",
          "2024-08-01T00:00:00",
          "2023-01-15T00:00:00",
          "2023-10-28T00:00:00",
          "2021-12-23T00:00:00",
          "2023-08-04T00:00:00",
          "2023-08-07T00:00:00",
          "2022-08-30T00:00:00",
          "2023-04-22T00:00:00",
          "2024-07-19T00:00:00",
          "2025-01-02T00:00:00",
          "2023-02-06T00:00:00",
          "2022-10-08T00:00:00",
          "2024-09-07T00:00:00",
          "2024-07-07T00:00:00",
          "2022-07-29T00:00:00",
          "2023-08-25T00:00:00",
          "2022-07-31T00:00:00",
          "2022-12-03T00:00:00",
          "2023-03-18T00:00:00",
          "2023-12-09T00:00:00",
          "2022-07-24T00:00:00",
          "2022-09-24T00:00:00",
          "2023-09-04T00:00:00",
          "2023-12-26T00:00:00",
          "2023-09-17T00:00:00",
          "2024-10-16T00:00:00",
          "2022-11-25T00:00:00",
          "2023-08-10T00:00:00",
          "2022-06-02T00:00:00",
          "2023-08-13T00:00:00",
          "2023-10-19T00:00:00",
          "2023-05-06T00:00:00",
          "2024-05-22T00:00:00",
          "2024-10-21T00:00:00",
          "2024-11-09T00:00:00",
          "2022-04-25T00:00:00",
          "2023-12-30T00:00:00",
          "2022-05-02T00:00:00",
          "2024-10-05T00:00:00",
          "2022-05-20T00:00:00",
          "2022-03-30T00:00:00",
          "2022-05-07T00:00:00",
          "2024-12-08T00:00:00",
          "2022-01-25T00:00:00",
          "2024-09-19T00:00:00",
          "2024-03-04T00:00:00",
          "2023-07-05T00:00:00",
          "2024-08-10T00:00:00",
          "2024-09-25T00:00:00",
          "2022-08-24T00:00:00",
          "2023-01-22T00:00:00",
          "2024-06-09T00:00:00",
          "2024-07-23T00:00:00",
          "2023-11-27T00:00:00",
          "2022-07-22T00:00:00",
          "2024-01-11T00:00:00",
          "2024-02-04T00:00:00",
          "2023-07-18T00:00:00",
          "2024-02-08T00:00:00",
          "2022-07-19T00:00:00",
          "2022-03-28T00:00:00",
          "2022-08-08T00:00:00",
          "2023-03-28T00:00:00",
          "2023-06-15T00:00:00",
          "2024-08-23T00:00:00",
          "2024-04-09T00:00:00",
          "2023-06-02T00:00:00",
          "2024-07-31T00:00:00",
          "2024-09-04T00:00:00",
          "2024-09-03T00:00:00",
          "2024-06-11T00:00:00",
          "2022-10-22T00:00:00",
          "2022-03-24T00:00:00",
          "2023-12-25T00:00:00",
          "2022-05-29T00:00:00",
          "2022-08-14T00:00:00",
          "2023-04-27T00:00:00",
          "2024-05-11T00:00:00",
          "2022-07-12T00:00:00",
          "2023-02-13T00:00:00",
          "2024-06-02T00:00:00",
          "2022-10-31T00:00:00",
          "2023-05-19T00:00:00",
          "2023-09-01T00:00:00",
          "2024-06-26T00:00:00",
          "2023-04-26T00:00:00",
          "2022-05-14T00:00:00",
          "2023-07-21T00:00:00",
          "2024-07-25T00:00:00",
          "2023-12-23T00:00:00",
          "2024-08-31T00:00:00",
          "2022-04-27T00:00:00",
          "2024-12-27T00:00:00",
          "2024-09-28T00:00:00",
          "2022-06-10T00:00:00",
          "2022-03-26T00:00:00",
          "2024-11-13T00:00:00",
          "2022-09-12T00:00:00",
          "2023-02-14T00:00:00",
          "2024-02-25T00:00:00",
          "2022-02-15T00:00:00",
          "2022-09-26T00:00:00",
          "2024-01-04T00:00:00",
          "2023-04-24T00:00:00",
          "2024-02-26T00:00:00",
          "2024-09-30T00:00:00",
          "2021-12-09T00:00:00",
          "2023-05-14T00:00:00",
          "2024-02-28T00:00:00",
          "2022-02-23T00:00:00",
          "2022-10-25T00:00:00",
          "2023-01-06T00:00:00",
          "2023-12-27T00:00:00",
          "2023-10-26T00:00:00",
          "2023-06-27T00:00:00",
          "2022-11-17T00:00:00",
          "2023-04-03T00:00:00",
          "2024-08-29T00:00:00",
          "2023-03-12T00:00:00",
          "2024-04-29T00:00:00",
          "2022-08-29T00:00:00",
          "2022-10-26T00:00:00",
          "2022-12-17T00:00:00",
          "2023-02-20T00:00:00",
          "2024-02-07T00:00:00",
          "2023-03-17T00:00:00",
          "2022-10-02T00:00:00",
          "2022-11-16T00:00:00",
          "2024-06-10T00:00:00",
          "2023-05-26T00:00:00",
          "2024-05-08T00:00:00",
          "2022-12-27T00:00:00",
          "2024-04-13T00:00:00",
          "2023-01-13T00:00:00",
          "2023-12-28T00:00:00",
          "2024-06-15T00:00:00",
          "2022-09-05T00:00:00",
          "2022-08-16T00:00:00",
          "2024-12-30T00:00:00",
          "2021-12-29T00:00:00",
          "2022-12-14T00:00:00",
          "2023-09-11T00:00:00",
          "2024-01-14T00:00:00",
          "2022-08-09T00:00:00",
          "2022-12-04T00:00:00",
          "2022-02-22T00:00:00",
          "2021-12-05T00:00:00",
          "2022-02-25T00:00:00",
          "2024-12-22T00:00:00",
          "2023-11-13T00:00:00",
          "2023-07-13T00:00:00",
          "2024-01-01T00:00:00",
          "2022-05-11T00:00:00",
          "2023-07-12T00:00:00",
          "2024-10-29T00:00:00",
          "2023-05-15T00:00:00",
          "2021-12-18T00:00:00",
          "2023-11-19T00:00:00",
          "2024-01-31T00:00:00",
          "2024-08-03T00:00:00",
          "2022-12-09T00:00:00",
          "2023-10-24T00:00:00",
          "2022-02-08T00:00:00",
          "2023-12-05T00:00:00",
          "2023-01-16T00:00:00",
          "2023-06-26T00:00:00",
          "2024-01-25T00:00:00",
          "2024-02-24T00:00:00",
          "2022-08-05T00:00:00",
          "2023-02-11T00:00:00",
          "2024-07-22T00:00:00",
          "2022-08-11T00:00:00",
          "2021-12-20T00:00:00",
          "2023-03-20T00:00:00",
          "2023-06-11T00:00:00",
          "2022-07-16T00:00:00",
          "2024-11-21T00:00:00",
          "2023-08-18T00:00:00",
          "2024-11-20T00:00:00",
          "2023-10-16T00:00:00",
          "2023-06-08T00:00:00",
          "2023-07-28T00:00:00",
          "2022-05-24T00:00:00",
          "2023-01-24T00:00:00",
          "2022-09-28T00:00:00",
          "2022-07-27T00:00:00",
          "2022-03-06T00:00:00",
          "2023-03-08T00:00:00",
          "2023-04-07T00:00:00",
          "2023-07-10T00:00:00",
          "2023-09-29T00:00:00",
          "2024-02-16T00:00:00",
          "2022-08-18T00:00:00",
          "2024-05-20T00:00:00",
          "2024-06-30T00:00:00",
          "2023-06-03T00:00:00",
          "2023-10-06T00:00:00",
          "2023-01-02T00:00:00",
          "2024-05-27T00:00:00",
          "2022-07-23T00:00:00",
          "2024-05-21T00:00:00",
          "2024-06-18T00:00:00",
          "2023-08-14T00:00:00",
          "2023-05-03T00:00:00",
          "2023-08-26T00:00:00",
          "2022-10-20T00:00:00",
          "2022-11-19T00:00:00",
          "2023-03-14T00:00:00",
          "2024-04-27T00:00:00",
          "2024-07-14T00:00:00",
          "2024-09-11T00:00:00",
          "2024-09-20T00:00:00",
          "2021-12-03T00:00:00",
          "2023-11-12T00:00:00",
          "2022-09-14T00:00:00",
          "2024-11-12T00:00:00",
          "2023-10-14T00:00:00",
          "2023-05-05T00:00:00",
          "2022-05-03T00:00:00",
          "2023-06-28T00:00:00",
          "2021-12-19T00:00:00",
          "2024-04-14T00:00:00",
          "2021-12-24T00:00:00",
          "2024-07-26T00:00:00",
          "2023-07-22T00:00:00",
          "2023-12-29T00:00:00",
          "2022-02-20T00:00:00",
          "2023-05-23T00:00:00",
          "2022-04-16T00:00:00",
          "2023-01-27T00:00:00",
          "2024-01-03T00:00:00",
          "2022-07-13T00:00:00",
          "2023-12-24T00:00:00",
          "2024-08-19T00:00:00",
          "2024-12-26T00:00:00",
          "2022-01-06T00:00:00",
          "2025-01-05T00:00:00",
          "2024-03-08T00:00:00",
          "2024-04-18T00:00:00",
          "2021-12-30T00:00:00",
          "2023-01-30T00:00:00",
          "2022-12-25T00:00:00",
          "2024-02-14T00:00:00",
          "2021-12-13T00:00:00",
          "2022-12-19T00:00:00",
          "2023-10-27T00:00:00",
          "2024-11-16T00:00:00",
          "2022-01-05T00:00:00",
          "2024-11-29T00:00:00",
          "2022-04-24T00:00:00",
          "2023-04-25T00:00:00",
          "2024-01-20T00:00:00",
          "2022-04-15T00:00:00",
          "2022-06-23T00:00:00",
          "2023-05-30T00:00:00",
          "2022-10-30T00:00:00",
          "2022-06-17T00:00:00",
          "2024-05-12T00:00:00",
          "2023-10-23T00:00:00",
          "2022-03-12T00:00:00",
          "2022-12-15T00:00:00",
          "2023-10-25T00:00:00",
          "2023-01-29T00:00:00",
          "2024-05-06T00:00:00",
          "2024-06-04T00:00:00",
          "2022-02-21T00:00:00",
          "2023-05-02T00:00:00",
          "2024-12-25T00:00:00",
          "2023-04-13T00:00:00",
          "2023-06-12T00:00:00",
          "2024-04-23T00:00:00",
          "2023-06-23T00:00:00",
          "2021-12-21T00:00:00",
          "2024-03-10T00:00:00",
          "2024-06-03T00:00:00",
          "2022-01-07T00:00:00",
          "2023-09-07T00:00:00",
          "2022-02-17T00:00:00",
          "2024-06-19T00:00:00",
          "2022-02-14T00:00:00",
          "2024-03-17T00:00:00",
          "2024-07-17T00:00:00"
         ],
         "xaxis": "x",
         "y": [
          229,
          271,
          258,
          39,
          175,
          177,
          232,
          200,
          100,
          171,
          219,
          296,
          180,
          185,
          205,
          273,
          283,
          219,
          217,
          248,
          205,
          224,
          163,
          193,
          266,
          315,
          268,
          335,
          235,
          356,
          260,
          171,
          203,
          192,
          237,
          267,
          272,
          300,
          350,
          168,
          217,
          311,
          185,
          222,
          212,
          178,
          191,
          43,
          223,
          194,
          244,
          200,
          325,
          310,
          186,
          162,
          236,
          222,
          179,
          291,
          267,
          221,
          233,
          208,
          298,
          313,
          192,
          207,
          241,
          176,
          267,
          216,
          88,
          220,
          314,
          216,
          84,
          199,
          291,
          218,
          165,
          183,
          259,
          268,
          264,
          224,
          400,
          19,
          178,
          347,
          252,
          173,
          233,
          259,
          214,
          330,
          277,
          314,
          331,
          202,
          326,
          239,
          179,
          193,
          218,
          211,
          15,
          261,
          223,
          214,
          219,
          199,
          239,
          209,
          231,
          232,
          246,
          201,
          336,
          194,
          356,
          300,
          222,
          195,
          213,
          162,
          164,
          165,
          308,
          135,
          257,
          230,
          171,
          176,
          250,
          287,
          258,
          271,
          51,
          295,
          219,
          232,
          353,
          251,
          207,
          215,
          192,
          214,
          239,
          99,
          255,
          206,
          254,
          196,
          214,
          197,
          60,
          295,
          258,
          293,
          212,
          207,
          249,
          296,
          210,
          381,
          221,
          174,
          351,
          223,
          262,
          193,
          263,
          262,
          190,
          186,
          246,
          191,
          226,
          213,
          206,
          194,
          281,
          289,
          205,
          248,
          178,
          229,
          112,
          181,
          275,
          321,
          269,
          198,
          193,
          198,
          141,
          261,
          195,
          166,
          201,
          203,
          10,
          237,
          84,
          5,
          272,
          320,
          307,
          418,
          188,
          25,
          222,
          198,
          195,
          160,
          113,
          152,
          203,
          295,
          235,
          242,
          317,
          199,
          284,
          380,
          34,
          166,
          301,
          196,
          196,
          181,
          343,
          272,
          284,
          236,
          231,
          210,
          204,
          266,
          190,
          37,
          230,
          259,
          168,
          173,
          170,
          52,
          335,
          177,
          268,
          384,
          205,
          231,
          185,
          277,
          178,
          301,
          208,
          169,
          168,
          286,
          271,
          222,
          282,
          197,
          274,
          206,
          211,
          184,
          297,
          196,
          219,
          218,
          228,
          24,
          152,
          273,
          284,
          171,
          365,
          192,
          272,
          164,
          196,
          245,
          203,
          194,
          331,
          214,
          215,
          218,
          266,
          221,
          221,
          247,
          2,
          284,
          231,
          189,
          208,
          293,
          325,
          210,
          160,
          209,
          197,
          247,
          221,
          258,
          292,
          173,
          305,
          432,
          221,
          317,
          201,
          47,
          248,
          224,
          261,
          218,
          322,
          233,
          293,
          248,
          227,
          212,
          207,
          312,
          177,
          242,
          270,
          230,
          206,
          274,
          408,
          180,
          208,
          224,
          187,
          178,
          197,
          287,
          222,
          285,
          290,
          255,
          186,
          190,
          190,
          143,
          86,
          258,
          232,
          225,
          312,
          261,
          357,
          152,
          291,
          324,
          200,
          223,
          281,
          197,
          249,
          330,
          80,
          194,
          245,
          171,
          200,
          265,
          215,
          167,
          237,
          239,
          174,
          179,
          232,
          305,
          243,
          323,
          221,
          208,
          210,
          283,
          164,
          319,
          265,
          297,
          190,
          202,
          234,
          147,
          218,
          194,
          210,
          209,
          231,
          270,
          277,
          221,
          191,
          293,
          169,
          93,
          262,
          210,
          268,
          209,
          201,
          167,
          236,
          173,
          253,
          315,
          281,
          243,
          159,
          347,
          153,
          245,
          190,
          250,
          165,
          302,
          325,
          220,
          232,
          231,
          230,
          241,
          235,
          236,
          254,
          244,
          274,
          257,
          258,
          172,
          282,
          201,
          245,
          220,
          261,
          203,
          225,
          310,
          239,
          263,
          238,
          220,
          249,
          233,
          262,
          219,
          240,
          252,
          227,
          178,
          183,
          215,
          263,
          310,
          221,
          122,
          247,
          226,
          264,
          195,
          212,
          180,
          172,
          157,
          267,
          259,
          277,
          248,
          197,
          296,
          223,
          198,
          369,
          315,
          239,
          174,
          291,
          347,
          201,
          225,
          218,
          171,
          206,
          194,
          324,
          196,
          156,
          222,
          213,
          222,
          209,
          245,
          250,
          206,
          288,
          61,
          277,
          258,
          209,
          70,
          266,
          282,
          23,
          220,
          203,
          220,
          333,
          263,
          220,
          279,
          260,
          205,
          200,
          208,
          28,
          187,
          210,
          269,
          234,
          198,
          211,
          196,
          206,
          210,
          215,
          266,
          268,
          73,
          141,
          231,
          206,
          160,
          362,
          167,
          4,
          239,
          226,
          211,
          194,
          134,
          186,
          236,
          309,
          198,
          179,
          245,
          288,
          211,
          129,
          199,
          189,
          149,
          203,
          377,
          23,
          234,
          203,
          191,
          218,
          252,
          188,
          217,
          127,
          253,
          167,
          236,
          255,
          191,
          310,
          248,
          237,
          199,
          202,
          266,
          246,
          247,
          134,
          210,
          205,
          235,
          192,
          219,
          222,
          27,
          228,
          266,
          329,
          115,
          230,
          345,
          76,
          285,
          238,
          203,
          266,
          311,
          304,
          60,
          196,
          235,
          300,
          253,
          311,
          311,
          247,
          211,
          117,
          228,
          209,
          209,
          278,
          266,
          184,
          213,
          255,
          260,
          221,
          219,
          252,
          273,
          353,
          327,
          270,
          165,
          234,
          272,
          169,
          282,
          183,
          205,
          181,
          203,
          328,
          221,
          132,
          240,
          253,
          226,
          208,
          206,
          238,
          340,
          176,
          312,
          268,
          243,
          215,
          253,
          286,
          286,
          314,
          275,
          277,
          50,
          235,
          58,
          250,
          279,
          281,
          240,
          237,
          213,
          200,
          314,
          287,
          83,
          228,
          227,
          246,
          234,
          192,
          308,
          274,
          239,
          243,
          214,
          278,
          200,
          155,
          167,
          211,
          148,
          338,
          190,
          383,
          218,
          350,
          256,
          183,
          338,
          331,
          184,
          189,
          191,
          234,
          177,
          256,
          204,
          228,
          223,
          60,
          201,
          260,
          180,
          179,
          164,
          306,
          163,
          217,
          195,
          267,
          139,
          378,
          349,
          238,
          169,
          338,
          231,
          256,
          184,
          230,
          240,
          265,
          222,
          163,
          232,
          196,
          211,
          194,
          179,
          205,
          247,
          182,
          209,
          225,
          214,
          227,
          230,
          208,
          342,
          46,
          223,
          218,
          184,
          220,
          298,
          368,
          209,
          173,
          201,
          218,
          183,
          268,
          301,
          207,
          171,
          237,
          106,
          153,
          9,
          10,
          201,
          259,
          159,
          255,
          206,
          230,
          356,
          114,
          204,
          163,
          201,
          275,
          284,
          236,
          198,
          227,
          283,
          133,
          186,
          238,
          252,
          269,
          413,
          255,
          242,
          156,
          270,
          276,
          137,
          242,
          296,
          219,
          220,
          233,
          280,
          349,
          233,
          383,
          281,
          157,
          346,
          216,
          218,
          181,
          179,
          255,
          284,
          223,
          212,
          2,
          210,
          199,
          265,
          233,
          230,
          161,
          234,
          162,
          280,
          215,
          227,
          192,
          274,
          293,
          166,
          261,
          249,
          252,
          238,
          229,
          323,
          231,
          194,
          309,
          271,
          256,
          196,
          296,
          65,
          239,
          221,
          272,
          311,
          261,
          2,
          270,
          240,
          246,
          243,
          209,
          187,
          203,
          263,
          251,
          178,
          248,
          242,
          207,
          190,
          232,
          314,
          210,
          176,
          249,
          208,
          221,
          179,
          354,
          304,
          230,
          187,
          254,
          299,
          288,
          218,
          211,
          270,
          47,
          156,
          252,
          235,
          176,
          210,
          335,
          276,
          202,
          245,
          280,
          158,
          221,
          228,
          242,
          258,
          282,
          242,
          183,
          210,
          181,
          184,
          224,
          278,
          283,
          290,
          312,
          363,
          257,
          159,
          233,
          193,
          228,
          232,
          152,
          251,
          217,
          260,
          310,
          298,
          200,
          272,
          380,
          204,
          257,
          215,
          240,
          263,
          386,
          219,
          14,
          342,
          258,
          202,
          235,
          229,
          251,
          207,
          199,
          290,
          241,
          246,
          190,
          325,
          21,
          289,
          311,
          232,
          238,
          179,
          195,
          315,
          227,
          173,
          173,
          433,
          146,
          331,
          260,
          202,
          301,
          260,
          235,
          218,
          250,
          218,
          320,
          251,
          257,
          226,
          224,
          161,
          257,
          156,
          218,
          182,
          15,
          71,
          232,
          228,
          163,
          183,
          231,
          203,
          27,
          270,
          41,
          207,
          227,
          210,
          227,
          273,
          204,
          188,
          59,
          227,
          295,
          337,
          261,
          227,
          195,
          259,
          250,
          221,
          282,
          333,
          247,
          242,
          233,
          180,
          46,
          184,
          222,
          234,
          233,
          153,
          148,
          322,
          154,
          167,
          199,
          238,
          258,
          213,
          251,
          264,
          176,
          190,
          262,
          238,
          258,
          233,
          270,
          225,
          212,
          157,
          356,
          239,
          298,
          355,
          171,
          207,
          230,
          228,
          246,
          164,
          187,
          207,
          330,
          251,
          1,
          268,
          267,
          203,
          187,
          245,
          209,
          278,
          47,
          184,
          72,
          331,
          199,
          219,
          188,
          265,
          198,
          246,
          234,
          211,
          205,
          248,
          10,
          121,
          1,
          214,
          237,
          77,
          178,
          218,
          335,
          21,
          157,
          262,
          228,
          181,
          163,
          196,
          206,
          183,
          227,
          218,
          203,
          254,
          187,
          278,
          338,
          188,
          189,
          226,
          235,
          229,
          263,
          234,
          245,
          24,
          182,
          182,
          199,
          201,
          87,
          147,
          247,
          127,
          253,
          196,
          260,
          187,
          283,
          275
         ],
         "yaxis": "y"
        }
       ],
       "layout": {
        "barmode": "relative",
        "legend": {
         "tracegroupgap": 0
        },
        "margin": {
         "t": 60
        },
        "template": {
         "data": {
          "bar": [
           {
            "error_x": {
             "color": "#2a3f5f"
            },
            "error_y": {
             "color": "#2a3f5f"
            },
            "marker": {
             "line": {
              "color": "#E5ECF6",
              "width": 0.5
             },
             "pattern": {
              "fillmode": "overlay",
              "size": 10,
              "solidity": 0.2
             }
            },
            "type": "bar"
           }
          ],
          "barpolar": [
           {
            "marker": {
             "line": {
              "color": "#E5ECF6",
              "width": 0.5
             },
             "pattern": {
              "fillmode": "overlay",
              "size": 10,
              "solidity": 0.2
             }
            },
            "type": "barpolar"
           }
          ],
          "carpet": [
           {
            "aaxis": {
             "endlinecolor": "#2a3f5f",
             "gridcolor": "white",
             "linecolor": "white",
             "minorgridcolor": "white",
             "startlinecolor": "#2a3f5f"
            },
            "baxis": {
             "endlinecolor": "#2a3f5f",
             "gridcolor": "white",
             "linecolor": "white",
             "minorgridcolor": "white",
             "startlinecolor": "#2a3f5f"
            },
            "type": "carpet"
           }
          ],
          "choropleth": [
           {
            "colorbar": {
             "outlinewidth": 0,
             "ticks": ""
            },
            "type": "choropleth"
           }
          ],
          "contour": [
           {
            "colorbar": {
             "outlinewidth": 0,
             "ticks": ""
            },
            "colorscale": [
             [
              0,
              "#0d0887"
             ],
             [
              0.1111111111111111,
              "#46039f"
             ],
             [
              0.2222222222222222,
              "#7201a8"
             ],
             [
              0.3333333333333333,
              "#9c179e"
             ],
             [
              0.4444444444444444,
              "#bd3786"
             ],
             [
              0.5555555555555556,
              "#d8576b"
             ],
             [
              0.6666666666666666,
              "#ed7953"
             ],
             [
              0.7777777777777778,
              "#fb9f3a"
             ],
             [
              0.8888888888888888,
              "#fdca26"
             ],
             [
              1,
              "#f0f921"
             ]
            ],
            "type": "contour"
           }
          ],
          "contourcarpet": [
           {
            "colorbar": {
             "outlinewidth": 0,
             "ticks": ""
            },
            "type": "contourcarpet"
           }
          ],
          "heatmap": [
           {
            "colorbar": {
             "outlinewidth": 0,
             "ticks": ""
            },
            "colorscale": [
             [
              0,
              "#0d0887"
             ],
             [
              0.1111111111111111,
              "#46039f"
             ],
             [
              0.2222222222222222,
              "#7201a8"
             ],
             [
              0.3333333333333333,
              "#9c179e"
             ],
             [
              0.4444444444444444,
              "#bd3786"
             ],
             [
              0.5555555555555556,
              "#d8576b"
             ],
             [
              0.6666666666666666,
              "#ed7953"
             ],
             [
              0.7777777777777778,
              "#fb9f3a"
             ],
             [
              0.8888888888888888,
              "#fdca26"
             ],
             [
              1,
              "#f0f921"
             ]
            ],
            "type": "heatmap"
           }
          ],
          "heatmapgl": [
           {
            "colorbar": {
             "outlinewidth": 0,
             "ticks": ""
            },
            "colorscale": [
             [
              0,
              "#0d0887"
             ],
             [
              0.1111111111111111,
              "#46039f"
             ],
             [
              0.2222222222222222,
              "#7201a8"
             ],
             [
              0.3333333333333333,
              "#9c179e"
             ],
             [
              0.4444444444444444,
              "#bd3786"
             ],
             [
              0.5555555555555556,
              "#d8576b"
             ],
             [
              0.6666666666666666,
              "#ed7953"
             ],
             [
              0.7777777777777778,
              "#fb9f3a"
             ],
             [
              0.8888888888888888,
              "#fdca26"
             ],
             [
              1,
              "#f0f921"
             ]
            ],
            "type": "heatmapgl"
           }
          ],
          "histogram": [
           {
            "marker": {
             "pattern": {
              "fillmode": "overlay",
              "size": 10,
              "solidity": 0.2
             }
            },
            "type": "histogram"
           }
          ],
          "histogram2d": [
           {
            "colorbar": {
             "outlinewidth": 0,
             "ticks": ""
            },
            "colorscale": [
             [
              0,
              "#0d0887"
             ],
             [
              0.1111111111111111,
              "#46039f"
             ],
             [
              0.2222222222222222,
              "#7201a8"
             ],
             [
              0.3333333333333333,
              "#9c179e"
             ],
             [
              0.4444444444444444,
              "#bd3786"
             ],
             [
              0.5555555555555556,
              "#d8576b"
             ],
             [
              0.6666666666666666,
              "#ed7953"
             ],
             [
              0.7777777777777778,
              "#fb9f3a"
             ],
             [
              0.8888888888888888,
              "#fdca26"
             ],
             [
              1,
              "#f0f921"
             ]
            ],
            "type": "histogram2d"
           }
          ],
          "histogram2dcontour": [
           {
            "colorbar": {
             "outlinewidth": 0,
             "ticks": ""
            },
            "colorscale": [
             [
              0,
              "#0d0887"
             ],
             [
              0.1111111111111111,
              "#46039f"
             ],
             [
              0.2222222222222222,
              "#7201a8"
             ],
             [
              0.3333333333333333,
              "#9c179e"
             ],
             [
              0.4444444444444444,
              "#bd3786"
             ],
             [
              0.5555555555555556,
              "#d8576b"
             ],
             [
              0.6666666666666666,
              "#ed7953"
             ],
             [
              0.7777777777777778,
              "#fb9f3a"
             ],
             [
              0.8888888888888888,
              "#fdca26"
             ],
             [
              1,
              "#f0f921"
             ]
            ],
            "type": "histogram2dcontour"
           }
          ],
          "mesh3d": [
           {
            "colorbar": {
             "outlinewidth": 0,
             "ticks": ""
            },
            "type": "mesh3d"
           }
          ],
          "parcoords": [
           {
            "line": {
             "colorbar": {
              "outlinewidth": 0,
              "ticks": ""
             }
            },
            "type": "parcoords"
           }
          ],
          "pie": [
           {
            "automargin": true,
            "type": "pie"
           }
          ],
          "scatter": [
           {
            "fillpattern": {
             "fillmode": "overlay",
             "size": 10,
             "solidity": 0.2
            },
            "type": "scatter"
           }
          ],
          "scatter3d": [
           {
            "line": {
             "colorbar": {
              "outlinewidth": 0,
              "ticks": ""
             }
            },
            "marker": {
             "colorbar": {
              "outlinewidth": 0,
              "ticks": ""
             }
            },
            "type": "scatter3d"
           }
          ],
          "scattercarpet": [
           {
            "marker": {
             "colorbar": {
              "outlinewidth": 0,
              "ticks": ""
             }
            },
            "type": "scattercarpet"
           }
          ],
          "scattergeo": [
           {
            "marker": {
             "colorbar": {
              "outlinewidth": 0,
              "ticks": ""
             }
            },
            "type": "scattergeo"
           }
          ],
          "scattergl": [
           {
            "marker": {
             "colorbar": {
              "outlinewidth": 0,
              "ticks": ""
             }
            },
            "type": "scattergl"
           }
          ],
          "scattermapbox": [
           {
            "marker": {
             "colorbar": {
              "outlinewidth": 0,
              "ticks": ""
             }
            },
            "type": "scattermapbox"
           }
          ],
          "scatterpolar": [
           {
            "marker": {
             "colorbar": {
              "outlinewidth": 0,
              "ticks": ""
             }
            },
            "type": "scatterpolar"
           }
          ],
          "scatterpolargl": [
           {
            "marker": {
             "colorbar": {
              "outlinewidth": 0,
              "ticks": ""
             }
            },
            "type": "scatterpolargl"
           }
          ],
          "scatterternary": [
           {
            "marker": {
             "colorbar": {
              "outlinewidth": 0,
              "ticks": ""
             }
            },
            "type": "scatterternary"
           }
          ],
          "surface": [
           {
            "colorbar": {
             "outlinewidth": 0,
             "ticks": ""
            },
            "colorscale": [
             [
              0,
              "#0d0887"
             ],
             [
              0.1111111111111111,
              "#46039f"
             ],
             [
              0.2222222222222222,
              "#7201a8"
             ],
             [
              0.3333333333333333,
              "#9c179e"
             ],
             [
              0.4444444444444444,
              "#bd3786"
             ],
             [
              0.5555555555555556,
              "#d8576b"
             ],
             [
              0.6666666666666666,
              "#ed7953"
             ],
             [
              0.7777777777777778,
              "#fb9f3a"
             ],
             [
              0.8888888888888888,
              "#fdca26"
             ],
             [
              1,
              "#f0f921"
             ]
            ],
            "type": "surface"
           }
          ],
          "table": [
           {
            "cells": {
             "fill": {
              "color": "#EBF0F8"
             },
             "line": {
              "color": "white"
             }
            },
            "header": {
             "fill": {
              "color": "#C8D4E3"
             },
             "line": {
              "color": "white"
             }
            },
            "type": "table"
           }
          ]
         },
         "layout": {
          "annotationdefaults": {
           "arrowcolor": "#2a3f5f",
           "arrowhead": 0,
           "arrowwidth": 1
          },
          "autotypenumbers": "strict",
          "coloraxis": {
           "colorbar": {
            "outlinewidth": 0,
            "ticks": ""
           }
          },
          "colorscale": {
           "diverging": [
            [
             0,
             "#8e0152"
            ],
            [
             0.1,
             "#c51b7d"
            ],
            [
             0.2,
             "#de77ae"
            ],
            [
             0.3,
             "#f1b6da"
            ],
            [
             0.4,
             "#fde0ef"
            ],
            [
             0.5,
             "#f7f7f7"
            ],
            [
             0.6,
             "#e6f5d0"
            ],
            [
             0.7,
             "#b8e186"
            ],
            [
             0.8,
             "#7fbc41"
            ],
            [
             0.9,
             "#4d9221"
            ],
            [
             1,
             "#276419"
            ]
           ],
           "sequential": [
            [
             0,
             "#0d0887"
            ],
            [
             0.1111111111111111,
             "#46039f"
            ],
            [
             0.2222222222222222,
             "#7201a8"
            ],
            [
             0.3333333333333333,
             "#9c179e"
            ],
            [
             0.4444444444444444,
             "#bd3786"
            ],
            [
             0.5555555555555556,
             "#d8576b"
            ],
            [
             0.6666666666666666,
             "#ed7953"
            ],
            [
             0.7777777777777778,
             "#fb9f3a"
            ],
            [
             0.8888888888888888,
             "#fdca26"
            ],
            [
             1,
             "#f0f921"
            ]
           ],
           "sequentialminus": [
            [
             0,
             "#0d0887"
            ],
            [
             0.1111111111111111,
             "#46039f"
            ],
            [
             0.2222222222222222,
             "#7201a8"
            ],
            [
             0.3333333333333333,
             "#9c179e"
            ],
            [
             0.4444444444444444,
             "#bd3786"
            ],
            [
             0.5555555555555556,
             "#d8576b"
            ],
            [
             0.6666666666666666,
             "#ed7953"
            ],
            [
             0.7777777777777778,
             "#fb9f3a"
            ],
            [
             0.8888888888888888,
             "#fdca26"
            ],
            [
             1,
             "#f0f921"
            ]
           ]
          },
          "colorway": [
           "#636efa",
           "#EF553B",
           "#00cc96",
           "#ab63fa",
           "#FFA15A",
           "#19d3f3",
           "#FF6692",
           "#B6E880",
           "#FF97FF",
           "#FECB52"
          ],
          "font": {
           "color": "#2a3f5f"
          },
          "geo": {
           "bgcolor": "white",
           "lakecolor": "white",
           "landcolor": "#E5ECF6",
           "showlakes": true,
           "showland": true,
           "subunitcolor": "white"
          },
          "hoverlabel": {
           "align": "left"
          },
          "hovermode": "closest",
          "mapbox": {
           "style": "light"
          },
          "paper_bgcolor": "white",
          "plot_bgcolor": "#E5ECF6",
          "polar": {
           "angularaxis": {
            "gridcolor": "white",
            "linecolor": "white",
            "ticks": ""
           },
           "bgcolor": "#E5ECF6",
           "radialaxis": {
            "gridcolor": "white",
            "linecolor": "white",
            "ticks": ""
           }
          },
          "scene": {
           "xaxis": {
            "backgroundcolor": "#E5ECF6",
            "gridcolor": "white",
            "gridwidth": 2,
            "linecolor": "white",
            "showbackground": true,
            "ticks": "",
            "zerolinecolor": "white"
           },
           "yaxis": {
            "backgroundcolor": "#E5ECF6",
            "gridcolor": "white",
            "gridwidth": 2,
            "linecolor": "white",
            "showbackground": true,
            "ticks": "",
            "zerolinecolor": "white"
           },
           "zaxis": {
            "backgroundcolor": "#E5ECF6",
            "gridcolor": "white",
            "gridwidth": 2,
            "linecolor": "white",
            "showbackground": true,
            "ticks": "",
            "zerolinecolor": "white"
           }
          },
          "shapedefaults": {
           "line": {
            "color": "#2a3f5f"
           }
          },
          "ternary": {
           "aaxis": {
            "gridcolor": "white",
            "linecolor": "white",
            "ticks": ""
           },
           "baxis": {
            "gridcolor": "white",
            "linecolor": "white",
            "ticks": ""
           },
           "bgcolor": "#E5ECF6",
           "caxis": {
            "gridcolor": "white",
            "linecolor": "white",
            "ticks": ""
           }
          },
          "title": {
           "x": 0.05
          },
          "xaxis": {
           "automargin": true,
           "gridcolor": "white",
           "linecolor": "white",
           "ticks": "",
           "title": {
            "standoff": 15
           },
           "zerolinecolor": "white",
           "zerolinewidth": 2
          },
          "yaxis": {
           "automargin": true,
           "gridcolor": "white",
           "linecolor": "white",
           "ticks": "",
           "title": {
            "standoff": 15
           },
           "zerolinecolor": "white",
           "zerolinewidth": 2
          }
         }
        },
        "xaxis": {
         "anchor": "y",
         "domain": [
          0,
          1
         ],
         "title": {
          "text": "Service Date"
         }
        },
        "yaxis": {
         "anchor": "x",
         "domain": [
          0,
          1
         ],
         "title": {
          "text": "count"
         }
        }
       }
      }
     },
     "metadata": {},
     "output_type": "display_data"
    }
   ],
   "source": [
    "import plotly.express as px\n",
    "fig = px.bar(service_date_counts, x=\"Service Date\", y=\"count\", hover_data=[\"count\"], color_discrete_sequence=[\"#000000\"])\n",
    "fig.show()"
   ]
  },
  {
   "cell_type": "markdown",
   "metadata": {},
   "source": [
    "There seems to be very less data for Jan 2022 and Dec 2024."
   ]
  },
  {
   "cell_type": "code",
   "execution_count": 107,
   "metadata": {},
   "outputs": [],
   "source": [
    "high_cost_by_service_date = df.filter(df['High Cost Claim']==1)['Service Date'].value_counts()"
   ]
  },
  {
   "cell_type": "code",
   "execution_count": 108,
   "metadata": {},
   "outputs": [
    {
     "data": {
      "application/vnd.plotly.v1+json": {
       "config": {
        "plotlyServerURL": "https://plot.ly"
       },
       "data": [
        {
         "alignmentgroup": "True",
         "hovertemplate": "Service Date=%{x}<br>count=%{y}<extra></extra>",
         "legendgroup": "",
         "marker": {
          "color": "#000000",
          "pattern": {
           "shape": ""
          }
         },
         "name": "",
         "offsetgroup": "",
         "orientation": "v",
         "showlegend": false,
         "textposition": "auto",
         "type": "bar",
         "x": [
          "2024-07-02T00:00:00",
          "2023-01-06T00:00:00",
          "2022-11-20T00:00:00",
          "2024-10-13T00:00:00",
          "2024-06-16T00:00:00",
          "2024-06-13T00:00:00",
          "2024-08-24T00:00:00",
          "2024-05-15T00:00:00",
          "2024-09-18T00:00:00",
          "2022-04-10T00:00:00",
          "2024-09-27T00:00:00",
          "2023-01-09T00:00:00",
          "2024-02-26T00:00:00",
          "2024-10-16T00:00:00",
          "2024-06-24T00:00:00",
          "2022-10-09T00:00:00",
          "2022-02-01T00:00:00",
          "2024-10-23T00:00:00",
          "2024-03-13T00:00:00",
          "2024-09-13T00:00:00",
          "2023-10-12T00:00:00",
          "2024-10-22T00:00:00",
          "2022-12-23T00:00:00",
          "2024-02-09T00:00:00",
          "2022-12-03T00:00:00",
          "2024-08-16T00:00:00",
          "2024-07-18T00:00:00",
          "2024-11-17T00:00:00",
          "2024-03-01T00:00:00",
          "2024-06-27T00:00:00",
          "2024-06-09T00:00:00",
          "2024-04-04T00:00:00",
          "2024-05-20T00:00:00",
          "2024-10-21T00:00:00",
          "2024-09-24T00:00:00",
          "2022-02-02T00:00:00",
          "2024-05-14T00:00:00",
          "2024-09-26T00:00:00",
          "2023-07-10T00:00:00",
          "2024-08-03T00:00:00",
          "2024-10-24T00:00:00",
          "2024-11-19T00:00:00",
          "2022-04-29T00:00:00",
          "2024-12-03T00:00:00",
          "2022-07-20T00:00:00",
          "2024-12-06T00:00:00",
          "2022-10-15T00:00:00",
          "2024-10-31T00:00:00",
          "2023-06-30T00:00:00",
          "2024-07-11T00:00:00",
          "2022-06-03T00:00:00",
          "2023-10-30T00:00:00",
          "2023-11-08T00:00:00",
          "2024-05-06T00:00:00",
          "2024-11-27T00:00:00",
          "2023-10-26T00:00:00",
          "2022-10-13T00:00:00",
          "2024-04-03T00:00:00",
          "2024-04-17T00:00:00",
          "2024-09-14T00:00:00",
          "2024-11-09T00:00:00",
          "2022-11-18T00:00:00",
          "2023-08-29T00:00:00",
          "2024-05-17T00:00:00",
          "2022-09-08T00:00:00",
          "2024-10-30T00:00:00",
          "2023-09-30T00:00:00",
          "2024-01-06T00:00:00",
          "2024-05-26T00:00:00",
          "2022-10-17T00:00:00",
          "2024-08-05T00:00:00",
          "2024-02-16T00:00:00",
          "2023-11-29T00:00:00",
          "2024-07-26T00:00:00",
          "2024-08-23T00:00:00",
          "2024-09-15T00:00:00",
          "2024-11-21T00:00:00",
          "2022-01-29T00:00:00",
          "2024-08-04T00:00:00",
          "2024-04-29T00:00:00",
          "2024-05-25T00:00:00",
          "2024-10-14T00:00:00",
          "2024-04-22T00:00:00",
          "2023-04-20T00:00:00",
          "2023-08-28T00:00:00",
          "2024-06-02T00:00:00",
          "2022-01-10T00:00:00",
          "2024-11-13T00:00:00",
          "2024-11-25T00:00:00",
          "2024-01-23T00:00:00",
          "2022-02-11T00:00:00",
          "2024-08-01T00:00:00",
          "2024-08-26T00:00:00",
          "2023-01-15T00:00:00",
          "2024-11-16T00:00:00",
          "2024-03-27T00:00:00",
          "2024-11-11T00:00:00",
          "2023-05-22T00:00:00",
          "2024-08-20T00:00:00",
          "2024-10-29T00:00:00",
          "2024-07-14T00:00:00",
          "2024-08-06T00:00:00",
          "2024-06-26T00:00:00",
          "2024-10-11T00:00:00",
          "2024-04-15T00:00:00",
          "2024-10-09T00:00:00",
          "2024-08-18T00:00:00",
          "2022-03-24T00:00:00",
          "2024-06-18T00:00:00",
          "2024-09-28T00:00:00",
          "2024-08-21T00:00:00",
          "2024-12-20T00:00:00",
          "2024-10-04T00:00:00",
          "2024-10-25T00:00:00",
          "2022-06-23T00:00:00",
          "2024-04-16T00:00:00",
          "2022-05-16T00:00:00",
          "2024-09-22T00:00:00",
          "2023-12-14T00:00:00",
          "2024-08-07T00:00:00",
          "2024-03-23T00:00:00",
          "2022-01-28T00:00:00",
          "2022-08-22T00:00:00",
          "2024-05-22T00:00:00",
          "2024-09-11T00:00:00",
          "2024-03-08T00:00:00",
          "2024-06-22T00:00:00",
          "2024-12-01T00:00:00",
          "2024-09-07T00:00:00",
          "2024-05-27T00:00:00",
          "2022-07-23T00:00:00",
          "2023-11-12T00:00:00",
          "2024-07-19T00:00:00",
          "2024-01-15T00:00:00",
          "2024-06-20T00:00:00",
          "2024-12-07T00:00:00",
          "2024-02-04T00:00:00",
          "2024-08-31T00:00:00",
          "2024-01-26T00:00:00",
          "2024-08-12T00:00:00",
          "2024-06-25T00:00:00",
          "2024-09-30T00:00:00",
          "2024-06-28T00:00:00",
          "2023-06-03T00:00:00",
          "2024-10-07T00:00:00",
          "2024-05-01T00:00:00",
          "2024-06-08T00:00:00",
          "2024-09-29T00:00:00",
          "2022-10-25T00:00:00",
          "2024-07-10T00:00:00",
          "2024-11-04T00:00:00",
          "2022-02-22T00:00:00",
          "2024-10-19T00:00:00",
          "2024-04-08T00:00:00",
          "2024-04-09T00:00:00",
          "2022-05-10T00:00:00",
          "2024-01-01T00:00:00",
          "2024-09-19T00:00:00",
          "2022-12-14T00:00:00",
          "2024-08-17T00:00:00",
          "2023-12-13T00:00:00",
          "2023-09-01T00:00:00",
          "2023-12-11T00:00:00",
          "2024-09-06T00:00:00",
          "2024-06-12T00:00:00",
          "2022-09-14T00:00:00",
          "2024-11-05T00:00:00",
          "2023-02-15T00:00:00",
          "2023-12-07T00:00:00",
          "2024-04-30T00:00:00",
          "2024-08-15T00:00:00",
          "2023-12-01T00:00:00",
          "2023-12-05T00:00:00",
          "2024-04-07T00:00:00",
          "2024-06-23T00:00:00",
          "2024-11-18T00:00:00",
          "2024-03-20T00:00:00",
          "2024-01-20T00:00:00",
          "2024-07-12T00:00:00",
          "2023-12-29T00:00:00",
          "2024-09-17T00:00:00",
          "2023-04-22T00:00:00",
          "2024-09-10T00:00:00",
          "2024-11-10T00:00:00",
          "2024-01-28T00:00:00",
          "2023-01-14T00:00:00",
          "2024-08-13T00:00:00",
          "2024-08-14T00:00:00",
          "2022-05-23T00:00:00",
          "2024-08-02T00:00:00",
          "2024-05-28T00:00:00",
          "2024-05-23T00:00:00",
          "2024-07-01T00:00:00",
          "2024-09-12T00:00:00",
          "2024-07-31T00:00:00",
          "2024-10-03T00:00:00",
          "2024-10-06T00:00:00",
          "2022-05-19T00:00:00",
          "2024-04-06T00:00:00",
          "2022-10-24T00:00:00",
          "2024-08-08T00:00:00",
          "2024-10-12T00:00:00",
          "2022-08-31T00:00:00",
          "2024-06-06T00:00:00",
          "2023-11-06T00:00:00",
          "2023-10-20T00:00:00",
          "2024-05-21T00:00:00",
          "2023-12-06T00:00:00",
          "2024-12-17T00:00:00",
          "2024-09-03T00:00:00",
          "2023-10-06T00:00:00",
          "2024-06-10T00:00:00",
          "2024-02-27T00:00:00",
          "2024-02-15T00:00:00",
          "2023-01-18T00:00:00",
          "2024-08-11T00:00:00",
          "2024-04-28T00:00:00",
          "2024-06-11T00:00:00",
          "2022-03-04T00:00:00",
          "2024-06-30T00:00:00",
          "2024-07-17T00:00:00",
          "2024-10-08T00:00:00",
          "2024-11-30T00:00:00",
          "2022-10-01T00:00:00",
          "2023-12-21T00:00:00",
          "2023-04-12T00:00:00",
          "2024-07-04T00:00:00",
          "2023-09-22T00:00:00",
          "2022-12-01T00:00:00",
          "2024-07-22T00:00:00",
          "2024-02-14T00:00:00",
          "2024-10-26T00:00:00",
          "2024-11-24T00:00:00",
          "2024-07-09T00:00:00",
          "2024-02-24T00:00:00",
          "2024-09-20T00:00:00",
          "2024-10-27T00:00:00",
          "2024-03-22T00:00:00",
          "2024-07-30T00:00:00",
          "2024-10-02T00:00:00",
          "2024-08-22T00:00:00",
          "2024-08-29T00:00:00",
          "2024-11-26T00:00:00",
          "2024-06-03T00:00:00",
          "2023-02-17T00:00:00",
          "2024-09-23T00:00:00",
          "2024-04-10T00:00:00",
          "2022-02-10T00:00:00",
          "2024-04-23T00:00:00",
          "2024-10-28T00:00:00",
          "2023-12-02T00:00:00",
          "2024-10-10T00:00:00",
          "2024-06-07T00:00:00",
          "2024-03-07T00:00:00",
          "2024-09-02T00:00:00",
          "2024-07-08T00:00:00",
          "2024-05-04T00:00:00",
          "2024-10-18T00:00:00",
          "2024-05-19T00:00:00",
          "2024-05-29T00:00:00",
          "2024-05-30T00:00:00",
          "2024-05-11T00:00:00",
          "2024-03-21T00:00:00",
          "2024-11-29T00:00:00",
          "2023-07-26T00:00:00",
          "2024-04-20T00:00:00",
          "2024-07-13T00:00:00",
          "2022-03-25T00:00:00",
          "2024-07-15T00:00:00",
          "2024-08-19T00:00:00",
          "2024-05-05T00:00:00",
          "2024-09-16T00:00:00",
          "2023-07-06T00:00:00",
          "2024-09-04T00:00:00",
          "2022-09-20T00:00:00",
          "2023-12-12T00:00:00",
          "2022-06-25T00:00:00",
          "2024-08-30T00:00:00",
          "2024-06-21T00:00:00",
          "2023-11-30T00:00:00",
          "2024-07-23T00:00:00",
          "2024-03-16T00:00:00",
          "2023-03-26T00:00:00",
          "2023-07-24T00:00:00",
          "2023-11-07T00:00:00",
          "2024-10-01T00:00:00",
          "2023-08-17T00:00:00",
          "2023-06-04T00:00:00",
          "2024-03-15T00:00:00",
          "2022-10-19T00:00:00",
          "2024-05-02T00:00:00",
          "2024-09-05T00:00:00",
          "2024-10-05T00:00:00",
          "2022-09-03T00:00:00",
          "2022-05-26T00:00:00",
          "2023-10-01T00:00:00",
          "2023-01-24T00:00:00",
          "2024-07-27T00:00:00",
          "2023-03-08T00:00:00",
          "2024-07-06T00:00:00",
          "2023-09-13T00:00:00",
          "2024-10-15T00:00:00",
          "2022-06-12T00:00:00",
          "2023-06-29T00:00:00",
          "2024-06-04T00:00:00",
          "2024-11-01T00:00:00",
          "2023-07-02T00:00:00",
          "2024-01-07T00:00:00",
          "2024-07-05T00:00:00",
          "2023-12-26T00:00:00",
          "2022-05-03T00:00:00",
          "2023-10-23T00:00:00",
          "2024-07-03T00:00:00",
          "2023-12-15T00:00:00",
          "2023-05-07T00:00:00",
          "2024-05-12T00:00:00",
          "2024-06-14T00:00:00",
          "2024-08-25T00:00:00",
          "2024-06-19T00:00:00",
          "2024-11-03T00:00:00",
          "2023-02-08T00:00:00",
          "2024-06-29T00:00:00",
          "2024-09-25T00:00:00",
          "2024-11-28T00:00:00",
          "2024-05-16T00:00:00",
          "2024-04-02T00:00:00",
          "2024-03-12T00:00:00",
          "2022-01-14T00:00:00",
          "2024-07-20T00:00:00",
          "2024-12-22T00:00:00",
          "2024-11-07T00:00:00",
          "2024-10-17T00:00:00",
          "2024-11-23T00:00:00",
          "2024-09-01T00:00:00",
          "2023-12-19T00:00:00",
          "2024-05-31T00:00:00",
          "2024-07-28T00:00:00",
          "2023-03-03T00:00:00",
          "2023-01-05T00:00:00",
          "2024-04-25T00:00:00",
          "2024-08-28T00:00:00",
          "2024-02-06T00:00:00",
          "2024-07-07T00:00:00",
          "2023-10-05T00:00:00",
          "2024-08-09T00:00:00",
          "2024-09-21T00:00:00",
          "2024-03-19T00:00:00",
          "2024-01-03T00:00:00",
          "2024-09-09T00:00:00",
          "2024-12-04T00:00:00",
          "2024-11-02T00:00:00",
          "2023-06-23T00:00:00",
          "2024-07-21T00:00:00",
          "2023-10-10T00:00:00",
          "2024-11-12T00:00:00",
          "2024-03-09T00:00:00",
          "2023-05-23T00:00:00"
         ],
         "xaxis": "x",
         "y": [
          18,
          30,
          51,
          130,
          125,
          18,
          38,
          31,
          68,
          22,
          59,
          34,
          47,
          42,
          91,
          32,
          2,
          15,
          17,
          4,
          70,
          29,
          17,
          30,
          25,
          87,
          23,
          35,
          25,
          47,
          31,
          15,
          63,
          31,
          11,
          23,
          101,
          10,
          15,
          54,
          39,
          12,
          16,
          13,
          30,
          16,
          15,
          37,
          24,
          62,
          21,
          19,
          56,
          20,
          54,
          38,
          22,
          22,
          30,
          112,
          23,
          13,
          25,
          67,
          22,
          21,
          34,
          27,
          90,
          14,
          140,
          16,
          26,
          77,
          60,
          33,
          45,
          35,
          52,
          82,
          23,
          119,
          27,
          6,
          11,
          25,
          59,
          64,
          11,
          47,
          15,
          35,
          43,
          23,
          101,
          20,
          30,
          28,
          49,
          24,
          16,
          47,
          147,
          20,
          65,
          24,
          86,
          16,
          32,
          99,
          25,
          16,
          33,
          63,
          16,
          64,
          9,
          51,
          15,
          85,
          27,
          40,
          4,
          45,
          84,
          8,
          43,
          48,
          71,
          72,
          24,
          25,
          4,
          10,
          60,
          31,
          11,
          142,
          37,
          58,
          40,
          114,
          16,
          17,
          21,
          2,
          45,
          42,
          9,
          60,
          22,
          25,
          39,
          36,
          60,
          13,
          8,
          5,
          16,
          30,
          13,
          13,
          38,
          117,
          109,
          37,
          19,
          17,
          7,
          44,
          46,
          25,
          7,
          35,
          44,
          19,
          30,
          25,
          24,
          2,
          32,
          46,
          18,
          28,
          40,
          2,
          31,
          89,
          13,
          65,
          112,
          109,
          34,
          90,
          59,
          7,
          85,
          36,
          11,
          27,
          105,
          78,
          3,
          198,
          22,
          22,
          68,
          14,
          18,
          169,
          15,
          98,
          31,
          49,
          9,
          28,
          55,
          41,
          15,
          77,
          53,
          39,
          32,
          3,
          2,
          45,
          42,
          19,
          22,
          39,
          23,
          52,
          18,
          25,
          64,
          59,
          52,
          18,
          17,
          13,
          53,
          126,
          47,
          54,
          30,
          50,
          35,
          43,
          5,
          38,
          30,
          18,
          26,
          42,
          49,
          27,
          61,
          17,
          22,
          59,
          114,
          26,
          176,
          38,
          35,
          29,
          37,
          11,
          108,
          41,
          19,
          33,
          25,
          107,
          43,
          32,
          2,
          44,
          72,
          18,
          42,
          34,
          31,
          28,
          28,
          41,
          63,
          21,
          28,
          32,
          13,
          76,
          57,
          32,
          43,
          13,
          18,
          14,
          29,
          25,
          16,
          43,
          6,
          26,
          20,
          27,
          54,
          3,
          43,
          31,
          12,
          30,
          34,
          46,
          4,
          70,
          18,
          32,
          53,
          16,
          18,
          49,
          111,
          21,
          114,
          82,
          21,
          13,
          11,
          24,
          20,
          34,
          24,
          34,
          7,
          83,
          94,
          24,
          18,
          127,
          258,
          62,
          66,
          13,
          24,
          92,
          40,
          28,
          97,
          24,
          69,
          28,
          48,
          25,
          22,
          10,
          83
         ],
         "yaxis": "y"
        }
       ],
       "layout": {
        "barmode": "relative",
        "legend": {
         "tracegroupgap": 0
        },
        "margin": {
         "t": 60
        },
        "template": {
         "data": {
          "bar": [
           {
            "error_x": {
             "color": "#2a3f5f"
            },
            "error_y": {
             "color": "#2a3f5f"
            },
            "marker": {
             "line": {
              "color": "#E5ECF6",
              "width": 0.5
             },
             "pattern": {
              "fillmode": "overlay",
              "size": 10,
              "solidity": 0.2
             }
            },
            "type": "bar"
           }
          ],
          "barpolar": [
           {
            "marker": {
             "line": {
              "color": "#E5ECF6",
              "width": 0.5
             },
             "pattern": {
              "fillmode": "overlay",
              "size": 10,
              "solidity": 0.2
             }
            },
            "type": "barpolar"
           }
          ],
          "carpet": [
           {
            "aaxis": {
             "endlinecolor": "#2a3f5f",
             "gridcolor": "white",
             "linecolor": "white",
             "minorgridcolor": "white",
             "startlinecolor": "#2a3f5f"
            },
            "baxis": {
             "endlinecolor": "#2a3f5f",
             "gridcolor": "white",
             "linecolor": "white",
             "minorgridcolor": "white",
             "startlinecolor": "#2a3f5f"
            },
            "type": "carpet"
           }
          ],
          "choropleth": [
           {
            "colorbar": {
             "outlinewidth": 0,
             "ticks": ""
            },
            "type": "choropleth"
           }
          ],
          "contour": [
           {
            "colorbar": {
             "outlinewidth": 0,
             "ticks": ""
            },
            "colorscale": [
             [
              0,
              "#0d0887"
             ],
             [
              0.1111111111111111,
              "#46039f"
             ],
             [
              0.2222222222222222,
              "#7201a8"
             ],
             [
              0.3333333333333333,
              "#9c179e"
             ],
             [
              0.4444444444444444,
              "#bd3786"
             ],
             [
              0.5555555555555556,
              "#d8576b"
             ],
             [
              0.6666666666666666,
              "#ed7953"
             ],
             [
              0.7777777777777778,
              "#fb9f3a"
             ],
             [
              0.8888888888888888,
              "#fdca26"
             ],
             [
              1,
              "#f0f921"
             ]
            ],
            "type": "contour"
           }
          ],
          "contourcarpet": [
           {
            "colorbar": {
             "outlinewidth": 0,
             "ticks": ""
            },
            "type": "contourcarpet"
           }
          ],
          "heatmap": [
           {
            "colorbar": {
             "outlinewidth": 0,
             "ticks": ""
            },
            "colorscale": [
             [
              0,
              "#0d0887"
             ],
             [
              0.1111111111111111,
              "#46039f"
             ],
             [
              0.2222222222222222,
              "#7201a8"
             ],
             [
              0.3333333333333333,
              "#9c179e"
             ],
             [
              0.4444444444444444,
              "#bd3786"
             ],
             [
              0.5555555555555556,
              "#d8576b"
             ],
             [
              0.6666666666666666,
              "#ed7953"
             ],
             [
              0.7777777777777778,
              "#fb9f3a"
             ],
             [
              0.8888888888888888,
              "#fdca26"
             ],
             [
              1,
              "#f0f921"
             ]
            ],
            "type": "heatmap"
           }
          ],
          "heatmapgl": [
           {
            "colorbar": {
             "outlinewidth": 0,
             "ticks": ""
            },
            "colorscale": [
             [
              0,
              "#0d0887"
             ],
             [
              0.1111111111111111,
              "#46039f"
             ],
             [
              0.2222222222222222,
              "#7201a8"
             ],
             [
              0.3333333333333333,
              "#9c179e"
             ],
             [
              0.4444444444444444,
              "#bd3786"
             ],
             [
              0.5555555555555556,
              "#d8576b"
             ],
             [
              0.6666666666666666,
              "#ed7953"
             ],
             [
              0.7777777777777778,
              "#fb9f3a"
             ],
             [
              0.8888888888888888,
              "#fdca26"
             ],
             [
              1,
              "#f0f921"
             ]
            ],
            "type": "heatmapgl"
           }
          ],
          "histogram": [
           {
            "marker": {
             "pattern": {
              "fillmode": "overlay",
              "size": 10,
              "solidity": 0.2
             }
            },
            "type": "histogram"
           }
          ],
          "histogram2d": [
           {
            "colorbar": {
             "outlinewidth": 0,
             "ticks": ""
            },
            "colorscale": [
             [
              0,
              "#0d0887"
             ],
             [
              0.1111111111111111,
              "#46039f"
             ],
             [
              0.2222222222222222,
              "#7201a8"
             ],
             [
              0.3333333333333333,
              "#9c179e"
             ],
             [
              0.4444444444444444,
              "#bd3786"
             ],
             [
              0.5555555555555556,
              "#d8576b"
             ],
             [
              0.6666666666666666,
              "#ed7953"
             ],
             [
              0.7777777777777778,
              "#fb9f3a"
             ],
             [
              0.8888888888888888,
              "#fdca26"
             ],
             [
              1,
              "#f0f921"
             ]
            ],
            "type": "histogram2d"
           }
          ],
          "histogram2dcontour": [
           {
            "colorbar": {
             "outlinewidth": 0,
             "ticks": ""
            },
            "colorscale": [
             [
              0,
              "#0d0887"
             ],
             [
              0.1111111111111111,
              "#46039f"
             ],
             [
              0.2222222222222222,
              "#7201a8"
             ],
             [
              0.3333333333333333,
              "#9c179e"
             ],
             [
              0.4444444444444444,
              "#bd3786"
             ],
             [
              0.5555555555555556,
              "#d8576b"
             ],
             [
              0.6666666666666666,
              "#ed7953"
             ],
             [
              0.7777777777777778,
              "#fb9f3a"
             ],
             [
              0.8888888888888888,
              "#fdca26"
             ],
             [
              1,
              "#f0f921"
             ]
            ],
            "type": "histogram2dcontour"
           }
          ],
          "mesh3d": [
           {
            "colorbar": {
             "outlinewidth": 0,
             "ticks": ""
            },
            "type": "mesh3d"
           }
          ],
          "parcoords": [
           {
            "line": {
             "colorbar": {
              "outlinewidth": 0,
              "ticks": ""
             }
            },
            "type": "parcoords"
           }
          ],
          "pie": [
           {
            "automargin": true,
            "type": "pie"
           }
          ],
          "scatter": [
           {
            "fillpattern": {
             "fillmode": "overlay",
             "size": 10,
             "solidity": 0.2
            },
            "type": "scatter"
           }
          ],
          "scatter3d": [
           {
            "line": {
             "colorbar": {
              "outlinewidth": 0,
              "ticks": ""
             }
            },
            "marker": {
             "colorbar": {
              "outlinewidth": 0,
              "ticks": ""
             }
            },
            "type": "scatter3d"
           }
          ],
          "scattercarpet": [
           {
            "marker": {
             "colorbar": {
              "outlinewidth": 0,
              "ticks": ""
             }
            },
            "type": "scattercarpet"
           }
          ],
          "scattergeo": [
           {
            "marker": {
             "colorbar": {
              "outlinewidth": 0,
              "ticks": ""
             }
            },
            "type": "scattergeo"
           }
          ],
          "scattergl": [
           {
            "marker": {
             "colorbar": {
              "outlinewidth": 0,
              "ticks": ""
             }
            },
            "type": "scattergl"
           }
          ],
          "scattermapbox": [
           {
            "marker": {
             "colorbar": {
              "outlinewidth": 0,
              "ticks": ""
             }
            },
            "type": "scattermapbox"
           }
          ],
          "scatterpolar": [
           {
            "marker": {
             "colorbar": {
              "outlinewidth": 0,
              "ticks": ""
             }
            },
            "type": "scatterpolar"
           }
          ],
          "scatterpolargl": [
           {
            "marker": {
             "colorbar": {
              "outlinewidth": 0,
              "ticks": ""
             }
            },
            "type": "scatterpolargl"
           }
          ],
          "scatterternary": [
           {
            "marker": {
             "colorbar": {
              "outlinewidth": 0,
              "ticks": ""
             }
            },
            "type": "scatterternary"
           }
          ],
          "surface": [
           {
            "colorbar": {
             "outlinewidth": 0,
             "ticks": ""
            },
            "colorscale": [
             [
              0,
              "#0d0887"
             ],
             [
              0.1111111111111111,
              "#46039f"
             ],
             [
              0.2222222222222222,
              "#7201a8"
             ],
             [
              0.3333333333333333,
              "#9c179e"
             ],
             [
              0.4444444444444444,
              "#bd3786"
             ],
             [
              0.5555555555555556,
              "#d8576b"
             ],
             [
              0.6666666666666666,
              "#ed7953"
             ],
             [
              0.7777777777777778,
              "#fb9f3a"
             ],
             [
              0.8888888888888888,
              "#fdca26"
             ],
             [
              1,
              "#f0f921"
             ]
            ],
            "type": "surface"
           }
          ],
          "table": [
           {
            "cells": {
             "fill": {
              "color": "#EBF0F8"
             },
             "line": {
              "color": "white"
             }
            },
            "header": {
             "fill": {
              "color": "#C8D4E3"
             },
             "line": {
              "color": "white"
             }
            },
            "type": "table"
           }
          ]
         },
         "layout": {
          "annotationdefaults": {
           "arrowcolor": "#2a3f5f",
           "arrowhead": 0,
           "arrowwidth": 1
          },
          "autotypenumbers": "strict",
          "coloraxis": {
           "colorbar": {
            "outlinewidth": 0,
            "ticks": ""
           }
          },
          "colorscale": {
           "diverging": [
            [
             0,
             "#8e0152"
            ],
            [
             0.1,
             "#c51b7d"
            ],
            [
             0.2,
             "#de77ae"
            ],
            [
             0.3,
             "#f1b6da"
            ],
            [
             0.4,
             "#fde0ef"
            ],
            [
             0.5,
             "#f7f7f7"
            ],
            [
             0.6,
             "#e6f5d0"
            ],
            [
             0.7,
             "#b8e186"
            ],
            [
             0.8,
             "#7fbc41"
            ],
            [
             0.9,
             "#4d9221"
            ],
            [
             1,
             "#276419"
            ]
           ],
           "sequential": [
            [
             0,
             "#0d0887"
            ],
            [
             0.1111111111111111,
             "#46039f"
            ],
            [
             0.2222222222222222,
             "#7201a8"
            ],
            [
             0.3333333333333333,
             "#9c179e"
            ],
            [
             0.4444444444444444,
             "#bd3786"
            ],
            [
             0.5555555555555556,
             "#d8576b"
            ],
            [
             0.6666666666666666,
             "#ed7953"
            ],
            [
             0.7777777777777778,
             "#fb9f3a"
            ],
            [
             0.8888888888888888,
             "#fdca26"
            ],
            [
             1,
             "#f0f921"
            ]
           ],
           "sequentialminus": [
            [
             0,
             "#0d0887"
            ],
            [
             0.1111111111111111,
             "#46039f"
            ],
            [
             0.2222222222222222,
             "#7201a8"
            ],
            [
             0.3333333333333333,
             "#9c179e"
            ],
            [
             0.4444444444444444,
             "#bd3786"
            ],
            [
             0.5555555555555556,
             "#d8576b"
            ],
            [
             0.6666666666666666,
             "#ed7953"
            ],
            [
             0.7777777777777778,
             "#fb9f3a"
            ],
            [
             0.8888888888888888,
             "#fdca26"
            ],
            [
             1,
             "#f0f921"
            ]
           ]
          },
          "colorway": [
           "#636efa",
           "#EF553B",
           "#00cc96",
           "#ab63fa",
           "#FFA15A",
           "#19d3f3",
           "#FF6692",
           "#B6E880",
           "#FF97FF",
           "#FECB52"
          ],
          "font": {
           "color": "#2a3f5f"
          },
          "geo": {
           "bgcolor": "white",
           "lakecolor": "white",
           "landcolor": "#E5ECF6",
           "showlakes": true,
           "showland": true,
           "subunitcolor": "white"
          },
          "hoverlabel": {
           "align": "left"
          },
          "hovermode": "closest",
          "mapbox": {
           "style": "light"
          },
          "paper_bgcolor": "white",
          "plot_bgcolor": "#E5ECF6",
          "polar": {
           "angularaxis": {
            "gridcolor": "white",
            "linecolor": "white",
            "ticks": ""
           },
           "bgcolor": "#E5ECF6",
           "radialaxis": {
            "gridcolor": "white",
            "linecolor": "white",
            "ticks": ""
           }
          },
          "scene": {
           "xaxis": {
            "backgroundcolor": "#E5ECF6",
            "gridcolor": "white",
            "gridwidth": 2,
            "linecolor": "white",
            "showbackground": true,
            "ticks": "",
            "zerolinecolor": "white"
           },
           "yaxis": {
            "backgroundcolor": "#E5ECF6",
            "gridcolor": "white",
            "gridwidth": 2,
            "linecolor": "white",
            "showbackground": true,
            "ticks": "",
            "zerolinecolor": "white"
           },
           "zaxis": {
            "backgroundcolor": "#E5ECF6",
            "gridcolor": "white",
            "gridwidth": 2,
            "linecolor": "white",
            "showbackground": true,
            "ticks": "",
            "zerolinecolor": "white"
           }
          },
          "shapedefaults": {
           "line": {
            "color": "#2a3f5f"
           }
          },
          "ternary": {
           "aaxis": {
            "gridcolor": "white",
            "linecolor": "white",
            "ticks": ""
           },
           "baxis": {
            "gridcolor": "white",
            "linecolor": "white",
            "ticks": ""
           },
           "bgcolor": "#E5ECF6",
           "caxis": {
            "gridcolor": "white",
            "linecolor": "white",
            "ticks": ""
           }
          },
          "title": {
           "x": 0.05
          },
          "xaxis": {
           "automargin": true,
           "gridcolor": "white",
           "linecolor": "white",
           "ticks": "",
           "title": {
            "standoff": 15
           },
           "zerolinecolor": "white",
           "zerolinewidth": 2
          },
          "yaxis": {
           "automargin": true,
           "gridcolor": "white",
           "linecolor": "white",
           "ticks": "",
           "title": {
            "standoff": 15
           },
           "zerolinecolor": "white",
           "zerolinewidth": 2
          }
         }
        },
        "xaxis": {
         "anchor": "y",
         "domain": [
          0,
          1
         ],
         "title": {
          "text": "Service Date"
         }
        },
        "yaxis": {
         "anchor": "x",
         "domain": [
          0,
          1
         ],
         "title": {
          "text": "count"
         }
        }
       }
      }
     },
     "metadata": {},
     "output_type": "display_data"
    }
   ],
   "source": [
    "fig = px.bar(high_cost_by_service_date, x=\"Service Date\", y=\"count\", hover_data=[\"count\"], color_discrete_sequence=[\"#000000\"])\n",
    "fig.show()"
   ]
  },
  {
   "cell_type": "code",
   "execution_count": 146,
   "metadata": {},
   "outputs": [],
   "source": [
    "jan = pl.lit(\"2022-02-01\").str.strptime(pl.Date)\n",
    "dec = pl.lit(\"2024-12-01\").str.strptime(pl.Date)\n"
   ]
  },
  {
   "cell_type": "code",
   "execution_count": 154,
   "metadata": {},
   "outputs": [],
   "source": [
    "jan_and_dec = df.filter((df['Service Date']<jan) | (df['Service Date']>dec))"
   ]
  },
  {
   "cell_type": "code",
   "execution_count": 158,
   "metadata": {},
   "outputs": [
    {
     "data": {
      "text/html": [
       "<div><style>\n",
       ".dataframe > thead > tr,\n",
       ".dataframe > tbody > tr {\n",
       "  text-align: right;\n",
       "  white-space: pre-wrap;\n",
       "}\n",
       "</style>\n",
       "<small>shape: (2, 2)</small><table border=\"1\" class=\"dataframe\"><thead><tr><th>Service Date</th><th>count</th></tr><tr><td>i8</td><td>u32</td></tr></thead><tbody><tr><td>1</td><td>5499</td></tr><tr><td>12</td><td>3080</td></tr></tbody></table></div>"
      ],
      "text/plain": [
       "shape: (2, 2)\n",
       "┌──────────────┬───────┐\n",
       "│ Service Date ┆ count │\n",
       "│ ---          ┆ ---   │\n",
       "│ i8           ┆ u32   │\n",
       "╞══════════════╪═══════╡\n",
       "│ 1            ┆ 5499  │\n",
       "│ 12           ┆ 3080  │\n",
       "└──────────────┴───────┘"
      ]
     },
     "execution_count": 158,
     "metadata": {},
     "output_type": "execute_result"
    }
   ],
   "source": [
    "jan_and_dec['Service Date'].dt.month().value_counts()"
   ]
  },
  {
   "cell_type": "code",
   "execution_count": 159,
   "metadata": {},
   "outputs": [
    {
     "data": {
      "text/html": [
       "<div><style>\n",
       ".dataframe > thead > tr,\n",
       ".dataframe > tbody > tr {\n",
       "  text-align: right;\n",
       "  white-space: pre-wrap;\n",
       "}\n",
       "</style>\n",
       "<small>shape: (2, 2)</small><table border=\"1\" class=\"dataframe\"><thead><tr><th>Service Date</th><th>count</th></tr><tr><td>i8</td><td>u32</td></tr></thead><tbody><tr><td>1</td><td>147</td></tr><tr><td>12</td><td>142</td></tr></tbody></table></div>"
      ],
      "text/plain": [
       "shape: (2, 2)\n",
       "┌──────────────┬───────┐\n",
       "│ Service Date ┆ count │\n",
       "│ ---          ┆ ---   │\n",
       "│ i8           ┆ u32   │\n",
       "╞══════════════╪═══════╡\n",
       "│ 1            ┆ 147   │\n",
       "│ 12           ┆ 142   │\n",
       "└──────────────┴───────┘"
      ]
     },
     "execution_count": 159,
     "metadata": {},
     "output_type": "execute_result"
    }
   ],
   "source": [
    "jan_and_dec.filter(jan_and_dec['High Cost Claim'] == 1)['Service Date'].dt.month().value_counts()"
   ]
  },
  {
   "cell_type": "code",
   "execution_count": 32,
   "metadata": {},
   "outputs": [
    {
     "data": {
      "application/vnd.plotly.v1+json": {
       "config": {
        "plotlyServerURL": "https://plot.ly"
       },
       "data": [
        {
         "alignmentgroup": "True",
         "hovertemplate": "Service Date=%{x}<br>count=%{y}<extra></extra>",
         "legendgroup": "",
         "marker": {
          "color": "#000000",
          "pattern": {
           "shape": ""
          }
         },
         "name": "",
         "offsetgroup": "",
         "orientation": "v",
         "showlegend": false,
         "textposition": "auto",
         "type": "bar",
         "x": [
          "2024-07-11T00:00:00",
          "2024-05-05T00:00:00",
          "2024-05-26T00:00:00",
          "2024-08-22T00:00:00",
          "2024-09-06T00:00:00",
          "2022-10-06T00:00:00",
          "2024-09-08T00:00:00",
          "2024-09-23T00:00:00",
          "2022-01-27T00:00:00",
          "2024-06-16T00:00:00",
          "2023-11-20T00:00:00",
          "2024-10-11T00:00:00",
          "2024-02-03T00:00:00",
          "2024-05-30T00:00:00",
          "2023-12-11T00:00:00",
          "2024-08-02T00:00:00",
          "2024-02-06T00:00:00",
          "2024-04-24T00:00:00",
          "2024-02-17T00:00:00",
          "2024-04-11T00:00:00",
          "2022-09-30T00:00:00",
          "2022-02-11T00:00:00",
          "2024-10-02T00:00:00",
          "2024-07-03T00:00:00",
          "2022-11-10T00:00:00",
          "2023-02-12T00:00:00",
          "2024-10-13T00:00:00",
          "2023-11-21T00:00:00",
          "2024-09-02T00:00:00",
          "2024-04-10T00:00:00",
          "2022-10-14T00:00:00",
          "2022-09-20T00:00:00",
          "2024-10-14T00:00:00",
          "2022-09-08T00:00:00",
          "2024-04-22T00:00:00",
          "2024-05-16T00:00:00",
          "2023-09-22T00:00:00",
          "2023-01-05T00:00:00",
          "2024-08-28T00:00:00",
          "2024-09-14T00:00:00",
          "2024-04-04T00:00:00",
          "2022-11-08T00:00:00",
          "2024-06-06T00:00:00",
          "2024-05-01T00:00:00",
          "2024-07-15T00:00:00",
          "2023-09-19T00:00:00",
          "2024-10-12T00:00:00",
          "2023-03-03T00:00:00",
          "2023-10-03T00:00:00",
          "2023-04-12T00:00:00",
          "2024-02-15T00:00:00",
          "2022-09-03T00:00:00",
          "2024-09-22T00:00:00",
          "2023-10-20T00:00:00",
          "2024-07-20T00:00:00",
          "2024-05-18T00:00:00",
          "2024-04-16T00:00:00",
          "2024-05-23T00:00:00",
          "2022-10-09T00:00:00",
          "2024-08-04T00:00:00",
          "2024-08-07T00:00:00",
          "2022-05-12T00:00:00",
          "2024-09-29T00:00:00",
          "2023-04-02T00:00:00",
          "2023-11-24T00:00:00",
          "2024-09-27T00:00:00",
          "2022-10-28T00:00:00",
          "2024-10-19T00:00:00",
          "2024-06-27T00:00:00",
          "2022-02-10T00:00:00",
          "2024-05-14T00:00:00",
          "2024-09-15T00:00:00",
          "2024-09-05T00:00:00",
          "2023-11-09T00:00:00",
          "2022-03-23T00:00:00",
          "2023-10-18T00:00:00",
          "2022-07-26T00:00:00",
          "2024-04-06T00:00:00",
          "2023-11-02T00:00:00",
          "2023-07-02T00:00:00",
          "2024-09-12T00:00:00",
          "2023-10-12T00:00:00",
          "2024-06-24T00:00:00",
          "2022-02-02T00:00:00",
          "2024-11-01T00:00:00",
          "2022-01-26T00:00:00",
          "2023-10-01T00:00:00",
          "2024-05-28T00:00:00",
          "2024-08-05T00:00:00",
          "2024-07-12T00:00:00",
          "2024-04-25T00:00:00",
          "2024-10-10T00:00:00",
          "2024-09-09T00:00:00",
          "2024-03-21T00:00:00",
          "2024-10-08T00:00:00",
          "2024-06-12T00:00:00",
          "2024-06-20T00:00:00",
          "2024-09-18T00:00:00",
          "2024-01-17T00:00:00",
          "2023-04-22T00:00:00",
          "2024-10-16T00:00:00",
          "2024-05-22T00:00:00",
          "2024-10-21T00:00:00",
          "2024-09-25T00:00:00",
          "2024-09-04T00:00:00",
          "2024-09-03T00:00:00",
          "2024-06-02T00:00:00",
          "2024-06-26T00:00:00",
          "2024-08-31T00:00:00",
          "2024-09-28T00:00:00",
          "2024-09-30T00:00:00",
          "2024-02-28T00:00:00",
          "2023-10-26T00:00:00",
          "2024-08-29T00:00:00",
          "2024-04-29T00:00:00",
          "2022-12-17T00:00:00",
          "2024-06-10T00:00:00",
          "2024-08-03T00:00:00",
          "2024-02-24T00:00:00",
          "2023-10-16T00:00:00",
          "2024-05-27T00:00:00",
          "2024-06-18T00:00:00",
          "2024-09-11T00:00:00",
          "2024-07-26T00:00:00",
          "2024-02-14T00:00:00",
          "2023-10-23T00:00:00"
         ],
         "xaxis": "x",
         "y": [
          315,
          335,
          356,
          300,
          350,
          311,
          325,
          310,
          313,
          314,
          400,
          347,
          330,
          314,
          331,
          326,
          336,
          356,
          300,
          308,
          353,
          381,
          351,
          321,
          320,
          307,
          418,
          317,
          380,
          301,
          343,
          335,
          384,
          301,
          365,
          331,
          325,
          305,
          432,
          317,
          322,
          312,
          408,
          312,
          357,
          324,
          330,
          305,
          323,
          319,
          315,
          347,
          302,
          325,
          310,
          310,
          369,
          315,
          347,
          324,
          333,
          362,
          309,
          377,
          310,
          329,
          345,
          311,
          304,
          300,
          311,
          311,
          353,
          327,
          328,
          340,
          312,
          314,
          314,
          308,
          338,
          383,
          350,
          338,
          331,
          306,
          378,
          349,
          338,
          342,
          368,
          301,
          356,
          413,
          349,
          383,
          346,
          323,
          309,
          311,
          314,
          354,
          304,
          335,
          312,
          363,
          310,
          380,
          386,
          342,
          325,
          311,
          315,
          433,
          331,
          301,
          320,
          337,
          333,
          322,
          356,
          355,
          330,
          331,
          335,
          338
         ],
         "yaxis": "y"
        }
       ],
       "layout": {
        "barmode": "relative",
        "legend": {
         "tracegroupgap": 0
        },
        "margin": {
         "t": 60
        },
        "template": {
         "data": {
          "bar": [
           {
            "error_x": {
             "color": "#2a3f5f"
            },
            "error_y": {
             "color": "#2a3f5f"
            },
            "marker": {
             "line": {
              "color": "#E5ECF6",
              "width": 0.5
             },
             "pattern": {
              "fillmode": "overlay",
              "size": 10,
              "solidity": 0.2
             }
            },
            "type": "bar"
           }
          ],
          "barpolar": [
           {
            "marker": {
             "line": {
              "color": "#E5ECF6",
              "width": 0.5
             },
             "pattern": {
              "fillmode": "overlay",
              "size": 10,
              "solidity": 0.2
             }
            },
            "type": "barpolar"
           }
          ],
          "carpet": [
           {
            "aaxis": {
             "endlinecolor": "#2a3f5f",
             "gridcolor": "white",
             "linecolor": "white",
             "minorgridcolor": "white",
             "startlinecolor": "#2a3f5f"
            },
            "baxis": {
             "endlinecolor": "#2a3f5f",
             "gridcolor": "white",
             "linecolor": "white",
             "minorgridcolor": "white",
             "startlinecolor": "#2a3f5f"
            },
            "type": "carpet"
           }
          ],
          "choropleth": [
           {
            "colorbar": {
             "outlinewidth": 0,
             "ticks": ""
            },
            "type": "choropleth"
           }
          ],
          "contour": [
           {
            "colorbar": {
             "outlinewidth": 0,
             "ticks": ""
            },
            "colorscale": [
             [
              0,
              "#0d0887"
             ],
             [
              0.1111111111111111,
              "#46039f"
             ],
             [
              0.2222222222222222,
              "#7201a8"
             ],
             [
              0.3333333333333333,
              "#9c179e"
             ],
             [
              0.4444444444444444,
              "#bd3786"
             ],
             [
              0.5555555555555556,
              "#d8576b"
             ],
             [
              0.6666666666666666,
              "#ed7953"
             ],
             [
              0.7777777777777778,
              "#fb9f3a"
             ],
             [
              0.8888888888888888,
              "#fdca26"
             ],
             [
              1,
              "#f0f921"
             ]
            ],
            "type": "contour"
           }
          ],
          "contourcarpet": [
           {
            "colorbar": {
             "outlinewidth": 0,
             "ticks": ""
            },
            "type": "contourcarpet"
           }
          ],
          "heatmap": [
           {
            "colorbar": {
             "outlinewidth": 0,
             "ticks": ""
            },
            "colorscale": [
             [
              0,
              "#0d0887"
             ],
             [
              0.1111111111111111,
              "#46039f"
             ],
             [
              0.2222222222222222,
              "#7201a8"
             ],
             [
              0.3333333333333333,
              "#9c179e"
             ],
             [
              0.4444444444444444,
              "#bd3786"
             ],
             [
              0.5555555555555556,
              "#d8576b"
             ],
             [
              0.6666666666666666,
              "#ed7953"
             ],
             [
              0.7777777777777778,
              "#fb9f3a"
             ],
             [
              0.8888888888888888,
              "#fdca26"
             ],
             [
              1,
              "#f0f921"
             ]
            ],
            "type": "heatmap"
           }
          ],
          "heatmapgl": [
           {
            "colorbar": {
             "outlinewidth": 0,
             "ticks": ""
            },
            "colorscale": [
             [
              0,
              "#0d0887"
             ],
             [
              0.1111111111111111,
              "#46039f"
             ],
             [
              0.2222222222222222,
              "#7201a8"
             ],
             [
              0.3333333333333333,
              "#9c179e"
             ],
             [
              0.4444444444444444,
              "#bd3786"
             ],
             [
              0.5555555555555556,
              "#d8576b"
             ],
             [
              0.6666666666666666,
              "#ed7953"
             ],
             [
              0.7777777777777778,
              "#fb9f3a"
             ],
             [
              0.8888888888888888,
              "#fdca26"
             ],
             [
              1,
              "#f0f921"
             ]
            ],
            "type": "heatmapgl"
           }
          ],
          "histogram": [
           {
            "marker": {
             "pattern": {
              "fillmode": "overlay",
              "size": 10,
              "solidity": 0.2
             }
            },
            "type": "histogram"
           }
          ],
          "histogram2d": [
           {
            "colorbar": {
             "outlinewidth": 0,
             "ticks": ""
            },
            "colorscale": [
             [
              0,
              "#0d0887"
             ],
             [
              0.1111111111111111,
              "#46039f"
             ],
             [
              0.2222222222222222,
              "#7201a8"
             ],
             [
              0.3333333333333333,
              "#9c179e"
             ],
             [
              0.4444444444444444,
              "#bd3786"
             ],
             [
              0.5555555555555556,
              "#d8576b"
             ],
             [
              0.6666666666666666,
              "#ed7953"
             ],
             [
              0.7777777777777778,
              "#fb9f3a"
             ],
             [
              0.8888888888888888,
              "#fdca26"
             ],
             [
              1,
              "#f0f921"
             ]
            ],
            "type": "histogram2d"
           }
          ],
          "histogram2dcontour": [
           {
            "colorbar": {
             "outlinewidth": 0,
             "ticks": ""
            },
            "colorscale": [
             [
              0,
              "#0d0887"
             ],
             [
              0.1111111111111111,
              "#46039f"
             ],
             [
              0.2222222222222222,
              "#7201a8"
             ],
             [
              0.3333333333333333,
              "#9c179e"
             ],
             [
              0.4444444444444444,
              "#bd3786"
             ],
             [
              0.5555555555555556,
              "#d8576b"
             ],
             [
              0.6666666666666666,
              "#ed7953"
             ],
             [
              0.7777777777777778,
              "#fb9f3a"
             ],
             [
              0.8888888888888888,
              "#fdca26"
             ],
             [
              1,
              "#f0f921"
             ]
            ],
            "type": "histogram2dcontour"
           }
          ],
          "mesh3d": [
           {
            "colorbar": {
             "outlinewidth": 0,
             "ticks": ""
            },
            "type": "mesh3d"
           }
          ],
          "parcoords": [
           {
            "line": {
             "colorbar": {
              "outlinewidth": 0,
              "ticks": ""
             }
            },
            "type": "parcoords"
           }
          ],
          "pie": [
           {
            "automargin": true,
            "type": "pie"
           }
          ],
          "scatter": [
           {
            "fillpattern": {
             "fillmode": "overlay",
             "size": 10,
             "solidity": 0.2
            },
            "type": "scatter"
           }
          ],
          "scatter3d": [
           {
            "line": {
             "colorbar": {
              "outlinewidth": 0,
              "ticks": ""
             }
            },
            "marker": {
             "colorbar": {
              "outlinewidth": 0,
              "ticks": ""
             }
            },
            "type": "scatter3d"
           }
          ],
          "scattercarpet": [
           {
            "marker": {
             "colorbar": {
              "outlinewidth": 0,
              "ticks": ""
             }
            },
            "type": "scattercarpet"
           }
          ],
          "scattergeo": [
           {
            "marker": {
             "colorbar": {
              "outlinewidth": 0,
              "ticks": ""
             }
            },
            "type": "scattergeo"
           }
          ],
          "scattergl": [
           {
            "marker": {
             "colorbar": {
              "outlinewidth": 0,
              "ticks": ""
             }
            },
            "type": "scattergl"
           }
          ],
          "scattermapbox": [
           {
            "marker": {
             "colorbar": {
              "outlinewidth": 0,
              "ticks": ""
             }
            },
            "type": "scattermapbox"
           }
          ],
          "scatterpolar": [
           {
            "marker": {
             "colorbar": {
              "outlinewidth": 0,
              "ticks": ""
             }
            },
            "type": "scatterpolar"
           }
          ],
          "scatterpolargl": [
           {
            "marker": {
             "colorbar": {
              "outlinewidth": 0,
              "ticks": ""
             }
            },
            "type": "scatterpolargl"
           }
          ],
          "scatterternary": [
           {
            "marker": {
             "colorbar": {
              "outlinewidth": 0,
              "ticks": ""
             }
            },
            "type": "scatterternary"
           }
          ],
          "surface": [
           {
            "colorbar": {
             "outlinewidth": 0,
             "ticks": ""
            },
            "colorscale": [
             [
              0,
              "#0d0887"
             ],
             [
              0.1111111111111111,
              "#46039f"
             ],
             [
              0.2222222222222222,
              "#7201a8"
             ],
             [
              0.3333333333333333,
              "#9c179e"
             ],
             [
              0.4444444444444444,
              "#bd3786"
             ],
             [
              0.5555555555555556,
              "#d8576b"
             ],
             [
              0.6666666666666666,
              "#ed7953"
             ],
             [
              0.7777777777777778,
              "#fb9f3a"
             ],
             [
              0.8888888888888888,
              "#fdca26"
             ],
             [
              1,
              "#f0f921"
             ]
            ],
            "type": "surface"
           }
          ],
          "table": [
           {
            "cells": {
             "fill": {
              "color": "#EBF0F8"
             },
             "line": {
              "color": "white"
             }
            },
            "header": {
             "fill": {
              "color": "#C8D4E3"
             },
             "line": {
              "color": "white"
             }
            },
            "type": "table"
           }
          ]
         },
         "layout": {
          "annotationdefaults": {
           "arrowcolor": "#2a3f5f",
           "arrowhead": 0,
           "arrowwidth": 1
          },
          "autotypenumbers": "strict",
          "coloraxis": {
           "colorbar": {
            "outlinewidth": 0,
            "ticks": ""
           }
          },
          "colorscale": {
           "diverging": [
            [
             0,
             "#8e0152"
            ],
            [
             0.1,
             "#c51b7d"
            ],
            [
             0.2,
             "#de77ae"
            ],
            [
             0.3,
             "#f1b6da"
            ],
            [
             0.4,
             "#fde0ef"
            ],
            [
             0.5,
             "#f7f7f7"
            ],
            [
             0.6,
             "#e6f5d0"
            ],
            [
             0.7,
             "#b8e186"
            ],
            [
             0.8,
             "#7fbc41"
            ],
            [
             0.9,
             "#4d9221"
            ],
            [
             1,
             "#276419"
            ]
           ],
           "sequential": [
            [
             0,
             "#0d0887"
            ],
            [
             0.1111111111111111,
             "#46039f"
            ],
            [
             0.2222222222222222,
             "#7201a8"
            ],
            [
             0.3333333333333333,
             "#9c179e"
            ],
            [
             0.4444444444444444,
             "#bd3786"
            ],
            [
             0.5555555555555556,
             "#d8576b"
            ],
            [
             0.6666666666666666,
             "#ed7953"
            ],
            [
             0.7777777777777778,
             "#fb9f3a"
            ],
            [
             0.8888888888888888,
             "#fdca26"
            ],
            [
             1,
             "#f0f921"
            ]
           ],
           "sequentialminus": [
            [
             0,
             "#0d0887"
            ],
            [
             0.1111111111111111,
             "#46039f"
            ],
            [
             0.2222222222222222,
             "#7201a8"
            ],
            [
             0.3333333333333333,
             "#9c179e"
            ],
            [
             0.4444444444444444,
             "#bd3786"
            ],
            [
             0.5555555555555556,
             "#d8576b"
            ],
            [
             0.6666666666666666,
             "#ed7953"
            ],
            [
             0.7777777777777778,
             "#fb9f3a"
            ],
            [
             0.8888888888888888,
             "#fdca26"
            ],
            [
             1,
             "#f0f921"
            ]
           ]
          },
          "colorway": [
           "#636efa",
           "#EF553B",
           "#00cc96",
           "#ab63fa",
           "#FFA15A",
           "#19d3f3",
           "#FF6692",
           "#B6E880",
           "#FF97FF",
           "#FECB52"
          ],
          "font": {
           "color": "#2a3f5f"
          },
          "geo": {
           "bgcolor": "white",
           "lakecolor": "white",
           "landcolor": "#E5ECF6",
           "showlakes": true,
           "showland": true,
           "subunitcolor": "white"
          },
          "hoverlabel": {
           "align": "left"
          },
          "hovermode": "closest",
          "mapbox": {
           "style": "light"
          },
          "paper_bgcolor": "white",
          "plot_bgcolor": "#E5ECF6",
          "polar": {
           "angularaxis": {
            "gridcolor": "white",
            "linecolor": "white",
            "ticks": ""
           },
           "bgcolor": "#E5ECF6",
           "radialaxis": {
            "gridcolor": "white",
            "linecolor": "white",
            "ticks": ""
           }
          },
          "scene": {
           "xaxis": {
            "backgroundcolor": "#E5ECF6",
            "gridcolor": "white",
            "gridwidth": 2,
            "linecolor": "white",
            "showbackground": true,
            "ticks": "",
            "zerolinecolor": "white"
           },
           "yaxis": {
            "backgroundcolor": "#E5ECF6",
            "gridcolor": "white",
            "gridwidth": 2,
            "linecolor": "white",
            "showbackground": true,
            "ticks": "",
            "zerolinecolor": "white"
           },
           "zaxis": {
            "backgroundcolor": "#E5ECF6",
            "gridcolor": "white",
            "gridwidth": 2,
            "linecolor": "white",
            "showbackground": true,
            "ticks": "",
            "zerolinecolor": "white"
           }
          },
          "shapedefaults": {
           "line": {
            "color": "#2a3f5f"
           }
          },
          "ternary": {
           "aaxis": {
            "gridcolor": "white",
            "linecolor": "white",
            "ticks": ""
           },
           "baxis": {
            "gridcolor": "white",
            "linecolor": "white",
            "ticks": ""
           },
           "bgcolor": "#E5ECF6",
           "caxis": {
            "gridcolor": "white",
            "linecolor": "white",
            "ticks": ""
           }
          },
          "title": {
           "x": 0.05
          },
          "xaxis": {
           "automargin": true,
           "gridcolor": "white",
           "linecolor": "white",
           "ticks": "",
           "title": {
            "standoff": 15
           },
           "zerolinecolor": "white",
           "zerolinewidth": 2
          },
          "yaxis": {
           "automargin": true,
           "gridcolor": "white",
           "linecolor": "white",
           "ticks": "",
           "title": {
            "standoff": 15
           },
           "zerolinecolor": "white",
           "zerolinewidth": 2
          }
         }
        },
        "xaxis": {
         "anchor": "y",
         "domain": [
          0,
          1
         ],
         "title": {
          "text": "Service Date"
         }
        },
        "yaxis": {
         "anchor": "x",
         "domain": [
          0,
          1
         ],
         "title": {
          "text": "count"
         }
        }
       }
      }
     },
     "metadata": {},
     "output_type": "display_data"
    }
   ],
   "source": [
    "subset_dates = service_date_counts.filter(service_date_counts['count']>=300)\n",
    "fig = px.bar(subset_dates, x=\"Service Date\", y=\"count\", hover_data=[\"count\"], color_discrete_sequence=[\"#000000\"])\n",
    "fig.show()"
   ]
  },
  {
   "cell_type": "code",
   "execution_count": null,
   "metadata": {},
   "outputs": [],
   "source": [
    "fig = px.bar(service_date_counts, x=\"Service Date\", y=\"count\", hover_data=[\"count\"], color_discrete_sequence=[\"#000000\"])\n",
    "fig.show()"
   ]
  },
  {
   "cell_type": "code",
   "execution_count": 42,
   "metadata": {},
   "outputs": [],
   "source": [
    "month_counts = subset_dates['Service Date'].dt.month().value_counts()"
   ]
  },
  {
   "cell_type": "code",
   "execution_count": 65,
   "metadata": {},
   "outputs": [
    {
     "data": {
      "text/html": [
       "<div><style>\n",
       ".dataframe > thead > tr,\n",
       ".dataframe > tbody > tr {\n",
       "  text-align: right;\n",
       "  white-space: pre-wrap;\n",
       "}\n",
       "</style>\n",
       "<small>shape: (12,)</small><table border=\"1\" class=\"dataframe\"><thead><tr><th>Service Date</th></tr><tr><td>i8</td></tr></thead><tbody><tr><td>9</td></tr><tr><td>5</td></tr><tr><td>7</td></tr><tr><td>4</td></tr><tr><td>10</td></tr><tr><td>&hellip;</td></tr><tr><td>2</td></tr><tr><td>6</td></tr><tr><td>3</td></tr><tr><td>11</td></tr><tr><td>12</td></tr></tbody></table></div>"
      ],
      "text/plain": [
       "shape: (12,)\n",
       "Series: 'Service Date' [i8]\n",
       "[\n",
       "\t9\n",
       "\t5\n",
       "\t7\n",
       "\t4\n",
       "\t10\n",
       "\t…\n",
       "\t2\n",
       "\t6\n",
       "\t3\n",
       "\t11\n",
       "\t12\n",
       "]"
      ]
     },
     "execution_count": 65,
     "metadata": {},
     "output_type": "execute_result"
    }
   ],
   "source": [
    "month_counts['Service Date']"
   ]
  },
  {
   "cell_type": "code",
   "execution_count": 89,
   "metadata": {},
   "outputs": [
    {
     "data": {
      "text/html": [
       "<div><style>\n",
       ".dataframe > thead > tr,\n",
       ".dataframe > tbody > tr {\n",
       "  text-align: right;\n",
       "  white-space: pre-wrap;\n",
       "}\n",
       "</style>\n",
       "<small>shape: (12, 2)</small><table border=\"1\" class=\"dataframe\"><thead><tr><th>Service Date</th><th>count</th></tr><tr><td>i8</td><td>u32</td></tr></thead><tbody><tr><td>4</td><td>21245</td></tr><tr><td>2</td><td>20032</td></tr><tr><td>9</td><td>23479</td></tr><tr><td>10</td><td>24841</td></tr><tr><td>12</td><td>16898</td></tr><tr><td>11</td><td>20744</td></tr><tr><td>1</td><td>18947</td></tr><tr><td>6</td><td>20880</td></tr><tr><td>5</td><td>21822</td></tr><tr><td>3</td><td>20854</td></tr><tr><td>8</td><td>22214</td></tr><tr><td>7</td><td>21730</td></tr></tbody></table></div>"
      ],
      "text/plain": [
       "shape: (12, 2)\n",
       "┌──────────────┬───────┐\n",
       "│ Service Date ┆ count │\n",
       "│ ---          ┆ ---   │\n",
       "│ i8           ┆ u32   │\n",
       "╞══════════════╪═══════╡\n",
       "│ 4            ┆ 21245 │\n",
       "│ 2            ┆ 20032 │\n",
       "│ 9            ┆ 23479 │\n",
       "│ 10           ┆ 24841 │\n",
       "│ 12           ┆ 16898 │\n",
       "│ 11           ┆ 20744 │\n",
       "│ 1            ┆ 18947 │\n",
       "│ 6            ┆ 20880 │\n",
       "│ 5            ┆ 21822 │\n",
       "│ 3            ┆ 20854 │\n",
       "│ 8            ┆ 22214 │\n",
       "│ 7            ┆ 21730 │\n",
       "└──────────────┴───────┘"
      ]
     },
     "execution_count": 89,
     "metadata": {},
     "output_type": "execute_result"
    }
   ],
   "source": [
    "df['Service Date'].dt.month().value_counts()"
   ]
  },
  {
   "cell_type": "code",
   "execution_count": 95,
   "metadata": {},
   "outputs": [
    {
     "data": {
      "text/html": [
       "<div><style>\n",
       ".dataframe > thead > tr,\n",
       ".dataframe > tbody > tr {\n",
       "  text-align: right;\n",
       "  white-space: pre-wrap;\n",
       "}\n",
       "</style>\n",
       "<small>shape: (12, 2)</small><table border=\"1\" class=\"dataframe\"><thead><tr><th>Service Date</th><th>count</th></tr><tr><td>i8</td><td>u32</td></tr></thead><tbody><tr><td>6</td><td>1740</td></tr><tr><td>7</td><td>1313</td></tr><tr><td>1</td><td>506</td></tr><tr><td>5</td><td>1625</td></tr><tr><td>9</td><td>2113</td></tr><tr><td>2</td><td>506</td></tr><tr><td>3</td><td>622</td></tr><tr><td>12</td><td>539</td></tr><tr><td>4</td><td>959</td></tr><tr><td>10</td><td>1660</td></tr><tr><td>11</td><td>1036</td></tr><tr><td>8</td><td>2079</td></tr></tbody></table></div>"
      ],
      "text/plain": [
       "shape: (12, 2)\n",
       "┌──────────────┬───────┐\n",
       "│ Service Date ┆ count │\n",
       "│ ---          ┆ ---   │\n",
       "│ i8           ┆ u32   │\n",
       "╞══════════════╪═══════╡\n",
       "│ 6            ┆ 1740  │\n",
       "│ 7            ┆ 1313  │\n",
       "│ 1            ┆ 506   │\n",
       "│ 5            ┆ 1625  │\n",
       "│ 9            ┆ 2113  │\n",
       "│ 2            ┆ 506   │\n",
       "│ 3            ┆ 622   │\n",
       "│ 12           ┆ 539   │\n",
       "│ 4            ┆ 959   │\n",
       "│ 10           ┆ 1660  │\n",
       "│ 11           ┆ 1036  │\n",
       "│ 8            ┆ 2079  │\n",
       "└──────────────┴───────┘"
      ]
     },
     "execution_count": 95,
     "metadata": {},
     "output_type": "execute_result"
    }
   ],
   "source": [
    "df.filter(df['High Cost Claim']==1)['Service Date'].dt.month().value_counts()"
   ]
  },
  {
   "cell_type": "code",
   "execution_count": 101,
   "metadata": {},
   "outputs": [],
   "source": [
    "month_counts = df.filter(df['High Cost Claim'] == 1).with_columns(\n",
    "    pl.col(\"Service Date\").dt.month().alias(\"Month\")\n",
    ")\n",
    "month_counts = month_counts.group_by(\"Month\").agg(pl.len().alias(\"Count\"))\n"
   ]
  },
  {
   "cell_type": "code",
   "execution_count": 104,
   "metadata": {},
   "outputs": [
    {
     "data": {
      "image/png": "[encoded data removed]",
      "text/plain": [
       "<Figure size 640x480 with 1 Axes>"
      ]
     },
     "metadata": {},
     "output_type": "display_data"
    }
   ],
   "source": [
    "month_counts_pd = month_counts.to_pandas()\n",
    "\n",
    "month_counts_pd.plot(kind=\"bar\", x=\"Month\", y=\"Count\", color='skyblue', edgecolor='black')\n",
    "plt.title(\"High Cost Claims Distribution by Month\")\n",
    "plt.xlabel(\"Month\")\n",
    "plt.ylabel(\"Count\")\n",
    "plt.xticks(ticks=range(12), labels=[\"Jan\", \"Feb\", \"Mar\", \"Apr\", \"May\", \"Jun\", \"Jul\", \"Aug\", \"Sep\", \"Oct\", \"Nov\", \"Dec\"])\n",
    "plt.show() "
   ]
  },
  {
   "cell_type": "code",
   "execution_count": null,
   "metadata": {},
   "outputs": [],
   "source": []
  }
 ],
 "metadata": {
  "kernelspec": {
   "display_name": ".venv",
   "language": "python",
   "name": "python3"
  },
  "language_info": {
   "codemirror_mode": {
    "name": "ipython",
    "version": 3
   },
   "file_extension": ".py",
   "mimetype": "text/x-python",
   "name": "python",
   "nbconvert_exporter": "python",
   "pygments_lexer": "ipython3",
   "version": "3.10.16"
  }
 },
 "nbformat": 4,
 "nbformat_minor": 2
}
